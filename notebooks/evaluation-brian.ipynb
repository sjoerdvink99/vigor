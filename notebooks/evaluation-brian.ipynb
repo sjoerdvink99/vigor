{
 "cells": [
  {
   "cell_type": "code",
   "execution_count": 1,
   "id": "bcd3c632",
   "metadata": {},
   "outputs": [],
   "source": [
    "%load_ext autoreload\n",
    "%autoreload 2"
   ]
  },
  {
   "cell_type": "code",
   "execution_count": 2,
   "id": "dc834a19",
   "metadata": {},
   "outputs": [
    {
     "name": "stderr",
     "output_type": "stream",
     "text": [
      "C:\\Users\\brian\\anaconda3\\envs\\vigor\\Lib\\site-packages\\pandas\\core\\arrays\\masked.py:60: UserWarning: Pandas requires version '1.3.6' or newer of 'bottleneck' (version '1.3.5' currently installed).\n",
      "  from pandas.core import (\n"
     ]
    },
    {
     "name": "stdout",
     "output_type": "stream",
     "text": [
      "device cpu\n"
     ]
    }
   ],
   "source": [
    "import pandas as pd\n",
    "import numpy as np\n",
    "import os\n",
    "\n",
    "from vigor import predicates\n",
    "from vigor.evaluation import *"
   ]
  },
  {
   "cell_type": "markdown",
   "id": "bd651415",
   "metadata": {},
   "source": [
    "# Generate Graphs and Statistics\n",
    "\n",
    "1. Generate graphs using the fast_gnp_random_graph function from networkx\n",
    "\n",
    "2. Calculate statistics for each graph\n",
    "\n",
    "    * s_metric, sigma, and is_planar are prohibitively expensive to compute for a large number of graphs"
   ]
  },
  {
   "cell_type": "code",
   "execution_count": 3,
   "id": "3e3f0a19",
   "metadata": {},
   "outputs": [
    {
     "name": "stdout",
     "output_type": "stream",
     "text": [
      "loading graph data\n"
     ]
    }
   ],
   "source": [
    "file_path = 'graph_data'\n",
    "if not os.path.exists(f'{file_path}.csv'):\n",
    "    print('generating graph data')\n",
    "    df = generate_graphs(300, 2, 200)\n",
    "else:\n",
    "    print('loading graph data')\n",
    "    df = pd.read_csv(f'{file_path}.csv')"
   ]
  },
  {
   "cell_type": "code",
   "execution_count": 4,
   "id": "b389ddeb",
   "metadata": {
    "scrolled": true
   },
   "outputs": [
    {
     "data": {
      "text/html": [
       "<div>\n",
       "<style scoped>\n",
       "    .dataframe tbody tr th:only-of-type {\n",
       "        vertical-align: middle;\n",
       "    }\n",
       "\n",
       "    .dataframe tbody tr th {\n",
       "        vertical-align: top;\n",
       "    }\n",
       "\n",
       "    .dataframe thead th {\n",
       "        text-align: right;\n",
       "    }\n",
       "</style>\n",
       "<table border=\"1\" class=\"dataframe\">\n",
       "  <thead>\n",
       "    <tr style=\"text-align: right;\">\n",
       "      <th></th>\n",
       "      <th>graph_type</th>\n",
       "      <th>is_directed_int</th>\n",
       "      <th>has_spatial_attributes</th>\n",
       "      <th>has_temporal_attributes</th>\n",
       "      <th>is_planar</th>\n",
       "      <th>is_bipartite</th>\n",
       "      <th>n_components</th>\n",
       "      <th>avg_betweenness_centrality</th>\n",
       "      <th>avg_closeness_centrality</th>\n",
       "      <th>avg_eigenvector_centrality</th>\n",
       "      <th>...</th>\n",
       "      <th>sigma</th>\n",
       "      <th>n_nodes</th>\n",
       "      <th>node_types</th>\n",
       "      <th>node_attributes</th>\n",
       "      <th>number_of_isolates</th>\n",
       "      <th>density</th>\n",
       "      <th>edge_types</th>\n",
       "      <th>edge_attributes</th>\n",
       "      <th>n_parallel_edges</th>\n",
       "      <th>n_self_loops</th>\n",
       "    </tr>\n",
       "  </thead>\n",
       "  <tbody>\n",
       "    <tr>\n",
       "      <th>0</th>\n",
       "      <td>4</td>\n",
       "      <td>0</td>\n",
       "      <td>0</td>\n",
       "      <td>0</td>\n",
       "      <td>NaN</td>\n",
       "      <td>0</td>\n",
       "      <td>1</td>\n",
       "      <td>0.000534</td>\n",
       "      <td>0.947804</td>\n",
       "      <td>0.097103</td>\n",
       "      <td>...</td>\n",
       "      <td>NaN</td>\n",
       "      <td>106</td>\n",
       "      <td>0</td>\n",
       "      <td>0.0</td>\n",
       "      <td>0</td>\n",
       "      <td>0.944474</td>\n",
       "      <td>0</td>\n",
       "      <td>0.0</td>\n",
       "      <td>0</td>\n",
       "      <td>0</td>\n",
       "    </tr>\n",
       "    <tr>\n",
       "      <th>1</th>\n",
       "      <td>4</td>\n",
       "      <td>0</td>\n",
       "      <td>0</td>\n",
       "      <td>0</td>\n",
       "      <td>NaN</td>\n",
       "      <td>0</td>\n",
       "      <td>1</td>\n",
       "      <td>0.004174</td>\n",
       "      <td>0.583721</td>\n",
       "      <td>0.075489</td>\n",
       "      <td>...</td>\n",
       "      <td>NaN</td>\n",
       "      <td>173</td>\n",
       "      <td>0</td>\n",
       "      <td>0.0</td>\n",
       "      <td>0</td>\n",
       "      <td>0.286194</td>\n",
       "      <td>0</td>\n",
       "      <td>0.0</td>\n",
       "      <td>0</td>\n",
       "      <td>0</td>\n",
       "    </tr>\n",
       "    <tr>\n",
       "      <th>2</th>\n",
       "      <td>4</td>\n",
       "      <td>0</td>\n",
       "      <td>0</td>\n",
       "      <td>0</td>\n",
       "      <td>NaN</td>\n",
       "      <td>0</td>\n",
       "      <td>1</td>\n",
       "      <td>0.004833</td>\n",
       "      <td>0.641326</td>\n",
       "      <td>0.091558</td>\n",
       "      <td>...</td>\n",
       "      <td>NaN</td>\n",
       "      <td>118</td>\n",
       "      <td>0</td>\n",
       "      <td>0.0</td>\n",
       "      <td>0</td>\n",
       "      <td>0.439374</td>\n",
       "      <td>0</td>\n",
       "      <td>0.0</td>\n",
       "      <td>0</td>\n",
       "      <td>0</td>\n",
       "    </tr>\n",
       "    <tr>\n",
       "      <th>3</th>\n",
       "      <td>4</td>\n",
       "      <td>0</td>\n",
       "      <td>0</td>\n",
       "      <td>0</td>\n",
       "      <td>NaN</td>\n",
       "      <td>0</td>\n",
       "      <td>2</td>\n",
       "      <td>0.102564</td>\n",
       "      <td>0.376141</td>\n",
       "      <td>0.240887</td>\n",
       "      <td>...</td>\n",
       "      <td>NaN</td>\n",
       "      <td>13</td>\n",
       "      <td>0</td>\n",
       "      <td>0.0</td>\n",
       "      <td>1</td>\n",
       "      <td>0.179487</td>\n",
       "      <td>0</td>\n",
       "      <td>0.0</td>\n",
       "      <td>0</td>\n",
       "      <td>0</td>\n",
       "    </tr>\n",
       "    <tr>\n",
       "      <th>4</th>\n",
       "      <td>4</td>\n",
       "      <td>0</td>\n",
       "      <td>0</td>\n",
       "      <td>0</td>\n",
       "      <td>NaN</td>\n",
       "      <td>0</td>\n",
       "      <td>1</td>\n",
       "      <td>0.000759</td>\n",
       "      <td>0.947525</td>\n",
       "      <td>0.114659</td>\n",
       "      <td>...</td>\n",
       "      <td>NaN</td>\n",
       "      <td>76</td>\n",
       "      <td>0</td>\n",
       "      <td>0.0</td>\n",
       "      <td>0</td>\n",
       "      <td>0.943860</td>\n",
       "      <td>0</td>\n",
       "      <td>0.0</td>\n",
       "      <td>0</td>\n",
       "      <td>0</td>\n",
       "    </tr>\n",
       "    <tr>\n",
       "      <th>...</th>\n",
       "      <td>...</td>\n",
       "      <td>...</td>\n",
       "      <td>...</td>\n",
       "      <td>...</td>\n",
       "      <td>...</td>\n",
       "      <td>...</td>\n",
       "      <td>...</td>\n",
       "      <td>...</td>\n",
       "      <td>...</td>\n",
       "      <td>...</td>\n",
       "      <td>...</td>\n",
       "      <td>...</td>\n",
       "      <td>...</td>\n",
       "      <td>...</td>\n",
       "      <td>...</td>\n",
       "      <td>...</td>\n",
       "      <td>...</td>\n",
       "      <td>...</td>\n",
       "      <td>...</td>\n",
       "      <td>...</td>\n",
       "      <td>...</td>\n",
       "    </tr>\n",
       "    <tr>\n",
       "      <th>292</th>\n",
       "      <td>4</td>\n",
       "      <td>0</td>\n",
       "      <td>0</td>\n",
       "      <td>0</td>\n",
       "      <td>NaN</td>\n",
       "      <td>0</td>\n",
       "      <td>1</td>\n",
       "      <td>0.001242</td>\n",
       "      <td>0.856071</td>\n",
       "      <td>0.085069</td>\n",
       "      <td>...</td>\n",
       "      <td>NaN</td>\n",
       "      <td>138</td>\n",
       "      <td>0</td>\n",
       "      <td>0.0</td>\n",
       "      <td>0</td>\n",
       "      <td>0.831059</td>\n",
       "      <td>0</td>\n",
       "      <td>0.0</td>\n",
       "      <td>0</td>\n",
       "      <td>0</td>\n",
       "    </tr>\n",
       "    <tr>\n",
       "      <th>293</th>\n",
       "      <td>3</td>\n",
       "      <td>0</td>\n",
       "      <td>0</td>\n",
       "      <td>0</td>\n",
       "      <td>NaN</td>\n",
       "      <td>0</td>\n",
       "      <td>8</td>\n",
       "      <td>0.050950</td>\n",
       "      <td>0.140664</td>\n",
       "      <td>0.065252</td>\n",
       "      <td>...</td>\n",
       "      <td>NaN</td>\n",
       "      <td>72</td>\n",
       "      <td>0</td>\n",
       "      <td>0.0</td>\n",
       "      <td>6</td>\n",
       "      <td>0.029343</td>\n",
       "      <td>0</td>\n",
       "      <td>0.0</td>\n",
       "      <td>0</td>\n",
       "      <td>0</td>\n",
       "    </tr>\n",
       "    <tr>\n",
       "      <th>294</th>\n",
       "      <td>4</td>\n",
       "      <td>0</td>\n",
       "      <td>0</td>\n",
       "      <td>0</td>\n",
       "      <td>NaN</td>\n",
       "      <td>0</td>\n",
       "      <td>1</td>\n",
       "      <td>0.004470</td>\n",
       "      <td>0.575750</td>\n",
       "      <td>0.076719</td>\n",
       "      <td>...</td>\n",
       "      <td>NaN</td>\n",
       "      <td>167</td>\n",
       "      <td>0</td>\n",
       "      <td>0.0</td>\n",
       "      <td>0</td>\n",
       "      <td>0.262463</td>\n",
       "      <td>0</td>\n",
       "      <td>0.0</td>\n",
       "      <td>0</td>\n",
       "      <td>0</td>\n",
       "    </tr>\n",
       "    <tr>\n",
       "      <th>295</th>\n",
       "      <td>4</td>\n",
       "      <td>0</td>\n",
       "      <td>0</td>\n",
       "      <td>0</td>\n",
       "      <td>NaN</td>\n",
       "      <td>0</td>\n",
       "      <td>1</td>\n",
       "      <td>0.001171</td>\n",
       "      <td>0.815435</td>\n",
       "      <td>0.071373</td>\n",
       "      <td>...</td>\n",
       "      <td>NaN</td>\n",
       "      <td>196</td>\n",
       "      <td>0</td>\n",
       "      <td>0.0</td>\n",
       "      <td>0</td>\n",
       "      <td>0.772894</td>\n",
       "      <td>0</td>\n",
       "      <td>0.0</td>\n",
       "      <td>0</td>\n",
       "      <td>0</td>\n",
       "    </tr>\n",
       "    <tr>\n",
       "      <th>296</th>\n",
       "      <td>4</td>\n",
       "      <td>0</td>\n",
       "      <td>0</td>\n",
       "      <td>0</td>\n",
       "      <td>NaN</td>\n",
       "      <td>0</td>\n",
       "      <td>1</td>\n",
       "      <td>0.000240</td>\n",
       "      <td>0.985032</td>\n",
       "      <td>0.123080</td>\n",
       "      <td>...</td>\n",
       "      <td>NaN</td>\n",
       "      <td>66</td>\n",
       "      <td>0</td>\n",
       "      <td>0.0</td>\n",
       "      <td>0</td>\n",
       "      <td>0.984615</td>\n",
       "      <td>0</td>\n",
       "      <td>0.0</td>\n",
       "      <td>0</td>\n",
       "      <td>0</td>\n",
       "    </tr>\n",
       "  </tbody>\n",
       "</table>\n",
       "<p>297 rows × 33 columns</p>\n",
       "</div>"
      ],
      "text/plain": [
       "     graph_type  is_directed_int  has_spatial_attributes  \\\n",
       "0             4                0                       0   \n",
       "1             4                0                       0   \n",
       "2             4                0                       0   \n",
       "3             4                0                       0   \n",
       "4             4                0                       0   \n",
       "..          ...              ...                     ...   \n",
       "292           4                0                       0   \n",
       "293           3                0                       0   \n",
       "294           4                0                       0   \n",
       "295           4                0                       0   \n",
       "296           4                0                       0   \n",
       "\n",
       "     has_temporal_attributes  is_planar  is_bipartite  n_components  \\\n",
       "0                          0        NaN             0             1   \n",
       "1                          0        NaN             0             1   \n",
       "2                          0        NaN             0             1   \n",
       "3                          0        NaN             0             2   \n",
       "4                          0        NaN             0             1   \n",
       "..                       ...        ...           ...           ...   \n",
       "292                        0        NaN             0             1   \n",
       "293                        0        NaN             0             8   \n",
       "294                        0        NaN             0             1   \n",
       "295                        0        NaN             0             1   \n",
       "296                        0        NaN             0             1   \n",
       "\n",
       "     avg_betweenness_centrality  avg_closeness_centrality  \\\n",
       "0                      0.000534                  0.947804   \n",
       "1                      0.004174                  0.583721   \n",
       "2                      0.004833                  0.641326   \n",
       "3                      0.102564                  0.376141   \n",
       "4                      0.000759                  0.947525   \n",
       "..                          ...                       ...   \n",
       "292                    0.001242                  0.856071   \n",
       "293                    0.050950                  0.140664   \n",
       "294                    0.004470                  0.575750   \n",
       "295                    0.001171                  0.815435   \n",
       "296                    0.000240                  0.985032   \n",
       "\n",
       "     avg_eigenvector_centrality  ...  sigma  n_nodes  node_types  \\\n",
       "0                      0.097103  ...    NaN      106           0   \n",
       "1                      0.075489  ...    NaN      173           0   \n",
       "2                      0.091558  ...    NaN      118           0   \n",
       "3                      0.240887  ...    NaN       13           0   \n",
       "4                      0.114659  ...    NaN       76           0   \n",
       "..                          ...  ...    ...      ...         ...   \n",
       "292                    0.085069  ...    NaN      138           0   \n",
       "293                    0.065252  ...    NaN       72           0   \n",
       "294                    0.076719  ...    NaN      167           0   \n",
       "295                    0.071373  ...    NaN      196           0   \n",
       "296                    0.123080  ...    NaN       66           0   \n",
       "\n",
       "     node_attributes  number_of_isolates   density  edge_types  \\\n",
       "0                0.0                   0  0.944474           0   \n",
       "1                0.0                   0  0.286194           0   \n",
       "2                0.0                   0  0.439374           0   \n",
       "3                0.0                   1  0.179487           0   \n",
       "4                0.0                   0  0.943860           0   \n",
       "..               ...                 ...       ...         ...   \n",
       "292              0.0                   0  0.831059           0   \n",
       "293              0.0                   6  0.029343           0   \n",
       "294              0.0                   0  0.262463           0   \n",
       "295              0.0                   0  0.772894           0   \n",
       "296              0.0                   0  0.984615           0   \n",
       "\n",
       "     edge_attributes  n_parallel_edges  n_self_loops  \n",
       "0                0.0                 0             0  \n",
       "1                0.0                 0             0  \n",
       "2                0.0                 0             0  \n",
       "3                0.0                 0             0  \n",
       "4                0.0                 0             0  \n",
       "..               ...               ...           ...  \n",
       "292              0.0                 0             0  \n",
       "293              0.0                 0             0  \n",
       "294              0.0                 0             0  \n",
       "295              0.0                 0             0  \n",
       "296              0.0                 0             0  \n",
       "\n",
       "[297 rows x 33 columns]"
      ]
     },
     "execution_count": 4,
     "metadata": {},
     "output_type": "execute_result"
    }
   ],
   "source": [
    "df"
   ]
  },
  {
   "cell_type": "markdown",
   "id": "743e6373",
   "metadata": {},
   "source": [
    "# Prepare Data for Predicate Learning"
   ]
  },
  {
   "cell_type": "code",
   "execution_count": 5,
   "id": "a7250cef",
   "metadata": {},
   "outputs": [],
   "source": [
    "attr_std = df.std()"
   ]
  },
  {
   "cell_type": "code",
   "execution_count": 6,
   "id": "2e14ed03",
   "metadata": {},
   "outputs": [
    {
     "data": {
      "text/plain": [
       "graph_type                     0.396574\n",
       "is_directed_int                0.000000\n",
       "has_spatial_attributes         0.000000\n",
       "has_temporal_attributes        0.000000\n",
       "is_planar                           NaN\n",
       "is_bipartite                   0.189171\n",
       "n_components                   1.400327\n",
       "avg_betweenness_centrality     0.029138\n",
       "avg_closeness_centrality       0.190156\n",
       "avg_eigenvector_centrality     0.091201\n",
       "avg_degree                    40.999756\n",
       "std_degree                     1.722291\n",
       "clustering_coefficient         0.295832\n",
       "transitivity                   0.295636\n",
       "modularity                     0.104869\n",
       "communities                    1.401977\n",
       "avg_shortest_path_length       0.699630\n",
       "radius                         0.856768\n",
       "diameter                       1.055290\n",
       "assortativity                  0.112348\n",
       "vertex_connectivity           38.332860\n",
       "eccentricity_avg               0.922103\n",
       "s_metric                            NaN\n",
       "sigma                               NaN\n",
       "n_nodes                       56.939827\n",
       "node_types                     0.000000\n",
       "node_attributes                0.000000\n",
       "number_of_isolates             0.954262\n",
       "density                        0.287013\n",
       "edge_types                     0.000000\n",
       "edge_attributes                0.000000\n",
       "n_parallel_edges               0.000000\n",
       "n_self_loops                   0.000000\n",
       "dtype: float64"
      ]
     },
     "execution_count": 6,
     "metadata": {},
     "output_type": "execute_result"
    }
   ],
   "source": [
    "attr_std"
   ]
  },
  {
   "cell_type": "code",
   "execution_count": 7,
   "id": "7306d3a0",
   "metadata": {},
   "outputs": [],
   "source": [
    "attr_null = df.isnull().any(axis=0)"
   ]
  },
  {
   "cell_type": "code",
   "execution_count": 8,
   "id": "438310b3",
   "metadata": {},
   "outputs": [
    {
     "data": {
      "text/plain": [
       "graph_type                    False\n",
       "is_directed_int               False\n",
       "has_spatial_attributes        False\n",
       "has_temporal_attributes       False\n",
       "is_planar                      True\n",
       "is_bipartite                  False\n",
       "n_components                  False\n",
       "avg_betweenness_centrality    False\n",
       "avg_closeness_centrality      False\n",
       "avg_eigenvector_centrality    False\n",
       "avg_degree                    False\n",
       "std_degree                    False\n",
       "clustering_coefficient        False\n",
       "transitivity                  False\n",
       "modularity                    False\n",
       "communities                    True\n",
       "avg_shortest_path_length      False\n",
       "radius                        False\n",
       "diameter                      False\n",
       "assortativity                  True\n",
       "vertex_connectivity           False\n",
       "eccentricity_avg              False\n",
       "s_metric                       True\n",
       "sigma                          True\n",
       "n_nodes                       False\n",
       "node_types                    False\n",
       "node_attributes               False\n",
       "number_of_isolates            False\n",
       "density                       False\n",
       "edge_types                    False\n",
       "edge_attributes               False\n",
       "n_parallel_edges              False\n",
       "n_self_loops                  False\n",
       "dtype: bool"
      ]
     },
     "execution_count": 8,
     "metadata": {},
     "output_type": "execute_result"
    }
   ],
   "source": [
    "attr_null"
   ]
  },
  {
   "cell_type": "markdown",
   "id": "ceaed4d3",
   "metadata": {},
   "source": [
    "**Only use attributes that do not contain null values and have a standard deviation > 0:**"
   ]
  },
  {
   "cell_type": "code",
   "execution_count": 9,
   "id": "bf586b61",
   "metadata": {},
   "outputs": [],
   "source": [
    "attr_use = (attr_std.fillna(0)>0) & ~attr_null"
   ]
  },
  {
   "cell_type": "code",
   "execution_count": 10,
   "id": "62691b17",
   "metadata": {},
   "outputs": [
    {
     "data": {
      "text/plain": [
       "graph_type                     True\n",
       "is_directed_int               False\n",
       "has_spatial_attributes        False\n",
       "has_temporal_attributes       False\n",
       "is_planar                     False\n",
       "is_bipartite                   True\n",
       "n_components                   True\n",
       "avg_betweenness_centrality     True\n",
       "avg_closeness_centrality       True\n",
       "avg_eigenvector_centrality     True\n",
       "avg_degree                     True\n",
       "std_degree                     True\n",
       "clustering_coefficient         True\n",
       "transitivity                   True\n",
       "modularity                     True\n",
       "communities                   False\n",
       "avg_shortest_path_length       True\n",
       "radius                         True\n",
       "diameter                       True\n",
       "assortativity                 False\n",
       "vertex_connectivity            True\n",
       "eccentricity_avg               True\n",
       "s_metric                      False\n",
       "sigma                         False\n",
       "n_nodes                        True\n",
       "node_types                    False\n",
       "node_attributes               False\n",
       "number_of_isolates             True\n",
       "density                        True\n",
       "edge_types                    False\n",
       "edge_attributes               False\n",
       "n_parallel_edges              False\n",
       "n_self_loops                  False\n",
       "dtype: bool"
      ]
     },
     "execution_count": 10,
     "metadata": {},
     "output_type": "execute_result"
    }
   ],
   "source": [
    "attr_use"
   ]
  },
  {
   "cell_type": "markdown",
   "id": "fdb6eb95",
   "metadata": {},
   "source": [
    "**Exclude the nominal attribute `graph_type`**:"
   ]
  },
  {
   "cell_type": "code",
   "execution_count": 100,
   "id": "b47c27f5",
   "metadata": {},
   "outputs": [],
   "source": [
    "attr_use['graph_type'] = False"
   ]
  },
  {
   "cell_type": "markdown",
   "id": "24955ceb",
   "metadata": {},
   "source": [
    "**Excluded Attributes:**"
   ]
  },
  {
   "cell_type": "code",
   "execution_count": 101,
   "id": "816eeadf",
   "metadata": {},
   "outputs": [
    {
     "data": {
      "text/plain": [
       "Index(['graph_type', 'is_directed_int', 'has_spatial_attributes',\n",
       "       'has_temporal_attributes', 'is_planar', 'communities', 'assortativity',\n",
       "       's_metric', 'sigma', 'node_types', 'node_attributes', 'edge_types',\n",
       "       'edge_attributes', 'n_parallel_edges', 'n_self_loops'],\n",
       "      dtype='object')"
      ]
     },
     "execution_count": 101,
     "metadata": {},
     "output_type": "execute_result"
    }
   ],
   "source": [
    "attr_use[~attr_use].index"
   ]
  },
  {
   "cell_type": "code",
   "execution_count": 102,
   "id": "f72bc925",
   "metadata": {},
   "outputs": [],
   "source": [
    "attr = attr_use[attr_use].index"
   ]
  },
  {
   "cell_type": "code",
   "execution_count": 103,
   "id": "9f30da41",
   "metadata": {},
   "outputs": [
    {
     "data": {
      "text/plain": [
       "Index(['is_bipartite', 'n_components', 'avg_betweenness_centrality',\n",
       "       'avg_closeness_centrality', 'avg_eigenvector_centrality', 'avg_degree',\n",
       "       'std_degree', 'clustering_coefficient', 'transitivity', 'modularity',\n",
       "       'avg_shortest_path_length', 'radius', 'diameter', 'vertex_connectivity',\n",
       "       'eccentricity_avg', 'n_nodes', 'number_of_isolates', 'density'],\n",
       "      dtype='object')"
      ]
     },
     "execution_count": 103,
     "metadata": {},
     "output_type": "execute_result"
    }
   ],
   "source": [
    "attr"
   ]
  },
  {
   "cell_type": "code",
   "execution_count": 104,
   "id": "0d40eabf",
   "metadata": {},
   "outputs": [
    {
     "data": {
      "text/plain": [
       "18"
      ]
     },
     "execution_count": 104,
     "metadata": {},
     "output_type": "execute_result"
    }
   ],
   "source": [
    "len(attr)"
   ]
  },
  {
   "cell_type": "markdown",
   "id": "3820c12f",
   "metadata": {},
   "source": [
    "# Load Expert Predicates"
   ]
  },
  {
   "cell_type": "code",
   "execution_count": 105,
   "id": "bdd058c5",
   "metadata": {},
   "outputs": [],
   "source": [
    "predicates_labels = get_predicate_labels(df, predicates)"
   ]
  },
  {
   "cell_type": "markdown",
   "id": "95fb6843",
   "metadata": {},
   "source": [
    "**List of predicates for each vis type:**"
   ]
  },
  {
   "cell_type": "code",
   "execution_count": 106,
   "id": "1de557d4",
   "metadata": {
    "collapsed": true
   },
   "outputs": [
    {
     "data": {
      "text/plain": [
       "{'NODELINK': [{'density': [0, 0.1]},\n",
       "  {'avg_degree': [1, 3]},\n",
       "  {'clustering_coefficient': [0.1, 0.4]},\n",
       "  {'node_types': [1, 3]},\n",
       "  {'edge_types': [1, 2]}],\n",
       " 'MATRIX': [{'density': [0.1, 1]},\n",
       "  {'avg_degree': [10, 50]},\n",
       "  {'modularity': [0.3, 0.7]},\n",
       "  {'node_attributes': [2, 10]},\n",
       "  {'edge_attributes': [1, 5]}],\n",
       " 'NODETRIX': [{'communities': [4, 10]},\n",
       "  {'clustering_coefficient': [0.5, 1]},\n",
       "  {'density': [0.1, 0.5]},\n",
       "  {'node_types': [2, 5]},\n",
       "  {'modularity': [0.3, 0.8]},\n",
       "  {'avg_degree': [5, 15]},\n",
       "  {'node_attributes': [3, 10]},\n",
       "  {'edge_types': [1, 3]}],\n",
       " 'NODELINK_MAP': [{'avg_degree': [1, 5]}],\n",
       " 'PAOHVIS': [{'n_nodes': [50, 500]},\n",
       "  {'node_types': [3, 6]},\n",
       "  {'edge_types': [2, 5]},\n",
       "  {'density': [0.05, 0.2]},\n",
       "  {'avg_degree': [5, 10]},\n",
       "  {'transitivity': [0.2, 0.6]}],\n",
       " 'CHORD_DIAGRAM': [{'n_nodes': [0, 6]},\n",
       "  {'edge_types': [1, 3]},\n",
       "  {'clustering_coefficient': [0.3, 0.7]},\n",
       "  {'avg_degree': [2, 4]}],\n",
       " 'TREEMAP': [{'graph_type': [0.5, 1.5]},\n",
       "  {'modularity': [0.5, 1]},\n",
       "  {'n_nodes': [50, 200]},\n",
       "  {'node_attributes': [5, 20]},\n",
       "  {'edge_attributes': [0, 2]}]}"
      ]
     },
     "execution_count": 106,
     "metadata": {},
     "output_type": "execute_result"
    }
   ],
   "source": [
    "predicates_labels['predicates']"
   ]
  },
  {
   "cell_type": "markdown",
   "id": "7acb26d9",
   "metadata": {},
   "source": [
    "**Vis type label for each graph:**"
   ]
  },
  {
   "cell_type": "code",
   "execution_count": 107,
   "id": "50e1dd88",
   "metadata": {},
   "outputs": [
    {
     "data": {
      "text/plain": [
       "0        MATRIX\n",
       "1        MATRIX\n",
       "2       PAOHVIS\n",
       "3      NODELINK\n",
       "4        MATRIX\n",
       "         ...   \n",
       "292      MATRIX\n",
       "293    NODELINK\n",
       "294      MATRIX\n",
       "295      MATRIX\n",
       "296      MATRIX\n",
       "Length: 297, dtype: object"
      ]
     },
     "execution_count": 107,
     "metadata": {},
     "output_type": "execute_result"
    }
   ],
   "source": [
    "predicates_labels['labels']"
   ]
  },
  {
   "cell_type": "markdown",
   "id": "6c4ae1ae",
   "metadata": {},
   "source": [
    "For each graph, each vis type gets one point for a matching predicate. The vis type with the most total points/matching predicates is chosen as the label."
   ]
  },
  {
   "cell_type": "markdown",
   "id": "f115495a",
   "metadata": {},
   "source": [
    "# Learn Predicates"
   ]
  },
  {
   "cell_type": "code",
   "execution_count": 108,
   "id": "60864967",
   "metadata": {
    "scrolled": true
   },
   "outputs": [
    {
     "name": "stdout",
     "output_type": "stream",
     "text": [
      "[   0] loss 2.674076557159424\n",
      "[ 100] loss 1.0870511531829834\n",
      "[ 200] loss 0.8246506452560425\n",
      "[ 300] loss 0.8227745890617371\n",
      "[ 400] loss 0.8139647841453552\n",
      "[ 500] loss 0.8101377487182617\n",
      "[ 600] loss 0.8114305734634399\n",
      "[ 700] loss 0.8147532939910889\n",
      "[ 800] loss 0.8184369802474976\n",
      "[ 900] loss 0.8213256597518921\n",
      "\n",
      "brush = 0\n",
      "accuracy = 0.8282828282828283\n",
      "precision = 0.8921568627450981\n",
      "recall = 0.8625592417061612\n",
      "f1 = 0.8771084337349399\n",
      "\n",
      "[   0] loss 3.294844627380371\n",
      "[ 100] loss 1.7169829607009888\n",
      "[ 200] loss 1.3372739553451538\n",
      "[ 300] loss 1.264787197113037\n",
      "[ 400] loss 1.2419618368148804\n",
      "[ 500] loss 1.2306944131851196\n",
      "[ 600] loss 1.223823070526123\n",
      "[ 700] loss 1.2191402912139893\n",
      "[ 800] loss 1.2157268524169922\n",
      "[ 900] loss 1.213122844696045\n",
      "\n",
      "brush = 0\n",
      "accuracy = 0.6666666666666666\n",
      "precision = 0.4624277456647399\n",
      "recall = 0.9302325581395349\n",
      "f1 = 0.6177606177606177\n",
      "\n",
      "[   0] loss 2.782708168029785\n",
      "[ 100] loss 1.296474575996399\n",
      "[ 200] loss 1.0161536931991577\n",
      "[ 300] loss 0.912499725818634\n",
      "[ 400] loss 0.8730745315551758\n",
      "[ 500] loss 0.8499098420143127\n",
      "[ 600] loss 0.8382788300514221\n",
      "[ 700] loss 0.8340626358985901\n",
      "[ 800] loss 0.8326666355133057\n",
      "[ 900] loss 0.8322991728782654\n",
      "\n",
      "brush = 0\n",
      "accuracy = 0.797979797979798\n",
      "precision = 0.9695431472081218\n",
      "recall = 0.7795918367346939\n",
      "f1 = 0.8642533936651585\n",
      "\n",
      "[   0] loss 3.2696926593780518\n",
      "[ 100] loss 7.189657211303711\n",
      "[ 200] loss 10.269099235534668\n",
      "[ 300] loss 8.190837860107422\n",
      "[ 400] loss 0.16782574355602264\n",
      "[ 500] loss 0.1962262988090515\n",
      "[ 600] loss 0.24547307193279266\n",
      "[ 700] loss 0.3128710687160492\n",
      "[ 800] loss 0.3922395408153534\n",
      "[ 900] loss 0.4720005393028259\n",
      "\n",
      "brush = 0\n",
      "accuracy = 0.7845117845117845\n",
      "precision = 0.2289156626506024\n",
      "recall = 1.0\n",
      "f1 = 0.37254901960784315\n",
      "\n",
      "[   0] loss 2.515228033065796\n",
      "[ 100] loss 0.6374296545982361\n",
      "[ 200] loss 0.26279985904693604\n",
      "[ 300] loss 0.2158423811197281\n",
      "[ 400] loss 0.19256462156772614\n",
      "[ 500] loss 0.18612423539161682\n",
      "[ 600] loss 0.1902599334716797\n",
      "[ 700] loss 0.19547384977340698\n",
      "[ 800] loss 0.19940157234668732\n",
      "[ 900] loss 0.20201079547405243\n",
      "\n",
      "brush = 0\n",
      "accuracy = 0.9663299663299664\n",
      "precision = 1.0\n",
      "recall = 0.9640287769784173\n",
      "f1 = 0.9816849816849818\n",
      "\n",
      "[   0] loss 100.0\n",
      "[   0] loss 2.6501379013061523\n",
      "[ 100] loss 1.2348638772964478\n",
      "[ 200] loss 0.8031672239303589\n",
      "[ 300] loss 0.6824121475219727\n",
      "[ 400] loss 0.668829619884491\n",
      "[ 500] loss 0.6686468124389648\n",
      "[ 600] loss 0.6689989566802979\n",
      "[ 700] loss 0.6692558526992798\n",
      "[ 800] loss 0.6694120168685913\n",
      "[ 900] loss 0.6695030927658081\n",
      "\n",
      "brush = 0\n",
      "accuracy = 0.7811447811447811\n",
      "precision = 1.0\n",
      "recall = 0.7743055555555556\n",
      "f1 = 0.87279843444227\n",
      "\n",
      "[   0] loss 2.878807783126831\n",
      "[ 100] loss 6.228124141693115\n",
      "[ 200] loss 0.8632591366767883\n",
      "[ 300] loss 0.1254623532295227\n",
      "[ 400] loss 0.13054771721363068\n",
      "[ 500] loss 0.16256393492221832\n",
      "[ 600] loss 0.2080327421426773\n",
      "[ 700] loss 0.2635800540447235\n",
      "[ 800] loss 0.3162548840045929\n",
      "[ 900] loss 0.3477291166782379\n",
      "\n",
      "brush = 0\n",
      "accuracy = 0.8552188552188552\n",
      "precision = 0.12244897959183673\n",
      "recall = 1.0\n",
      "f1 = 0.2181818181818182\n",
      "\n",
      "[   0] loss 2.590423583984375\n",
      "[ 100] loss 0.6735891103744507\n",
      "[ 200] loss 0.3314661681652069\n",
      "[ 300] loss 0.23004284501075745\n",
      "[ 400] loss 0.20942391455173492\n",
      "[ 500] loss 0.20808322727680206\n",
      "[ 600] loss 0.2076517641544342\n",
      "[ 700] loss 0.20739410817623138\n",
      "[ 800] loss 0.20722807943820953\n",
      "[ 900] loss 0.20713278651237488\n",
      "\n",
      "brush = 0\n",
      "accuracy = 0.9562289562289562\n",
      "precision = 1.0\n",
      "recall = 0.9553264604810997\n",
      "f1 = 0.977152899824253\n",
      "\n"
     ]
    }
   ],
   "source": [
    "learned_predicates = get_predicates_labels(df, attr_, predicates_labels['labels'], n_iter=1000)"
   ]
  },
  {
   "cell_type": "code",
   "execution_count": 93,
   "id": "124f07b9",
   "metadata": {},
   "outputs": [
    {
     "data": {
      "text/plain": [
       "dict_keys(['MATRIX', 'PAOHVIS', 'NODELINK', 'NODETRIX', 'CHORD_DIAGRAM'])"
      ]
     },
     "execution_count": 93,
     "metadata": {},
     "output_type": "execute_result"
    }
   ],
   "source": [
    "learned_predicates.keys()"
   ]
  },
  {
   "cell_type": "code",
   "execution_count": 96,
   "id": "5268a472",
   "metadata": {},
   "outputs": [
    {
     "name": "stdout",
     "output_type": "stream",
     "text": [
      "MATRIX\n",
      "PAOHVIS\n",
      "NODELINK\n",
      "NODETRIX\n",
      "CHORD_DIAGRAM\n"
     ]
    }
   ],
   "source": [
    "for key in learned_predicates.keys():\n",
    "    try:\n",
    "        print(key)\n",
    "        pd.Series(learned_predicates[key][0][0]['params'][0][0].detach().numpy()).isnull()\n",
    "    except:\n",
    "        pass"
   ]
  },
  {
   "cell_type": "code",
   "execution_count": 111,
   "id": "01fb67e7",
   "metadata": {},
   "outputs": [
    {
     "data": {
      "text/plain": [
       "Index(['is_bipartite', 'n_components', 'number_of_isolates'], dtype='object')"
      ]
     },
     "execution_count": 111,
     "metadata": {},
     "output_type": "execute_result"
    }
   ],
   "source": [
    "attr[[0, 1, -2]]"
   ]
  },
  {
   "cell_type": "code",
   "execution_count": 109,
   "id": "3879417f",
   "metadata": {},
   "outputs": [
    {
     "name": "stdout",
     "output_type": "stream",
     "text": [
      "MATRIX\n",
      "({'n_components': [0.0, 0.10526315789473684], 'avg_betweenness_centrality': [0.0, 0.1338050328195095], 'avg_eigenvector_centrality': [0.00829293260219581, 0.42838944494724274], 'std_degree': [0.03997473384403583, 0.7610229551792145], 'diameter': [0.10262876749038696, 0.5672981142997742], 'number_of_isolates': [0.0, 0.18181818181818182]}, {'clustering_coefficient': [0.0, 0.6284277439117432]})\n",
      "PAOHVIS\n",
      "({}, {'std_degree': [0.0, 0.6946551203727722], 'diameter': [0.0, 0.5875054746866226]})\n",
      "NODELINK\n",
      "({'avg_degree': [0.003195298575763901, 0.02762993474337021], 'vertex_connectivity': [0.0, 0.011834319526627219]}, {'n_components': [0.0, 0.10526315789473684], 'avg_betweenness_centrality': [0.0, 0.15302516520023346], 'eccentricity_avg': [0.23331156373023987, 0.7999769151210785], 'number_of_isolates': [0.0, 0.18181818181818182]})\n",
      "NODETRIX\n",
      "({0: {'params': (tensor([[    nan,     nan,  0.5385, -0.0594,  0.9583, -0.9628, -1.0104, -0.0983,\n",
      "         -0.1269, -0.0706,  0.3192, -0.0260,  0.4805, -0.8893,  0.4073, -1.3341,\n",
      "             nan, -0.1606]], requires_grad=True), tensor([[    nan,     nan,  2.2311,  1.2629,  1.8928, 25.9559,  2.7117,  1.0980,\n",
      "          1.1165,  6.4173,  2.3473,  2.0492,  2.2626, 16.7132,  1.7129,  6.2480,\n",
      "             nan,  1.0925]], requires_grad=True)), 'loss': tensor(100., grad_fn=<BinaryCrossEntropyBackward0>), 'total_loss': tensor(100., grad_fn=<AddBackward0>)}}, {'n_nodes': [0.25191184878349304, 1.0]})\n",
      "CHORD_DIAGRAM\n",
      "({'n_components': [0.0, 0.05263157894736842], 'avg_betweenness_centrality': [0.0, 0.25524475524475504], 'avg_degree': [0.0, 0.02064654464339752], 'modularity': [0.0, 0.384], 'vertex_connectivity': [0.0, 0.01775147928994083], 'n_nodes': [0.0, 0.05583756345177665]}, {'avg_betweenness_centrality': [0.0, 0.20839916542172432], 'avg_eigenvector_centrality': [0.0, 0.39539385586977005]})\n"
     ]
    }
   ],
   "source": [
    "for vistype, predicate in learned_predicates.items():\n",
    "    print(vistype)\n",
    "    print(predicate)"
   ]
  }
 ],
 "metadata": {
  "kernelspec": {
   "display_name": "Python 3 (ipykernel)",
   "language": "python",
   "name": "python3"
  },
  "language_info": {
   "codemirror_mode": {
    "name": "ipython",
    "version": 3
   },
   "file_extension": ".py",
   "mimetype": "text/x-python",
   "name": "python",
   "nbconvert_exporter": "python",
   "pygments_lexer": "ipython3",
   "version": "3.11.5"
  },
  "toc": {
   "base_numbering": 1,
   "nav_menu": {},
   "number_sections": true,
   "sideBar": true,
   "skip_h1_title": false,
   "title_cell": "Table of Contents",
   "title_sidebar": "Contents",
   "toc_cell": false,
   "toc_position": {},
   "toc_section_display": true,
   "toc_window_display": false
  }
 },
 "nbformat": 4,
 "nbformat_minor": 5
}
