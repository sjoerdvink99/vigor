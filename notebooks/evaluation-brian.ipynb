{
 "cells": [
  {
   "cell_type": "code",
   "execution_count": 2,
   "id": "c2465925",
   "metadata": {},
   "outputs": [],
   "source": [
    "%load_ext autoreload\n",
    "%autoreload 2"
   ]
  },
  {
   "cell_type": "code",
   "execution_count": 3,
   "id": "3bb6ba3f",
   "metadata": {},
   "outputs": [
    {
     "name": "stderr",
     "output_type": "stream",
     "text": [
      "C:\\Users\\brian\\anaconda3\\envs\\vigor\\Lib\\site-packages\\pandas\\core\\arrays\\masked.py:60: UserWarning: Pandas requires version '1.3.6' or newer of 'bottleneck' (version '1.3.5' currently installed).\n",
      "  from pandas.core import (\n"
     ]
    },
    {
     "name": "stdout",
     "output_type": "stream",
     "text": [
      "device cpu\n"
     ]
    }
   ],
   "source": [
    "import pandas as pd\n",
    "import numpy as np\n",
    "import os\n",
    "\n",
    "from vigor import predicates\n",
    "from vigor.evaluation import *"
   ]
  },
  {
   "cell_type": "markdown",
   "id": "cfa9686b",
   "metadata": {},
   "source": [
    "# Generate Graphs and Statistics\n",
    "\n",
    "1. Generate graphs using the fast_gnp_random_graph function from networkx\n",
    "\n",
    "2. Calculate statistics for each graph\n",
    "\n",
    "    * s_metric, sigma, and is_planar are prohibitively expensive to compute for a large number of graphs"
   ]
  },
  {
   "cell_type": "code",
   "execution_count": 8,
   "id": "c5bf9f8b",
   "metadata": {},
   "outputs": [
    {
     "name": "stdout",
     "output_type": "stream",
     "text": [
      "loading graph data\n"
     ]
    }
   ],
   "source": [
    "file_path = 'graph_data'\n",
    "if not os.path.exists(f'{file_path}.csv'):\n",
    "    print('generating graph data')\n",
    "    df = generate_graphs(300, 2, 200)\n",
    "else:\n",
    "    print('loading graph data')\n",
    "    df = pd.read_csv(f'{file_path}.csv')"
   ]
  },
  {
   "cell_type": "code",
   "execution_count": 9,
   "id": "47dda858",
   "metadata": {
    "scrolled": true
   },
   "outputs": [
    {
     "data": {
      "text/html": [
       "<div>\n",
       "<style scoped>\n",
       "    .dataframe tbody tr th:only-of-type {\n",
       "        vertical-align: middle;\n",
       "    }\n",
       "\n",
       "    .dataframe tbody tr th {\n",
       "        vertical-align: top;\n",
       "    }\n",
       "\n",
       "    .dataframe thead th {\n",
       "        text-align: right;\n",
       "    }\n",
       "</style>\n",
       "<table border=\"1\" class=\"dataframe\">\n",
       "  <thead>\n",
       "    <tr style=\"text-align: right;\">\n",
       "      <th></th>\n",
       "      <th>graph_type</th>\n",
       "      <th>is_directed_int</th>\n",
       "      <th>has_spatial_attributes</th>\n",
       "      <th>has_temporal_attributes</th>\n",
       "      <th>is_planar</th>\n",
       "      <th>is_bipartite</th>\n",
       "      <th>n_components</th>\n",
       "      <th>avg_betweenness_centrality</th>\n",
       "      <th>avg_closeness_centrality</th>\n",
       "      <th>avg_eigenvector_centrality</th>\n",
       "      <th>...</th>\n",
       "      <th>sigma</th>\n",
       "      <th>n_nodes</th>\n",
       "      <th>node_types</th>\n",
       "      <th>node_attributes</th>\n",
       "      <th>number_of_isolates</th>\n",
       "      <th>density</th>\n",
       "      <th>edge_types</th>\n",
       "      <th>edge_attributes</th>\n",
       "      <th>n_parallel_edges</th>\n",
       "      <th>n_self_loops</th>\n",
       "    </tr>\n",
       "  </thead>\n",
       "  <tbody>\n",
       "    <tr>\n",
       "      <th>0</th>\n",
       "      <td>4</td>\n",
       "      <td>0</td>\n",
       "      <td>0</td>\n",
       "      <td>0</td>\n",
       "      <td>NaN</td>\n",
       "      <td>0</td>\n",
       "      <td>1</td>\n",
       "      <td>0.000534</td>\n",
       "      <td>0.947804</td>\n",
       "      <td>0.097103</td>\n",
       "      <td>...</td>\n",
       "      <td>NaN</td>\n",
       "      <td>106</td>\n",
       "      <td>0</td>\n",
       "      <td>0.0</td>\n",
       "      <td>0</td>\n",
       "      <td>0.944474</td>\n",
       "      <td>0</td>\n",
       "      <td>0.0</td>\n",
       "      <td>0</td>\n",
       "      <td>0</td>\n",
       "    </tr>\n",
       "    <tr>\n",
       "      <th>1</th>\n",
       "      <td>4</td>\n",
       "      <td>0</td>\n",
       "      <td>0</td>\n",
       "      <td>0</td>\n",
       "      <td>NaN</td>\n",
       "      <td>0</td>\n",
       "      <td>1</td>\n",
       "      <td>0.004174</td>\n",
       "      <td>0.583721</td>\n",
       "      <td>0.075489</td>\n",
       "      <td>...</td>\n",
       "      <td>NaN</td>\n",
       "      <td>173</td>\n",
       "      <td>0</td>\n",
       "      <td>0.0</td>\n",
       "      <td>0</td>\n",
       "      <td>0.286194</td>\n",
       "      <td>0</td>\n",
       "      <td>0.0</td>\n",
       "      <td>0</td>\n",
       "      <td>0</td>\n",
       "    </tr>\n",
       "    <tr>\n",
       "      <th>2</th>\n",
       "      <td>4</td>\n",
       "      <td>0</td>\n",
       "      <td>0</td>\n",
       "      <td>0</td>\n",
       "      <td>NaN</td>\n",
       "      <td>0</td>\n",
       "      <td>1</td>\n",
       "      <td>0.004833</td>\n",
       "      <td>0.641326</td>\n",
       "      <td>0.091558</td>\n",
       "      <td>...</td>\n",
       "      <td>NaN</td>\n",
       "      <td>118</td>\n",
       "      <td>0</td>\n",
       "      <td>0.0</td>\n",
       "      <td>0</td>\n",
       "      <td>0.439374</td>\n",
       "      <td>0</td>\n",
       "      <td>0.0</td>\n",
       "      <td>0</td>\n",
       "      <td>0</td>\n",
       "    </tr>\n",
       "    <tr>\n",
       "      <th>3</th>\n",
       "      <td>4</td>\n",
       "      <td>0</td>\n",
       "      <td>0</td>\n",
       "      <td>0</td>\n",
       "      <td>NaN</td>\n",
       "      <td>0</td>\n",
       "      <td>2</td>\n",
       "      <td>0.102564</td>\n",
       "      <td>0.376141</td>\n",
       "      <td>0.240887</td>\n",
       "      <td>...</td>\n",
       "      <td>NaN</td>\n",
       "      <td>13</td>\n",
       "      <td>0</td>\n",
       "      <td>0.0</td>\n",
       "      <td>1</td>\n",
       "      <td>0.179487</td>\n",
       "      <td>0</td>\n",
       "      <td>0.0</td>\n",
       "      <td>0</td>\n",
       "      <td>0</td>\n",
       "    </tr>\n",
       "    <tr>\n",
       "      <th>4</th>\n",
       "      <td>4</td>\n",
       "      <td>0</td>\n",
       "      <td>0</td>\n",
       "      <td>0</td>\n",
       "      <td>NaN</td>\n",
       "      <td>0</td>\n",
       "      <td>1</td>\n",
       "      <td>0.000759</td>\n",
       "      <td>0.947525</td>\n",
       "      <td>0.114659</td>\n",
       "      <td>...</td>\n",
       "      <td>NaN</td>\n",
       "      <td>76</td>\n",
       "      <td>0</td>\n",
       "      <td>0.0</td>\n",
       "      <td>0</td>\n",
       "      <td>0.943860</td>\n",
       "      <td>0</td>\n",
       "      <td>0.0</td>\n",
       "      <td>0</td>\n",
       "      <td>0</td>\n",
       "    </tr>\n",
       "    <tr>\n",
       "      <th>...</th>\n",
       "      <td>...</td>\n",
       "      <td>...</td>\n",
       "      <td>...</td>\n",
       "      <td>...</td>\n",
       "      <td>...</td>\n",
       "      <td>...</td>\n",
       "      <td>...</td>\n",
       "      <td>...</td>\n",
       "      <td>...</td>\n",
       "      <td>...</td>\n",
       "      <td>...</td>\n",
       "      <td>...</td>\n",
       "      <td>...</td>\n",
       "      <td>...</td>\n",
       "      <td>...</td>\n",
       "      <td>...</td>\n",
       "      <td>...</td>\n",
       "      <td>...</td>\n",
       "      <td>...</td>\n",
       "      <td>...</td>\n",
       "      <td>...</td>\n",
       "    </tr>\n",
       "    <tr>\n",
       "      <th>292</th>\n",
       "      <td>4</td>\n",
       "      <td>0</td>\n",
       "      <td>0</td>\n",
       "      <td>0</td>\n",
       "      <td>NaN</td>\n",
       "      <td>0</td>\n",
       "      <td>1</td>\n",
       "      <td>0.001242</td>\n",
       "      <td>0.856071</td>\n",
       "      <td>0.085069</td>\n",
       "      <td>...</td>\n",
       "      <td>NaN</td>\n",
       "      <td>138</td>\n",
       "      <td>0</td>\n",
       "      <td>0.0</td>\n",
       "      <td>0</td>\n",
       "      <td>0.831059</td>\n",
       "      <td>0</td>\n",
       "      <td>0.0</td>\n",
       "      <td>0</td>\n",
       "      <td>0</td>\n",
       "    </tr>\n",
       "    <tr>\n",
       "      <th>293</th>\n",
       "      <td>3</td>\n",
       "      <td>0</td>\n",
       "      <td>0</td>\n",
       "      <td>0</td>\n",
       "      <td>NaN</td>\n",
       "      <td>0</td>\n",
       "      <td>8</td>\n",
       "      <td>0.050950</td>\n",
       "      <td>0.140664</td>\n",
       "      <td>0.065252</td>\n",
       "      <td>...</td>\n",
       "      <td>NaN</td>\n",
       "      <td>72</td>\n",
       "      <td>0</td>\n",
       "      <td>0.0</td>\n",
       "      <td>6</td>\n",
       "      <td>0.029343</td>\n",
       "      <td>0</td>\n",
       "      <td>0.0</td>\n",
       "      <td>0</td>\n",
       "      <td>0</td>\n",
       "    </tr>\n",
       "    <tr>\n",
       "      <th>294</th>\n",
       "      <td>4</td>\n",
       "      <td>0</td>\n",
       "      <td>0</td>\n",
       "      <td>0</td>\n",
       "      <td>NaN</td>\n",
       "      <td>0</td>\n",
       "      <td>1</td>\n",
       "      <td>0.004470</td>\n",
       "      <td>0.575750</td>\n",
       "      <td>0.076719</td>\n",
       "      <td>...</td>\n",
       "      <td>NaN</td>\n",
       "      <td>167</td>\n",
       "      <td>0</td>\n",
       "      <td>0.0</td>\n",
       "      <td>0</td>\n",
       "      <td>0.262463</td>\n",
       "      <td>0</td>\n",
       "      <td>0.0</td>\n",
       "      <td>0</td>\n",
       "      <td>0</td>\n",
       "    </tr>\n",
       "    <tr>\n",
       "      <th>295</th>\n",
       "      <td>4</td>\n",
       "      <td>0</td>\n",
       "      <td>0</td>\n",
       "      <td>0</td>\n",
       "      <td>NaN</td>\n",
       "      <td>0</td>\n",
       "      <td>1</td>\n",
       "      <td>0.001171</td>\n",
       "      <td>0.815435</td>\n",
       "      <td>0.071373</td>\n",
       "      <td>...</td>\n",
       "      <td>NaN</td>\n",
       "      <td>196</td>\n",
       "      <td>0</td>\n",
       "      <td>0.0</td>\n",
       "      <td>0</td>\n",
       "      <td>0.772894</td>\n",
       "      <td>0</td>\n",
       "      <td>0.0</td>\n",
       "      <td>0</td>\n",
       "      <td>0</td>\n",
       "    </tr>\n",
       "    <tr>\n",
       "      <th>296</th>\n",
       "      <td>4</td>\n",
       "      <td>0</td>\n",
       "      <td>0</td>\n",
       "      <td>0</td>\n",
       "      <td>NaN</td>\n",
       "      <td>0</td>\n",
       "      <td>1</td>\n",
       "      <td>0.000240</td>\n",
       "      <td>0.985032</td>\n",
       "      <td>0.123080</td>\n",
       "      <td>...</td>\n",
       "      <td>NaN</td>\n",
       "      <td>66</td>\n",
       "      <td>0</td>\n",
       "      <td>0.0</td>\n",
       "      <td>0</td>\n",
       "      <td>0.984615</td>\n",
       "      <td>0</td>\n",
       "      <td>0.0</td>\n",
       "      <td>0</td>\n",
       "      <td>0</td>\n",
       "    </tr>\n",
       "  </tbody>\n",
       "</table>\n",
       "<p>297 rows × 33 columns</p>\n",
       "</div>"
      ],
      "text/plain": [
       "     graph_type  is_directed_int  has_spatial_attributes  \\\n",
       "0             4                0                       0   \n",
       "1             4                0                       0   \n",
       "2             4                0                       0   \n",
       "3             4                0                       0   \n",
       "4             4                0                       0   \n",
       "..          ...              ...                     ...   \n",
       "292           4                0                       0   \n",
       "293           3                0                       0   \n",
       "294           4                0                       0   \n",
       "295           4                0                       0   \n",
       "296           4                0                       0   \n",
       "\n",
       "     has_temporal_attributes  is_planar  is_bipartite  n_components  \\\n",
       "0                          0        NaN             0             1   \n",
       "1                          0        NaN             0             1   \n",
       "2                          0        NaN             0             1   \n",
       "3                          0        NaN             0             2   \n",
       "4                          0        NaN             0             1   \n",
       "..                       ...        ...           ...           ...   \n",
       "292                        0        NaN             0             1   \n",
       "293                        0        NaN             0             8   \n",
       "294                        0        NaN             0             1   \n",
       "295                        0        NaN             0             1   \n",
       "296                        0        NaN             0             1   \n",
       "\n",
       "     avg_betweenness_centrality  avg_closeness_centrality  \\\n",
       "0                      0.000534                  0.947804   \n",
       "1                      0.004174                  0.583721   \n",
       "2                      0.004833                  0.641326   \n",
       "3                      0.102564                  0.376141   \n",
       "4                      0.000759                  0.947525   \n",
       "..                          ...                       ...   \n",
       "292                    0.001242                  0.856071   \n",
       "293                    0.050950                  0.140664   \n",
       "294                    0.004470                  0.575750   \n",
       "295                    0.001171                  0.815435   \n",
       "296                    0.000240                  0.985032   \n",
       "\n",
       "     avg_eigenvector_centrality  ...  sigma  n_nodes  node_types  \\\n",
       "0                      0.097103  ...    NaN      106           0   \n",
       "1                      0.075489  ...    NaN      173           0   \n",
       "2                      0.091558  ...    NaN      118           0   \n",
       "3                      0.240887  ...    NaN       13           0   \n",
       "4                      0.114659  ...    NaN       76           0   \n",
       "..                          ...  ...    ...      ...         ...   \n",
       "292                    0.085069  ...    NaN      138           0   \n",
       "293                    0.065252  ...    NaN       72           0   \n",
       "294                    0.076719  ...    NaN      167           0   \n",
       "295                    0.071373  ...    NaN      196           0   \n",
       "296                    0.123080  ...    NaN       66           0   \n",
       "\n",
       "     node_attributes  number_of_isolates   density  edge_types  \\\n",
       "0                0.0                   0  0.944474           0   \n",
       "1                0.0                   0  0.286194           0   \n",
       "2                0.0                   0  0.439374           0   \n",
       "3                0.0                   1  0.179487           0   \n",
       "4                0.0                   0  0.943860           0   \n",
       "..               ...                 ...       ...         ...   \n",
       "292              0.0                   0  0.831059           0   \n",
       "293              0.0                   6  0.029343           0   \n",
       "294              0.0                   0  0.262463           0   \n",
       "295              0.0                   0  0.772894           0   \n",
       "296              0.0                   0  0.984615           0   \n",
       "\n",
       "     edge_attributes  n_parallel_edges  n_self_loops  \n",
       "0                0.0                 0             0  \n",
       "1                0.0                 0             0  \n",
       "2                0.0                 0             0  \n",
       "3                0.0                 0             0  \n",
       "4                0.0                 0             0  \n",
       "..               ...               ...           ...  \n",
       "292              0.0                 0             0  \n",
       "293              0.0                 0             0  \n",
       "294              0.0                 0             0  \n",
       "295              0.0                 0             0  \n",
       "296              0.0                 0             0  \n",
       "\n",
       "[297 rows x 33 columns]"
      ]
     },
     "execution_count": 9,
     "metadata": {},
     "output_type": "execute_result"
    }
   ],
   "source": [
    "df"
   ]
  },
  {
   "cell_type": "markdown",
   "id": "5669457e",
   "metadata": {},
   "source": [
    "# Prepare Data for Predicate Learning"
   ]
  },
  {
   "cell_type": "code",
   "execution_count": 10,
   "id": "5e4293bc",
   "metadata": {},
   "outputs": [],
   "source": [
    "attr_std = df.std()"
   ]
  },
  {
   "cell_type": "code",
   "execution_count": 11,
   "id": "8844a752",
   "metadata": {},
   "outputs": [
    {
     "data": {
      "text/plain": [
       "graph_type                     0.396574\n",
       "is_directed_int                0.000000\n",
       "has_spatial_attributes         0.000000\n",
       "has_temporal_attributes        0.000000\n",
       "is_planar                           NaN\n",
       "is_bipartite                   0.189171\n",
       "n_components                   1.400327\n",
       "avg_betweenness_centrality     0.029138\n",
       "avg_closeness_centrality       0.190156\n",
       "avg_eigenvector_centrality     0.091201\n",
       "avg_degree                    40.999756\n",
       "std_degree                     1.722291\n",
       "clustering_coefficient         0.295832\n",
       "transitivity                   0.295636\n",
       "modularity                     0.104869\n",
       "communities                    1.401977\n",
       "avg_shortest_path_length       0.699630\n",
       "radius                         0.856768\n",
       "diameter                       1.055290\n",
       "assortativity                  0.112348\n",
       "vertex_connectivity           38.332860\n",
       "eccentricity_avg               0.922103\n",
       "s_metric                            NaN\n",
       "sigma                               NaN\n",
       "n_nodes                       56.939827\n",
       "node_types                     0.000000\n",
       "node_attributes                0.000000\n",
       "number_of_isolates             0.954262\n",
       "density                        0.287013\n",
       "edge_types                     0.000000\n",
       "edge_attributes                0.000000\n",
       "n_parallel_edges               0.000000\n",
       "n_self_loops                   0.000000\n",
       "dtype: float64"
      ]
     },
     "execution_count": 11,
     "metadata": {},
     "output_type": "execute_result"
    }
   ],
   "source": [
    "attr_std"
   ]
  },
  {
   "cell_type": "code",
   "execution_count": 12,
   "id": "bf4e333f",
   "metadata": {},
   "outputs": [],
   "source": [
    "attr_null = df.isnull().any(axis=0)"
   ]
  },
  {
   "cell_type": "code",
   "execution_count": 13,
   "id": "487ec1d3",
   "metadata": {},
   "outputs": [
    {
     "data": {
      "text/plain": [
       "graph_type                    False\n",
       "is_directed_int               False\n",
       "has_spatial_attributes        False\n",
       "has_temporal_attributes       False\n",
       "is_planar                      True\n",
       "is_bipartite                  False\n",
       "n_components                  False\n",
       "avg_betweenness_centrality    False\n",
       "avg_closeness_centrality      False\n",
       "avg_eigenvector_centrality    False\n",
       "avg_degree                    False\n",
       "std_degree                    False\n",
       "clustering_coefficient        False\n",
       "transitivity                  False\n",
       "modularity                    False\n",
       "communities                    True\n",
       "avg_shortest_path_length      False\n",
       "radius                        False\n",
       "diameter                      False\n",
       "assortativity                  True\n",
       "vertex_connectivity           False\n",
       "eccentricity_avg              False\n",
       "s_metric                       True\n",
       "sigma                          True\n",
       "n_nodes                       False\n",
       "node_types                    False\n",
       "node_attributes               False\n",
       "number_of_isolates            False\n",
       "density                       False\n",
       "edge_types                    False\n",
       "edge_attributes               False\n",
       "n_parallel_edges              False\n",
       "n_self_loops                  False\n",
       "dtype: bool"
      ]
     },
     "execution_count": 13,
     "metadata": {},
     "output_type": "execute_result"
    }
   ],
   "source": [
    "attr_null"
   ]
  },
  {
   "cell_type": "markdown",
   "id": "cc5e17ca",
   "metadata": {},
   "source": [
    "**Only use attributes that do not contain null values and have a standard deviation > 0:**"
   ]
  },
  {
   "cell_type": "code",
   "execution_count": 14,
   "id": "0db8a401",
   "metadata": {},
   "outputs": [],
   "source": [
    "attr_use = (attr_std.fillna(0)>0) & ~attr_null"
   ]
  },
  {
   "cell_type": "code",
   "execution_count": 15,
   "id": "6c7e4234",
   "metadata": {},
   "outputs": [
    {
     "data": {
      "text/plain": [
       "graph_type                     True\n",
       "is_directed_int               False\n",
       "has_spatial_attributes        False\n",
       "has_temporal_attributes       False\n",
       "is_planar                     False\n",
       "is_bipartite                   True\n",
       "n_components                   True\n",
       "avg_betweenness_centrality     True\n",
       "avg_closeness_centrality       True\n",
       "avg_eigenvector_centrality     True\n",
       "avg_degree                     True\n",
       "std_degree                     True\n",
       "clustering_coefficient         True\n",
       "transitivity                   True\n",
       "modularity                     True\n",
       "communities                   False\n",
       "avg_shortest_path_length       True\n",
       "radius                         True\n",
       "diameter                       True\n",
       "assortativity                 False\n",
       "vertex_connectivity            True\n",
       "eccentricity_avg               True\n",
       "s_metric                      False\n",
       "sigma                         False\n",
       "n_nodes                        True\n",
       "node_types                    False\n",
       "node_attributes               False\n",
       "number_of_isolates             True\n",
       "density                        True\n",
       "edge_types                    False\n",
       "edge_attributes               False\n",
       "n_parallel_edges              False\n",
       "n_self_loops                  False\n",
       "dtype: bool"
      ]
     },
     "execution_count": 15,
     "metadata": {},
     "output_type": "execute_result"
    }
   ],
   "source": [
    "attr_use"
   ]
  },
  {
   "cell_type": "markdown",
   "id": "dd8c8567",
   "metadata": {},
   "source": [
    "**Excluded Attributes:**"
   ]
  },
  {
   "cell_type": "code",
   "execution_count": 16,
   "id": "dcb02fef",
   "metadata": {},
   "outputs": [
    {
     "data": {
      "text/plain": [
       "Index(['is_directed_int', 'has_spatial_attributes', 'has_temporal_attributes',\n",
       "       'is_planar', 'communities', 'assortativity', 's_metric', 'sigma',\n",
       "       'node_types', 'node_attributes', 'edge_types', 'edge_attributes',\n",
       "       'n_parallel_edges', 'n_self_loops'],\n",
       "      dtype='object')"
      ]
     },
     "execution_count": 16,
     "metadata": {},
     "output_type": "execute_result"
    }
   ],
   "source": [
    "attr_use[~attr_use].index"
   ]
  },
  {
   "cell_type": "code",
   "execution_count": 17,
   "id": "ae69f9a8",
   "metadata": {},
   "outputs": [],
   "source": [
    "attr = attr_use[attr_use].index"
   ]
  },
  {
   "cell_type": "code",
   "execution_count": 18,
   "id": "71049b99",
   "metadata": {},
   "outputs": [
    {
     "data": {
      "text/plain": [
       "Index(['graph_type', 'is_bipartite', 'n_components',\n",
       "       'avg_betweenness_centrality', 'avg_closeness_centrality',\n",
       "       'avg_eigenvector_centrality', 'avg_degree', 'std_degree',\n",
       "       'clustering_coefficient', 'transitivity', 'modularity',\n",
       "       'avg_shortest_path_length', 'radius', 'diameter', 'vertex_connectivity',\n",
       "       'eccentricity_avg', 'n_nodes', 'number_of_isolates', 'density'],\n",
       "      dtype='object')"
      ]
     },
     "execution_count": 18,
     "metadata": {},
     "output_type": "execute_result"
    }
   ],
   "source": [
    "attr"
   ]
  },
  {
   "cell_type": "code",
   "execution_count": 19,
   "id": "2ad93886",
   "metadata": {},
   "outputs": [
    {
     "data": {
      "text/plain": [
       "19"
      ]
     },
     "execution_count": 19,
     "metadata": {},
     "output_type": "execute_result"
    }
   ],
   "source": [
    "len(attr)"
   ]
  },
  {
   "cell_type": "markdown",
   "id": "0839b327",
   "metadata": {},
   "source": [
    "# Load Expert Predicates"
   ]
  },
  {
   "cell_type": "code",
   "execution_count": 20,
   "id": "db62968c",
   "metadata": {},
   "outputs": [],
   "source": [
    "predicates_labels = get_predicate_labels(df, predicates)"
   ]
  },
  {
   "cell_type": "markdown",
   "id": "ce986e4a",
   "metadata": {},
   "source": [
    "**List of predicates for each vis type:**"
   ]
  },
  {
   "cell_type": "code",
   "execution_count": 21,
   "id": "b975471f",
   "metadata": {},
   "outputs": [
    {
     "data": {
      "text/plain": [
       "{'NODELINK': [{'density': [0, 0.1]},\n",
       "  {'avg_degree': [1, 3]},\n",
       "  {'clustering_coefficient': [0.1, 0.4]},\n",
       "  {'node_types': [1, 3]},\n",
       "  {'edge_types': [1, 2]}],\n",
       " 'MATRIX': [{'density': [0.1, 1]},\n",
       "  {'avg_degree': [10, 50]},\n",
       "  {'modularity': [0.3, 0.7]},\n",
       "  {'node_attributes': [2, 10]},\n",
       "  {'edge_attributes': [1, 5]}],\n",
       " 'NODETRIX': [{'communities': [4, 10]},\n",
       "  {'clustering_coefficient': [0.5, 1]},\n",
       "  {'density': [0.1, 0.5]},\n",
       "  {'node_types': [2, 5]},\n",
       "  {'modularity': [0.3, 0.8]},\n",
       "  {'avg_degree': [5, 15]},\n",
       "  {'node_attributes': [3, 10]},\n",
       "  {'edge_types': [1, 3]}],\n",
       " 'NODELINK_MAP': [{'avg_degree': [1, 5]}],\n",
       " 'PAOHVIS': [{'n_nodes': [50, 500]},\n",
       "  {'node_types': [3, 6]},\n",
       "  {'edge_types': [2, 5]},\n",
       "  {'density': [0.05, 0.2]},\n",
       "  {'avg_degree': [5, 10]},\n",
       "  {'transitivity': [0.2, 0.6]}],\n",
       " 'CHORD_DIAGRAM': [{'n_nodes': [0, 6]},\n",
       "  {'edge_types': [1, 3]},\n",
       "  {'clustering_coefficient': [0.3, 0.7]},\n",
       "  {'avg_degree': [2, 4]}],\n",
       " 'TREEMAP': [{'graph_type': [0.5, 1.5]},\n",
       "  {'modularity': [0.5, 1]},\n",
       "  {'n_nodes': [50, 200]},\n",
       "  {'node_attributes': [5, 20]},\n",
       "  {'edge_attributes': [0, 2]}]}"
      ]
     },
     "execution_count": 21,
     "metadata": {},
     "output_type": "execute_result"
    }
   ],
   "source": [
    "predicates_labels['predicates']"
   ]
  },
  {
   "cell_type": "markdown",
   "id": "bdad1791",
   "metadata": {},
   "source": [
    "**Vis type label for each graph:**"
   ]
  },
  {
   "cell_type": "code",
   "execution_count": 22,
   "id": "80afa9f4",
   "metadata": {},
   "outputs": [
    {
     "data": {
      "text/plain": [
       "0        MATRIX\n",
       "1        MATRIX\n",
       "2       PAOHVIS\n",
       "3      NODELINK\n",
       "4        MATRIX\n",
       "         ...   \n",
       "292      MATRIX\n",
       "293    NODELINK\n",
       "294      MATRIX\n",
       "295      MATRIX\n",
       "296      MATRIX\n",
       "Length: 297, dtype: object"
      ]
     },
     "execution_count": 22,
     "metadata": {},
     "output_type": "execute_result"
    }
   ],
   "source": [
    "predicates_labels['labels']"
   ]
  },
  {
   "cell_type": "markdown",
   "id": "20b6050b",
   "metadata": {},
   "source": [
    "For each graph, each vis type gets one point for a matching predicate. The vis type with the most total points/matching predicates is chosen as the label."
   ]
  },
  {
   "cell_type": "markdown",
   "id": "62aaafd7",
   "metadata": {},
   "source": [
    "# Learn Predicates"
   ]
  },
  {
   "cell_type": "code",
   "execution_count": 24,
   "id": "34f4a0cd",
   "metadata": {
    "scrolled": true
   },
   "outputs": [
    {
     "name": "stdout",
     "output_type": "stream",
     "text": [
      "[   0] loss 3.3214240074157715\n",
      "[ 100] loss 9.225895881652832\n",
      "[ 200] loss 9.427505493164062\n",
      "[ 300] loss 0.22784195840358734\n",
      "[ 400] loss 0.1697160005569458\n",
      "[ 500] loss 0.19681721925735474\n",
      "[ 600] loss 0.24632522463798523\n",
      "[ 700] loss 0.3140135109424591\n",
      "[ 800] loss 0.3935486078262329\n",
      "[ 900] loss 0.47320684790611267\n",
      "\n",
      "brush = 0\n",
      "accuracy = 0.7811447811447811\n",
      "precision = 0.2261904761904762\n",
      "recall = 1.0\n",
      "f1 = 0.3689320388349515\n",
      "\n",
      "[   0] loss 2.5393917560577393\n",
      "[ 100] loss 0.6756349205970764\n",
      "[ 200] loss 0.2764913737773895\n",
      "[ 300] loss 0.21806229650974274\n",
      "[ 400] loss 0.19411863386631012\n",
      "[ 500] loss 0.18646377325057983\n",
      "[ 600] loss 0.19039420783519745\n",
      "[ 700] loss 0.19553092122077942\n",
      "[ 800] loss 0.199416846036911\n",
      "[ 900] loss 0.20200425386428833\n",
      "\n",
      "brush = 0\n",
      "accuracy = 0.9663299663299664\n",
      "precision = 1.0\n",
      "recall = 0.9640287769784173\n",
      "f1 = 0.9816849816849818\n",
      "\n"
     ]
    }
   ],
   "source": [
    "learned_predicates = get_predicates_labels(df, attr, predicates_labels['labels'], label_names=['NODELINK'], n_iter=1000)"
   ]
  },
  {
   "cell_type": "code",
   "execution_count": 25,
   "id": "da0fc245",
   "metadata": {},
   "outputs": [
    {
     "name": "stdout",
     "output_type": "stream",
     "text": [
      "NODELINK\n",
      "({'avg_degree': [0.003195298575763901, 0.02762993474337021], 'vertex_connectivity': [0.0, 0.011834319526627219]}, {'n_components': [0.0, 0.10526315789473684], 'avg_betweenness_centrality': [0.0, 0.15302101895213127], 'eccentricity_avg': [0.23305794596672058, 0.7996454536914825], 'number_of_isolates': [0.0, 0.18181818181818182]})\n"
     ]
    }
   ],
   "source": [
    "for vistype, predicate in learned_predicates.items():\n",
    "    print(vistype)\n",
    "    print(predicate)"
   ]
  }
 ],
 "metadata": {
  "kernelspec": {
   "display_name": "Python 3 (ipykernel)",
   "language": "python",
   "name": "python3"
  },
  "language_info": {
   "codemirror_mode": {
    "name": "ipython",
    "version": 3
   },
   "file_extension": ".py",
   "mimetype": "text/x-python",
   "name": "python",
   "nbconvert_exporter": "python",
   "pygments_lexer": "ipython3",
   "version": "3.11.5"
  },
  "toc": {
   "base_numbering": 1,
   "nav_menu": {},
   "number_sections": true,
   "sideBar": true,
   "skip_h1_title": false,
   "title_cell": "Table of Contents",
   "title_sidebar": "Contents",
   "toc_cell": false,
   "toc_position": {},
   "toc_section_display": true,
   "toc_window_display": false
  }
 },
 "nbformat": 4,
 "nbformat_minor": 5
}
