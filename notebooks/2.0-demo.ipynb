{
 "cells": [
  {
   "cell_type": "code",
   "execution_count": 1,
   "metadata": {},
   "outputs": [],
   "source": [
    "import sys\n",
    "import os\n",
    "\n",
    "sys.path.insert(0, os.path.abspath(os.path.join(os.getcwd(), '..', 'src')))"
   ]
  },
  {
   "cell_type": "code",
   "execution_count": 2,
   "metadata": {},
   "outputs": [],
   "source": [
    "from agent import RecommendationAgent"
   ]
  },
  {
   "cell_type": "code",
   "execution_count": 4,
   "metadata": {},
   "outputs": [],
   "source": [
    "agent = RecommendationAgent(n_statistics=25, batch_size=10)\n",
    "\n",
    "agent.add_domain('healthcare')\n",
    "agent.add_domain('asset performance management')\n",
    "agent.add_domain('cyber security')\n",
    "agent.add_domain(\"e-commerce\")\n",
    "\n",
    "agent.add_visualization('nodelink topology driven')\n",
    "agent.add_visualization('nodelink attribute driven faceting')\n",
    "agent.add_visualization('nodelink attribute driven positioning')\n",
    "agent.add_visualization('adjacency matrix')\n",
    "agent.add_visualization('quilts')\n",
    "agent.add_visualization('biofabric')\n",
    "agent.add_visualization('treemap')\n",
    "agent.add_visualization('sunburst')"
   ]
  },
  {
   "cell_type": "code",
   "execution_count": 5,
   "metadata": {},
   "outputs": [],
   "source": [
    "interactions_1 = [\n",
    "    {'domain': 'healthcare', 'statistics': {'stat1': 0.5, 'stat2': 0.8, 'stat3': 1.7, 'stat4': 0.1}, 'user_feedback': 4},\n",
    "    {'domain': 'healthcare', 'statistics': {'stat1': 0.7, 'stat2': 0.3, 'stat3': 1.7, 'stat4': 0.1}, 'user_feedback': 3},\n",
    "    {'domain': 'healthcare', 'statistics': {'stat1': 0.2, 'stat2': 0.6, 'stat3': 1.3, 'stat4': 0.5}, 'user_feedback': 2},\n",
    "    {'domain': 'healthcare', 'statistics': {'stat1': 0.9, 'stat2': 0.4, 'stat3': 1.8, 'stat4': 0.3}, 'user_feedback': 5},\n",
    "    {'domain': 'healthcare', 'statistics': {'stat1': 0.3, 'stat2': 0.7, 'stat3': 1.5, 'stat4': 0.2}, 'user_feedback': 3},\n",
    "    {'domain': 'healthcare', 'statistics': {'stat1': 0.8, 'stat2': 0.2, 'stat3': 1.6, 'stat4': 0.4}, 'user_feedback': 4},\n",
    "    {'domain': 'healthcare', 'statistics': {'stat1': 0.6, 'stat2': 0.5, 'stat3': 1.4, 'stat4': 0.6}, 'user_feedback': 4},\n",
    "    {'domain': 'healthcare', 'statistics': {'stat1': 0.4, 'stat2': 0.9, 'stat3': 1.2, 'stat4': 0.7}, 'user_feedback': 5},\n",
    "    {'domain': 'healthcare', 'statistics': {'stat1': 0.1, 'stat2': 0.1, 'stat3': 1.1, 'stat4': 0.8}, 'user_feedback': 2},\n",
    "    {'domain': 'healthcare', 'statistics': {'stat1': 0.6, 'stat2': 0.8, 'stat3': 1.9, 'stat4': 0.9}, 'user_feedback': 5},\n",
    "    {'domain': 'healthcare', 'statistics': {'stat1': 0.8, 'stat2': 0.6, 'stat3': 1.8, 'stat4': 0.7}, 'user_feedback': 4},\n",
    "    {'domain': 'healthcare', 'statistics': {'stat1': 0.5, 'stat2': 0.3, 'stat3': 1.7, 'stat4': 0.5}, 'user_feedback': 3},\n",
    "    {'domain': 'healthcare', 'statistics': {'stat1': 0.3, 'stat2': 0.7, 'stat3': 1.5, 'stat4': 0.3}, 'user_feedback': 3},\n",
    "    {'domain': 'healthcare', 'statistics': {'stat1': 0.9, 'stat2': 0.2, 'stat3': 1.3, 'stat4': 0.2}, 'user_feedback': 2},\n",
    "    {'domain': 'healthcare', 'statistics': {'stat1': 0.2, 'stat2': 0.5, 'stat3': 1.6, 'stat4': 0.1}, 'user_feedback': 4},\n",
    "    {'domain': 'healthcare', 'statistics': {'stat1': 0.7, 'stat2': 0.4, 'stat3': 1.9, 'stat4': 0.4}, 'user_feedback': 5},\n",
    "    {'domain': 'healthcare', 'statistics': {'stat1': 0.4, 'stat2': 0.6, 'stat3': 1.2, 'stat4': 0.6}, 'user_feedback': 4},\n",
    "    {'domain': 'healthcare', 'statistics': {'stat1': 0.6, 'stat2': 0.9, 'stat3': 1.4, 'stat4': 0.8}, 'user_feedback': 5},\n",
    "    {'domain': 'healthcare', 'statistics': {'stat1': 0.8, 'stat2': 0.3, 'stat3': 1.8, 'stat4': 0.2}, 'user_feedback': 3},\n",
    "    {'domain': 'healthcare', 'statistics': {'stat1': 0.3, 'stat2': 0.8, 'stat3': 1.7, 'stat4': 0.7}, 'user_feedback': 4}\n",
    "]"
   ]
  },
  {
   "cell_type": "code",
   "execution_count": 6,
   "metadata": {},
   "outputs": [
    {
     "name": "stdout",
     "output_type": "stream",
     "text": [
      "Predicted visualization:  quilts\n",
      "Updated scores based on user feedback\n",
      "\n",
      "Predicted visualization:  biofabric\n",
      "Updated scores based on user feedback\n",
      "\n",
      "Predicted visualization:  nodelink attribute driven faceting\n",
      "Updated scores based on user feedback\n",
      "\n",
      "Predicted visualization:  biofabric\n",
      "Updated scores based on user feedback\n",
      "\n",
      "Predicted visualization:  biofabric\n",
      "Updated scores based on user feedback\n",
      "\n",
      "Predicted visualization:  nodelink attribute driven positioning\n",
      "Updated scores based on user feedback\n",
      "\n",
      "Predicted visualization:  quilts\n",
      "Updated scores based on user feedback\n",
      "\n",
      "Predicted visualization:  treemap\n",
      "Updated scores based on user feedback\n",
      "\n",
      "Predicted visualization:  adjacency matrix\n",
      "Updated scores based on user feedback\n",
      "\n",
      "Predicted visualization:  treemap\n",
      "Updated scores based on user feedback\n",
      "\n",
      "Predicted visualization:  adjacency matrix\n",
      "Updated scores based on user feedback\n",
      "\n",
      "Predicted visualization:  treemap\n",
      "Updated scores based on user feedback\n",
      "\n",
      "Predicted visualization:  biofabric\n",
      "Updated scores based on user feedback\n",
      "\n",
      "Predicted visualization:  treemap\n",
      "Updated scores based on user feedback\n",
      "\n",
      "Predicted visualization:  adjacency matrix\n",
      "Updated scores based on user feedback\n",
      "\n",
      "Predicted visualization:  nodelink attribute driven faceting\n",
      "Updated scores based on user feedback\n",
      "\n",
      "Predicted visualization:  nodelink attribute driven positioning\n",
      "Updated scores based on user feedback\n",
      "\n",
      "Predicted visualization:  biofabric\n",
      "Updated scores based on user feedback\n",
      "\n",
      "Predicted visualization:  nodelink attribute driven positioning\n",
      "Updated scores based on user feedback\n",
      "\n",
      "Predicted visualization:  nodelink topology driven\n",
      "Updated scores based on user feedback\n",
      "\n"
     ]
    }
   ],
   "source": [
    "for interaction in interactions_1:\n",
    "    domain = interaction['domain']\n",
    "    statistics = interaction['statistics']\n",
    "    state_id = agent.state_id(statistics)\n",
    "    action, require_feedback = agent.recommend_visualization(domain, state_id)\n",
    "    print(\"Predicted visualization: \", agent.visualizations[action])\n",
    "\n",
    "    if require_feedback:\n",
    "        user_feedback = interaction['user_feedback']\n",
    "        agent.update_q_value(domain, state_id, action, user_feedback, require_feedback)\n",
    "        print('Updated scores based on user feedback')\n",
    "    print()"
   ]
  },
  {
   "cell_type": "code",
   "execution_count": null,
   "metadata": {},
   "outputs": [],
   "source": [
    "agent.export_index()"
   ]
  }
 ],
 "metadata": {
  "kernelspec": {
   "display_name": ".venv",
   "language": "python",
   "name": "python3"
  },
  "language_info": {
   "codemirror_mode": {
    "name": "ipython",
    "version": 3
   },
   "file_extension": ".py",
   "mimetype": "text/x-python",
   "name": "python",
   "nbconvert_exporter": "python",
   "pygments_lexer": "ipython3",
   "version": "3.9.18"
  }
 },
 "nbformat": 4,
 "nbformat_minor": 2
}
