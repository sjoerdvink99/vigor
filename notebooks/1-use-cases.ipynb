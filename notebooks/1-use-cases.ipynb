{
 "cells": [
  {
   "cell_type": "markdown",
   "metadata": {},
   "source": [
    "# Use Cases for VIGOR\n",
    "\n",
    "This notebook is to demonstrate a use case for VIGOR"
   ]
  },
  {
   "cell_type": "code",
   "execution_count": 1,
   "metadata": {},
   "outputs": [],
   "source": [
    "import csv\n",
    "from neo4j import GraphDatabase\n",
    "from neo4j.graph import Node, Relationship\n",
    "from vigor import Graph, VIGOR, predicates, Visualization, Predicate"
   ]
  },
  {
   "cell_type": "markdown",
   "metadata": {},
   "source": [
    "## Recommendation Use Case\n",
    "\n",
    "Uses a sample database provided by Neo4j"
   ]
  },
  {
   "cell_type": "code",
   "execution_count": 2,
   "metadata": {},
   "outputs": [],
   "source": [
    "vigor = VIGOR()\n",
    "\n",
    "visualization_preds = {}\n",
    "for vis, score, stat, min, max in predicates:\n",
    "    if vis not in visualization_preds:\n",
    "        visualization_preds[vis] = Visualization(vis)\n",
    "    visualization_preds[vis].add_predicate(Predicate(stat, min, max, score))\n",
    "\n",
    "for vis in visualization_preds.values():\n",
    "    vigor.add_visualization(vis)"
   ]
  },
  {
   "cell_type": "code",
   "execution_count": 3,
   "metadata": {},
   "outputs": [],
   "source": [
    "queries = {\n",
    "    \"recommendations\": [\n",
    "      {\n",
    "        \"task\": \"Topology-Based\",\n",
    "        \"question\": \"Which director directed the most amount of movies?\",\n",
    "        \"query\": \"MATCH (d:Director)-[r:DIRECTED]-(m:Movie) RETURN * LIMIT 500\"\n",
    "      },\n",
    "      {\n",
    "        \"task\": \"Attribute-Based\",\n",
    "        \"question\": \"Which of the movies has the heighest average rating by a user?\",\n",
    "        \"query\": \"MATCH (u:User)-[r:RATED]-(m:Movie) RETURN * LIMIT 100\"\n",
    "      },\n",
    "      {\n",
    "        \"task\": \"Browsing\",\n",
    "        \"question\": \"Can you find all actors that also directed the movie they played in?\",\n",
    "        \"query\": \"MATCH (a:Actor)-[r:ACTED_IN]->(m:Movie)-[d:DIRECTED]-(e:Actor) RETURN * LIMIT 1000\"\n",
    "      },\n",
    "       {\n",
    "        \"task\": \"Overview\",\n",
    "        \"question\": \"Can you estimate the size of the entire network?\",\n",
    "        \"query\": \"MATCH (n)-[r]->(m) RETURN * LIMIT 1000\"\n",
    "      }\n",
    "    ],\n",
    "}"
   ]
  },
  {
   "cell_type": "code",
   "execution_count": 4,
   "metadata": {},
   "outputs": [],
   "source": [
    "NEO4J_CONNECTION_URI=\"neo4j+s://demo.neo4jlabs.com:7687\"\n",
    "csv_filename = \"../data/use-cases.csv\""
   ]
  },
  {
   "cell_type": "code",
   "execution_count": null,
   "metadata": {},
   "outputs": [
    {
     "name": "stdout",
     "output_type": "stream",
     "text": [
      "{'graph_type': 3, 'is_directed_int': 0, 'has_spatial_attributes': 0, 'has_temporal_attributes': 1, 'is_planar': 1, 'is_bipartite': 1, 'n_components': 114, 'avg_betweenness_centrality': 2.8341959255350203e-05, 'avg_closeness_centrality': 0.010367396422318965, 'avg_eigenvector_centrality': 0.008691461397179927, 'avg_degree': 1.6420361247947455, 'std_degree': 2.9272887680561324, 'clustering_coefficient': 0.0, 'transitivity': 0, 'modularity': 0.9711780000000003, 'communities': 115, 'avg_shortest_path_length': -1, 'radius': -1, 'diameter': -1, 'assortativity': -0.3250122093356985, 'vertex_connectivity': 0, 'eccentricity_avg': -1, 's_metric': -1, 'sigma': -1, 'n_nodes': 609, 'node_types': 2, 'node_attributes': 14.683087027914613, 'number_of_isolates': 0, 'density': 0.0027007173105176737, 'edge_types': 1, 'edge_attributes': 1.402, 'n_parallel_edges': 0, 'n_self_loops': 0}\n",
      "{'graph_type': 3, 'is_directed_int': 0, 'has_spatial_attributes': 0, 'has_temporal_attributes': 1, 'is_planar': 1, 'is_bipartite': 1, 'n_components': 3, 'avg_betweenness_centrality': 0.005741179486309567, 'avg_closeness_centrality': 0.306624489823494, 'avg_eigenvector_centrality': 0.06671346268318888, 'avg_degree': 1.941747572815534, 'std_degree': 7.607820077250295, 'clustering_coefficient': 0.0, 'transitivity': 0, 'modularity': 0.37834999999999996, 'communities': 4, 'avg_shortest_path_length': -1, 'radius': -1, 'diameter': -1, 'assortativity': -0.7446509879383778, 'vertex_connectivity': 0, 'eccentricity_avg': -1, 's_metric': -1, 'sigma': -1, 'n_nodes': 103, 'node_types': 2, 'node_attributes': 16.339805825242717, 'number_of_isolates': 0, 'density': 0.019036740909956214, 'edge_types': 1, 'edge_attributes': 3.0, 'n_parallel_edges': 0, 'n_self_loops': 0}\n",
      "{'graph_type': 3, 'is_directed_int': 0, 'has_spatial_attributes': 0, 'has_temporal_attributes': 1, 'is_planar': 0, 'is_bipartite': 1, 'n_components': 36, 'avg_betweenness_centrality': 0.005871845049189121, 'avg_closeness_centrality': 0.05797904982315292, 'avg_eigenvector_centrality': 0.006698799481932775, 'avg_degree': 2.0976042590949424, 'std_degree': 1.6184064294178806, 'clustering_coefficient': 0.0, 'transitivity': 0, 'modularity': 0.4512580844649433, 'communities': 37, 'avg_shortest_path_length': -1, 'radius': -1, 'diameter': -1, 'assortativity': -0.6518779471936305, 'vertex_connectivity': 0, 'eccentricity_avg': -1, 's_metric': -1, 'sigma': -1, 'n_nodes': 1127, 'node_types': 3, 'node_attributes': 10.491570541259982, 'number_of_isolates': 0, 'density': 0.0018628812247734835, 'edge_types': 2, 'edge_attributes': 1.8587140439932317, 'n_parallel_edges': 0, 'n_self_loops': 0}\n"
     ]
    },
    {
     "name": "stderr",
     "output_type": "stream",
     "text": [
      "Exception ignored in: <bound method IPythonKernel._clean_thread_parent_frames of <ipykernel.ipkernel.IPythonKernel object at 0x106b0e8e0>>\n",
      "Traceback (most recent call last):\n",
      "  File \"/Users/sjoerdvink/Developer/Experiments/vigor-visualization-recommendation-for-graphs/.venv/lib/python3.9/site-packages/ipykernel/ipkernel.py\", line 775, in _clean_thread_parent_frames\n",
      "    def _clean_thread_parent_frames(\n",
      "KeyboardInterrupt: \n"
     ]
    }
   ],
   "source": [
    "header_written = False\n",
    "\n",
    "with open(csv_filename, mode='a', newline='') as file:\n",
    "    writer = csv.writer(file)\n",
    "\n",
    "    for database in queries:\n",
    "        with GraphDatabase.driver(NEO4J_CONNECTION_URI, auth=(database, database)) as driver:\n",
    "            for query in queries[database]:\n",
    "                G = Graph()\n",
    "\n",
    "                # Execute the query and retrieve records\n",
    "                records, summary, keys = driver.execute_query(query['query'], database_=database)\n",
    "\n",
    "                for record in records:\n",
    "                    for element in record:\n",
    "                        if isinstance(element, Node):\n",
    "                            labels = list(element.labels) if isinstance(element.labels, frozenset) else element.labels\n",
    "                            node_attributes = {\n",
    "                                key: (val[:10] if isinstance(val, str) and len(val) > 10 else val)\n",
    "                                for key, val in element.items()\n",
    "                                if \"embedding\" not in key.lower()\n",
    "                            }\n",
    "                            node_id = element.element_id\n",
    "                            G.add_node(node_id, label=labels, **node_attributes)\n",
    "\n",
    "                        elif isinstance(element, Relationship):\n",
    "                            edge_attributes = {\n",
    "                                key: (val[:10] if isinstance(val, str) and len(val) > 10 else val)\n",
    "                                for key, val in element.items()\n",
    "                                if \"embedding\" not in key.lower()\n",
    "                            }\n",
    "                            edge_type = element.type\n",
    "                            G.add_edge(element.start_node.element_id, element.end_node.element_id, type=edge_type, **edge_attributes)\n",
    "\n",
    "                # Calculate graph statistics and recommendations\n",
    "                graph_stats = G.get_statistics()\n",
    "                print(graph_stats)\n",
    "\n",
    "                # Unpack recommendations and scores\n",
    "                recommendations_with_scores = vigor.recommend(graph_stats, 8)\n",
    "                recommendations = [rec[0].value for rec in recommendations_with_scores]\n",
    "                scores = [rec[1] for rec in recommendations_with_scores]\n",
    "\n",
    "                # Add recommendations and scores to graph stats\n",
    "                graph_stats.update({\n",
    "                    'database_name': database,\n",
    "                    'task': query['task'],\n",
    "                    'query': query['query'],\n",
    "                    'question': query['question'],\n",
    "                    \"rec_1\": recommendations[0],\n",
    "                    \"rec_2\": recommendations[1],\n",
    "                    \"rec_last\": recommendations[-1],\n",
    "                    \"rec_second_to_last\": recommendations[-2],\n",
    "                    \"score_1\": scores[0],\n",
    "                    \"score_2\": scores[1],\n",
    "                    \"score_last\": scores[-1],\n",
    "                    \"score_second_to_last\": scores[-2]\n",
    "                })\n",
    "\n",
    "                # Write header if it hasn't been written\n",
    "                if not header_written:\n",
    "                    writer.writerow(graph_stats.keys())\n",
    "                    header_written = True\n",
    "\n",
    "                writer.writerow(graph_stats.values())"
   ]
  },
  {
   "cell_type": "code",
   "execution_count": null,
   "metadata": {},
   "outputs": [],
   "source": []
  },
  {
   "cell_type": "code",
   "execution_count": null,
   "metadata": {},
   "outputs": [],
   "source": []
  }
 ],
 "metadata": {
  "kernelspec": {
   "display_name": ".venv",
   "language": "python",
   "name": "python3"
  },
  "language_info": {
   "codemirror_mode": {
    "name": "ipython",
    "version": 3
   },
   "file_extension": ".py",
   "mimetype": "text/x-python",
   "name": "python",
   "nbconvert_exporter": "python",
   "pygments_lexer": "ipython3",
   "version": "3.9.6"
  }
 },
 "nbformat": 4,
 "nbformat_minor": 2
}
