{
 "cells": [
  {
   "cell_type": "markdown",
   "metadata": {},
   "source": [
    "# Use Cases for VIGOR\n",
    "\n",
    "This notebook is to demonstrate a use case for VIGOR"
   ]
  },
  {
   "cell_type": "code",
   "execution_count": 1,
   "metadata": {},
   "outputs": [],
   "source": [
    "import csv\n",
    "from neo4j import GraphDatabase\n",
    "from neo4j.graph import Node, Relationship\n",
    "from vigor import Graph, VIGOR, predicates, Visualization, Predicate"
   ]
  },
  {
   "cell_type": "markdown",
   "metadata": {},
   "source": [
    "## Recommendation Use Case\n",
    "\n",
    "Uses a sample database provided by Neo4j"
   ]
  },
  {
   "cell_type": "code",
   "execution_count": 2,
   "metadata": {},
   "outputs": [],
   "source": [
    "vigor = VIGOR()\n",
    "\n",
    "visualization_preds = {}\n",
    "for vis, score, stat, min, max in predicates:\n",
    "    if vis not in visualization_preds:\n",
    "        visualization_preds[vis] = Visualization(vis)\n",
    "    visualization_preds[vis].add_predicate(Predicate(stat, min, max, score))\n",
    "\n",
    "for vis in visualization_preds.values():\n",
    "    vigor.add_visualization(vis)"
   ]
  },
  {
   "cell_type": "code",
   "execution_count": 3,
   "metadata": {},
   "outputs": [],
   "source": [
    "queries = {\n",
    "    \"recommendations\": [\n",
    "      {\n",
    "        \"q_type\": \"Retrieval\",\n",
    "        \"question\": \"What are the names of the top 5 movies with a budget over 100 million dollars?\",\n",
    "        \"query\": \"MATCH (m:Movie) WHERE m.budget > 100000000 RETURN m\"\n",
    "      },\n",
    "      {\n",
    "        \"q_type\": \"Aggregation\",\n",
    "        \"question\": \"What are the top 5 movies by revenue released in 1995?\",\n",
    "        \"query\": \"MATCH (m:Movie) WHERE m.year = 1995 AND m.revenue IS NOT NULL RETURN m\"\n",
    "      },\n",
    "      {\n",
    "        \"q_type\": \"Pathfinding\",\n",
    "        \"question\": \"What are the names of actors who have acted in more than five movies?\",\n",
    "        \"query\": \"MATCH (a:Actor)-[:ACTED_IN]->(m:Movie) WITH a, count(m) AS numMovies WHERE numMovies > 5 RETURN a\"\n",
    "      },\n",
    "       {\n",
    "        \"q_type\": \"Verbose\",\n",
    "        \"question\": \"Find the names of the top 5 movies with the lowest imdbRating.\",\n",
    "        \"query\": \"MATCH (m:Movie) WHERE m.imdbRating IS NOT NULL RETURN m LIMIT 10\"\n",
    "      }\n",
    "    ],\n",
    "}"
   ]
  },
  {
   "cell_type": "code",
   "execution_count": 4,
   "metadata": {},
   "outputs": [],
   "source": [
    "NEO4J_CONNECTION_URI=\"neo4j+s://demo.neo4jlabs.com:7687\"\n",
    "csv_filename = \"../data/use-cases.csv\""
   ]
  },
  {
   "cell_type": "code",
   "execution_count": 7,
   "metadata": {},
   "outputs": [
    {
     "name": "stdout",
     "output_type": "stream",
     "text": [
      "Error calculating modularity: Graph must have at least one edge and one node to calculate modularity.\n",
      "Recommended visualizations: ['Treemap', 'Sunburst', 'BioFabric', 'Quilts', 'Adjacency Matrix', 'Attribute Driven Positioning', 'Semantic Substrates', 'Node-Link']\n",
      "Error calculating modularity: Graph must have at least one edge and one node to calculate modularity.\n",
      "Recommended visualizations: ['Treemap', 'Sunburst', 'BioFabric', 'Quilts', 'Adjacency Matrix', 'Attribute Driven Positioning', 'Semantic Substrates', 'Node-Link']\n",
      "Error calculating modularity: Graph must have at least one edge and one node to calculate modularity.\n",
      "Recommended visualizations: ['Treemap', 'Sunburst', 'BioFabric', 'Quilts', 'Adjacency Matrix', 'Attribute Driven Positioning', 'Semantic Substrates', 'Node-Link']\n",
      "Error calculating modularity: Graph must have at least one edge and one node to calculate modularity.\n",
      "Recommended visualizations: ['BioFabric', 'Quilts', 'Adjacency Matrix', 'Treemap', 'Sunburst', 'Attribute Driven Positioning', 'Semantic Substrates', 'Node-Link']\n",
      "Error calculating modularity: Graph must have at least one edge and one node to calculate modularity.\n",
      "Recommended visualizations: ['Treemap', 'Sunburst', 'BioFabric', 'Quilts', 'Attribute Driven Positioning', 'Semantic Substrates', 'Adjacency Matrix', 'Node-Link']\n",
      "Error calculating modularity: Graph must have at least one edge and one node to calculate modularity.\n",
      "Recommended visualizations: ['BioFabric', 'Quilts', 'Adjacency Matrix', 'Treemap', 'Sunburst', 'Attribute Driven Positioning', 'Semantic Substrates', 'Node-Link']\n",
      "Error calculating modularity: Graph must have at least one edge and one node to calculate modularity.\n",
      "Recommended visualizations: ['BioFabric', 'Quilts', 'Adjacency Matrix', 'Treemap', 'Sunburst', 'Attribute Driven Positioning', 'Semantic Substrates', 'Node-Link']\n",
      "Error calculating modularity: Graph must have at least one edge and one node to calculate modularity.\n",
      "Recommended visualizations: ['Treemap', 'Sunburst', 'BioFabric', 'Quilts', 'Attribute Driven Positioning', 'Semantic Substrates', 'Adjacency Matrix', 'Node-Link']\n"
     ]
    }
   ],
   "source": [
    "header_written = False\n",
    "\n",
    "for database in queries:\n",
    "    driver = GraphDatabase.driver(NEO4J_CONNECTION_URI, auth=(database, database))\n",
    "    for query in queries[database]:\n",
    "        G = Graph()\n",
    "\n",
    "        records, summary, keys = driver.execute_query(query['query'], database_=database)\n",
    "        for record in records:\n",
    "            for element in record:\n",
    "                if isinstance(element, Node):\n",
    "                    G.add_node(record[0], label=element.labels, attributes=element.items())\n",
    "                elif isinstance(element, Relationship):\n",
    "                    G.add_edge(record[0], record[1], type=element.type, attributes=element.items())\n",
    "\n",
    "        graph_stats = G.get_statistics()\n",
    "\n",
    "        # Unpack recommendations and scores\n",
    "        recommendations_with_scores = vigor.recommend_n(graph_stats, 8)\n",
    "        recommendations = [rec[0].value for rec in recommendations_with_scores]  # Extract recommendations\n",
    "        scores = [rec[1] for rec in recommendations_with_scores]  # Extract scores\n",
    "\n",
    "        print(\"Recommended visualizations:\", recommendations)\n",
    "\n",
    "        # Add recommendations and scores to graph stats\n",
    "        graph_stats['database_name'] = database\n",
    "        graph_stats['question'] = query['question']\n",
    "        graph_stats['query'] = query['query']\n",
    "        graph_stats['q_type'] = query['q_type']\n",
    "        graph_stats[\"rec_1\"] = recommendations[0]\n",
    "        graph_stats[\"rec_2\"] = recommendations[1]\n",
    "        graph_stats[\"rec_3\"] = recommendations[2]\n",
    "        graph_stats[\"score_1\"] = scores[0]\n",
    "        graph_stats[\"score_2\"] = scores[1]\n",
    "        graph_stats[\"score_3\"] = scores[2]\n",
    "\n",
    "        # Open the CSV file in append mode\n",
    "        with open(csv_filename, mode='a', newline='') as file:\n",
    "            writer = csv.writer(file)\n",
    "\n",
    "            if not header_written:\n",
    "                writer.writerow(graph_stats.keys())\n",
    "                header_written = True\n",
    "\n",
    "            writer.writerow(graph_stats.values())"
   ]
  },
  {
   "cell_type": "code",
   "execution_count": null,
   "metadata": {},
   "outputs": [],
   "source": []
  }
 ],
 "metadata": {
  "kernelspec": {
   "display_name": ".venv",
   "language": "python",
   "name": "python3"
  },
  "language_info": {
   "codemirror_mode": {
    "name": "ipython",
    "version": 3
   },
   "file_extension": ".py",
   "mimetype": "text/x-python",
   "name": "python",
   "nbconvert_exporter": "python",
   "pygments_lexer": "ipython3",
   "version": "3.9.6"
  }
 },
 "nbformat": 4,
 "nbformat_minor": 2
}
