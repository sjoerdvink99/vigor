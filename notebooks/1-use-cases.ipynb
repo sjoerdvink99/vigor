{
 "cells": [
  {
   "cell_type": "markdown",
   "metadata": {},
   "source": [
    "# Use Cases for VIGOR\n",
    "\n",
    "This notebook is to demonstrate a use case for VIGOR"
   ]
  },
  {
   "cell_type": "code",
   "execution_count": 1,
   "metadata": {},
   "outputs": [],
   "source": [
    "import csv\n",
    "from neo4j import GraphDatabase\n",
    "from neo4j.graph import Node, Relationship\n",
    "from vigor import Graph, VIGOR, predicates, Visualization, Predicate"
   ]
  },
  {
   "cell_type": "markdown",
   "metadata": {},
   "source": [
    "## Recommendation Use Case\n",
    "\n",
    "Uses a sample database provided by Neo4j"
   ]
  },
  {
   "cell_type": "code",
   "execution_count": 2,
   "metadata": {},
   "outputs": [],
   "source": [
    "vigor = VIGOR()\n",
    "\n",
    "visualization_preds = {}\n",
    "for vis, score, stat, min, max in predicates:\n",
    "    if vis not in visualization_preds:\n",
    "        visualization_preds[vis] = Visualization(vis)\n",
    "    visualization_preds[vis].add_predicate(Predicate(stat, min, max, score))\n",
    "\n",
    "for vis in visualization_preds.values():\n",
    "    vigor.add_visualization(vis)"
   ]
  },
  {
   "cell_type": "code",
   "execution_count": 3,
   "metadata": {},
   "outputs": [],
   "source": [
    "queries = {\n",
    "    \"recommendations\": [\n",
    "      {\n",
    "        \"task\": \"Topology-Based\",\n",
    "        \"question\": \"Which director directed the most amount of movies?\",\n",
    "        \"query\": \"MATCH (d:Director)-[r:DIRECTED]-(m:Movie) RETURN d, r, m\"\n",
    "      },\n",
    "      {\n",
    "        \"task\": \"Attribute-Based\",\n",
    "        \"question\": \"Which of the movies has the heighest average rating by a user?\",\n",
    "        \"query\": \"MATCH (u:User)-[r:RATED]-(m:Movie) RETURN u, r, m\"\n",
    "      },\n",
    "      {\n",
    "        \"task\": \"Browsing\",\n",
    "        \"question\": \"Can you find all actors that also directed the movie they played in?\",\n",
    "        \"query\": \"MATCH (a:Actor)-[r:ACTED_IN]->(m:Movie)-[d:DIRECTED]-(e:Actor) RETURN a, r, m, d, e\"\n",
    "      },\n",
    "       {\n",
    "        \"task\": \"Overview\",\n",
    "        \"question\": \"Can you estimate the size of the entire network?\",\n",
    "        \"query\": \"MATCH * RETURN *\"\n",
    "      }\n",
    "    ],\n",
    "}"
   ]
  },
  {
   "cell_type": "code",
   "execution_count": 4,
   "metadata": {},
   "outputs": [],
   "source": [
    "NEO4J_CONNECTION_URI=\"neo4j+s://demo.neo4jlabs.com:7687\"\n",
    "csv_filename = \"../data/use-cases.csv\""
   ]
  },
  {
   "cell_type": "code",
   "execution_count": null,
   "metadata": {},
   "outputs": [
    {
     "name": "stdout",
     "output_type": "stream",
     "text": [
      "ececuted query\n",
      "created graph\n"
     ]
    },
    {
     "name": "stderr",
     "output_type": "stream",
     "text": [
      "Exception ignored in: <bound method IPythonKernel._clean_thread_parent_frames of <ipykernel.ipkernel.IPythonKernel object at 0x1044da8e0>>\n",
      "Traceback (most recent call last):\n",
      "  File \"/Users/sjoerdvink/Developer/Experiments/vigor-visualization-recommendation-for-graphs/.venv/lib/python3.9/site-packages/ipykernel/ipkernel.py\", line 775, in _clean_thread_parent_frames\n",
      "    def _clean_thread_parent_frames(\n",
      "KeyboardInterrupt: \n"
     ]
    }
   ],
   "source": [
    "header_written = False\n",
    "\n",
    "for database in queries:\n",
    "    driver = GraphDatabase.driver(NEO4J_CONNECTION_URI, auth=(database, database))\n",
    "    for query in queries[database]:\n",
    "        G = Graph()\n",
    "\n",
    "        records, summary, keys = driver.execute_query(query['query'], database_=database)\n",
    "        print('ececuted query')\n",
    "        for record in records:\n",
    "            for element in record:\n",
    "                if isinstance(element, Node):\n",
    "                    G.add_node(record[0], label=element.labels, attributes=element.items())\n",
    "                elif isinstance(element, Relationship):\n",
    "                    G.add_edge(record[0], record[1], type=element.type, attributes=element.items())\n",
    "\n",
    "        print('created graph')\n",
    "        graph_stats = G.get_statistics()\n",
    "        print(graph_stats)\n",
    "\n",
    "        # Unpack recommendations and scores\n",
    "        recommendations_with_scores = vigor.recommend(graph_stats, 8)\n",
    "        recommendations = [rec[0].value for rec in recommendations_with_scores]  # Extract recommendations\n",
    "        scores = [rec[1] for rec in recommendations_with_scores]  # Extract scores\n",
    "\n",
    "        # print(\"Recommended visualizations:\", recommendations)\n",
    "\n",
    "        # Add recommendations and scores to graph stats\n",
    "        graph_stats['database_name'] = database\n",
    "        graph_stats['question'] = query['question']\n",
    "        graph_stats['query'] = query['query']\n",
    "        graph_stats['q_type'] = query['q_type']\n",
    "        graph_stats[\"rec_1\"] = recommendations[0]\n",
    "        graph_stats[\"rec_2\"] = recommendations[1]\n",
    "        graph_stats[\"rec_3\"] = recommendations[2]\n",
    "        graph_stats[\"score_1\"] = scores[0]\n",
    "        graph_stats[\"score_2\"] = scores[1]\n",
    "        graph_stats[\"score_3\"] = scores[2]\n",
    "\n",
    "        # Open the CSV file in append mode\n",
    "        with open(csv_filename, mode='a', newline='') as file:\n",
    "            writer = csv.writer(file)\n",
    "\n",
    "            if not header_written:\n",
    "                writer.writerow(graph_stats.keys())\n",
    "                header_written = True\n",
    "\n",
    "            writer.writerow(graph_stats.values())"
   ]
  },
  {
   "cell_type": "code",
   "execution_count": null,
   "metadata": {},
   "outputs": [],
   "source": []
  }
 ],
 "metadata": {
  "kernelspec": {
   "display_name": ".venv",
   "language": "python",
   "name": "python3"
  },
  "language_info": {
   "codemirror_mode": {
    "name": "ipython",
    "version": 3
   },
   "file_extension": ".py",
   "mimetype": "text/x-python",
   "name": "python",
   "nbconvert_exporter": "python",
   "pygments_lexer": "ipython3",
   "version": "3.9.6"
  }
 },
 "nbformat": 4,
 "nbformat_minor": 2
}
