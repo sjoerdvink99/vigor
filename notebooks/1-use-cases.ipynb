{
 "cells": [
  {
   "cell_type": "markdown",
   "metadata": {},
   "source": [
    "# Use Cases for VIGOR\n",
    "\n",
    "This notebook is to demonstrate a use case for VIGOR"
   ]
  },
  {
   "cell_type": "code",
   "execution_count": 1,
   "metadata": {},
   "outputs": [],
   "source": [
    "import csv\n",
    "from neo4j import GraphDatabase\n",
    "from neo4j.graph import Node, Relationship\n",
    "from vigor import Graph, VIGOR, predicates, Visualization, Predicate"
   ]
  },
  {
   "cell_type": "markdown",
   "metadata": {},
   "source": [
    "## Recommendation Use Case\n",
    "\n",
    "Uses a sample database provided by Neo4j"
   ]
  },
  {
   "cell_type": "code",
   "execution_count": 2,
   "metadata": {},
   "outputs": [],
   "source": [
    "vigor = VIGOR()\n",
    "\n",
    "visualization_preds = {}\n",
    "for vis, score, stat, min, max in predicates:\n",
    "    if vis not in visualization_preds:\n",
    "        visualization_preds[vis] = Visualization(vis)\n",
    "    visualization_preds[vis].add_predicate(Predicate(stat, min, max, score))\n",
    "\n",
    "for vis in visualization_preds.values():\n",
    "    vigor.add_visualization(vis)"
   ]
  },
  {
   "cell_type": "code",
   "execution_count": 3,
   "metadata": {},
   "outputs": [],
   "source": [
    "queries = {\n",
    "    \"recommendations\": [\n",
    "      {\n",
    "        \"task\": \"Topology-Based\",\n",
    "        \"question\": \"Which director directed the most amount of movies?\",\n",
    "        \"query\": \"MATCH (d:Director)-[r:DIRECTED]-(m:Movie) RETURN * LIMIT 500\"\n",
    "      },\n",
    "      {\n",
    "        \"task\": \"Attribute-Based\",\n",
    "        \"question\": \"Which of the movies has the heighest average rating by a user?\",\n",
    "        \"query\": \"MATCH (u:User)-[r:RATED]-(m:Movie) RETURN * LIMIT 100\"\n",
    "      },\n",
    "      {\n",
    "        \"task\": \"Browsing\",\n",
    "        \"question\": \"Can you find all actors that also directed the movie they played in?\",\n",
    "        \"query\": \"MATCH (a:Actor)-[r:ACTED_IN]->(m:Movie)-[d:DIRECTED]-(e:Actor) RETURN * LIMIT 1000\"\n",
    "      },\n",
    "       {\n",
    "        \"task\": \"Overview\",\n",
    "        \"question\": \"Can you estimate the size of the entire network?\",\n",
    "        \"query\": \"MATCH (n)-[r]->(m) RETURN * LIMIT 1000\"\n",
    "      }\n",
    "    ],\n",
    "}"
   ]
  },
  {
   "cell_type": "code",
   "execution_count": 4,
   "metadata": {},
   "outputs": [],
   "source": [
    "NEO4J_CONNECTION_URI=\"neo4j+s://demo.neo4jlabs.com:7687\"\n",
    "csv_filename = \"../data/use-cases.csv\""
   ]
  },
  {
   "cell_type": "code",
   "execution_count": 5,
   "metadata": {},
   "outputs": [
    {
     "name": "stdout",
     "output_type": "stream",
     "text": [
      "{'graph_type': 3, 'is_directed_int': 0, 'has_spatial_attributes': 0, 'has_temporal_attributes': 1, 'is_planar': 1, 'is_bipartite': 1, 'n_components': 114, 'avg_betweenness_centrality': 2.8341959255350203e-05, 'avg_closeness_centrality': 0.010367396422318965, 'avg_eigenvector_centrality': 0.008691461397179927, 'avg_degree': 1.6420361247947455, 'std_degree': 2.9272887680561324, 'clustering_coefficient': 0.0, 'transitivity': 0, 'modularity': 0.9711780000000003, 'communities': 115, 'avg_shortest_path_length': -1, 'radius': -1, 'diameter': -1, 'assortativity': -0.3250122093356985, 'vertex_connectivity': 0, 'eccentricity_avg': -1, 's_metric': -1, 'sigma': -1, 'n_nodes': 609, 'node_types': 2, 'node_attributes': 14.683087027914613, 'number_of_isolates': 0, 'density': 0.0027007173105176737, 'edge_types': 1, 'edge_attributes': 1.402, 'n_parallel_edges': 0, 'n_self_loops': 0}\n",
      "{'graph_type': 3, 'is_directed_int': 0, 'has_spatial_attributes': 0, 'has_temporal_attributes': 1, 'is_planar': 1, 'is_bipartite': 1, 'n_components': 3, 'avg_betweenness_centrality': 0.005741179486309567, 'avg_closeness_centrality': 0.306624489823494, 'avg_eigenvector_centrality': 0.06671346268318888, 'avg_degree': 1.941747572815534, 'std_degree': 7.607820077250295, 'clustering_coefficient': 0.0, 'transitivity': 0, 'modularity': 0.37834999999999996, 'communities': 4, 'avg_shortest_path_length': -1, 'radius': -1, 'diameter': -1, 'assortativity': -0.7446509879383778, 'vertex_connectivity': 0, 'eccentricity_avg': -1, 's_metric': -1, 'sigma': -1, 'n_nodes': 103, 'node_types': 2, 'node_attributes': 16.339805825242717, 'number_of_isolates': 0, 'density': 0.019036740909956214, 'edge_types': 1, 'edge_attributes': 3.0, 'n_parallel_edges': 0, 'n_self_loops': 0}\n",
      "{'graph_type': 3, 'is_directed_int': 0, 'has_spatial_attributes': 0, 'has_temporal_attributes': 1, 'is_planar': 0, 'is_bipartite': 1, 'n_components': 36, 'avg_betweenness_centrality': 0.005871845049189121, 'avg_closeness_centrality': 0.05797904982315292, 'avg_eigenvector_centrality': 0.006698799481932775, 'avg_degree': 2.0976042590949424, 'std_degree': 1.6184064294178806, 'clustering_coefficient': 0.0, 'transitivity': 0, 'modularity': 0.4512580844649433, 'communities': 37, 'avg_shortest_path_length': -1, 'radius': -1, 'diameter': -1, 'assortativity': -0.6518779471936305, 'vertex_connectivity': 0, 'eccentricity_avg': -1, 's_metric': -1, 'sigma': -1, 'n_nodes': 1127, 'node_types': 3, 'node_attributes': 10.491570541259982, 'number_of_isolates': 0, 'density': 0.0018628812247734835, 'edge_types': 2, 'edge_attributes': 1.8587140439932317, 'n_parallel_edges': 0, 'n_self_loops': 0}\n"
     ]
    },
    {
     "ename": "KeyboardInterrupt",
     "evalue": "",
     "output_type": "error",
     "traceback": [
      "\u001b[0;31m---------------------------------------------------------------------------\u001b[0m",
      "\u001b[0;31mKeyboardInterrupt\u001b[0m                         Traceback (most recent call last)",
      "Cell \u001b[0;32mIn[5], line 36\u001b[0m\n\u001b[1;32m     33\u001b[0m             G\u001b[38;5;241m.\u001b[39madd_edge(element\u001b[38;5;241m.\u001b[39mstart_node\u001b[38;5;241m.\u001b[39melement_id, element\u001b[38;5;241m.\u001b[39mend_node\u001b[38;5;241m.\u001b[39melement_id, \u001b[38;5;28mtype\u001b[39m\u001b[38;5;241m=\u001b[39medge_type, \u001b[38;5;241m*\u001b[39m\u001b[38;5;241m*\u001b[39medge_attributes)\n\u001b[1;32m     35\u001b[0m \u001b[38;5;66;03m# Calculate graph statistics and recommendations\u001b[39;00m\n\u001b[0;32m---> 36\u001b[0m graph_stats \u001b[38;5;241m=\u001b[39m \u001b[43mG\u001b[49m\u001b[38;5;241;43m.\u001b[39;49m\u001b[43mget_statistics\u001b[49m\u001b[43m(\u001b[49m\u001b[43m)\u001b[49m\n\u001b[1;32m     37\u001b[0m \u001b[38;5;28mprint\u001b[39m(graph_stats)\n\u001b[1;32m     39\u001b[0m \u001b[38;5;66;03m# Unpack recommendations and scores\u001b[39;00m\n",
      "File \u001b[0;32m~/Developer/Experiments/vigor-visualization-recommendation-for-graphs/vigor/graph.py:191\u001b[0m, in \u001b[0;36mGraph.get_statistics\u001b[0;34m(self)\u001b[0m\n\u001b[1;32m    189\u001b[0m \u001b[38;5;28;01mdef\u001b[39;00m \u001b[38;5;21mget_statistics\u001b[39m(\u001b[38;5;28mself\u001b[39m) \u001b[38;5;241m-\u001b[39m\u001b[38;5;241m>\u001b[39m Dict[\u001b[38;5;28mstr\u001b[39m, Any]:\n\u001b[1;32m    190\u001b[0m \u001b[38;5;250m    \u001b[39m\u001b[38;5;124;03m\"\"\"Convert the statistics to a dictionary format.\"\"\"\u001b[39;00m\n\u001b[0;32m--> 191\u001b[0m     \u001b[38;5;28;43mself\u001b[39;49m\u001b[38;5;241;43m.\u001b[39;49m\u001b[43mextract_statistics\u001b[49m\u001b[43m(\u001b[49m\u001b[43m)\u001b[49m\n\u001b[1;32m    192\u001b[0m     \u001b[38;5;28;01mreturn\u001b[39;00m {field_name: \u001b[38;5;28mgetattr\u001b[39m(\u001b[38;5;28mself\u001b[39m, field_name) \u001b[38;5;28;01mfor\u001b[39;00m field_name \u001b[38;5;129;01min\u001b[39;00m \u001b[38;5;28mself\u001b[39m\u001b[38;5;241m.\u001b[39m__dataclass_fields__}\n",
      "File \u001b[0;32m~/Developer/Experiments/vigor-visualization-recommendation-for-graphs/vigor/graph.py:130\u001b[0m, in \u001b[0;36mGraph.extract_statistics\u001b[0;34m(self)\u001b[0m\n\u001b[1;32m    128\u001b[0m \u001b[38;5;28mself\u001b[39m\u001b[38;5;241m.\u001b[39mvertex_connectivity \u001b[38;5;241m=\u001b[39m nx\u001b[38;5;241m.\u001b[39mnode_connectivity(\u001b[38;5;28mself\u001b[39m)\n\u001b[1;32m    129\u001b[0m \u001b[38;5;28mself\u001b[39m\u001b[38;5;241m.\u001b[39ms_metric \u001b[38;5;241m=\u001b[39m nx\u001b[38;5;241m.\u001b[39ms_metric(\u001b[38;5;28mself\u001b[39m) \u001b[38;5;28;01mif\u001b[39;00m nx\u001b[38;5;241m.\u001b[39mis_connected(\u001b[38;5;28mself\u001b[39m) \u001b[38;5;28;01melse\u001b[39;00m \u001b[38;5;241m-\u001b[39m\u001b[38;5;241m1\u001b[39m\n\u001b[0;32m--> 130\u001b[0m \u001b[38;5;28mself\u001b[39m\u001b[38;5;241m.\u001b[39msigma \u001b[38;5;241m=\u001b[39m \u001b[43mnx\u001b[49m\u001b[38;5;241;43m.\u001b[39;49m\u001b[43msigma\u001b[49m\u001b[43m(\u001b[49m\u001b[38;5;28;43mself\u001b[39;49m\u001b[43m)\u001b[49m \u001b[38;5;28;01mif\u001b[39;00m nx\u001b[38;5;241m.\u001b[39mis_connected(\u001b[38;5;28mself\u001b[39m) \u001b[38;5;28;01melse\u001b[39;00m \u001b[38;5;241m-\u001b[39m\u001b[38;5;241m1\u001b[39m\n\u001b[1;32m    131\u001b[0m \u001b[38;5;28mself\u001b[39m\u001b[38;5;241m.\u001b[39mis_planar \u001b[38;5;241m=\u001b[39m \u001b[38;5;241m1\u001b[39m \u001b[38;5;28;01mif\u001b[39;00m nx\u001b[38;5;241m.\u001b[39mis_planar(\u001b[38;5;28mself\u001b[39m) \u001b[38;5;28;01melse\u001b[39;00m \u001b[38;5;241m0\u001b[39m\n\u001b[1;32m    132\u001b[0m \u001b[38;5;28mself\u001b[39m\u001b[38;5;241m.\u001b[39mnumber_of_isolates \u001b[38;5;241m=\u001b[39m nx\u001b[38;5;241m.\u001b[39mnumber_of_isolates(\u001b[38;5;28mself\u001b[39m)\n",
      "File \u001b[0;32m~/Developer/Experiments/vigor-visualization-recommendation-for-graphs/.venv/lib/python3.9/site-packages/networkx/utils/decorators.py:770\u001b[0m, in \u001b[0;36margmap.__call__.<locals>.func\u001b[0;34m(_argmap__wrapper, *args, **kwargs)\u001b[0m\n\u001b[1;32m    769\u001b[0m \u001b[38;5;28;01mdef\u001b[39;00m \u001b[38;5;21mfunc\u001b[39m(\u001b[38;5;241m*\u001b[39margs, __wrapper\u001b[38;5;241m=\u001b[39m\u001b[38;5;28;01mNone\u001b[39;00m, \u001b[38;5;241m*\u001b[39m\u001b[38;5;241m*\u001b[39mkwargs):\n\u001b[0;32m--> 770\u001b[0m     \u001b[38;5;28;01mreturn\u001b[39;00m \u001b[43margmap\u001b[49m\u001b[38;5;241;43m.\u001b[39;49m\u001b[43m_lazy_compile\u001b[49m\u001b[43m(\u001b[49m\u001b[43m__wrapper\u001b[49m\u001b[43m)\u001b[49m\u001b[43m(\u001b[49m\u001b[38;5;241;43m*\u001b[39;49m\u001b[43margs\u001b[49m\u001b[43m,\u001b[49m\u001b[43m \u001b[49m\u001b[38;5;241;43m*\u001b[39;49m\u001b[38;5;241;43m*\u001b[39;49m\u001b[43mkwargs\u001b[49m\u001b[43m)\u001b[49m\n",
      "File \u001b[0;32m<class 'networkx.utils.decorators.argmap'> compilation 30:6\u001b[0m, in \u001b[0;36margmap_sigma_25\u001b[0;34m(G, niter, nrand, seed, backend, **backend_kwargs)\u001b[0m\n\u001b[1;32m      4\u001b[0m \u001b[38;5;28;01mimport\u001b[39;00m \u001b[38;5;21;01minspect\u001b[39;00m\n\u001b[1;32m      5\u001b[0m \u001b[38;5;28;01mimport\u001b[39;00m \u001b[38;5;21;01mitertools\u001b[39;00m\n\u001b[0;32m----> 6\u001b[0m \u001b[38;5;28;01mimport\u001b[39;00m \u001b[38;5;21;01mre\u001b[39;00m\n\u001b[1;32m      7\u001b[0m \u001b[38;5;28;01mimport\u001b[39;00m \u001b[38;5;21;01mwarnings\u001b[39;00m\n\u001b[1;32m      8\u001b[0m \u001b[38;5;28;01mfrom\u001b[39;00m \u001b[38;5;21;01mcollections\u001b[39;00m \u001b[38;5;28;01mimport\u001b[39;00m defaultdict\n",
      "File \u001b[0;32m~/Developer/Experiments/vigor-visualization-recommendation-for-graphs/.venv/lib/python3.9/site-packages/networkx/utils/backends.py:412\u001b[0m, in \u001b[0;36m_dispatch.__call__\u001b[0;34m(self, backend, *args, **kwargs)\u001b[0m\n\u001b[1;32m    409\u001b[0m \u001b[38;5;28;01mdef\u001b[39;00m \u001b[38;5;21m__call__\u001b[39m(\u001b[38;5;28mself\u001b[39m, \u001b[38;5;241m/\u001b[39m, \u001b[38;5;241m*\u001b[39margs, backend\u001b[38;5;241m=\u001b[39m\u001b[38;5;28;01mNone\u001b[39;00m, \u001b[38;5;241m*\u001b[39m\u001b[38;5;241m*\u001b[39mkwargs):\n\u001b[1;32m    410\u001b[0m     \u001b[38;5;28;01mif\u001b[39;00m \u001b[38;5;129;01mnot\u001b[39;00m backends:\n\u001b[1;32m    411\u001b[0m         \u001b[38;5;66;03m# Fast path if no backends are installed\u001b[39;00m\n\u001b[0;32m--> 412\u001b[0m         \u001b[38;5;28;01mreturn\u001b[39;00m \u001b[38;5;28;43mself\u001b[39;49m\u001b[38;5;241;43m.\u001b[39;49m\u001b[43morig_func\u001b[49m\u001b[43m(\u001b[49m\u001b[38;5;241;43m*\u001b[39;49m\u001b[43margs\u001b[49m\u001b[43m,\u001b[49m\u001b[43m \u001b[49m\u001b[38;5;241;43m*\u001b[39;49m\u001b[38;5;241;43m*\u001b[39;49m\u001b[43mkwargs\u001b[49m\u001b[43m)\u001b[49m\n\u001b[1;32m    414\u001b[0m     \u001b[38;5;66;03m# Use `backend_name` in this function instead of `backend`\u001b[39;00m\n\u001b[1;32m    415\u001b[0m     backend_name \u001b[38;5;241m=\u001b[39m backend\n",
      "File \u001b[0;32m~/Developer/Experiments/vigor-visualization-recommendation-for-graphs/.venv/lib/python3.9/site-packages/networkx/algorithms/smallworld.py:300\u001b[0m, in \u001b[0;36msigma\u001b[0;34m(G, niter, nrand, seed)\u001b[0m\n\u001b[1;32m    298\u001b[0m randMetrics \u001b[38;5;241m=\u001b[39m {\u001b[38;5;124m\"\u001b[39m\u001b[38;5;124mC\u001b[39m\u001b[38;5;124m\"\u001b[39m: [], \u001b[38;5;124m\"\u001b[39m\u001b[38;5;124mL\u001b[39m\u001b[38;5;124m\"\u001b[39m: []}\n\u001b[1;32m    299\u001b[0m \u001b[38;5;28;01mfor\u001b[39;00m i \u001b[38;5;129;01min\u001b[39;00m \u001b[38;5;28mrange\u001b[39m(nrand):\n\u001b[0;32m--> 300\u001b[0m     Gr \u001b[38;5;241m=\u001b[39m \u001b[43mrandom_reference\u001b[49m\u001b[43m(\u001b[49m\u001b[43mG\u001b[49m\u001b[43m,\u001b[49m\u001b[43m \u001b[49m\u001b[43mniter\u001b[49m\u001b[38;5;241;43m=\u001b[39;49m\u001b[43mniter\u001b[49m\u001b[43m,\u001b[49m\u001b[43m \u001b[49m\u001b[43mseed\u001b[49m\u001b[38;5;241;43m=\u001b[39;49m\u001b[43mseed\u001b[49m\u001b[43m)\u001b[49m\n\u001b[1;32m    301\u001b[0m     randMetrics[\u001b[38;5;124m\"\u001b[39m\u001b[38;5;124mC\u001b[39m\u001b[38;5;124m\"\u001b[39m]\u001b[38;5;241m.\u001b[39mappend(nx\u001b[38;5;241m.\u001b[39mtransitivity(Gr))\n\u001b[1;32m    302\u001b[0m     randMetrics[\u001b[38;5;124m\"\u001b[39m\u001b[38;5;124mL\u001b[39m\u001b[38;5;124m\"\u001b[39m]\u001b[38;5;241m.\u001b[39mappend(nx\u001b[38;5;241m.\u001b[39maverage_shortest_path_length(Gr))\n",
      "File \u001b[0;32m~/Developer/Experiments/vigor-visualization-recommendation-for-graphs/.venv/lib/python3.9/site-packages/networkx/utils/decorators.py:770\u001b[0m, in \u001b[0;36margmap.__call__.<locals>.func\u001b[0;34m(_argmap__wrapper, *args, **kwargs)\u001b[0m\n\u001b[1;32m    769\u001b[0m \u001b[38;5;28;01mdef\u001b[39;00m \u001b[38;5;21mfunc\u001b[39m(\u001b[38;5;241m*\u001b[39margs, __wrapper\u001b[38;5;241m=\u001b[39m\u001b[38;5;28;01mNone\u001b[39;00m, \u001b[38;5;241m*\u001b[39m\u001b[38;5;241m*\u001b[39mkwargs):\n\u001b[0;32m--> 770\u001b[0m     \u001b[38;5;28;01mreturn\u001b[39;00m \u001b[43margmap\u001b[49m\u001b[38;5;241;43m.\u001b[39;49m\u001b[43m_lazy_compile\u001b[49m\u001b[43m(\u001b[49m\u001b[43m__wrapper\u001b[49m\u001b[43m)\u001b[49m\u001b[43m(\u001b[49m\u001b[38;5;241;43m*\u001b[39;49m\u001b[43margs\u001b[49m\u001b[43m,\u001b[49m\u001b[43m \u001b[49m\u001b[38;5;241;43m*\u001b[39;49m\u001b[38;5;241;43m*\u001b[39;49m\u001b[43mkwargs\u001b[49m\u001b[43m)\u001b[49m\n",
      "File \u001b[0;32m<class 'networkx.utils.decorators.argmap'> compilation 36:6\u001b[0m, in \u001b[0;36margmap_random_reference_31\u001b[0;34m(G, niter, connectivity, seed, backend, **backend_kwargs)\u001b[0m\n\u001b[1;32m      4\u001b[0m \u001b[38;5;28;01mimport\u001b[39;00m \u001b[38;5;21;01minspect\u001b[39;00m\n\u001b[1;32m      5\u001b[0m \u001b[38;5;28;01mimport\u001b[39;00m \u001b[38;5;21;01mitertools\u001b[39;00m\n\u001b[0;32m----> 6\u001b[0m \u001b[38;5;28;01mimport\u001b[39;00m \u001b[38;5;21;01mre\u001b[39;00m\n\u001b[1;32m      7\u001b[0m \u001b[38;5;28;01mimport\u001b[39;00m \u001b[38;5;21;01mwarnings\u001b[39;00m\n\u001b[1;32m      8\u001b[0m \u001b[38;5;28;01mfrom\u001b[39;00m \u001b[38;5;21;01mcollections\u001b[39;00m \u001b[38;5;28;01mimport\u001b[39;00m defaultdict\n",
      "File \u001b[0;32m~/Developer/Experiments/vigor-visualization-recommendation-for-graphs/.venv/lib/python3.9/site-packages/networkx/utils/backends.py:412\u001b[0m, in \u001b[0;36m_dispatch.__call__\u001b[0;34m(self, backend, *args, **kwargs)\u001b[0m\n\u001b[1;32m    409\u001b[0m \u001b[38;5;28;01mdef\u001b[39;00m \u001b[38;5;21m__call__\u001b[39m(\u001b[38;5;28mself\u001b[39m, \u001b[38;5;241m/\u001b[39m, \u001b[38;5;241m*\u001b[39margs, backend\u001b[38;5;241m=\u001b[39m\u001b[38;5;28;01mNone\u001b[39;00m, \u001b[38;5;241m*\u001b[39m\u001b[38;5;241m*\u001b[39mkwargs):\n\u001b[1;32m    410\u001b[0m     \u001b[38;5;28;01mif\u001b[39;00m \u001b[38;5;129;01mnot\u001b[39;00m backends:\n\u001b[1;32m    411\u001b[0m         \u001b[38;5;66;03m# Fast path if no backends are installed\u001b[39;00m\n\u001b[0;32m--> 412\u001b[0m         \u001b[38;5;28;01mreturn\u001b[39;00m \u001b[38;5;28;43mself\u001b[39;49m\u001b[38;5;241;43m.\u001b[39;49m\u001b[43morig_func\u001b[49m\u001b[43m(\u001b[49m\u001b[38;5;241;43m*\u001b[39;49m\u001b[43margs\u001b[49m\u001b[43m,\u001b[49m\u001b[43m \u001b[49m\u001b[38;5;241;43m*\u001b[39;49m\u001b[38;5;241;43m*\u001b[39;49m\u001b[43mkwargs\u001b[49m\u001b[43m)\u001b[49m\n\u001b[1;32m    414\u001b[0m     \u001b[38;5;66;03m# Use `backend_name` in this function instead of `backend`\u001b[39;00m\n\u001b[1;32m    415\u001b[0m     backend_name \u001b[38;5;241m=\u001b[39m backend\n",
      "File \u001b[0;32m~/Developer/Experiments/vigor-visualization-recommendation-for-graphs/.venv/lib/python3.9/site-packages/networkx/algorithms/smallworld.py:108\u001b[0m, in \u001b[0;36mrandom_reference\u001b[0;34m(G, niter, connectivity, seed)\u001b[0m\n\u001b[1;32m    105\u001b[0m G\u001b[38;5;241m.\u001b[39mremove_edge(c, d)\n\u001b[1;32m    107\u001b[0m \u001b[38;5;66;03m# Check if the graph is still connected\u001b[39;00m\n\u001b[0;32m--> 108\u001b[0m \u001b[38;5;28;01mif\u001b[39;00m connectivity \u001b[38;5;129;01mand\u001b[39;00m \u001b[43mlocal_conn\u001b[49m\u001b[43m(\u001b[49m\u001b[43mG\u001b[49m\u001b[43m,\u001b[49m\u001b[43m \u001b[49m\u001b[43ma\u001b[49m\u001b[43m,\u001b[49m\u001b[43m \u001b[49m\u001b[43mb\u001b[49m\u001b[43m)\u001b[49m \u001b[38;5;241m==\u001b[39m \u001b[38;5;241m0\u001b[39m:\n\u001b[1;32m    109\u001b[0m     \u001b[38;5;66;03m# Not connected, revert the swap\u001b[39;00m\n\u001b[1;32m    110\u001b[0m     G\u001b[38;5;241m.\u001b[39mremove_edge(a, d)\n\u001b[1;32m    111\u001b[0m     G\u001b[38;5;241m.\u001b[39mremove_edge(c, b)\n",
      "File \u001b[0;32m~/Developer/Experiments/vigor-visualization-recommendation-for-graphs/.venv/lib/python3.9/site-packages/networkx/utils/backends.py:412\u001b[0m, in \u001b[0;36m_dispatch.__call__\u001b[0;34m(self, backend, *args, **kwargs)\u001b[0m\n\u001b[1;32m    409\u001b[0m \u001b[38;5;28;01mdef\u001b[39;00m \u001b[38;5;21m__call__\u001b[39m(\u001b[38;5;28mself\u001b[39m, \u001b[38;5;241m/\u001b[39m, \u001b[38;5;241m*\u001b[39margs, backend\u001b[38;5;241m=\u001b[39m\u001b[38;5;28;01mNone\u001b[39;00m, \u001b[38;5;241m*\u001b[39m\u001b[38;5;241m*\u001b[39mkwargs):\n\u001b[1;32m    410\u001b[0m     \u001b[38;5;28;01mif\u001b[39;00m \u001b[38;5;129;01mnot\u001b[39;00m backends:\n\u001b[1;32m    411\u001b[0m         \u001b[38;5;66;03m# Fast path if no backends are installed\u001b[39;00m\n\u001b[0;32m--> 412\u001b[0m         \u001b[38;5;28;01mreturn\u001b[39;00m \u001b[38;5;28;43mself\u001b[39;49m\u001b[38;5;241;43m.\u001b[39;49m\u001b[43morig_func\u001b[49m\u001b[43m(\u001b[49m\u001b[38;5;241;43m*\u001b[39;49m\u001b[43margs\u001b[49m\u001b[43m,\u001b[49m\u001b[43m \u001b[49m\u001b[38;5;241;43m*\u001b[39;49m\u001b[38;5;241;43m*\u001b[39;49m\u001b[43mkwargs\u001b[49m\u001b[43m)\u001b[49m\n\u001b[1;32m    414\u001b[0m     \u001b[38;5;66;03m# Use `backend_name` in this function instead of `backend`\u001b[39;00m\n\u001b[1;32m    415\u001b[0m     backend_name \u001b[38;5;241m=\u001b[39m backend\n",
      "File \u001b[0;32m~/Developer/Experiments/vigor-visualization-recommendation-for-graphs/.venv/lib/python3.9/site-packages/networkx/algorithms/connectivity/connectivity.py:658\u001b[0m, in \u001b[0;36mlocal_edge_connectivity\u001b[0;34m(G, s, t, flow_func, auxiliary, residual, cutoff)\u001b[0m\n\u001b[1;32m    655\u001b[0m \u001b[38;5;28;01melif\u001b[39;00m flow_func \u001b[38;5;129;01mis\u001b[39;00m boykov_kolmogorov:\n\u001b[1;32m    656\u001b[0m     kwargs[\u001b[38;5;124m\"\u001b[39m\u001b[38;5;124mcutoff\u001b[39m\u001b[38;5;124m\"\u001b[39m] \u001b[38;5;241m=\u001b[39m cutoff\n\u001b[0;32m--> 658\u001b[0m \u001b[38;5;28;01mreturn\u001b[39;00m \u001b[43mnx\u001b[49m\u001b[38;5;241;43m.\u001b[39;49m\u001b[43mmaximum_flow_value\u001b[49m\u001b[43m(\u001b[49m\u001b[43mH\u001b[49m\u001b[43m,\u001b[49m\u001b[43m \u001b[49m\u001b[43ms\u001b[49m\u001b[43m,\u001b[49m\u001b[43m \u001b[49m\u001b[43mt\u001b[49m\u001b[43m,\u001b[49m\u001b[43m \u001b[49m\u001b[38;5;241;43m*\u001b[39;49m\u001b[38;5;241;43m*\u001b[39;49m\u001b[43mkwargs\u001b[49m\u001b[43m)\u001b[49m\n",
      "File \u001b[0;32m~/Developer/Experiments/vigor-visualization-recommendation-for-graphs/.venv/lib/python3.9/site-packages/networkx/utils/backends.py:412\u001b[0m, in \u001b[0;36m_dispatch.__call__\u001b[0;34m(self, backend, *args, **kwargs)\u001b[0m\n\u001b[1;32m    409\u001b[0m \u001b[38;5;28;01mdef\u001b[39;00m \u001b[38;5;21m__call__\u001b[39m(\u001b[38;5;28mself\u001b[39m, \u001b[38;5;241m/\u001b[39m, \u001b[38;5;241m*\u001b[39margs, backend\u001b[38;5;241m=\u001b[39m\u001b[38;5;28;01mNone\u001b[39;00m, \u001b[38;5;241m*\u001b[39m\u001b[38;5;241m*\u001b[39mkwargs):\n\u001b[1;32m    410\u001b[0m     \u001b[38;5;28;01mif\u001b[39;00m \u001b[38;5;129;01mnot\u001b[39;00m backends:\n\u001b[1;32m    411\u001b[0m         \u001b[38;5;66;03m# Fast path if no backends are installed\u001b[39;00m\n\u001b[0;32m--> 412\u001b[0m         \u001b[38;5;28;01mreturn\u001b[39;00m \u001b[38;5;28;43mself\u001b[39;49m\u001b[38;5;241;43m.\u001b[39;49m\u001b[43morig_func\u001b[49m\u001b[43m(\u001b[49m\u001b[38;5;241;43m*\u001b[39;49m\u001b[43margs\u001b[49m\u001b[43m,\u001b[49m\u001b[43m \u001b[49m\u001b[38;5;241;43m*\u001b[39;49m\u001b[38;5;241;43m*\u001b[39;49m\u001b[43mkwargs\u001b[49m\u001b[43m)\u001b[49m\n\u001b[1;32m    414\u001b[0m     \u001b[38;5;66;03m# Use `backend_name` in this function instead of `backend`\u001b[39;00m\n\u001b[1;32m    415\u001b[0m     backend_name \u001b[38;5;241m=\u001b[39m backend\n",
      "File \u001b[0;32m~/Developer/Experiments/vigor-visualization-recommendation-for-graphs/.venv/lib/python3.9/site-packages/networkx/algorithms/flow/maxflow.py:301\u001b[0m, in \u001b[0;36mmaximum_flow_value\u001b[0;34m(flowG, _s, _t, capacity, flow_func, **kwargs)\u001b[0m\n\u001b[1;32m    298\u001b[0m \u001b[38;5;28;01mif\u001b[39;00m \u001b[38;5;129;01mnot\u001b[39;00m \u001b[38;5;28mcallable\u001b[39m(flow_func):\n\u001b[1;32m    299\u001b[0m     \u001b[38;5;28;01mraise\u001b[39;00m nx\u001b[38;5;241m.\u001b[39mNetworkXError(\u001b[38;5;124m\"\u001b[39m\u001b[38;5;124mflow_func has to be callable.\u001b[39m\u001b[38;5;124m\"\u001b[39m)\n\u001b[0;32m--> 301\u001b[0m R \u001b[38;5;241m=\u001b[39m \u001b[43mflow_func\u001b[49m\u001b[43m(\u001b[49m\u001b[43mflowG\u001b[49m\u001b[43m,\u001b[49m\u001b[43m \u001b[49m\u001b[43m_s\u001b[49m\u001b[43m,\u001b[49m\u001b[43m \u001b[49m\u001b[43m_t\u001b[49m\u001b[43m,\u001b[49m\u001b[43m \u001b[49m\u001b[43mcapacity\u001b[49m\u001b[38;5;241;43m=\u001b[39;49m\u001b[43mcapacity\u001b[49m\u001b[43m,\u001b[49m\u001b[43m \u001b[49m\u001b[43mvalue_only\u001b[49m\u001b[38;5;241;43m=\u001b[39;49m\u001b[38;5;28;43;01mTrue\u001b[39;49;00m\u001b[43m,\u001b[49m\u001b[43m \u001b[49m\u001b[38;5;241;43m*\u001b[39;49m\u001b[38;5;241;43m*\u001b[39;49m\u001b[43mkwargs\u001b[49m\u001b[43m)\u001b[49m\n\u001b[1;32m    303\u001b[0m \u001b[38;5;28;01mreturn\u001b[39;00m R\u001b[38;5;241m.\u001b[39mgraph[\u001b[38;5;124m\"\u001b[39m\u001b[38;5;124mflow_value\u001b[39m\u001b[38;5;124m\"\u001b[39m]\n",
      "File \u001b[0;32m~/Developer/Experiments/vigor-visualization-recommendation-for-graphs/.venv/lib/python3.9/site-packages/networkx/utils/backends.py:412\u001b[0m, in \u001b[0;36m_dispatch.__call__\u001b[0;34m(self, backend, *args, **kwargs)\u001b[0m\n\u001b[1;32m    409\u001b[0m \u001b[38;5;28;01mdef\u001b[39;00m \u001b[38;5;21m__call__\u001b[39m(\u001b[38;5;28mself\u001b[39m, \u001b[38;5;241m/\u001b[39m, \u001b[38;5;241m*\u001b[39margs, backend\u001b[38;5;241m=\u001b[39m\u001b[38;5;28;01mNone\u001b[39;00m, \u001b[38;5;241m*\u001b[39m\u001b[38;5;241m*\u001b[39mkwargs):\n\u001b[1;32m    410\u001b[0m     \u001b[38;5;28;01mif\u001b[39;00m \u001b[38;5;129;01mnot\u001b[39;00m backends:\n\u001b[1;32m    411\u001b[0m         \u001b[38;5;66;03m# Fast path if no backends are installed\u001b[39;00m\n\u001b[0;32m--> 412\u001b[0m         \u001b[38;5;28;01mreturn\u001b[39;00m \u001b[38;5;28;43mself\u001b[39;49m\u001b[38;5;241;43m.\u001b[39;49m\u001b[43morig_func\u001b[49m\u001b[43m(\u001b[49m\u001b[38;5;241;43m*\u001b[39;49m\u001b[43margs\u001b[49m\u001b[43m,\u001b[49m\u001b[43m \u001b[49m\u001b[38;5;241;43m*\u001b[39;49m\u001b[38;5;241;43m*\u001b[39;49m\u001b[43mkwargs\u001b[49m\u001b[43m)\u001b[49m\n\u001b[1;32m    414\u001b[0m     \u001b[38;5;66;03m# Use `backend_name` in this function instead of `backend`\u001b[39;00m\n\u001b[1;32m    415\u001b[0m     backend_name \u001b[38;5;241m=\u001b[39m backend\n",
      "File \u001b[0;32m~/Developer/Experiments/vigor-visualization-recommendation-for-graphs/.venv/lib/python3.9/site-packages/networkx/algorithms/flow/edmondskarp.py:248\u001b[0m, in \u001b[0;36medmonds_karp\u001b[0;34m(G, s, t, capacity, residual, value_only, cutoff)\u001b[0m\n\u001b[1;32m    125\u001b[0m \u001b[38;5;129m@nx\u001b[39m\u001b[38;5;241m.\u001b[39m_dispatch(\n\u001b[1;32m    126\u001b[0m     graphs\u001b[38;5;241m=\u001b[39m{\u001b[38;5;124m\"\u001b[39m\u001b[38;5;124mG\u001b[39m\u001b[38;5;124m\"\u001b[39m: \u001b[38;5;241m0\u001b[39m, \u001b[38;5;124m\"\u001b[39m\u001b[38;5;124mresidual?\u001b[39m\u001b[38;5;124m\"\u001b[39m: \u001b[38;5;241m4\u001b[39m},\n\u001b[1;32m    127\u001b[0m     edge_attrs\u001b[38;5;241m=\u001b[39m{\u001b[38;5;124m\"\u001b[39m\u001b[38;5;124mcapacity\u001b[39m\u001b[38;5;124m\"\u001b[39m: \u001b[38;5;28mfloat\u001b[39m(\u001b[38;5;124m\"\u001b[39m\u001b[38;5;124minf\u001b[39m\u001b[38;5;124m\"\u001b[39m)},\n\u001b[0;32m   (...)\u001b[0m\n\u001b[1;32m    132\u001b[0m     G, s, t, capacity\u001b[38;5;241m=\u001b[39m\u001b[38;5;124m\"\u001b[39m\u001b[38;5;124mcapacity\u001b[39m\u001b[38;5;124m\"\u001b[39m, residual\u001b[38;5;241m=\u001b[39m\u001b[38;5;28;01mNone\u001b[39;00m, value_only\u001b[38;5;241m=\u001b[39m\u001b[38;5;28;01mFalse\u001b[39;00m, cutoff\u001b[38;5;241m=\u001b[39m\u001b[38;5;28;01mNone\u001b[39;00m\n\u001b[1;32m    133\u001b[0m ):\n\u001b[1;32m    134\u001b[0m \u001b[38;5;250m    \u001b[39m\u001b[38;5;124;03m\"\"\"Find a maximum single-commodity flow using the Edmonds-Karp algorithm.\u001b[39;00m\n\u001b[1;32m    135\u001b[0m \n\u001b[1;32m    136\u001b[0m \u001b[38;5;124;03m    This function returns the residual network resulting after computing\u001b[39;00m\n\u001b[0;32m   (...)\u001b[0m\n\u001b[1;32m    246\u001b[0m \n\u001b[1;32m    247\u001b[0m \u001b[38;5;124;03m    \"\"\"\u001b[39;00m\n\u001b[0;32m--> 248\u001b[0m     R \u001b[38;5;241m=\u001b[39m \u001b[43medmonds_karp_impl\u001b[49m\u001b[43m(\u001b[49m\u001b[43mG\u001b[49m\u001b[43m,\u001b[49m\u001b[43m \u001b[49m\u001b[43ms\u001b[49m\u001b[43m,\u001b[49m\u001b[43m \u001b[49m\u001b[43mt\u001b[49m\u001b[43m,\u001b[49m\u001b[43m \u001b[49m\u001b[43mcapacity\u001b[49m\u001b[43m,\u001b[49m\u001b[43m \u001b[49m\u001b[43mresidual\u001b[49m\u001b[43m,\u001b[49m\u001b[43m \u001b[49m\u001b[43mcutoff\u001b[49m\u001b[43m)\u001b[49m\n\u001b[1;32m    249\u001b[0m     R\u001b[38;5;241m.\u001b[39mgraph[\u001b[38;5;124m\"\u001b[39m\u001b[38;5;124malgorithm\u001b[39m\u001b[38;5;124m\"\u001b[39m] \u001b[38;5;241m=\u001b[39m \u001b[38;5;124m\"\u001b[39m\u001b[38;5;124medmonds_karp\u001b[39m\u001b[38;5;124m\"\u001b[39m\n\u001b[1;32m    250\u001b[0m     \u001b[38;5;28;01mreturn\u001b[39;00m R\n",
      "File \u001b[0;32m~/Developer/Experiments/vigor-visualization-recommendation-for-graphs/.venv/lib/python3.9/site-packages/networkx/algorithms/flow/edmondskarp.py:109\u001b[0m, in \u001b[0;36medmonds_karp_impl\u001b[0;34m(G, s, t, capacity, residual, cutoff)\u001b[0m\n\u001b[1;32m    106\u001b[0m     \u001b[38;5;28;01mraise\u001b[39;00m nx\u001b[38;5;241m.\u001b[39mNetworkXError(\u001b[38;5;124m\"\u001b[39m\u001b[38;5;124msource and sink are the same node\u001b[39m\u001b[38;5;124m\"\u001b[39m)\n\u001b[1;32m    108\u001b[0m \u001b[38;5;28;01mif\u001b[39;00m residual \u001b[38;5;129;01mis\u001b[39;00m \u001b[38;5;28;01mNone\u001b[39;00m:\n\u001b[0;32m--> 109\u001b[0m     R \u001b[38;5;241m=\u001b[39m \u001b[43mbuild_residual_network\u001b[49m\u001b[43m(\u001b[49m\u001b[43mG\u001b[49m\u001b[43m,\u001b[49m\u001b[43m \u001b[49m\u001b[43mcapacity\u001b[49m\u001b[43m)\u001b[49m\n\u001b[1;32m    110\u001b[0m \u001b[38;5;28;01melse\u001b[39;00m:\n\u001b[1;32m    111\u001b[0m     R \u001b[38;5;241m=\u001b[39m residual\n",
      "File \u001b[0;32m~/Developer/Experiments/vigor-visualization-recommendation-for-graphs/.venv/lib/python3.9/site-packages/networkx/utils/backends.py:412\u001b[0m, in \u001b[0;36m_dispatch.__call__\u001b[0;34m(self, backend, *args, **kwargs)\u001b[0m\n\u001b[1;32m    409\u001b[0m \u001b[38;5;28;01mdef\u001b[39;00m \u001b[38;5;21m__call__\u001b[39m(\u001b[38;5;28mself\u001b[39m, \u001b[38;5;241m/\u001b[39m, \u001b[38;5;241m*\u001b[39margs, backend\u001b[38;5;241m=\u001b[39m\u001b[38;5;28;01mNone\u001b[39;00m, \u001b[38;5;241m*\u001b[39m\u001b[38;5;241m*\u001b[39mkwargs):\n\u001b[1;32m    410\u001b[0m     \u001b[38;5;28;01mif\u001b[39;00m \u001b[38;5;129;01mnot\u001b[39;00m backends:\n\u001b[1;32m    411\u001b[0m         \u001b[38;5;66;03m# Fast path if no backends are installed\u001b[39;00m\n\u001b[0;32m--> 412\u001b[0m         \u001b[38;5;28;01mreturn\u001b[39;00m \u001b[38;5;28;43mself\u001b[39;49m\u001b[38;5;241;43m.\u001b[39;49m\u001b[43morig_func\u001b[49m\u001b[43m(\u001b[49m\u001b[38;5;241;43m*\u001b[39;49m\u001b[43margs\u001b[49m\u001b[43m,\u001b[49m\u001b[43m \u001b[49m\u001b[38;5;241;43m*\u001b[39;49m\u001b[38;5;241;43m*\u001b[39;49m\u001b[43mkwargs\u001b[49m\u001b[43m)\u001b[49m\n\u001b[1;32m    414\u001b[0m     \u001b[38;5;66;03m# Use `backend_name` in this function instead of `backend`\u001b[39;00m\n\u001b[1;32m    415\u001b[0m     backend_name \u001b[38;5;241m=\u001b[39m backend\n",
      "File \u001b[0;32m~/Developer/Experiments/vigor-visualization-recommendation-for-graphs/.venv/lib/python3.9/site-packages/networkx/algorithms/flow/utils.py:105\u001b[0m, in \u001b[0;36mbuild_residual_network\u001b[0;34m(G, capacity)\u001b[0m\n\u001b[1;32m    102\u001b[0m     \u001b[38;5;28;01mraise\u001b[39;00m nx\u001b[38;5;241m.\u001b[39mNetworkXError(\u001b[38;5;124m\"\u001b[39m\u001b[38;5;124mMultiGraph and MultiDiGraph not supported (yet).\u001b[39m\u001b[38;5;124m\"\u001b[39m)\n\u001b[1;32m    104\u001b[0m R \u001b[38;5;241m=\u001b[39m nx\u001b[38;5;241m.\u001b[39mDiGraph()\n\u001b[0;32m--> 105\u001b[0m \u001b[43mR\u001b[49m\u001b[38;5;241;43m.\u001b[39;49m\u001b[43madd_nodes_from\u001b[49m\u001b[43m(\u001b[49m\u001b[43mG\u001b[49m\u001b[43m)\u001b[49m\n\u001b[1;32m    107\u001b[0m inf \u001b[38;5;241m=\u001b[39m \u001b[38;5;28mfloat\u001b[39m(\u001b[38;5;124m\"\u001b[39m\u001b[38;5;124minf\u001b[39m\u001b[38;5;124m\"\u001b[39m)\n\u001b[1;32m    108\u001b[0m \u001b[38;5;66;03m# Extract edges with positive capacities. Self loops excluded.\u001b[39;00m\n",
      "File \u001b[0;32m~/Developer/Experiments/vigor-visualization-recommendation-for-graphs/.venv/lib/python3.9/site-packages/networkx/classes/digraph.py:544\u001b[0m, in \u001b[0;36mDiGraph.add_nodes_from\u001b[0;34m(self, nodes_for_adding, **attr)\u001b[0m\n\u001b[1;32m    542\u001b[0m     \u001b[38;5;28mself\u001b[39m\u001b[38;5;241m.\u001b[39m_succ[n] \u001b[38;5;241m=\u001b[39m \u001b[38;5;28mself\u001b[39m\u001b[38;5;241m.\u001b[39madjlist_inner_dict_factory()\n\u001b[1;32m    543\u001b[0m     \u001b[38;5;28mself\u001b[39m\u001b[38;5;241m.\u001b[39m_pred[n] \u001b[38;5;241m=\u001b[39m \u001b[38;5;28mself\u001b[39m\u001b[38;5;241m.\u001b[39madjlist_inner_dict_factory()\n\u001b[0;32m--> 544\u001b[0m     \u001b[38;5;28mself\u001b[39m\u001b[38;5;241m.\u001b[39m_node[n] \u001b[38;5;241m=\u001b[39m \u001b[38;5;28;43mself\u001b[39;49m\u001b[38;5;241;43m.\u001b[39;49m\u001b[43mnode_attr_dict_factory\u001b[49m\u001b[43m(\u001b[49m\u001b[43m)\u001b[49m\n\u001b[1;32m    545\u001b[0m \u001b[38;5;28mself\u001b[39m\u001b[38;5;241m.\u001b[39m_node[n]\u001b[38;5;241m.\u001b[39mupdate(newdict)\n",
      "\u001b[0;31mKeyboardInterrupt\u001b[0m: "
     ]
    }
   ],
   "source": [
    "header_written = False\n",
    "\n",
    "with open(csv_filename, mode='a', newline='') as file:\n",
    "    writer = csv.writer(file)\n",
    "\n",
    "    for database in queries:\n",
    "        with GraphDatabase.driver(NEO4J_CONNECTION_URI, auth=(database, database)) as driver:\n",
    "            for query in queries[database]:\n",
    "                G = Graph()\n",
    "\n",
    "                # Execute the query and retrieve records\n",
    "                records, summary, keys = driver.execute_query(query['query'], database_=database)\n",
    "\n",
    "                for record in records:\n",
    "                    for element in record:\n",
    "                        if isinstance(element, Node):\n",
    "                            labels = list(element.labels) if isinstance(element.labels, frozenset) else element.labels\n",
    "                            node_attributes = {\n",
    "                                key: (val[:10] if isinstance(val, str) and len(val) > 10 else val)\n",
    "                                for key, val in element.items()\n",
    "                                if \"embedding\" not in key.lower()\n",
    "                            }\n",
    "                            node_id = element.element_id\n",
    "                            G.add_node(node_id, label=labels, **node_attributes)\n",
    "\n",
    "                        elif isinstance(element, Relationship):\n",
    "                            edge_attributes = {\n",
    "                                key: (val[:10] if isinstance(val, str) and len(val) > 10 else val)\n",
    "                                for key, val in element.items()\n",
    "                                if \"embedding\" not in key.lower()\n",
    "                            }\n",
    "                            edge_type = element.type\n",
    "                            G.add_edge(element.start_node.element_id, element.end_node.element_id, type=edge_type, **edge_attributes)\n",
    "\n",
    "                # Calculate graph statistics and recommendations\n",
    "                graph_stats = G.get_statistics()\n",
    "                print(graph_stats)\n",
    "\n",
    "                # Unpack recommendations and scores\n",
    "                recommendations_with_scores = vigor.recommend(graph_stats, 8)\n",
    "                recommendations = [rec[0].value for rec in recommendations_with_scores]\n",
    "                scores = [rec[1] for rec in recommendations_with_scores]\n",
    "\n",
    "                # Add recommendations and scores to graph stats\n",
    "                graph_stats.update({\n",
    "                    'database_name': database,\n",
    "                    'task': query['task'],\n",
    "                    'query': query['query'],\n",
    "                    'question': query['question'],\n",
    "                    \"rec_1\": recommendations[0],\n",
    "                    \"rec_2\": recommendations[1],\n",
    "                    \"rec_last\": recommendations[-1],\n",
    "                    \"rec_second_to_last\": recommendations[-2],\n",
    "                    \"score_1\": scores[0],\n",
    "                    \"score_2\": scores[1],\n",
    "                    \"score_last\": scores[-1],\n",
    "                    \"score_second_to_last\": scores[-2]\n",
    "                })\n",
    "\n",
    "                # Write header if it hasn't been written\n",
    "                if not header_written:\n",
    "                    writer.writerow(graph_stats.keys())\n",
    "                    header_written = True\n",
    "\n",
    "                writer.writerow(graph_stats.values())"
   ]
  },
  {
   "cell_type": "code",
   "execution_count": null,
   "metadata": {},
   "outputs": [],
   "source": []
  },
  {
   "cell_type": "code",
   "execution_count": null,
   "metadata": {},
   "outputs": [],
   "source": []
  }
 ],
 "metadata": {
  "kernelspec": {
   "display_name": ".venv",
   "language": "python",
   "name": "python3"
  },
  "language_info": {
   "codemirror_mode": {
    "name": "ipython",
    "version": 3
   },
   "file_extension": ".py",
   "mimetype": "text/x-python",
   "name": "python",
   "nbconvert_exporter": "python",
   "pygments_lexer": "ipython3",
   "version": "3.9.6"
  }
 },
 "nbformat": 4,
 "nbformat_minor": 2
}
