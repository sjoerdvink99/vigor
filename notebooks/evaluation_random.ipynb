{
 "cells": [
  {
   "cell_type": "code",
   "execution_count": 1,
   "id": "13d9bbfe",
   "metadata": {},
   "outputs": [
    {
     "name": "stderr",
     "output_type": "stream",
     "text": [
      "C:\\Users\\brian\\anaconda3\\envs\\vigor\\Lib\\site-packages\\pandas\\core\\arrays\\masked.py:60: UserWarning: Pandas requires version '1.3.6' or newer of 'bottleneck' (version '1.3.5' currently installed).\n",
      "  from pandas.core import (\n"
     ]
    }
   ],
   "source": [
    "import pandas as pd\n",
    "import numpy as np\n",
    "import matplotlib.pyplot as plt\n",
    "from vigor import Predicate, learn_predicates, accuracy_metrics"
   ]
  },
  {
   "cell_type": "code",
   "execution_count": 2,
   "id": "865d16db",
   "metadata": {},
   "outputs": [],
   "source": [
    "file_path = '../data/random_graphs.csv'\n",
    "all_graphs = pd.read_csv(f'{file_path}')"
   ]
  },
  {
   "cell_type": "code",
   "execution_count": 3,
   "id": "45f546ef",
   "metadata": {},
   "outputs": [
    {
     "data": {
      "text/plain": [
       "<Axes: >"
      ]
     },
     "execution_count": 3,
     "metadata": {},
     "output_type": "execute_result"
    },
    {
     "data": {
      "image/png": "[encoded data removed]",
      "text/plain": [
       "<Figure size 640x480 with 1 Axes>"
      ]
     },
     "metadata": {},
     "output_type": "display_data"
    }
   ],
   "source": [
    "all_graphs['assortivity'].hist(bins=100)"
   ]
  },
  {
   "cell_type": "code",
   "execution_count": 4,
   "id": "cecaf9f5",
   "metadata": {},
   "outputs": [],
   "source": [
    "p_success = Predicate(clauses={'assortivity': [-0.680329, 0.319671]})\n",
    "p_success.fit(all_graphs)\n",
    "labels_success = p_success.mask.replace(False, np.NaN)*'NODELINK'"
   ]
  },
  {
   "cell_type": "code",
   "execution_count": 5,
   "id": "003a8c6e",
   "metadata": {},
   "outputs": [
    {
     "data": {
      "text/plain": [
       "0.501"
      ]
     },
     "execution_count": 5,
     "metadata": {},
     "output_type": "execute_result"
    }
   ],
   "source": [
    "p_success.mask.mean()"
   ]
  },
  {
   "cell_type": "code",
   "execution_count": 6,
   "id": "b980c420",
   "metadata": {
    "scrolled": true
   },
   "outputs": [
    {
     "name": "stdout",
     "output_type": "stream",
     "text": [
      "Learning predicates for NODELINK\n",
      "[   0] loss 1.545348048210144\n",
      "[ 100] loss 0.7456811666488647\n",
      "[ 200] loss 0.42712366580963135\n",
      "[ 300] loss 0.1794867217540741\n",
      "[ 400] loss 0.09383898973464966\n",
      "[ 500] loss 0.11915649473667145\n",
      "[ 600] loss 0.12545070052146912\n",
      "[ 700] loss 0.12603560090065002\n",
      "[ 800] loss 0.12608550488948822\n",
      "[ 900] loss 0.12608981132507324\n",
      "\n",
      "brush = 0\n",
      "accuracy = 0.886\n",
      "precision = 0.8146341463414634\n",
      "recall = 1.0\n",
      "f1 = 0.8978494623655913\n",
      "\n"
     ]
    }
   ],
   "source": [
    "learned_success = learn_predicates(all_graphs[['assortivity']], labels_success, ['NODELINK'], n_iter=1000, balanced=True)"
   ]
  },
  {
   "cell_type": "code",
   "execution_count": 9,
   "id": "2d9b7482",
   "metadata": {},
   "outputs": [],
   "source": [
    "p_failed = Predicate(clauses={'assortivity': [-0.380329, 0.619671]})\n",
    "p_failed.fit(all_graphs)\n",
    "labels_failed = p_failed.mask.replace(False, np.NaN)*'NODELINK'"
   ]
  },
  {
   "cell_type": "code",
   "execution_count": 10,
   "id": "b83f2326",
   "metadata": {},
   "outputs": [
    {
     "data": {
      "text/plain": [
       "0.503"
      ]
     },
     "execution_count": 10,
     "metadata": {},
     "output_type": "execute_result"
    }
   ],
   "source": [
    "p_failed.mask.mean()"
   ]
  },
  {
   "cell_type": "code",
   "execution_count": 12,
   "id": "9abe2c22",
   "metadata": {},
   "outputs": [
    {
     "name": "stdout",
     "output_type": "stream",
     "text": [
      "Learning predicates for NODELINK\n",
      "[   0] loss 2.4209046363830566\n",
      "[ 100] loss 7.16110897064209\n",
      "[ 200] loss 6.674233436584473\n",
      "[ 300] loss 5.995209217071533\n",
      "[ 400] loss 8.317805290222168\n",
      "[ 500] loss 7.926326274871826\n",
      "[ 600] loss 7.50753116607666\n",
      "[ 700] loss 7.079317569732666\n",
      "[ 800] loss 6.569827556610107\n",
      "[ 900] loss 5.80460262298584\n",
      "\n",
      "brush = 0\n",
      "accuracy = 0.497\n",
      "precision = 0\n",
      "recall = 0.0\n",
      "f1 = 0\n",
      "\n"
     ]
    }
   ],
   "source": [
    "learned_failed = learn_predicates(all_graphs[['assortivity']], labels_failed, ['NODELINK'], n_iter=1000, balanced=True)"
   ]
  }
 ],
 "metadata": {
  "kernelspec": {
   "display_name": "Python 3 (ipykernel)",
   "language": "python",
   "name": "python3"
  },
  "language_info": {
   "codemirror_mode": {
    "name": "ipython",
    "version": 3
   },
   "file_extension": ".py",
   "mimetype": "text/x-python",
   "name": "python",
   "nbconvert_exporter": "python",
   "pygments_lexer": "ipython3",
   "version": "3.11.5"
  },
  "toc": {
   "base_numbering": 1,
   "nav_menu": {},
   "number_sections": true,
   "sideBar": true,
   "skip_h1_title": false,
   "title_cell": "Table of Contents",
   "title_sidebar": "Contents",
   "toc_cell": false,
   "toc_position": {},
   "toc_section_display": true,
   "toc_window_display": false
  }
 },
 "nbformat": 4,
 "nbformat_minor": 5
}
