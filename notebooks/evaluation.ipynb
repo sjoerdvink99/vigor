{
 "cells": [
  {
   "cell_type": "markdown",
   "metadata": {},
   "source": [
    "# Simulation of User Preferences"
   ]
  },
  {
   "cell_type": "code",
   "execution_count": 1,
   "metadata": {},
   "outputs": [],
   "source": [
    "import os\n",
    "import pandas as pd\n",
    "from vigor import generate_graphs, label_graphs, predicates, learn_predicates, compute_metrics"
   ]
  },
  {
   "cell_type": "markdown",
   "metadata": {},
   "source": [
    "## Generate graphs\n",
    "\n",
    "1. Generate graphs using the fast_gnp_random_graph function from networkx\n",
    "2. Calculate statistics for each graph"
   ]
  },
  {
   "cell_type": "code",
   "execution_count": 2,
   "metadata": {},
   "outputs": [
    {
     "name": "stdout",
     "output_type": "stream",
     "text": [
      "Generating graph data\n",
      "Generated statistics for graph 0 {'graph_type': 4, 'is_directed_int': 1, 'has_spatial_attributes': 0, 'has_temporal_attributes': 1, 'is_bipartite': 0, 'n_components': 2, 'avg_betweenness_centrality': 0.0068434104865375545, 'avg_closeness_centrality': 0.5044364373957784, 'avg_eigenvector_centrality': 0.08059175681583537, 'avg_degree': 17.356164383561644, 'std_degree': 3.7264011038245455, 'clustering_coefficient': 0.1149081813747267, 'transitivity': 0.11707317073170732, 'modularity': -3.114703956731663e-05, 'communities': 2, 'avg_shortest_path_length': 1.9854511100614076, 'radius': 3, 'diameter': 3, 'assortativity': 0.0018919467066478804, 'vertex_connectivity': 8, 'eccentricity_avg': 3.0, 'n_nodes': 146, 'node_types': 3, 'node_attributes': 6, 'number_of_isolates': 0, 'density': 0.1196976854038734, 'edge_types': 5, 'edge_attributes': 2, 'n_parallel_edges': 2, 'n_self_loops': 5}\n",
      "Generated statistics for graph 1 {'graph_type': 4, 'is_directed_int': 0, 'has_spatial_attributes': 0, 'has_temporal_attributes': 0, 'is_bipartite': 0, 'n_components': 7, 'avg_betweenness_centrality': 0.01151352559803264, 'avg_closeness_centrality': 0.5546094612223886, 'avg_eigenvector_centrality': 0.11480520695212498, 'avg_degree': 15.666666666666666, 'std_degree': 3.4273136525914047, 'clustering_coefficient': 0.21796194018159165, 'transitivity': 0.21924272068132122, 'modularity': -0.00015718525225086414, 'communities': 2, 'avg_shortest_path_length': 1.805946791862285, 'radius': 2, 'diameter': 3, 'assortativity': 0.005741220777289111, 'vertex_connectivity': 8, 'eccentricity_avg': 2.736111111111111, 'n_nodes': 72, 'node_types': 1, 'node_attributes': 2, 'number_of_isolates': 0, 'density': 0.22065727699530516, 'edge_types': 4, 'edge_attributes': 12, 'n_parallel_edges': 0, 'n_self_loops': 4}\n",
      "Generated statistics for graph 2 {'graph_type': 4, 'is_directed_int': 1, 'has_spatial_attributes': 0, 'has_temporal_attributes': 1, 'is_bipartite': 0, 'n_components': 9, 'avg_betweenness_centrality': 0.03491436100131753, 'avg_closeness_centrality': 0.5683426907116713, 'avg_eigenvector_centrality': 0.19893733070032024, 'avg_degree': 6.916666666666667, 'std_degree': 1.5580552724098262, 'clustering_coefficient': 0.27652116402116406, 'transitivity': 0.27167630057803466, 'modularity': -0.001814486863115014, 'communities': 2, 'avg_shortest_path_length': 1.7681159420289856, 'radius': 2, 'diameter': 3, 'assortativity': -0.1302355598580186, 'vertex_connectivity': 5, 'eccentricity_avg': 2.6666666666666665, 'n_nodes': 24, 'node_types': 4, 'node_attributes': 7, 'number_of_isolates': 0, 'density': 0.3007246376811594, 'edge_types': 5, 'edge_attributes': 15, 'n_parallel_edges': 3, 'n_self_loops': 1}\n",
      "Generated statistics for graph 3 {'graph_type': 4, 'is_directed_int': 0, 'has_spatial_attributes': 0, 'has_temporal_attributes': 0, 'is_bipartite': 1, 'n_components': 1, 'avg_betweenness_centrality': 0.00789078907890789, 'avg_closeness_centrality': 0.5617829550848563, 'avg_eigenvector_centrality': 0.09786840334884885, 'avg_degree': 22.376237623762375, 'std_degree': 4.0567264762330595, 'clustering_coefficient': 0.2197045443061131, 'transitivity': 0.21991352390103291, 'modularity': -7.674837497073977e-05, 'communities': 2, 'avg_shortest_path_length': 1.7811881188118812, 'radius': 2, 'diameter': 3, 'assortativity': -0.03359470267620194, 'vertex_connectivity': 14, 'eccentricity_avg': 2.3564356435643563, 'n_nodes': 101, 'node_types': 1, 'node_attributes': 4, 'number_of_isolates': 0, 'density': 0.22376237623762377, 'edge_types': 4, 'edge_attributes': 1, 'n_parallel_edges': 0, 'n_self_loops': 0}\n",
      "Generated statistics for graph 4 {'graph_type': 4, 'is_directed_int': 0, 'has_spatial_attributes': 1, 'has_temporal_attributes': 1, 'is_bipartite': 1, 'n_components': 5, 'avg_betweenness_centrality': 0.004791029561671765, 'avg_closeness_centrality': 0.6596913389521335, 'avg_eigenvector_centrality': 0.09485878269281181, 'avg_degree': 52.6, 'std_degree': 5.350469412657157, 'clustering_coefficient': 0.481769805264104, 'transitivity': 0.4817454371879952, 'modularity': -9.086619680703778e-05, 'communities': 2, 'avg_shortest_path_length': 1.5174311926605504, 'radius': 2, 'diameter': 2, 'assortativity': -0.014005259739795828, 'vertex_connectivity': 39, 'eccentricity_avg': 2.0, 'n_nodes': 110, 'node_types': 1, 'node_attributes': 0, 'number_of_isolates': 0, 'density': 0.48256880733944957, 'edge_types': 3, 'edge_attributes': 0, 'n_parallel_edges': 0, 'n_self_loops': 4}\n",
      "Generated statistics for graph 5 {'graph_type': 3, 'is_directed_int': 0, 'has_spatial_attributes': 1, 'has_temporal_attributes': 1, 'is_bipartite': 0, 'n_components': 10, 'avg_betweenness_centrality': 0.04219287715086034, 'avg_closeness_centrality': 0.31460043018619516, 'avg_eigenvector_centrality': 0.11694267487965543, 'avg_degree': 3.7254901960784315, 'std_degree': 1.8981931553195426, 'clustering_coefficient': 0.07365390600684718, 'transitivity': 0.08595988538681948, 'modularity': 0.04072022160664822, 'communities': 3, 'avg_shortest_path_length': -1, 'radius': -1, 'diameter': -1, 'assortativity': 0.005817543631577738, 'vertex_connectivity': 0, 'eccentricity_avg': -1, 'n_nodes': 51, 'node_types': 5, 'node_attributes': 1, 'number_of_isolates': 1, 'density': 0.07450980392156863, 'edge_types': 4, 'edge_attributes': 10, 'n_parallel_edges': 2, 'n_self_loops': 4}\n",
      "Generated statistics for graph 6 {'graph_type': 4, 'is_directed_int': 1, 'has_spatial_attributes': 0, 'has_temporal_attributes': 0, 'is_bipartite': 1, 'n_components': 6, 'avg_betweenness_centrality': 0.08624708624708624, 'avg_closeness_centrality': 0.41103656635550223, 'avg_eigenvector_centrality': 0.24272567902416498, 'avg_degree': 2.4615384615384617, 'std_degree': 1.6132464481796025, 'clustering_coefficient': 0.14615384615384613, 'transitivity': 0.15384615384615385, 'modularity': 0.216796875, 'communities': 3, 'avg_shortest_path_length': -1, 'radius': -1, 'diameter': -1, 'assortativity': -0.37409024745269287, 'vertex_connectivity': 0, 'eccentricity_avg': -1, 'n_nodes': 13, 'node_types': 4, 'node_attributes': 8, 'number_of_isolates': 1, 'density': 0.20512820512820512, 'edge_types': 4, 'edge_attributes': 7, 'n_parallel_edges': 2, 'n_self_loops': 5}\n",
      "Generated statistics for graph 7 {'graph_type': 4, 'is_directed_int': 1, 'has_spatial_attributes': 1, 'has_temporal_attributes': 1, 'is_bipartite': 0, 'n_components': 5, 'avg_betweenness_centrality': 0.022769629689652376, 'avg_closeness_centrality': 0.5195961553163259, 'avg_eigenvector_centrality': 0.14608731230123873, 'avg_degree': 8.418604651162791, 'std_degree': 2.509340248518521, 'clustering_coefficient': 0.21986421391346156, 'transitivity': 0.21152542372881356, 'modularity': -0.000381551234699712, 'communities': 2, 'avg_shortest_path_length': 1.9335548172757475, 'radius': 2, 'diameter': 3, 'assortativity': -0.09813866621120423, 'vertex_connectivity': 5, 'eccentricity_avg': 2.9767441860465116, 'n_nodes': 43, 'node_types': 5, 'node_attributes': 6, 'number_of_isolates': 0, 'density': 0.20044296788482835, 'edge_types': 1, 'edge_attributes': 2, 'n_parallel_edges': 0, 'n_self_loops': 5}\n",
      "Generated statistics for graph 8 {'graph_type': 4, 'is_directed_int': 1, 'has_spatial_attributes': 1, 'has_temporal_attributes': 1, 'is_bipartite': 1, 'n_components': 5, 'avg_betweenness_centrality': 0.003923495858979729, 'avg_closeness_centrality': 0.623717116293204, 'avg_eigenvector_centrality': 0.07966707960911054, 'avg_degree': 61.34615384615385, 'std_degree': 5.974843872873242, 'clustering_coefficient': 0.39487560476292755, 'transitivity': 0.3952689839223663, 'modularity': -5.904903537596605e-05, 'communities': 2, 'avg_shortest_path_length': 1.6042183622828785, 'radius': 2, 'diameter': 2, 'assortativity': 0.01206139614144549, 'vertex_connectivity': 48, 'eccentricity_avg': 2.0, 'n_nodes': 156, 'node_types': 4, 'node_attributes': 8, 'number_of_isolates': 0, 'density': 0.3957816377171216, 'edge_types': 5, 'edge_attributes': 12, 'n_parallel_edges': 1, 'n_self_loops': 0}\n",
      "Generated statistics for graph 9 {'graph_type': 4, 'is_directed_int': 0, 'has_spatial_attributes': 1, 'has_temporal_attributes': 1, 'is_bipartite': 0, 'n_components': 4, 'avg_betweenness_centrality': 0.003909377302350391, 'avg_closeness_centrality': 0.6082046438600439, 'avg_eigenvector_centrality': 0.07695339534639206, 'avg_degree': 58.92215568862275, 'std_degree': 6.26040725028895, 'clustering_coefficient': 0.3548559878148113, 'transitivity': 0.3548312111855116, 'modularity': -4.562842884514944e-05, 'communities': 2, 'avg_shortest_path_length': 1.6450472548878148, 'radius': 2, 'diameter': 2, 'assortativity': -0.01792967054587659, 'vertex_connectivity': 45, 'eccentricity_avg': 2.0, 'n_nodes': 167, 'node_types': 1, 'node_attributes': 6, 'number_of_isolates': 0, 'density': 0.3549527451121853, 'edge_types': 2, 'edge_attributes': 3, 'n_parallel_edges': 4, 'n_self_loops': 4}\n",
      "Generated statistics for graph 10 {'graph_type': 4, 'is_directed_int': 0, 'has_spatial_attributes': 1, 'has_temporal_attributes': 1, 'is_bipartite': 1, 'n_components': 5, 'avg_betweenness_centrality': 0.006489886924669536, 'avg_closeness_centrality': 0.6319584757892525, 'avg_eigenvector_centrality': 0.10344679753140336, 'avg_degree': 37.84782608695652, 'std_degree': 4.722950238826667, 'clustering_coefficient': 0.4139915779211582, 'transitivity': 0.41450427363542897, 'modularity': -0.00013872938400531575, 'communities': 2, 'avg_shortest_path_length': 1.584089823220258, 'radius': 2, 'diameter': 2, 'assortativity': -0.009687581486403203, 'vertex_connectivity': 28, 'eccentricity_avg': 2.0, 'n_nodes': 92, 'node_types': 5, 'node_attributes': 8, 'number_of_isolates': 0, 'density': 0.415910176779742, 'edge_types': 5, 'edge_attributes': 4, 'n_parallel_edges': 1, 'n_self_loops': 1}\n",
      "Generated statistics for graph 11 {'graph_type': 3, 'is_directed_int': 1, 'has_spatial_attributes': 0, 'has_temporal_attributes': 1, 'is_bipartite': 1, 'n_components': 6, 'avg_betweenness_centrality': 0.035265950882389235, 'avg_closeness_centrality': 0.27215778723053974, 'avg_eigenvector_centrality': 0.09511282550173367, 'avg_degree': 3.3066666666666666, 'std_degree': 1.6519712494498835, 'clustering_coefficient': 0.02768253968253968, 'transitivity': 0.031007751937984496, 'modularity': 0.04630593132154, 'communities': 3, 'avg_shortest_path_length': -1, 'radius': -1, 'diameter': -1, 'assortativity': -0.08023842274186271, 'vertex_connectivity': 0, 'eccentricity_avg': -1, 'n_nodes': 75, 'node_types': 2, 'node_attributes': 12, 'number_of_isolates': 1, 'density': 0.044684684684684686, 'edge_types': 3, 'edge_attributes': 12, 'n_parallel_edges': 1, 'n_self_loops': 5}\n",
      "Generated statistics for graph 12 {'graph_type': 4, 'is_directed_int': 0, 'has_spatial_attributes': 1, 'has_temporal_attributes': 1, 'is_bipartite': 1, 'n_components': 1, 'avg_betweenness_centrality': 0.004364969443049808, 'avg_closeness_centrality': 0.5657085124522028, 'avg_eigenvector_centrality': 0.07425214849374547, 'avg_degree': 41.02247191011236, 'std_degree': 5.4782106198330585, 'clustering_coefficient': 0.23136851261238262, 'transitivity': 0.23180846630550217, 'modularity': -2.9407790859065287e-05, 'communities': 2, 'avg_shortest_path_length': 1.7682346219767664, 'radius': 2, 'diameter': 2, 'assortativity': 0.00957292624323435, 'vertex_connectivity': 27, 'eccentricity_avg': 2.0, 'n_nodes': 178, 'node_types': 3, 'node_attributes': 10, 'number_of_isolates': 0, 'density': 0.23176537802323366, 'edge_types': 4, 'edge_attributes': 13, 'n_parallel_edges': 2, 'n_self_loops': 4}\n",
      "Generated statistics for graph 13 {'graph_type': 4, 'is_directed_int': 0, 'has_spatial_attributes': 0, 'has_temporal_attributes': 1, 'is_bipartite': 0, 'n_components': 8, 'avg_betweenness_centrality': 0.003102910941656742, 'avg_closeness_centrality': 0.6318898050097397, 'avg_eigenvector_centrality': 0.07227954937872605, 'avg_degree': 78.74736842105263, 'std_degree': 6.721942936954668, 'clustering_coefficient': 0.4164315178857319, 'transitivity': 0.416514478629386, 'modularity': -3.4342671353525504e-05, 'communities': 2, 'avg_shortest_path_length': 1.5833472570314675, 'radius': 2, 'diameter': 2, 'assortativity': 0.0015228528945108997, 'vertex_connectivity': 61, 'eccentricity_avg': 2.0, 'n_nodes': 190, 'node_types': 4, 'node_attributes': 12, 'number_of_isolates': 0, 'density': 0.41665274296853244, 'edge_types': 4, 'edge_attributes': 9, 'n_parallel_edges': 4, 'n_self_loops': 3}\n",
      "Generated statistics for graph 14 {'graph_type': 4, 'is_directed_int': 1, 'has_spatial_attributes': 1, 'has_temporal_attributes': 1, 'is_bipartite': 1, 'n_components': 10, 'avg_betweenness_centrality': 0.005840501439092989, 'avg_closeness_centrality': 0.5469008163206256, 'avg_eigenvector_centrality': 0.08195000761587025, 'avg_degree': 25.52777777777778, 'std_degree': 4.567970650776542, 'clustering_coefficient': 0.17908200262660226, 'transitivity': 0.17926310817194144, 'modularity': -3.7889507092985254e-05, 'communities': 2, 'avg_shortest_path_length': 1.8293512043512044, 'radius': 2, 'diameter': 3, 'assortativity': -0.006934284629745612, 'vertex_connectivity': 15, 'eccentricity_avg': 2.5416666666666665, 'n_nodes': 144, 'node_types': 2, 'node_attributes': 0, 'number_of_isolates': 0, 'density': 0.1785159285159285, 'edge_types': 1, 'edge_attributes': 13, 'n_parallel_edges': 0, 'n_self_loops': 1}\n",
      "Generated statistics for graph 15 {'graph_type': 3, 'is_directed_int': 0, 'has_spatial_attributes': 0, 'has_temporal_attributes': 0, 'is_bipartite': 0, 'n_components': 0, 'avg_betweenness_centrality': 0.04362153256084056, 'avg_closeness_centrality': 0.28842761231994135, 'avg_eigenvector_centrality': 0.12451163855700502, 'avg_degree': 3.2093023255813953, 'std_degree': 1.6411108249464348, 'clustering_coefficient': 0.03909191583610188, 'transitivity': 0.05741626794258373, 'modularity': 0.05597563537072048, 'communities': 4, 'avg_shortest_path_length': -1, 'radius': -1, 'diameter': -1, 'assortativity': 0.08352820129080536, 'vertex_connectivity': 0, 'eccentricity_avg': -1, 'n_nodes': 43, 'node_types': 4, 'node_attributes': 7, 'number_of_isolates': 1, 'density': 0.07641196013289037, 'edge_types': 3, 'edge_attributes': 12, 'n_parallel_edges': 3, 'n_self_loops': 1}\n",
      "Generated statistics for graph 16 {'graph_type': 4, 'is_directed_int': 0, 'has_spatial_attributes': 0, 'has_temporal_attributes': 1, 'is_bipartite': 0, 'n_components': 10, 'avg_betweenness_centrality': 0.03187134502923976, 'avg_closeness_centrality': 0.6381627348288221, 'avg_eigenvector_centrality': 0.21853674716951957, 'avg_degree': 8.3, 'std_degree': 1.7800059136507325, 'clustering_coefficient': 0.41764069264069265, 'transitivity': 0.419811320754717, 'modularity': -0.001161271592393662, 'communities': 2, 'avg_shortest_path_length': 1.5736842105263158, 'radius': 2, 'diameter': 3, 'assortativity': -0.07356507679870963, 'vertex_connectivity': 4, 'eccentricity_avg': 2.2, 'n_nodes': 20, 'node_types': 2, 'node_attributes': 4, 'number_of_isolates': 0, 'density': 0.4368421052631579, 'edge_types': 4, 'edge_attributes': 10, 'n_parallel_edges': 4, 'n_self_loops': 3}\n",
      "Generated statistics for graph 17 {'graph_type': 4, 'is_directed_int': 1, 'has_spatial_attributes': 0, 'has_temporal_attributes': 0, 'is_bipartite': 0, 'n_components': 2, 'avg_betweenness_centrality': 0.06964050442311313, 'avg_closeness_centrality': 0.3601494219343322, 'avg_eigenvector_centrality': 0.18670881716532356, 'avg_degree': 3.130434782608696, 'std_degree': 1.5167053955587406, 'clustering_coefficient': 0.2260869565217391, 'transitivity': 0.14705882352941177, 'modularity': 0.35763888888888895, 'communities': 3, 'avg_shortest_path_length': -1, 'radius': -1, 'diameter': -1, 'assortativity': -0.1355932203389825, 'vertex_connectivity': 0, 'eccentricity_avg': -1, 'n_nodes': 23, 'node_types': 1, 'node_attributes': 5, 'number_of_isolates': 1, 'density': 0.1422924901185771, 'edge_types': 5, 'edge_attributes': 4, 'n_parallel_edges': 3, 'n_self_loops': 2}\n",
      "Generated statistics for graph 18 {'graph_type': 4, 'is_directed_int': 1, 'has_spatial_attributes': 0, 'has_temporal_attributes': 1, 'is_bipartite': 1, 'n_components': 10, 'avg_betweenness_centrality': 0.005183631047288347, 'avg_closeness_centrality': 0.5362641368827031, 'avg_eigenvector_centrality': 0.07566348323359562, 'avg_degree': 25.57396449704142, 'std_degree': 4.545618929377273, 'clustering_coefficient': 0.15009007385243386, 'transitivity': 0.149945295404814, 'modularity': -2.4090343284195376e-05, 'communities': 2, 'avg_shortest_path_length': 1.8656663848971542, 'radius': 2, 'diameter': 3, 'assortativity': -0.014815261544159571, 'vertex_connectivity': 14, 'eccentricity_avg': 2.8698224852071004, 'n_nodes': 169, 'node_types': 3, 'node_attributes': 9, 'number_of_isolates': 0, 'density': 0.15222597914905608, 'edge_types': 4, 'edge_attributes': 4, 'n_parallel_edges': 4, 'n_self_loops': 3}\n",
      "Generated statistics for graph 19 {'graph_type': 4, 'is_directed_int': 1, 'has_spatial_attributes': 1, 'has_temporal_attributes': 1, 'is_bipartite': 1, 'n_components': 7, 'avg_betweenness_centrality': 0.005984277894390252, 'avg_closeness_centrality': 0.6533922250230974, 'avg_eigenvector_centrality': 0.10406042971641084, 'avg_degree': 42.065934065934066, 'std_degree': 5.154937649805492, 'clustering_coefficient': 0.4682403324727178, 'transitivity': 0.46825655421324375, 'modularity': -0.00011478420569336889, 'communities': 2, 'avg_shortest_path_length': 1.5326007326007327, 'radius': 2, 'diameter': 2, 'assortativity': -0.020973480712423984, 'vertex_connectivity': 29, 'eccentricity_avg': 2.0, 'n_nodes': 91, 'node_types': 1, 'node_attributes': 3, 'number_of_isolates': 0, 'density': 0.4673992673992674, 'edge_types': 3, 'edge_attributes': 13, 'n_parallel_edges': 0, 'n_self_loops': 5}\n",
      "Generated statistics for graph 20 {'graph_type': 4, 'is_directed_int': 0, 'has_spatial_attributes': 0, 'has_temporal_attributes': 0, 'is_bipartite': 1, 'n_components': 10, 'avg_betweenness_centrality': 0.0063611014290693635, 'avg_closeness_centrality': 0.5125030974705777, 'avg_eigenvector_centrality': 0.07903039962905054, 'avg_degree': 18.88157894736842, 'std_degree': 4.174876308634968, 'clustering_coefficient': 0.12024957014349799, 'transitivity': 0.1211076512455516, 'modularity': -2.4280979494870545e-05, 'communities': 2, 'avg_shortest_path_length': 1.9541652143604042, 'radius': 2, 'diameter': 3, 'assortativity': -0.02083927085743942, 'vertex_connectivity': 8, 'eccentricity_avg': 2.9934210526315788, 'n_nodes': 152, 'node_types': 5, 'node_attributes': 13, 'number_of_isolates': 0, 'density': 0.12504356918787035, 'edge_types': 3, 'edge_attributes': 15, 'n_parallel_edges': 1, 'n_self_loops': 5}\n",
      "Generated statistics for graph 21 {'graph_type': 4, 'is_directed_int': 1, 'has_spatial_attributes': 0, 'has_temporal_attributes': 0, 'is_bipartite': 1, 'n_components': 10, 'avg_betweenness_centrality': 0.00444630603543547, 'avg_closeness_centrality': 0.5741282672939704, 'avg_eigenvector_centrality': 0.07613721097890912, 'avg_degree': 43.25443786982248, 'std_degree': 6.13443596370873, 'clustering_coefficient': 0.25819831407059235, 'transitivity': 0.2578917646461634, 'modularity': -2.934345882277671e-05, 'communities': 2, 'avg_shortest_path_length': 1.7425331079177233, 'radius': 2, 'diameter': 2, 'assortativity': -0.0017424271857911376, 'vertex_connectivity': 28, 'eccentricity_avg': 2.0, 'n_nodes': 169, 'node_types': 5, 'node_attributes': 15, 'number_of_isolates': 0, 'density': 0.2574668920822767, 'edge_types': 5, 'edge_attributes': 0, 'n_parallel_edges': 1, 'n_self_loops': 2}\n",
      "Generated statistics for graph 22 {'graph_type': 4, 'is_directed_int': 0, 'has_spatial_attributes': 1, 'has_temporal_attributes': 0, 'is_bipartite': 1, 'n_components': 2, 'avg_betweenness_centrality': 0.014898438381166248, 'avg_closeness_centrality': 0.5424128355235895, 'avg_eigenvector_centrality': 0.12530696037840963, 'avg_degree': 12.372881355932204, 'std_degree': 3.268967490079724, 'clustering_coefficient': 0.19707923000020397, 'transitivity': 0.20443846671149965, 'modularity': -0.0001351097766936475, 'communities': 2, 'avg_shortest_path_length': 1.8492109877264757, 'radius': 2, 'diameter': 3, 'assortativity': -0.008028579800711555, 'vertex_connectivity': 6, 'eccentricity_avg': 2.9152542372881354, 'n_nodes': 59, 'node_types': 2, 'node_attributes': 13, 'number_of_isolates': 0, 'density': 0.21332554061952075, 'edge_types': 5, 'edge_attributes': 1, 'n_parallel_edges': 4, 'n_self_loops': 1}\n",
      "Generated statistics for graph 23 {'graph_type': 4, 'is_directed_int': 1, 'has_spatial_attributes': 1, 'has_temporal_attributes': 0, 'is_bipartite': 0, 'n_components': 2, 'avg_betweenness_centrality': 0.006864311497721759, 'avg_closeness_centrality': 0.5308975303041429, 'avg_eigenvector_centrality': 0.08543468572174664, 'avg_degree': 20.076335877862597, 'std_degree': 4.109310854839638, 'clustering_coefficient': 0.15417147316276666, 'transitivity': 0.15342015811786275, 'modularity': -3.498677153058762e-05, 'communities': 2, 'avg_shortest_path_length': 1.8854961832061068, 'radius': 2, 'diameter': 3, 'assortativity': -0.010963996486534906, 'vertex_connectivity': 11, 'eccentricity_avg': 2.9618320610687023, 'n_nodes': 131, 'node_types': 2, 'node_attributes': 11, 'number_of_isolates': 0, 'density': 0.15443335290663535, 'edge_types': 1, 'edge_attributes': 12, 'n_parallel_edges': 0, 'n_self_loops': 0}\n",
      "Generated statistics for graph 24 {'graph_type': 4, 'is_directed_int': 1, 'has_spatial_attributes': 1, 'has_temporal_attributes': 1, 'is_bipartite': 0, 'n_components': 5, 'avg_betweenness_centrality': 0.009040951520626318, 'avg_closeness_centrality': 0.5808197761644661, 'avg_eigenvector_centrality': 0.10858982758048986, 'avg_degree': 22.463414634146343, 'std_degree': 4.149059455969017, 'clustering_coefficient': 0.2784205235165809, 'transitivity': 0.2769118006352309, 'modularity': -0.0001155332034173545, 'communities': 2, 'avg_shortest_path_length': 1.7232761216501054, 'radius': 2, 'diameter': 3, 'assortativity': -0.0391084353304697, 'vertex_connectivity': 13, 'eccentricity_avg': 2.0365853658536586, 'n_nodes': 82, 'node_types': 2, 'node_attributes': 7, 'number_of_isolates': 0, 'density': 0.27732610659439927, 'edge_types': 2, 'edge_attributes': 14, 'n_parallel_edges': 5, 'n_self_loops': 1}\n",
      "Generated statistics for graph 25 {'graph_type': 4, 'is_directed_int': 1, 'has_spatial_attributes': 1, 'has_temporal_attributes': 0, 'is_bipartite': 1, 'n_components': 2, 'avg_betweenness_centrality': 0.012997903563941296, 'avg_closeness_centrality': 0.5930974606201763, 'avg_eigenvector_centrality': 0.13218195474304237, 'avg_degree': 16.945454545454545, 'std_degree': 3.566397610922248, 'clustering_coefficient': 0.31343828816784924, 'transitivity': 0.3106508875739645, 'modularity': -0.00018650186962366856, 'communities': 2, 'avg_shortest_path_length': 1.6888888888888889, 'radius': 2, 'diameter': 3, 'assortativity': -0.08263958973609406, 'vertex_connectivity': 9, 'eccentricity_avg': 2.1272727272727274, 'n_nodes': 55, 'node_types': 3, 'node_attributes': 1, 'number_of_isolates': 0, 'density': 0.3138047138047138, 'edge_types': 3, 'edge_attributes': 11, 'n_parallel_edges': 0, 'n_self_loops': 2}\n",
      "Generated statistics for graph 26 {'graph_type': 4, 'is_directed_int': 0, 'has_spatial_attributes': 1, 'has_temporal_attributes': 0, 'is_bipartite': 1, 'n_components': 1, 'avg_betweenness_centrality': 0.005826510260851309, 'avg_closeness_centrality': 0.5440262425678706, 'avg_eigenvector_centrality': 0.0814561116585336, 'avg_degree': 24.91780821917808, 'std_degree': 4.349406379337488, 'clustering_coefficient': 0.1734688710970944, 'transitivity': 0.17293551406034138, 'modularity': -3.40006425366835e-05, 'communities': 2, 'avg_shortest_path_length': 1.8390174775625885, 'radius': 2, 'diameter': 3, 'assortativity': -0.009115281773601963, 'vertex_connectivity': 15, 'eccentricity_avg': 2.643835616438356, 'n_nodes': 146, 'node_types': 3, 'node_attributes': 10, 'number_of_isolates': 0, 'density': 0.17184695323571092, 'edge_types': 3, 'edge_attributes': 8, 'n_parallel_edges': 1, 'n_self_loops': 2}\n",
      "Generated statistics for graph 27 {'graph_type': 4, 'is_directed_int': 0, 'has_spatial_attributes': 1, 'has_temporal_attributes': 0, 'is_bipartite': 1, 'n_components': 7, 'avg_betweenness_centrality': 0.005161312793567389, 'avg_closeness_centrality': 0.5510226991067249, 'avg_eigenvector_centrality': 0.07791830041399239, 'avg_degree': 29.8375, 'std_degree': 5.0741514146324365, 'clustering_coefficient': 0.18604489125116458, 'transitivity': 0.18588640275387264, 'modularity': -3.86993575906871e-05, 'communities': 2, 'avg_shortest_path_length': 1.8154874213836478, 'radius': 2, 'diameter': 3, 'assortativity': -0.024797415935643694, 'vertex_connectivity': 19, 'eccentricity_avg': 2.325, 'n_nodes': 160, 'node_types': 5, 'node_attributes': 11, 'number_of_isolates': 0, 'density': 0.18765723270440252, 'edge_types': 5, 'edge_attributes': 4, 'n_parallel_edges': 5, 'n_self_loops': 5}\n",
      "Generated statistics for graph 28 {'graph_type': 4, 'is_directed_int': 0, 'has_spatial_attributes': 1, 'has_temporal_attributes': 1, 'is_bipartite': 1, 'n_components': 8, 'avg_betweenness_centrality': 0.05454545454545456, 'avg_closeness_centrality': 0.6793223116752528, 'avg_eigenvector_centrality': 0.2931908320601973, 'avg_degree': 5.2727272727272725, 'std_degree': 1.4893561757289013, 'clustering_coefficient': 0.5097402597402598, 'transitivity': 0.4888888888888889, 'modularity': -0.005350772889417229, 'communities': 2, 'avg_shortest_path_length': 1.490909090909091, 'radius': 2, 'diameter': 3, 'assortativity': -0.1784452296819786, 'vertex_connectivity': 3, 'eccentricity_avg': 2.1818181818181817, 'n_nodes': 11, 'node_types': 1, 'node_attributes': 13, 'number_of_isolates': 0, 'density': 0.5272727272727272, 'edge_types': 4, 'edge_attributes': 10, 'n_parallel_edges': 5, 'n_self_loops': 3}\n",
      "Generated statistics for graph 29 {'graph_type': 4, 'is_directed_int': 0, 'has_spatial_attributes': 1, 'has_temporal_attributes': 1, 'is_bipartite': 1, 'n_components': 6, 'avg_betweenness_centrality': 0.004675387596899226, 'avg_closeness_centrality': 0.6260423087163893, 'avg_eigenvector_centrality': 0.08722603211833767, 'avg_degree': 51.8, 'std_degree': 5.449415017321377, 'clustering_coefficient': 0.4004440377003539, 'transitivity': 0.4006036112604721, 'modularity': -6.037918125821053e-05, 'communities': 2, 'avg_shortest_path_length': 1.5984496124031007, 'radius': 2, 'diameter': 2, 'assortativity': -0.011911105882691883, 'vertex_connectivity': 37, 'eccentricity_avg': 2.0, 'n_nodes': 130, 'node_types': 3, 'node_attributes': 0, 'number_of_isolates': 0, 'density': 0.4015503875968992, 'edge_types': 3, 'edge_attributes': 8, 'n_parallel_edges': 3, 'n_self_loops': 2}\n",
      "Generated statistics for graph 30 {'graph_type': 3, 'is_directed_int': 1, 'has_spatial_attributes': 0, 'has_temporal_attributes': 0, 'is_bipartite': 0, 'n_components': 10, 'avg_betweenness_centrality': 0.011548744639222753, 'avg_closeness_centrality': 0.05897201223444763, 'avg_eigenvector_centrality': 0.038103453031228474, 'avg_degree': 1.6424581005586592, 'std_degree': 1.243222792809244, 'clustering_coefficient': 0.0, 'transitivity': 0, 'modularity': 0.6017168772270814, 'communities': 45, 'avg_shortest_path_length': -1, 'radius': -1, 'diameter': -1, 'assortativity': 0.11580893140073827, 'vertex_connectivity': 0, 'eccentricity_avg': -1, 'n_nodes': 179, 'node_types': 4, 'node_attributes': 3, 'number_of_isolates': 31, 'density': 0.009227292699767749, 'edge_types': 1, 'edge_attributes': 0, 'n_parallel_edges': 2, 'n_self_loops': 4}\n",
      "Generated statistics for graph 31 {'graph_type': 4, 'is_directed_int': 1, 'has_spatial_attributes': 0, 'has_temporal_attributes': 0, 'is_bipartite': 0, 'n_components': 6, 'avg_betweenness_centrality': 0.00555411967951247, 'avg_closeness_centrality': 0.5253088458344011, 'avg_eigenvector_centrality': 0.07615325872011733, 'avg_degree': 22.33939393939394, 'std_degree': 4.501350704736992, 'clustering_coefficient': 0.139285346949397, 'transitivity': 0.1383996096608929, 'modularity': -2.119736245930379e-05, 'communities': 2, 'avg_shortest_path_length': 1.905321507760532, 'radius': 2, 'diameter': 3, 'assortativity': -0.004187042485838267, 'vertex_connectivity': 12, 'eccentricity_avg': 2.9575757575757575, 'n_nodes': 165, 'node_types': 5, 'node_attributes': 8, 'number_of_isolates': 0, 'density': 0.1362158167036216, 'edge_types': 5, 'edge_attributes': 1, 'n_parallel_edges': 4, 'n_self_loops': 2}\n",
      "Generated statistics for graph 32 {'graph_type': 3, 'is_directed_int': 1, 'has_spatial_attributes': 1, 'has_temporal_attributes': 0, 'is_bipartite': 0, 'n_components': 5, 'avg_betweenness_centrality': 0.013676520557254504, 'avg_closeness_centrality': 0.40553078634441386, 'avg_eigenvector_centrality': 0.08974743147373979, 'avg_degree': 7.945454545454545, 'std_degree': 2.403500366481436, 'clustering_coefficient': 0.0654893086711268, 'transitivity': 0.0662686567164179, 'modularity': -1.0472903979277407e-05, 'communities': 2, 'avg_shortest_path_length': 2.477064220183486, 'radius': 3, 'diameter': 4, 'assortativity': 0.015122593416334517, 'vertex_connectivity': 2, 'eccentricity_avg': 3.790909090909091, 'n_nodes': 110, 'node_types': 2, 'node_attributes': 15, 'number_of_isolates': 0, 'density': 0.07289407839866556, 'edge_types': 5, 'edge_attributes': 13, 'n_parallel_edges': 0, 'n_self_loops': 5}\n",
      "Generated statistics for graph 33 {'graph_type': 4, 'is_directed_int': 1, 'has_spatial_attributes': 1, 'has_temporal_attributes': 0, 'is_bipartite': 0, 'n_components': 9, 'avg_betweenness_centrality': 0.006332650400447011, 'avg_closeness_centrality': 0.5746480437658744, 'avg_eigenvector_centrality': 0.09077630610171225, 'avg_degree': 30.6218487394958, 'std_degree': 4.166028057219074, 'clustering_coefficient': 0.25637290805705426, 'transitivity': 0.25682334757705244, 'modularity': -6.024669817965876e-05, 'communities': 2, 'avg_shortest_path_length': 1.7409200968523002, 'radius': 2, 'diameter': 3, 'assortativity': 0.00313985224972783, 'vertex_connectivity': 20, 'eccentricity_avg': 2.033613445378151, 'n_nodes': 119, 'node_types': 3, 'node_attributes': 2, 'number_of_isolates': 0, 'density': 0.25950719270759154, 'edge_types': 1, 'edge_attributes': 8, 'n_parallel_edges': 3, 'n_self_loops': 0}\n",
      "Generated statistics for graph 34 {'graph_type': 4, 'is_directed_int': 1, 'has_spatial_attributes': 1, 'has_temporal_attributes': 1, 'is_bipartite': 1, 'n_components': 8, 'avg_betweenness_centrality': 0.004411415037600995, 'avg_closeness_centrality': 0.55075651462644, 'avg_eigenvector_centrality': 0.07235870177413184, 'avg_degree': 34.37433155080214, 'std_degree': 4.994511391519765, 'clustering_coefficient': 0.1818126812889357, 'transitivity': 0.18125655883560707, 'modularity': -2.134601690098484e-05, 'communities': 2, 'avg_shortest_path_length': 1.8161117819561843, 'radius': 2, 'diameter': 3, 'assortativity': -0.028144308821032412, 'vertex_connectivity': 21, 'eccentricity_avg': 2.1390374331550803, 'n_nodes': 187, 'node_types': 4, 'node_attributes': 4, 'number_of_isolates': 0, 'density': 0.18480823414409753, 'edge_types': 3, 'edge_attributes': 13, 'n_parallel_edges': 5, 'n_self_loops': 1}\n",
      "Generated statistics for graph 35 {'graph_type': 4, 'is_directed_int': 0, 'has_spatial_attributes': 1, 'has_temporal_attributes': 1, 'is_bipartite': 1, 'n_components': 2, 'avg_betweenness_centrality': 0.01733493397358944, 'avg_closeness_centrality': 0.5427140993387978, 'avg_eigenvector_centrality': 0.1346784587011622, 'avg_degree': 10.901960784313726, 'std_degree': 3.163889390991944, 'clustering_coefficient': 0.22928819226397074, 'transitivity': 0.22977022977022976, 'modularity': -0.0001035143108534504, 'communities': 2, 'avg_shortest_path_length': 1.8494117647058823, 'radius': 2, 'diameter': 3, 'assortativity': -0.11793897780896817, 'vertex_connectivity': 4, 'eccentricity_avg': 2.8627450980392157, 'n_nodes': 51, 'node_types': 3, 'node_attributes': 0, 'number_of_isolates': 0, 'density': 0.21803921568627452, 'edge_types': 1, 'edge_attributes': 8, 'n_parallel_edges': 3, 'n_self_loops': 2}\n",
      "Generated statistics for graph 36 {'graph_type': 4, 'is_directed_int': 1, 'has_spatial_attributes': 1, 'has_temporal_attributes': 0, 'is_bipartite': 0, 'n_components': 4, 'avg_betweenness_centrality': 0.005361237243177628, 'avg_closeness_centrality': 0.6171120509881862, 'avg_eigenvector_centrality': 0.09133668366395344, 'avg_degree': 44.23728813559322, 'std_degree': 5.678988061569401, 'clustering_coefficient': 0.3786961907094395, 'transitivity': 0.37811149072653744, 'modularity': -6.605892456058591e-05, 'communities': 2, 'avg_shortest_path_length': 1.621903520208605, 'radius': 2, 'diameter': 2, 'assortativity': -0.03292820124059687, 'vertex_connectivity': 30, 'eccentricity_avg': 2.0, 'n_nodes': 118, 'node_types': 3, 'node_attributes': 6, 'number_of_isolates': 0, 'density': 0.37809647979139505, 'edge_types': 2, 'edge_attributes': 8, 'n_parallel_edges': 4, 'n_self_loops': 1}\n",
      "Generated statistics for graph 37 {'graph_type': 4, 'is_directed_int': 1, 'has_spatial_attributes': 0, 'has_temporal_attributes': 1, 'is_bipartite': 0, 'n_components': 1, 'avg_betweenness_centrality': 0.007832501280081923, 'avg_closeness_centrality': 0.6739395532751526, 'avg_eigenvector_centrality': 0.1243312182917222, 'avg_degree': 32.40625, 'std_degree': 3.288839955663433, 'clustering_coefficient': 0.5116314089728153, 'transitivity': 0.5122306967698805, 'modularity': -0.00024596208371270394, 'communities': 2, 'avg_shortest_path_length': 1.4856150793650793, 'radius': 2, 'diameter': 2, 'assortativity': 0.0072282898419085235, 'vertex_connectivity': 23, 'eccentricity_avg': 2.0, 'n_nodes': 64, 'node_types': 1, 'node_attributes': 10, 'number_of_isolates': 0, 'density': 0.5143849206349206, 'edge_types': 2, 'edge_attributes': 2, 'n_parallel_edges': 4, 'n_self_loops': 1}\n",
      "Generated statistics for graph 38 {'graph_type': 4, 'is_directed_int': 1, 'has_spatial_attributes': 1, 'has_temporal_attributes': 0, 'is_bipartite': 1, 'n_components': 10, 'avg_betweenness_centrality': 0.007208335163789187, 'avg_closeness_centrality': 0.576652247663574, 'avg_eigenvector_centrality': 0.09666955661871882, 'avg_degree': 27.365384615384617, 'std_degree': 4.413258251487683, 'clustering_coefficient': 0.26763876960373534, 'transitivity': 0.268996131979959, 'modularity': -7.136052671470025e-05, 'communities': 2, 'avg_shortest_path_length': 1.7352501867064973, 'radius': 2, 'diameter': 3, 'assortativity': 0.025431243357664952, 'vertex_connectivity': 17, 'eccentricity_avg': 2.0961538461538463, 'n_nodes': 104, 'node_types': 1, 'node_attributes': 0, 'number_of_isolates': 0, 'density': 0.2656833457804332, 'edge_types': 4, 'edge_attributes': 3, 'n_parallel_edges': 4, 'n_self_loops': 2}\n",
      "Generated statistics for graph 39 {'graph_type': 4, 'is_directed_int': 1, 'has_spatial_attributes': 1, 'has_temporal_attributes': 1, 'is_bipartite': 1, 'n_components': 4, 'avg_betweenness_centrality': 0.003613556500345077, 'avg_closeness_centrality': 0.6413520408983313, 'avg_eigenvector_centrality': 0.07952387073889562, 'avg_degree': 68.62420382165605, 'std_degree': 5.836900754658151, 'clustering_coefficient': 0.43924981764801163, 'transitivity': 0.43917274607643025, 'modularity': -5.024161288117319e-05, 'communities': 2, 'avg_shortest_path_length': 1.560101257553487, 'radius': 2, 'diameter': 2, 'assortativity': -0.014341613476577976, 'vertex_connectivity': 54, 'eccentricity_avg': 2.0, 'n_nodes': 157, 'node_types': 2, 'node_attributes': 14, 'number_of_isolates': 0, 'density': 0.43989874244651317, 'edge_types': 2, 'edge_attributes': 2, 'n_parallel_edges': 0, 'n_self_loops': 2}\n",
      "Generated statistics for graph 40 {'graph_type': 4, 'is_directed_int': 0, 'has_spatial_attributes': 0, 'has_temporal_attributes': 1, 'is_bipartite': 1, 'n_components': 1, 'avg_betweenness_centrality': 0.0102843315184513, 'avg_closeness_centrality': 0.635715596475372, 'avg_eigenvector_centrality': 0.12965584142707207, 'avg_degree': 24.17241379310345, 'std_degree': 3.8894275546620363, 'clustering_coefficient': 0.42303584156115226, 'transitivity': 0.42332833583208396, 'modularity': -0.00019942979359024847, 'communities': 2, 'avg_shortest_path_length': 1.5759225650332729, 'radius': 2, 'diameter': 2, 'assortativity': -0.03293816290766506, 'vertex_connectivity': 14, 'eccentricity_avg': 2.0, 'n_nodes': 58, 'node_types': 3, 'node_attributes': 8, 'number_of_isolates': 0, 'density': 0.4240774349667272, 'edge_types': 3, 'edge_attributes': 0, 'n_parallel_edges': 0, 'n_self_loops': 4}\n",
      "Generated statistics for graph 41 {'graph_type': 4, 'is_directed_int': 0, 'has_spatial_attributes': 1, 'has_temporal_attributes': 0, 'is_bipartite': 0, 'n_components': 0, 'avg_betweenness_centrality': 0.003971465612039884, 'avg_closeness_centrality': 0.6044052484889602, 'avg_eigenvector_centrality': 0.07696976798734012, 'avg_degree': 57.221556886227546, 'std_degree': 5.941888464567382, 'clustering_coefficient': 0.3444621344013194, 'transitivity': 0.344292358510368, 'modularity': -3.8634588802759557e-05, 'communities': 2, 'avg_shortest_path_length': 1.655291825986581, 'radius': 2, 'diameter': 2, 'assortativity': -0.01489950581573827, 'vertex_connectivity': 42, 'eccentricity_avg': 2.0, 'n_nodes': 167, 'node_types': 1, 'node_attributes': 6, 'number_of_isolates': 0, 'density': 0.34470817401341897, 'edge_types': 4, 'edge_attributes': 10, 'n_parallel_edges': 2, 'n_self_loops': 5}\n",
      "Generated statistics for graph 42 {'graph_type': 3, 'is_directed_int': 0, 'has_spatial_attributes': 0, 'has_temporal_attributes': 1, 'is_bipartite': 1, 'n_components': 6, 'avg_betweenness_centrality': 0.020602295030644563, 'avg_closeness_centrality': 0.3475745191105612, 'avg_eigenvector_centrality': 0.0887992969663305, 'avg_degree': 5.2, 'std_degree': 2.4779882025374724, 'clustering_coefficient': 0.04239842029315714, 'transitivity': 0.05203619909502263, 'modularity': 0.007966037797701987, 'communities': 2, 'avg_shortest_path_length': 2.916013437849944, 'radius': 4, 'diameter': 6, 'assortativity': -0.026913743657621725, 'vertex_connectivity': 1, 'eccentricity_avg': 4.768421052631579, 'n_nodes': 95, 'node_types': 1, 'node_attributes': 13, 'number_of_isolates': 0, 'density': 0.05531914893617021, 'edge_types': 4, 'edge_attributes': 11, 'n_parallel_edges': 5, 'n_self_loops': 1}\n",
      "Generated statistics for graph 43 {'graph_type': 4, 'is_directed_int': 1, 'has_spatial_attributes': 0, 'has_temporal_attributes': 0, 'is_bipartite': 0, 'n_components': 2, 'avg_betweenness_centrality': 0.0032148567919087533, 'avg_closeness_centrality': 0.6261130427678342, 'avg_eigenvector_centrality': 0.07264435492726605, 'avg_degree': 75.18085106382979, 'std_degree': 6.730825832252422, 'clustering_coefficient': 0.4022204852737766, 'transitivity': 0.40209509680739947, 'modularity': -3.485008526500527e-05, 'communities': 2, 'avg_shortest_path_length': 1.5979633632950279, 'radius': 2, 'diameter': 2, 'assortativity': -0.014616749190459162, 'vertex_connectivity': 59, 'eccentricity_avg': 2.0, 'n_nodes': 188, 'node_types': 1, 'node_attributes': 6, 'number_of_isolates': 0, 'density': 0.40203663670497214, 'edge_types': 2, 'edge_attributes': 4, 'n_parallel_edges': 0, 'n_self_loops': 2}\n",
      "Generated statistics for graph 44 {'graph_type': 4, 'is_directed_int': 0, 'has_spatial_attributes': 0, 'has_temporal_attributes': 0, 'is_bipartite': 1, 'n_components': 2, 'avg_betweenness_centrality': 0.004457245934072332, 'avg_closeness_centrality': 0.6283142890342868, 'avg_eigenvector_centrality': 0.08555056366347408, 'avg_degree': 54.56296296296296, 'std_degree': 6.021859939045718, 'clustering_coefficient': 0.4072069011059423, 'transitivity': 0.40731690218425454, 'modularity': -4.7771795900370444e-05, 'communities': 2, 'avg_shortest_path_length': 1.5928137092316197, 'radius': 2, 'diameter': 2, 'assortativity': -0.01646525541625748, 'vertex_connectivity': 36, 'eccentricity_avg': 2.0, 'n_nodes': 135, 'node_types': 5, 'node_attributes': 6, 'number_of_isolates': 0, 'density': 0.4071862907683803, 'edge_types': 3, 'edge_attributes': 11, 'n_parallel_edges': 2, 'n_self_loops': 4}\n",
      "Generated statistics for graph 45 {'graph_type': 4, 'is_directed_int': 0, 'has_spatial_attributes': 0, 'has_temporal_attributes': 0, 'is_bipartite': 0, 'n_components': 2, 'avg_betweenness_centrality': 0.033738191632928474, 'avg_closeness_centrality': 0.44980076098696403, 'avg_eigenvector_centrality': 0.1461172865708845, 'avg_degree': 5.6923076923076925, 'std_degree': 2.341320434395561, 'clustering_coefficient': 0.17542998312229077, 'transitivity': 0.1536, 'modularity': -0.00016232448664884515, 'communities': 2, 'avg_shortest_path_length': 2.2483130904183537, 'radius': 3, 'diameter': 4, 'assortativity': -0.13337680119971543, 'vertex_connectivity': 2, 'eccentricity_avg': 3.58974358974359, 'n_nodes': 39, 'node_types': 4, 'node_attributes': 5, 'number_of_isolates': 0, 'density': 0.14979757085020243, 'edge_types': 3, 'edge_attributes': 6, 'n_parallel_edges': 1, 'n_self_loops': 1}\n",
      "Generated statistics for graph 46 {'graph_type': 4, 'is_directed_int': 0, 'has_spatial_attributes': 1, 'has_temporal_attributes': 1, 'is_bipartite': 0, 'n_components': 10, 'avg_betweenness_centrality': 0.010870780236977413, 'avg_closeness_centrality': 0.5685284150871959, 'avg_eigenvector_centrality': 0.11577683931965765, 'avg_degree': 17.72222222222222, 'std_degree': 3.3366180998561927, 'clustering_coefficient': 0.24740320913608585, 'transitivity': 0.24647505422993493, 'modularity': -9.949784298508183e-05, 'communities': 2, 'avg_shortest_path_length': 1.7609546165884193, 'radius': 2, 'diameter': 3, 'assortativity': -0.020262523972305675, 'vertex_connectivity': 9, 'eccentricity_avg': 2.4027777777777777, 'n_nodes': 72, 'node_types': 4, 'node_attributes': 13, 'number_of_isolates': 0, 'density': 0.24960876369327073, 'edge_types': 3, 'edge_attributes': 15, 'n_parallel_edges': 0, 'n_self_loops': 4}\n",
      "Generated statistics for graph 47 {'graph_type': 4, 'is_directed_int': 1, 'has_spatial_attributes': 1, 'has_temporal_attributes': 1, 'is_bipartite': 1, 'n_components': 6, 'avg_betweenness_centrality': 0.00464475523995039, 'avg_closeness_centrality': 0.5648590351047003, 'avg_eigenvector_centrality': 0.07628636751258118, 'avg_degree': 38.26190476190476, 'std_degree': 5.732811429750589, 'clustering_coefficient': 0.23039004483624545, 'transitivity': 0.2298537190622347, 'modularity': -3.2720878514921304e-05, 'communities': 2, 'avg_shortest_path_length': 1.771029369831765, 'radius': 2, 'diameter': 3, 'assortativity': -0.022074192692550364, 'vertex_connectivity': 26, 'eccentricity_avg': 2.017857142857143, 'n_nodes': 168, 'node_types': 1, 'node_attributes': 15, 'number_of_isolates': 0, 'density': 0.22911320216709438, 'edge_types': 4, 'edge_attributes': 0, 'n_parallel_edges': 3, 'n_self_loops': 2}\n",
      "Generated statistics for graph 48 {'graph_type': 3, 'is_directed_int': 0, 'has_spatial_attributes': 0, 'has_temporal_attributes': 1, 'is_bipartite': 0, 'n_components': 3, 'avg_betweenness_centrality': 0.052897292430381375, 'avg_closeness_centrality': 0.15136740924303127, 'avg_eigenvector_centrality': 0.0765562387915546, 'avg_degree': 2.0547945205479454, 'std_degree': 1.2459981603217214, 'clustering_coefficient': 0.01643835616438356, 'transitivity': 0.044444444444444446, 'modularity': 0.1449777777777777, 'communities': 9, 'avg_shortest_path_length': -1, 'radius': -1, 'diameter': -1, 'assortativity': 0.041666666666667185, 'vertex_connectivity': 0, 'eccentricity_avg': -1, 'n_nodes': 73, 'node_types': 1, 'node_attributes': 1, 'number_of_isolates': 7, 'density': 0.028538812785388126, 'edge_types': 3, 'edge_attributes': 11, 'n_parallel_edges': 3, 'n_self_loops': 3}\n",
      "Generated statistics for graph 49 {'graph_type': 4, 'is_directed_int': 1, 'has_spatial_attributes': 1, 'has_temporal_attributes': 1, 'is_bipartite': 1, 'n_components': 5, 'avg_betweenness_centrality': 0.011923583662714099, 'avg_closeness_centrality': 0.6573426158000597, 'avg_eigenvector_centrality': 0.14565553874809206, 'avg_degree': 21.391304347826086, 'std_degree': 3.2350734895967643, 'clustering_coefficient': 0.47717185012710234, 'transitivity': 0.4782820412933385, 'modularity': -0.0004048516094916839, 'communities': 2, 'avg_shortest_path_length': 1.5246376811594202, 'radius': 2, 'diameter': 2, 'assortativity': 0.01569738013928381, 'vertex_connectivity': 14, 'eccentricity_avg': 2.0, 'n_nodes': 46, 'node_types': 3, 'node_attributes': 3, 'number_of_isolates': 0, 'density': 0.4753623188405797, 'edge_types': 5, 'edge_attributes': 4, 'n_parallel_edges': 3, 'n_self_loops': 5}\n",
      "Generated statistics for graph 50 {'graph_type': 3, 'is_directed_int': 0, 'has_spatial_attributes': 1, 'has_temporal_attributes': 1, 'is_bipartite': 0, 'n_components': 8, 'avg_betweenness_centrality': 0.01896468311562651, 'avg_closeness_centrality': 0.3295780216634319, 'avg_eigenvector_centrality': 0.08524301392905882, 'avg_degree': 5.0754716981132075, 'std_degree': 2.1500746972961844, 'clustering_coefficient': 0.04428108579051974, 'transitivity': 0.03136669156086632, 'modularity': 0.014427661309268949, 'communities': 3, 'avg_shortest_path_length': -1, 'radius': -1, 'diameter': -1, 'assortativity': 0.010100096302564664, 'vertex_connectivity': 0, 'eccentricity_avg': -1, 'n_nodes': 106, 'node_types': 4, 'node_attributes': 8, 'number_of_isolates': 1, 'density': 0.04833782569631626, 'edge_types': 2, 'edge_attributes': 11, 'n_parallel_edges': 3, 'n_self_loops': 1}\n",
      "Generated statistics for graph 51 {'graph_type': 4, 'is_directed_int': 0, 'has_spatial_attributes': 0, 'has_temporal_attributes': 0, 'is_bipartite': 1, 'n_components': 4, 'avg_betweenness_centrality': 0.005602468075632524, 'avg_closeness_centrality': 0.5696309452784445, 'avg_eigenvector_centrality': 0.08442535612153809, 'avg_degree': 33.21167883211679, 'std_degree': 5.032878162838347, 'clustering_coefficient': 0.2431664352043229, 'transitivity': 0.24310703429150446, 'modularity': -1.8934911242660978e-05, 'communities': 2, 'avg_shortest_path_length': 1.7563331902103907, 'radius': 2, 'diameter': 3, 'assortativity': -0.0006044260563861825, 'vertex_connectivity': 14, 'eccentricity_avg': 2.0583941605839415, 'n_nodes': 137, 'node_types': 1, 'node_attributes': 5, 'number_of_isolates': 0, 'density': 0.24420352082438815, 'edge_types': 2, 'edge_attributes': 5, 'n_parallel_edges': 5, 'n_self_loops': 4}\n",
      "Generated statistics for graph 52 {'graph_type': 4, 'is_directed_int': 1, 'has_spatial_attributes': 1, 'has_temporal_attributes': 1, 'is_bipartite': 1, 'n_components': 10, 'avg_betweenness_centrality': 0.011825131390348784, 'avg_closeness_centrality': 0.4862087889404838, 'avg_eigenvector_centrality': 0.09950112670031241, 'avg_degree': 11.73913043478261, 'std_degree': 3.3310710590412547, 'clustering_coefficient': 0.13413993771153868, 'transitivity': 0.1337246192893401, 'modularity': -4.286694101508155e-05, 'communities': 2, 'avg_shortest_path_length': 2.0642618251313904, 'radius': 3, 'diameter': 4, 'assortativity': -0.012886457960888064, 'vertex_connectivity': 5, 'eccentricity_avg': 3.0217391304347827, 'n_nodes': 92, 'node_types': 5, 'node_attributes': 4, 'number_of_isolates': 0, 'density': 0.12900143334925943, 'edge_types': 4, 'edge_attributes': 6, 'n_parallel_edges': 3, 'n_self_loops': 4}\n",
      "Generated statistics for graph 53 {'graph_type': 4, 'is_directed_int': 0, 'has_spatial_attributes': 1, 'has_temporal_attributes': 0, 'is_bipartite': 1, 'n_components': 10, 'avg_betweenness_centrality': 0.005961358902535372, 'avg_closeness_centrality': 0.5893856392787928, 'avg_eigenvector_centrality': 0.09094655242794734, 'avg_degree': 35.69747899159664, 'std_degree': 4.369684900885816, 'clustering_coefficient': 0.3024266751415492, 'transitivity': 0.303111301186785, 'modularity': -6.383861597880592e-05, 'communities': 2, 'avg_shortest_path_length': 1.6974789915966386, 'radius': 2, 'diameter': 2, 'assortativity': 0.005714216548612939, 'vertex_connectivity': 24, 'eccentricity_avg': 2.0, 'n_nodes': 119, 'node_types': 5, 'node_attributes': 7, 'number_of_isolates': 0, 'density': 0.3025210084033613, 'edge_types': 1, 'edge_attributes': 7, 'n_parallel_edges': 0, 'n_self_loops': 4}\n",
      "Generated statistics for graph 54 {'graph_type': 4, 'is_directed_int': 0, 'has_spatial_attributes': 1, 'has_temporal_attributes': 1, 'is_bipartite': 0, 'n_components': 3, 'avg_betweenness_centrality': 0.008419617099396797, 'avg_closeness_centrality': 0.49236342040465214, 'avg_eigenvector_centrality': 0.08704129469348862, 'avg_degree': 14.48, 'std_degree': 3.2143829990398047, 'clustering_coefficient': 0.1202716193903163, 'transitivity': 0.12032710280373832, 'modularity': -2.991361680047803e-05, 'communities': 2, 'avg_shortest_path_length': 2.0356129032258066, 'radius': 3, 'diameter': 3, 'assortativity': -0.03968282805488969, 'vertex_connectivity': 7, 'eccentricity_avg': 3.0, 'n_nodes': 125, 'node_types': 4, 'node_attributes': 10, 'number_of_isolates': 0, 'density': 0.1167741935483871, 'edge_types': 4, 'edge_attributes': 11, 'n_parallel_edges': 1, 'n_self_loops': 1}\n",
      "Generated statistics for graph 55 {'graph_type': 4, 'is_directed_int': 1, 'has_spatial_attributes': 1, 'has_temporal_attributes': 1, 'is_bipartite': 1, 'n_components': 9, 'avg_betweenness_centrality': 0.023205128205128208, 'avg_closeness_centrality': 0.6441382344067944, 'avg_eigenvector_centrality': 0.1931330913139277, 'avg_degree': 11.076923076923077, 'std_degree': 2.133974262695348, 'clustering_coefficient': 0.4394763356301819, 'transitivity': 0.4297082228116711, 'modularity': -0.0011815200617284211, 'communities': 2, 'avg_shortest_path_length': 1.5569230769230769, 'radius': 2, 'diameter': 2, 'assortativity': -0.15856924254016938, 'vertex_connectivity': 7, 'eccentricity_avg': 2.0, 'n_nodes': 26, 'node_types': 4, 'node_attributes': 3, 'number_of_isolates': 0, 'density': 0.4430769230769231, 'edge_types': 1, 'edge_attributes': 3, 'n_parallel_edges': 5, 'n_self_loops': 5}\n",
      "Generated statistics for graph 56 {'graph_type': 3, 'is_directed_int': 1, 'has_spatial_attributes': 1, 'has_temporal_attributes': 0, 'is_bipartite': 1, 'n_components': 0, 'avg_betweenness_centrality': 0.010667729718955552, 'avg_closeness_centrality': 0.3537775376939727, 'avg_eigenvector_centrality': 0.06909170113274958, 'avg_degree': 6.994285714285715, 'std_degree': 2.7678306847615137, 'clustering_coefficient': 0.041313924171066996, 'transitivity': 0.03806228373702422, 'modularity': -1.3349566405861787e-06, 'communities': 2, 'avg_shortest_path_length': 2.8455172413793104, 'radius': 4, 'diameter': 6, 'assortativity': -0.06574169421711447, 'vertex_connectivity': 1, 'eccentricity_avg': 4.365714285714286, 'n_nodes': 175, 'node_types': 1, 'node_attributes': 6, 'number_of_isolates': 0, 'density': 0.04019704433497537, 'edge_types': 5, 'edge_attributes': 7, 'n_parallel_edges': 1, 'n_self_loops': 4}\n",
      "Generated statistics for graph 57 {'graph_type': 4, 'is_directed_int': 1, 'has_spatial_attributes': 1, 'has_temporal_attributes': 0, 'is_bipartite': 1, 'n_components': 2, 'avg_betweenness_centrality': 0.003171750693574515, 'avg_closeness_centrality': 0.6568844842206836, 'avg_eigenvector_centrality': 0.07711928121733333, 'avg_degree': 79.12574850299401, 'std_degree': 6.506882029328421, 'clustering_coefficient': 0.4775613260426675, 'transitivity': 0.47756647700268046, 'modularity': -4.262074734915537e-05, 'communities': 2, 'avg_shortest_path_length': 1.5233388644397952, 'radius': 2, 'diameter': 2, 'assortativity': -0.0007388478060046779, 'vertex_connectivity': 61, 'eccentricity_avg': 2.0, 'n_nodes': 167, 'node_types': 1, 'node_attributes': 8, 'number_of_isolates': 0, 'density': 0.4766611355602049, 'edge_types': 3, 'edge_attributes': 11, 'n_parallel_edges': 5, 'n_self_loops': 5}\n",
      "Generated statistics for graph 58 {'graph_type': 4, 'is_directed_int': 0, 'has_spatial_attributes': 0, 'has_temporal_attributes': 1, 'is_bipartite': 1, 'n_components': 6, 'avg_betweenness_centrality': 0.003443864865513681, 'avg_closeness_centrality': 0.6189359608841447, 'avg_eigenvector_centrality': 0.0740156381014086, 'avg_degree': 69.03867403314918, 'std_degree': 6.400837307106329, 'clustering_coefficient': 0.3826879355886827, 'transitivity': 0.3826391755462426, 'modularity': -3.20204898346729e-05, 'communities': 2, 'avg_shortest_path_length': 1.616451810926949, 'radius': 2, 'diameter': 2, 'assortativity': -0.01715996785400597, 'vertex_connectivity': 50, 'eccentricity_avg': 2.0, 'n_nodes': 181, 'node_types': 3, 'node_attributes': 7, 'number_of_isolates': 0, 'density': 0.38354818907305094, 'edge_types': 4, 'edge_attributes': 0, 'n_parallel_edges': 1, 'n_self_loops': 4}\n",
      "Generated statistics for graph 59 {'graph_type': 4, 'is_directed_int': 1, 'has_spatial_attributes': 1, 'has_temporal_attributes': 1, 'is_bipartite': 0, 'n_components': 9, 'avg_betweenness_centrality': 0.005275357267340539, 'avg_closeness_centrality': 0.5584501777736476, 'avg_eigenvector_centrality': 0.07999519423738283, 'avg_degree': 31.61842105263158, 'std_degree': 5.012480067871804, 'clustering_coefficient': 0.20724060872726094, 'transitivity': 0.20820690843082956, 'modularity': -3.818572601981648e-05, 'communities': 2, 'avg_shortest_path_length': 1.7913035901010805, 'radius': 2, 'diameter': 3, 'assortativity': 0.022881194914239105, 'vertex_connectivity': 20, 'eccentricity_avg': 2.098684210526316, 'n_nodes': 152, 'node_types': 2, 'node_attributes': 10, 'number_of_isolates': 0, 'density': 0.2093935169048449, 'edge_types': 1, 'edge_attributes': 8, 'n_parallel_edges': 0, 'n_self_loops': 3}\n",
      "Generated statistics for graph 60 {'graph_type': 4, 'is_directed_int': 0, 'has_spatial_attributes': 1, 'has_temporal_attributes': 1, 'is_bipartite': 0, 'n_components': 9, 'avg_betweenness_centrality': 0.0047142525649313, 'avg_closeness_centrality': 0.5582125250865053, 'avg_eigenvector_centrality': 0.07581919741023473, 'avg_degree': 35.22352941176471, 'std_degree': 5.284512305764905, 'clustering_coefficient': 0.20755313874297965, 'transitivity': 0.20740281421416648, 'modularity': -3.770622964936311e-05, 'communities': 2, 'avg_shortest_path_length': 1.7919944309084581, 'radius': 2, 'diameter': 3, 'assortativity': -0.015790232587888142, 'vertex_connectivity': 25, 'eccentricity_avg': 2.052941176470588, 'n_nodes': 170, 'node_types': 1, 'node_attributes': 9, 'number_of_isolates': 0, 'density': 0.2084232509571876, 'edge_types': 2, 'edge_attributes': 5, 'n_parallel_edges': 0, 'n_self_loops': 5}\n",
      "Generated statistics for graph 61 {'graph_type': 4, 'is_directed_int': 1, 'has_spatial_attributes': 1, 'has_temporal_attributes': 1, 'is_bipartite': 0, 'n_components': 1, 'avg_betweenness_centrality': 0.006518723994452146, 'avg_closeness_centrality': 0.5987394941696115, 'avg_eigenvector_centrality': 0.09664766413517771, 'avg_degree': 34.17142857142857, 'std_degree': 4.780684580156388, 'clustering_coefficient': 0.32447747401314847, 'transitivity': 0.32427757092490694, 'modularity': -6.851153790234937e-05, 'communities': 2, 'avg_shortest_path_length': 1.6714285714285715, 'radius': 2, 'diameter': 2, 'assortativity': -0.026767570009578717, 'vertex_connectivity': 21, 'eccentricity_avg': 2.0, 'n_nodes': 105, 'node_types': 5, 'node_attributes': 12, 'number_of_isolates': 0, 'density': 0.32857142857142857, 'edge_types': 3, 'edge_attributes': 8, 'n_parallel_edges': 3, 'n_self_loops': 4}\n",
      "Generated statistics for graph 62 {'graph_type': 3, 'is_directed_int': 0, 'has_spatial_attributes': 1, 'has_temporal_attributes': 0, 'is_bipartite': 1, 'n_components': 9, 'avg_betweenness_centrality': 0.011521613356475741, 'avg_closeness_centrality': 0.4454610447571174, 'avg_eigenvector_centrality': 0.08973582998972854, 'avg_degree': 10.198198198198199, 'std_degree': 3.1617596361399767, 'clustering_coefficient': 0.07759936707305122, 'transitivity': 0.08026407227241139, 'modularity': -2.4972218407079945e-05, 'communities': 2, 'avg_shortest_path_length': 2.255855855855856, 'radius': 3, 'diameter': 4, 'assortativity': 0.009366164825559952, 'vertex_connectivity': 4, 'eccentricity_avg': 3.126126126126126, 'n_nodes': 111, 'node_types': 2, 'node_attributes': 11, 'number_of_isolates': 0, 'density': 0.09271089271089271, 'edge_types': 1, 'edge_attributes': 5, 'n_parallel_edges': 2, 'n_self_loops': 3}\n",
      "Generated statistics for graph 63 {'graph_type': 4, 'is_directed_int': 1, 'has_spatial_attributes': 1, 'has_temporal_attributes': 1, 'is_bipartite': 0, 'n_components': 5, 'avg_betweenness_centrality': 0.0216927453769559, 'avg_closeness_centrality': 0.5639623619236898, 'avg_eigenvector_centrality': 0.15647193331449907, 'avg_degree': 9.894736842105264, 'std_degree': 2.6075718609383185, 'clustering_coefficient': 0.2516835503677609, 'transitivity': 0.25194660734149055, 'modularity': -0.00022634676324128876, 'communities': 2, 'avg_shortest_path_length': 1.7809388335704126, 'radius': 2, 'diameter': 3, 'assortativity': -0.06803508703075303, 'vertex_connectivity': 4, 'eccentricity_avg': 2.710526315789474, 'n_nodes': 38, 'node_types': 5, 'node_attributes': 7, 'number_of_isolates': 0, 'density': 0.267425320056899, 'edge_types': 3, 'edge_attributes': 8, 'n_parallel_edges': 1, 'n_self_loops': 4}\n",
      "Generated statistics for graph 64 {'graph_type': 4, 'is_directed_int': 1, 'has_spatial_attributes': 0, 'has_temporal_attributes': 0, 'is_bipartite': 0, 'n_components': 8, 'avg_betweenness_centrality': 0.012868231361571673, 'avg_closeness_centrality': 0.5774791694817244, 'avg_eigenvector_centrality': 0.12787494070421637, 'avg_degree': 15.76271186440678, 'std_degree': 2.9439533767558177, 'clustering_coefficient': 0.2631615571864048, 'transitivity': 0.26349072512647553, 'modularity': -0.00018730489073892555, 'communities': 2, 'avg_shortest_path_length': 1.733489187609585, 'radius': 2, 'diameter': 3, 'assortativity': -0.037757922779434974, 'vertex_connectivity': 9, 'eccentricity_avg': 2.23728813559322, 'n_nodes': 59, 'node_types': 3, 'node_attributes': 0, 'number_of_isolates': 0, 'density': 0.27177089421391, 'edge_types': 1, 'edge_attributes': 10, 'n_parallel_edges': 3, 'n_self_loops': 5}\n",
      "Generated statistics for graph 65 {'graph_type': 4, 'is_directed_int': 0, 'has_spatial_attributes': 1, 'has_temporal_attributes': 1, 'is_bipartite': 1, 'n_components': 8, 'avg_betweenness_centrality': 0.0051494829065618945, 'avg_closeness_centrality': 0.618493782779217, 'avg_eigenvector_centrality': 0.08999467304374179, 'avg_degree': 46.22950819672131, 'std_degree': 5.139036931427608, 'clustering_coefficient': 0.3821240007858775, 'transitivity': 0.3816175616555035, 'modularity': -7.70207736030511e-05, 'communities': 2, 'avg_shortest_path_length': 1.6179379487874272, 'radius': 2, 'diameter': 2, 'assortativity': -0.026755466370209046, 'vertex_connectivity': 35, 'eccentricity_avg': 2.0, 'n_nodes': 122, 'node_types': 2, 'node_attributes': 10, 'number_of_isolates': 0, 'density': 0.3820620512125728, 'edge_types': 3, 'edge_attributes': 11, 'n_parallel_edges': 5, 'n_self_loops': 1}\n",
      "Generated statistics for graph 66 {'graph_type': 4, 'is_directed_int': 0, 'has_spatial_attributes': 0, 'has_temporal_attributes': 0, 'is_bipartite': 1, 'n_components': 6, 'avg_betweenness_centrality': 0.0075630252100840345, 'avg_closeness_centrality': 0.6149206391532651, 'avg_eigenvector_centrality': 0.10751501480734998, 'avg_degree': 31.270588235294117, 'std_degree': 4.178710883736747, 'clustering_coefficient': 0.37595283451121925, 'transitivity': 0.37614432536679443, 'modularity': -9.172021258712897e-05, 'communities': 2, 'avg_shortest_path_length': 1.6277310924369748, 'radius': 2, 'diameter': 2, 'assortativity': -0.024041768475782956, 'vertex_connectivity': 18, 'eccentricity_avg': 2.0, 'n_nodes': 85, 'node_types': 2, 'node_attributes': 15, 'number_of_isolates': 0, 'density': 0.3722689075630252, 'edge_types': 1, 'edge_attributes': 7, 'n_parallel_edges': 1, 'n_self_loops': 1}\n",
      "Generated statistics for graph 67 {'graph_type': 4, 'is_directed_int': 1, 'has_spatial_attributes': 1, 'has_temporal_attributes': 0, 'is_bipartite': 0, 'n_components': 0, 'avg_betweenness_centrality': 0.015346459096459097, 'avg_closeness_centrality': 0.5102124919275596, 'avg_eigenvector_centrality': 0.11985951640589006, 'avg_degree': 10.738461538461538, 'std_degree': 2.7685562746951424, 'clustering_coefficient': 0.1415625525806521, 'transitivity': 0.13995609220636662, 'modularity': -6.568090573973176e-05, 'communities': 2, 'avg_shortest_path_length': 1.966826923076923, 'radius': 3, 'diameter': 3, 'assortativity': -0.06919291271275843, 'vertex_connectivity': 4, 'eccentricity_avg': 3.0, 'n_nodes': 65, 'node_types': 5, 'node_attributes': 12, 'number_of_isolates': 0, 'density': 0.16778846153846153, 'edge_types': 5, 'edge_attributes': 13, 'n_parallel_edges': 0, 'n_self_loops': 1}\n",
      "Generated statistics for graph 68 {'graph_type': 3, 'is_directed_int': 0, 'has_spatial_attributes': 0, 'has_temporal_attributes': 0, 'is_bipartite': 1, 'n_components': 7, 'avg_betweenness_centrality': 0.02739370334307043, 'avg_closeness_centrality': 0.25990029176725693, 'avg_eigenvector_centrality': 0.0913612644299239, 'avg_degree': 3.45, 'std_degree': 1.7129440198645935, 'clustering_coefficient': 0.05113095238095239, 'transitivity': 0.046255506607929514, 'modularity': 0.014256458727158233, 'communities': 7, 'avg_shortest_path_length': -1, 'radius': -1, 'diameter': -1, 'assortativity': 0.08992363966465478, 'vertex_connectivity': 0, 'eccentricity_avg': -1, 'n_nodes': 80, 'node_types': 2, 'node_attributes': 10, 'number_of_isolates': 5, 'density': 0.043670886075949364, 'edge_types': 1, 'edge_attributes': 8, 'n_parallel_edges': 1, 'n_self_loops': 3}\n",
      "Generated statistics for graph 69 {'graph_type': 4, 'is_directed_int': 0, 'has_spatial_attributes': 1, 'has_temporal_attributes': 0, 'is_bipartite': 0, 'n_components': 7, 'avg_betweenness_centrality': 0.0058150500898592515, 'avg_closeness_centrality': 0.5697333550950755, 'avg_eigenvector_centrality': 0.08607671942179342, 'avg_degree': 32.0, 'std_degree': 4.748643840151701, 'clustering_coefficient': 0.241262494690563, 'transitivity': 0.24045168710510986, 'modularity': -4.0465916264932145e-05, 'communities': 2, 'avg_shortest_path_length': 1.7559565116817024, 'radius': 2, 'diameter': 3, 'assortativity': -0.019223463814403024, 'vertex_connectivity': 19, 'eccentricity_avg': 2.0303030303030303, 'n_nodes': 132, 'node_types': 5, 'node_attributes': 13, 'number_of_isolates': 0, 'density': 0.24427480916030533, 'edge_types': 1, 'edge_attributes': 9, 'n_parallel_edges': 5, 'n_self_loops': 5}\n",
      "Generated statistics for graph 70 {'graph_type': 4, 'is_directed_int': 0, 'has_spatial_attributes': 0, 'has_temporal_attributes': 0, 'is_bipartite': 1, 'n_components': 1, 'avg_betweenness_centrality': 0.007434425576018501, 'avg_closeness_centrality': 0.5482175567143872, 'avg_eigenvector_centrality': 0.0923737160045164, 'avg_degree': 21.008849557522122, 'std_degree': 3.88333337854873, 'clustering_coefficient': 0.18795548215899577, 'transitivity': 0.187355153486481, 'modularity': -6.955440467466681e-05, 'communities': 2, 'avg_shortest_path_length': 1.825221238938053, 'radius': 2, 'diameter': 3, 'assortativity': -0.013005972926569333, 'vertex_connectivity': 12, 'eccentricity_avg': 2.6548672566371683, 'n_nodes': 113, 'node_types': 3, 'node_attributes': 3, 'number_of_isolates': 0, 'density': 0.18757901390644754, 'edge_types': 1, 'edge_attributes': 0, 'n_parallel_edges': 2, 'n_self_loops': 5}\n",
      "Generated statistics for graph 71 {'graph_type': 4, 'is_directed_int': 0, 'has_spatial_attributes': 0, 'has_temporal_attributes': 1, 'is_bipartite': 1, 'n_components': 8, 'avg_betweenness_centrality': 0.004860735154106076, 'avg_closeness_centrality': 0.6024082113778216, 'avg_eigenvector_centrality': 0.08449459907098533, 'avg_degree': 46.43478260869565, 'std_degree': 5.770496976331928, 'clustering_coefficient': 0.34061414301056453, 'transitivity': 0.34022752174442356, 'modularity': -4.096198416148828e-05, 'communities': 2, 'avg_shortest_path_length': 1.6610599809584259, 'radius': 2, 'diameter': 2, 'assortativity': -0.03221780181474074, 'vertex_connectivity': 29, 'eccentricity_avg': 2.0, 'n_nodes': 138, 'node_types': 4, 'node_attributes': 6, 'number_of_isolates': 0, 'density': 0.3389400190415741, 'edge_types': 3, 'edge_attributes': 3, 'n_parallel_edges': 0, 'n_self_loops': 3}\n",
      "Generated statistics for graph 72 {'graph_type': 4, 'is_directed_int': 1, 'has_spatial_attributes': 1, 'has_temporal_attributes': 0, 'is_bipartite': 1, 'n_components': 4, 'avg_betweenness_centrality': 0.013841421736158582, 'avg_closeness_centrality': 0.5687541669413675, 'avg_eigenvector_centrality': 0.12909529328961047, 'avg_degree': 14.350877192982455, 'std_degree': 3.2595531467966556, 'clustering_coefficient': 0.26504755014205883, 'transitivity': 0.2594650920458493, 'modularity': -0.0001912948870462572, 'communities': 2, 'avg_shortest_path_length': 1.7612781954887218, 'radius': 2, 'diameter': 3, 'assortativity': -0.04844180074584818, 'vertex_connectivity': 8, 'eccentricity_avg': 2.56140350877193, 'n_nodes': 57, 'node_types': 3, 'node_attributes': 15, 'number_of_isolates': 0, 'density': 0.25626566416040103, 'edge_types': 4, 'edge_attributes': 5, 'n_parallel_edges': 2, 'n_self_loops': 1}\n",
      "Generated statistics for graph 73 {'graph_type': 4, 'is_directed_int': 1, 'has_spatial_attributes': 0, 'has_temporal_attributes': 0, 'is_bipartite': 0, 'n_components': 8, 'avg_betweenness_centrality': 0.006798815219867854, 'avg_closeness_centrality': 0.663237605805178, 'avg_eigenvector_centrality': 0.11324499142636024, 'avg_degree': 37.246753246753244, 'std_degree': 4.344251628834071, 'clustering_coefficient': 0.4896440542054411, 'transitivity': 0.4889268431539994, 'modularity': -0.00020448793885878983, 'communities': 2, 'avg_shortest_path_length': 1.5099111414900888, 'radius': 2, 'diameter': 2, 'assortativity': -0.053093997563922316, 'vertex_connectivity': 29, 'eccentricity_avg': 2.0, 'n_nodes': 77, 'node_types': 3, 'node_attributes': 5, 'number_of_isolates': 0, 'density': 0.49008885850991113, 'edge_types': 5, 'edge_attributes': 0, 'n_parallel_edges': 5, 'n_self_loops': 2}\n",
      "Generated statistics for graph 74 {'graph_type': 4, 'is_directed_int': 1, 'has_spatial_attributes': 0, 'has_temporal_attributes': 0, 'is_bipartite': 1, 'n_components': 3, 'avg_betweenness_centrality': 0.007768593397192964, 'avg_closeness_centrality': 0.5835457070886672, 'avg_eigenvector_centrality': 0.10199428820670288, 'avg_degree': 26.53191489361702, 'std_degree': 3.9450585060724936, 'clustering_coefficient': 0.280961619445233, 'transitivity': 0.28173945089367974, 'modularity': -0.00011607649859259464, 'communities': 2, 'avg_shortest_path_length': 1.7147105925417525, 'radius': 2, 'diameter': 2, 'assortativity': -0.022233450031889194, 'vertex_connectivity': 19, 'eccentricity_avg': 2.0, 'n_nodes': 94, 'node_types': 5, 'node_attributes': 11, 'number_of_isolates': 0, 'density': 0.28528940745824755, 'edge_types': 1, 'edge_attributes': 5, 'n_parallel_edges': 3, 'n_self_loops': 4}\n",
      "Error calculating modularity: Graph must have at least one edge and one node to calculate modularity.\n",
      "Graph 75 failed to extract statistics\n",
      "Generated statistics for graph 76 {'graph_type': 3, 'is_directed_int': 0, 'has_spatial_attributes': 1, 'has_temporal_attributes': 0, 'is_bipartite': 0, 'n_components': 6, 'avg_betweenness_centrality': 0.02781918096958748, 'avg_closeness_centrality': 0.31428086608719047, 'avg_eigenvector_centrality': 0.09259984903241612, 'avg_degree': 4.219512195121951, 'std_degree': 1.8326557013259555, 'clustering_coefficient': 0.05647502903600464, 'transitivity': 0.05627705627705628, 'modularity': 0.011410337799458744, 'communities': 2, 'avg_shortest_path_length': 3.225534477566998, 'radius': 4, 'diameter': 6, 'assortativity': 0.037940111878905614, 'vertex_connectivity': 1, 'eccentricity_avg': 5.195121951219512, 'n_nodes': 82, 'node_types': 1, 'node_attributes': 12, 'number_of_isolates': 0, 'density': 0.05209274314965372, 'edge_types': 4, 'edge_attributes': 4, 'n_parallel_edges': 4, 'n_self_loops': 1}\n",
      "Generated statistics for graph 77 {'graph_type': 4, 'is_directed_int': 0, 'has_spatial_attributes': 1, 'has_temporal_attributes': 1, 'is_bipartite': 1, 'n_components': 8, 'avg_betweenness_centrality': 0.00906225892418823, 'avg_closeness_centrality': 0.5355841288368172, 'avg_eigenvector_centrality': 0.09829667651381994, 'avg_degree': 16.877551020408163, 'std_degree': 3.856351852563786, 'clustering_coefficient': 0.18028378465355305, 'transitivity': 0.1782414091827895, 'modularity': -4.678848243021024e-05, 'communities': 2, 'avg_shortest_path_length': 1.8699768567220703, 'radius': 2, 'diameter': 3, 'assortativity': -0.026059982557216865, 'vertex_connectivity': 8, 'eccentricity_avg': 2.9183673469387754, 'n_nodes': 98, 'node_types': 1, 'node_attributes': 9, 'number_of_isolates': 0, 'density': 0.17399537134441406, 'edge_types': 2, 'edge_attributes': 0, 'n_parallel_edges': 2, 'n_self_loops': 2}\n",
      "Generated statistics for graph 78 {'graph_type': 4, 'is_directed_int': 1, 'has_spatial_attributes': 0, 'has_temporal_attributes': 1, 'is_bipartite': 1, 'n_components': 1, 'avg_betweenness_centrality': 0.009444647424187063, 'avg_closeness_centrality': 0.609658727536552, 'avg_eigenvector_centrality': 0.11806354593787717, 'avg_degree': 24.685714285714287, 'std_degree': 3.9655869574609337, 'clustering_coefficient': 0.3557875445170285, 'transitivity': 0.35602418241538536, 'modularity': -0.00017146776406021518, 'communities': 2, 'avg_shortest_path_length': 1.6422360248447205, 'radius': 2, 'diameter': 2, 'assortativity': -0.051695614357779265, 'vertex_connectivity': 15, 'eccentricity_avg': 2.0, 'n_nodes': 70, 'node_types': 3, 'node_attributes': 9, 'number_of_isolates': 0, 'density': 0.3577639751552795, 'edge_types': 1, 'edge_attributes': 2, 'n_parallel_edges': 2, 'n_self_loops': 2}\n",
      "Generated statistics for graph 79 {'graph_type': 4, 'is_directed_int': 1, 'has_spatial_attributes': 1, 'has_temporal_attributes': 1, 'is_bipartite': 0, 'n_components': 3, 'avg_betweenness_centrality': 0.005448557772395852, 'avg_closeness_centrality': 0.6152055383480841, 'avg_eigenvector_centrality': 0.09186455666213869, 'avg_degree': 43.31623931623932, 'std_degree': 4.922939920360129, 'clustering_coefficient': 0.3705380130942622, 'transitivity': 0.3701293321673494, 'modularity': -8.479781522206922e-05, 'communities': 2, 'avg_shortest_path_length': 1.626584143825523, 'radius': 2, 'diameter': 2, 'assortativity': -0.020021650919540803, 'vertex_connectivity': 33, 'eccentricity_avg': 2.0, 'n_nodes': 117, 'node_types': 3, 'node_attributes': 6, 'number_of_isolates': 0, 'density': 0.37341585617447687, 'edge_types': 3, 'edge_attributes': 9, 'n_parallel_edges': 5, 'n_self_loops': 2}\n",
      "Generated statistics for graph 80 {'graph_type': 4, 'is_directed_int': 0, 'has_spatial_attributes': 1, 'has_temporal_attributes': 0, 'is_bipartite': 1, 'n_components': 9, 'avg_betweenness_centrality': 0.2333333333333333, 'avg_closeness_centrality': 0.5419464794464796, 'avg_eigenvector_centrality': 0.37356755024536953, 'avg_degree': 2.0, 'std_degree': 0.8944271909999159, 'clustering_coefficient': 0.27777777777777773, 'transitivity': 0.375, 'modularity': 0.2083333333333333, 'communities': 2, 'avg_shortest_path_length': 1.9333333333333333, 'radius': 2, 'diameter': 4, 'assortativity': -0.1999999999999993, 'vertex_connectivity': 1, 'eccentricity_avg': 3.1666666666666665, 'n_nodes': 6, 'node_types': 4, 'node_attributes': 13, 'number_of_isolates': 0, 'density': 0.4, 'edge_types': 5, 'edge_attributes': 13, 'n_parallel_edges': 4, 'n_self_loops': 1}\n",
      "Generated statistics for graph 81 {'graph_type': 4, 'is_directed_int': 0, 'has_spatial_attributes': 1, 'has_temporal_attributes': 0, 'is_bipartite': 0, 'n_components': 9, 'avg_betweenness_centrality': 0.0035824862135406268, 'avg_closeness_centrality': 0.6176631774237937, 'avg_eigenvector_centrality': 0.07526135882268277, 'avg_degree': 66.16, 'std_degree': 6.138965430080555, 'clustering_coefficient': 0.37963134670449306, 'transitivity': 0.3796814633761728, 'modularity': -4.350612715771135e-05, 'communities': 2, 'avg_shortest_path_length': 1.6197701149425288, 'radius': 2, 'diameter': 2, 'assortativity': 0.0010013542459706795, 'vertex_connectivity': 53, 'eccentricity_avg': 2.0, 'n_nodes': 175, 'node_types': 1, 'node_attributes': 8, 'number_of_isolates': 0, 'density': 0.38022988505747124, 'edge_types': 2, 'edge_attributes': 10, 'n_parallel_edges': 3, 'n_self_loops': 1}\n",
      "Generated statistics for graph 82 {'graph_type': 4, 'is_directed_int': 1, 'has_spatial_attributes': 1, 'has_temporal_attributes': 1, 'is_bipartite': 1, 'n_components': 10, 'avg_betweenness_centrality': 0.015234102026554855, 'avg_closeness_centrality': 0.5545591711559413, 'avg_eigenvector_centrality': 0.13080543185226642, 'avg_degree': 12.618181818181819, 'std_degree': 2.9782601750071582, 'clustering_coefficient': 0.2149765693855195, 'transitivity': 0.2184500117068602, 'modularity': -0.0002034731623052166, 'communities': 2, 'avg_shortest_path_length': 1.8074074074074074, 'radius': 2, 'diameter': 3, 'assortativity': -0.021701450585607348, 'vertex_connectivity': 7, 'eccentricity_avg': 2.8363636363636364, 'n_nodes': 55, 'node_types': 3, 'node_attributes': 10, 'number_of_isolates': 0, 'density': 0.23367003367003367, 'edge_types': 5, 'edge_attributes': 0, 'n_parallel_edges': 1, 'n_self_loops': 1}\n",
      "Generated statistics for graph 83 {'graph_type': 4, 'is_directed_int': 1, 'has_spatial_attributes': 0, 'has_temporal_attributes': 0, 'is_bipartite': 1, 'n_components': 5, 'avg_betweenness_centrality': 0.02054134223210975, 'avg_closeness_centrality': 0.6290963548223363, 'avg_eigenvector_centrality': 0.17510192440368186, 'avg_degree': 12.258064516129032, 'std_degree': 2.8043744630545078, 'clustering_coefficient': 0.41354962242059023, 'transitivity': 0.409392999556934, 'modularity': -0.0004986149584487355, 'communities': 2, 'avg_shortest_path_length': 1.5956989247311828, 'radius': 2, 'diameter': 3, 'assortativity': -0.06454235242003475, 'vertex_connectivity': 6, 'eccentricity_avg': 2.096774193548387, 'n_nodes': 31, 'node_types': 1, 'node_attributes': 12, 'number_of_isolates': 0, 'density': 0.40860215053763443, 'edge_types': 4, 'edge_attributes': 3, 'n_parallel_edges': 4, 'n_self_loops': 0}\n",
      "Generated statistics for graph 84 {'graph_type': 4, 'is_directed_int': 0, 'has_spatial_attributes': 0, 'has_temporal_attributes': 1, 'is_bipartite': 0, 'n_components': 3, 'avg_betweenness_centrality': 0.0068341982599210895, 'avg_closeness_centrality': 0.5559375917015291, 'avg_eigenvector_centrality': 0.09017425556881167, 'avg_degree': 24.067226890756302, 'std_degree': 4.197923401964629, 'clustering_coefficient': 0.2028648796670775, 'transitivity': 0.2030406198638178, 'modularity': -5.486134952087233e-05, 'communities': 2, 'avg_shortest_path_length': 1.7996011964107677, 'radius': 2, 'diameter': 3, 'assortativity': 0.004165356823156249, 'vertex_connectivity': 15, 'eccentricity_avg': 2.310924369747899, 'n_nodes': 119, 'node_types': 3, 'node_attributes': 9, 'number_of_isolates': 0, 'density': 0.20395954992166357, 'edge_types': 2, 'edge_attributes': 0, 'n_parallel_edges': 5, 'n_self_loops': 5}\n",
      "Generated statistics for graph 85 {'graph_type': 4, 'is_directed_int': 1, 'has_spatial_attributes': 1, 'has_temporal_attributes': 1, 'is_bipartite': 0, 'n_components': 4, 'avg_betweenness_centrality': 0.032136752136752135, 'avg_closeness_centrality': 0.5568648291480156, 'avg_eigenvector_centrality': 0.18738484270156408, 'avg_degree': 7.111111111111111, 'std_degree': 1.8045526471705546, 'clustering_coefficient': 0.2343033509700177, 'transitivity': 0.21939586645468998, 'modularity': -0.00048828125, 'communities': 2, 'avg_shortest_path_length': 1.8034188034188035, 'radius': 2, 'diameter': 3, 'assortativity': -0.2060806566439137, 'vertex_connectivity': 3, 'eccentricity_avg': 2.925925925925926, 'n_nodes': 27, 'node_types': 3, 'node_attributes': 13, 'number_of_isolates': 0, 'density': 0.27350427350427353, 'edge_types': 2, 'edge_attributes': 9, 'n_parallel_edges': 3, 'n_self_loops': 3}\n",
      "Generated statistics for graph 86 {'graph_type': 3, 'is_directed_int': 0, 'has_spatial_attributes': 1, 'has_temporal_attributes': 1, 'is_bipartite': 1, 'n_components': 5, 'avg_betweenness_centrality': 0.03690838037342597, 'avg_closeness_centrality': 0.32537402157554784, 'avg_eigenvector_centrality': 0.12272784804664644, 'avg_degree': 4.0, 'std_degree': 1.9364916731037085, 'clustering_coefficient': 0.08629737609329446, 'transitivity': 0.0859375, 'modularity': 0.1091211995002082, 'communities': 4, 'avg_shortest_path_length': -1, 'radius': -1, 'diameter': -1, 'assortativity': 0.022433427519479077, 'vertex_connectivity': 0, 'eccentricity_avg': -1, 'n_nodes': 49, 'node_types': 3, 'node_attributes': 14, 'number_of_isolates': 2, 'density': 0.08333333333333333, 'edge_types': 3, 'edge_attributes': 1, 'n_parallel_edges': 4, 'n_self_loops': 0}\n",
      "Generated statistics for graph 87 {'graph_type': 4, 'is_directed_int': 0, 'has_spatial_attributes': 0, 'has_temporal_attributes': 1, 'is_bipartite': 1, 'n_components': 6, 'avg_betweenness_centrality': 0.043567251461988296, 'avg_closeness_centrality': 0.5661945621113852, 'avg_eigenvector_centrality': 0.2162097162258258, 'avg_degree': 5.8, 'std_degree': 1.7044832524535807, 'clustering_coefficient': 0.28535714285714286, 'transitivity': 0.24509803921568626, 'modularity': -0.0005945303210462725, 'communities': 2, 'avg_shortest_path_length': 1.7842105263157895, 'radius': 2, 'diameter': 3, 'assortativity': -0.2387316561844863, 'vertex_connectivity': 2, 'eccentricity_avg': 2.75, 'n_nodes': 20, 'node_types': 3, 'node_attributes': 2, 'number_of_isolates': 0, 'density': 0.30526315789473685, 'edge_types': 1, 'edge_attributes': 12, 'n_parallel_edges': 4, 'n_self_loops': 1}\n",
      "Generated statistics for graph 88 {'graph_type': 4, 'is_directed_int': 0, 'has_spatial_attributes': 0, 'has_temporal_attributes': 1, 'is_bipartite': 0, 'n_components': 4, 'avg_betweenness_centrality': 0.004035818208677308, 'avg_closeness_centrality': 0.599097339136776, 'avg_eigenvector_centrality': 0.07669639165213338, 'avg_degree': 55.11904761904762, 'std_degree': 5.977812793499478, 'clustering_coefficient': 0.33105036263344795, 'transitivity': 0.330993275620674, 'modularity': -3.731882874856895e-05, 'communities': 2, 'avg_shortest_path_length': 1.6699458226404333, 'radius': 2, 'diameter': 2, 'assortativity': -0.01112750482970003, 'vertex_connectivity': 40, 'eccentricity_avg': 2.0, 'n_nodes': 168, 'node_types': 4, 'node_attributes': 5, 'number_of_isolates': 0, 'density': 0.3300541773595666, 'edge_types': 4, 'edge_attributes': 10, 'n_parallel_edges': 0, 'n_self_loops': 2}\n",
      "Generated statistics for graph 89 {'graph_type': 3, 'is_directed_int': 1, 'has_spatial_attributes': 1, 'has_temporal_attributes': 0, 'is_bipartite': 0, 'n_components': 7, 'avg_betweenness_centrality': 0.02625943902115388, 'avg_closeness_centrality': 0.2490179452928217, 'avg_eigenvector_centrality': 0.07044479248668262, 'avg_degree': 3.327731092436975, 'std_degree': 1.63182981258629, 'clustering_coefficient': 0.03724823262638388, 'transitivity': 0.03398058252427184, 'modularity': 0.18503213957759407, 'communities': 2, 'avg_shortest_path_length': 4.072354365475004, 'radius': 5, 'diameter': 8, 'assortativity': -0.026511134676563786, 'vertex_connectivity': 1, 'eccentricity_avg': 6.605042016806722, 'n_nodes': 119, 'node_types': 5, 'node_attributes': 15, 'number_of_isolates': 0, 'density': 0.02820111095285572, 'edge_types': 2, 'edge_attributes': 12, 'n_parallel_edges': 5, 'n_self_loops': 1}\n",
      "Generated statistics for graph 90 {'graph_type': 4, 'is_directed_int': 0, 'has_spatial_attributes': 1, 'has_temporal_attributes': 0, 'is_bipartite': 0, 'n_components': 9, 'avg_betweenness_centrality': 0.004318004562915016, 'avg_closeness_centrality': 0.625286380977159, 'avg_eigenvector_centrality': 0.08381753682867282, 'avg_degree': 55.97163120567376, 'std_degree': 5.449696272547604, 'clustering_coefficient': 0.3989847689327243, 'transitivity': 0.3988958752859628, 'modularity': -4.161604879255419e-05, 'communities': 2, 'avg_shortest_path_length': 1.6002026342451874, 'radius': 2, 'diameter': 2, 'assortativity': -0.010419672205873117, 'vertex_connectivity': 36, 'eccentricity_avg': 2.0, 'n_nodes': 141, 'node_types': 2, 'node_attributes': 4, 'number_of_isolates': 0, 'density': 0.39979736575481256, 'edge_types': 5, 'edge_attributes': 10, 'n_parallel_edges': 2, 'n_self_loops': 5}\n",
      "Generated statistics for graph 91 {'graph_type': 4, 'is_directed_int': 1, 'has_spatial_attributes': 1, 'has_temporal_attributes': 0, 'is_bipartite': 1, 'n_components': 0, 'avg_betweenness_centrality': 0.010462111727934513, 'avg_closeness_centrality': 0.5546087447830362, 'avg_eigenvector_centrality': 0.10980514053120674, 'avg_degree': 16.658227848101266, 'std_degree': 3.9186800366285266, 'clustering_coefficient': 0.21695028184946227, 'transitivity': 0.21188772702256467, 'modularity': -0.000139734481388731, 'communities': 2, 'avg_shortest_path_length': 1.8055826030509574, 'radius': 2, 'diameter': 3, 'assortativity': -0.11560034272337341, 'vertex_connectivity': 9, 'eccentricity_avg': 2.632911392405063, 'n_nodes': 79, 'node_types': 5, 'node_attributes': 4, 'number_of_isolates': 0, 'density': 0.21356702369360597, 'edge_types': 2, 'edge_attributes': 2, 'n_parallel_edges': 5, 'n_self_loops': 1}\n",
      "Generated statistics for graph 92 {'graph_type': 3, 'is_directed_int': 1, 'has_spatial_attributes': 0, 'has_temporal_attributes': 0, 'is_bipartite': 0, 'n_components': 2, 'avg_betweenness_centrality': 0.029999157124107462, 'avg_closeness_centrality': 0.14686024749531396, 'avg_eigenvector_centrality': 0.07300966270602062, 'avg_degree': 2.126315789473684, 'std_degree': 1.4160336068793955, 'clustering_coefficient': 0.0, 'transitivity': 0, 'modularity': 0.4047152239976473, 'communities': 16, 'avg_shortest_path_length': -1, 'radius': -1, 'diameter': -1, 'assortativity': -0.008944894228258643, 'vertex_connectivity': 0, 'eccentricity_avg': -1, 'n_nodes': 95, 'node_types': 4, 'node_attributes': 3, 'number_of_isolates': 13, 'density': 0.022620380739081746, 'edge_types': 1, 'edge_attributes': 15, 'n_parallel_edges': 2, 'n_self_loops': 4}\n",
      "Generated statistics for graph 93 {'graph_type': 4, 'is_directed_int': 0, 'has_spatial_attributes': 1, 'has_temporal_attributes': 0, 'is_bipartite': 1, 'n_components': 3, 'avg_betweenness_centrality': 0.004914542474055788, 'avg_closeness_centrality': 0.658093026833101, 'avg_eigenvector_centrality': 0.0957640157623245, 'avg_degree': 51.25925925925926, 'std_degree': 4.965997222928922, 'clustering_coefficient': 0.47758766697613286, 'transitivity': 0.4779509673376674, 'modularity': -9.423343579805941e-05, 'communities': 2, 'avg_shortest_path_length': 1.5209415022499135, 'radius': 2, 'diameter': 2, 'assortativity': 0.00617013492999979, 'vertex_connectivity': 38, 'eccentricity_avg': 2.0, 'n_nodes': 108, 'node_types': 4, 'node_attributes': 11, 'number_of_isolates': 0, 'density': 0.4790584977500865, 'edge_types': 3, 'edge_attributes': 14, 'n_parallel_edges': 1, 'n_self_loops': 3}\n",
      "Generated statistics for graph 94 {'graph_type': 4, 'is_directed_int': 0, 'has_spatial_attributes': 1, 'has_temporal_attributes': 0, 'is_bipartite': 1, 'n_components': 3, 'avg_betweenness_centrality': 0.014145724672040462, 'avg_closeness_centrality': 0.6642400839485962, 'avg_eigenvector_centrality': 0.16022624793970341, 'avg_degree': 18.157894736842106, 'std_degree': 2.814310109782787, 'clustering_coefficient': 0.48701084453532184, 'transitivity': 0.48714144411473786, 'modularity': -0.0006049149338374187, 'communities': 2, 'avg_shortest_path_length': 1.5092460881934566, 'radius': 2, 'diameter': 2, 'assortativity': -0.01064600708854694, 'vertex_connectivity': 12, 'eccentricity_avg': 2.0, 'n_nodes': 38, 'node_types': 1, 'node_attributes': 4, 'number_of_isolates': 0, 'density': 0.4907539118065434, 'edge_types': 2, 'edge_attributes': 8, 'n_parallel_edges': 5, 'n_self_loops': 1}\n",
      "Generated statistics for graph 95 {'graph_type': 4, 'is_directed_int': 1, 'has_spatial_attributes': 0, 'has_temporal_attributes': 1, 'is_bipartite': 0, 'n_components': 9, 'avg_betweenness_centrality': 0.0039826421262244335, 'avg_closeness_centrality': 0.5617443021629169, 'avg_eigenvector_centrality': 0.07049340868690507, 'avg_degree': 43.22222222222222, 'std_degree': 5.4531796816831495, 'clustering_coefficient': 0.2186889730003017, 'transitivity': 0.21830303162343817, 'modularity': -1.9907327431183733e-05, 'communities': 2, 'avg_shortest_path_length': 1.7805978567399887, 'radius': 2, 'diameter': 2, 'assortativity': -0.014239879091239607, 'vertex_connectivity': 27, 'eccentricity_avg': 2.0, 'n_nodes': 198, 'node_types': 1, 'node_attributes': 5, 'number_of_isolates': 0, 'density': 0.21940214326001128, 'edge_types': 1, 'edge_attributes': 1, 'n_parallel_edges': 0, 'n_self_loops': 0}\n",
      "Generated statistics for graph 96 {'graph_type': 4, 'is_directed_int': 1, 'has_spatial_attributes': 0, 'has_temporal_attributes': 1, 'is_bipartite': 1, 'n_components': 1, 'avg_betweenness_centrality': 0.00944353871235658, 'avg_closeness_centrality': 0.6511347541575309, 'avg_eigenvector_centrality': 0.12905942226596137, 'avg_degree': 26.779661016949152, 'std_degree': 3.6344510405105077, 'clustering_coefficient': 0.459432945238719, 'transitivity': 0.4580461708998024, 'modularity': -0.00023153340810772542, 'communities': 2, 'avg_shortest_path_length': 1.538281706604325, 'radius': 2, 'diameter': 2, 'assortativity': -0.0505883685266911, 'vertex_connectivity': 17, 'eccentricity_avg': 2.0, 'n_nodes': 59, 'node_types': 2, 'node_attributes': 14, 'number_of_isolates': 0, 'density': 0.46171829339567505, 'edge_types': 1, 'edge_attributes': 0, 'n_parallel_edges': 3, 'n_self_loops': 3}\n",
      "Generated statistics for graph 97 {'graph_type': 4, 'is_directed_int': 0, 'has_spatial_attributes': 1, 'has_temporal_attributes': 0, 'is_bipartite': 0, 'n_components': 2, 'avg_betweenness_centrality': 0.008620199146514936, 'avg_closeness_centrality': 0.6113866067917396, 'avg_eigenvector_centrality': 0.11311325024756953, 'avg_degree': 27.157894736842106, 'std_degree': 4.587090963646997, 'clustering_coefficient': 0.3609763823532177, 'transitivity': 0.36085516844226895, 'modularity': -0.00012018508503096239, 'communities': 2, 'avg_shortest_path_length': 1.6378947368421053, 'radius': 2, 'diameter': 2, 'assortativity': -0.024999130283527383, 'vertex_connectivity': 16, 'eccentricity_avg': 2.0, 'n_nodes': 76, 'node_types': 3, 'node_attributes': 3, 'number_of_isolates': 0, 'density': 0.36210526315789476, 'edge_types': 2, 'edge_attributes': 1, 'n_parallel_edges': 3, 'n_self_loops': 2}\n",
      "Generated statistics for graph 98 {'graph_type': 4, 'is_directed_int': 0, 'has_spatial_attributes': 1, 'has_temporal_attributes': 0, 'is_bipartite': 0, 'n_components': 9, 'avg_betweenness_centrality': 0.05108225108225109, 'avg_closeness_centrality': 0.5065388985236466, 'avg_eigenvector_centrality': 0.19081121229030992, 'avg_degree': 5.090909090909091, 'std_degree': 2.5803117365947585, 'clustering_coefficient': 0.2733667847304211, 'transitivity': 0.3010033444816054, 'modularity': 0.06122448979591851, 'communities': 2, 'avg_shortest_path_length': 2.0216450216450217, 'radius': 2, 'diameter': 4, 'assortativity': -0.1360289009309434, 'vertex_connectivity': 1, 'eccentricity_avg': 3.1363636363636362, 'n_nodes': 22, 'node_types': 5, 'node_attributes': 9, 'number_of_isolates': 0, 'density': 0.24242424242424243, 'edge_types': 4, 'edge_attributes': 8, 'n_parallel_edges': 3, 'n_self_loops': 0}\n",
      "Generated statistics for graph 99 {'graph_type': 4, 'is_directed_int': 1, 'has_spatial_attributes': 0, 'has_temporal_attributes': 1, 'is_bipartite': 0, 'n_components': 1, 'avg_betweenness_centrality': 0.0059450336297453225, 'avg_closeness_centrality': 0.6161417715692105, 'avg_eigenvector_centrality': 0.09600305311571385, 'avg_degree': 39.83177570093458, 'std_degree': 4.765215909714526, 'clustering_coefficient': 0.37329029031430344, 'transitivity': 0.373025704552493, 'modularity': -6.881500127383101e-05, 'communities': 2, 'avg_shortest_path_length': 1.6242285311232587, 'radius': 2, 'diameter': 2, 'assortativity': -0.02689307828207906, 'vertex_connectivity': 25, 'eccentricity_avg': 2.0, 'n_nodes': 107, 'node_types': 5, 'node_attributes': 9, 'number_of_isolates': 0, 'density': 0.3757714688767413, 'edge_types': 1, 'edge_attributes': 15, 'n_parallel_edges': 5, 'n_self_loops': 3}\n"
     ]
    }
   ],
   "source": [
    "file_path = '../data/generated_graphs_example'\n",
    "\n",
    "if not os.path.exists(f'{file_path}.csv'):\n",
    "    print('Generating graph data')\n",
    "    graphs = generate_graphs(100, 2, 200)\n",
    "    graphs.to_csv(f'{file_path}.csv', index=False)\n",
    "else:\n",
    "    print('Loading graph data')\n",
    "    graphs = pd.read_csv(f'{file_path}.csv')"
   ]
  },
  {
   "cell_type": "code",
   "execution_count": 3,
   "metadata": {},
   "outputs": [
    {
     "data": {
      "text/html": [
       "<div>\n",
       "<style scoped>\n",
       "    .dataframe tbody tr th:only-of-type {\n",
       "        vertical-align: middle;\n",
       "    }\n",
       "\n",
       "    .dataframe tbody tr th {\n",
       "        vertical-align: top;\n",
       "    }\n",
       "\n",
       "    .dataframe thead th {\n",
       "        text-align: right;\n",
       "    }\n",
       "</style>\n",
       "<table border=\"1\" class=\"dataframe\">\n",
       "  <thead>\n",
       "    <tr style=\"text-align: right;\">\n",
       "      <th></th>\n",
       "      <th>graph_type</th>\n",
       "      <th>is_directed_int</th>\n",
       "      <th>has_spatial_attributes</th>\n",
       "      <th>has_temporal_attributes</th>\n",
       "      <th>is_bipartite</th>\n",
       "      <th>n_components</th>\n",
       "      <th>avg_betweenness_centrality</th>\n",
       "      <th>avg_closeness_centrality</th>\n",
       "      <th>avg_eigenvector_centrality</th>\n",
       "      <th>avg_degree</th>\n",
       "      <th>...</th>\n",
       "      <th>eccentricity_avg</th>\n",
       "      <th>n_nodes</th>\n",
       "      <th>node_types</th>\n",
       "      <th>node_attributes</th>\n",
       "      <th>number_of_isolates</th>\n",
       "      <th>density</th>\n",
       "      <th>edge_types</th>\n",
       "      <th>edge_attributes</th>\n",
       "      <th>n_parallel_edges</th>\n",
       "      <th>n_self_loops</th>\n",
       "    </tr>\n",
       "  </thead>\n",
       "  <tbody>\n",
       "    <tr>\n",
       "      <th>0</th>\n",
       "      <td>4</td>\n",
       "      <td>1</td>\n",
       "      <td>0</td>\n",
       "      <td>1</td>\n",
       "      <td>0</td>\n",
       "      <td>2</td>\n",
       "      <td>0.006843</td>\n",
       "      <td>0.504436</td>\n",
       "      <td>0.080592</td>\n",
       "      <td>17.356164</td>\n",
       "      <td>...</td>\n",
       "      <td>3.000000</td>\n",
       "      <td>146</td>\n",
       "      <td>3</td>\n",
       "      <td>6</td>\n",
       "      <td>0</td>\n",
       "      <td>0.119698</td>\n",
       "      <td>5</td>\n",
       "      <td>2</td>\n",
       "      <td>2</td>\n",
       "      <td>5</td>\n",
       "    </tr>\n",
       "    <tr>\n",
       "      <th>1</th>\n",
       "      <td>4</td>\n",
       "      <td>0</td>\n",
       "      <td>0</td>\n",
       "      <td>0</td>\n",
       "      <td>0</td>\n",
       "      <td>7</td>\n",
       "      <td>0.011514</td>\n",
       "      <td>0.554609</td>\n",
       "      <td>0.114805</td>\n",
       "      <td>15.666667</td>\n",
       "      <td>...</td>\n",
       "      <td>2.736111</td>\n",
       "      <td>72</td>\n",
       "      <td>1</td>\n",
       "      <td>2</td>\n",
       "      <td>0</td>\n",
       "      <td>0.220657</td>\n",
       "      <td>4</td>\n",
       "      <td>12</td>\n",
       "      <td>0</td>\n",
       "      <td>4</td>\n",
       "    </tr>\n",
       "    <tr>\n",
       "      <th>2</th>\n",
       "      <td>4</td>\n",
       "      <td>1</td>\n",
       "      <td>0</td>\n",
       "      <td>1</td>\n",
       "      <td>0</td>\n",
       "      <td>9</td>\n",
       "      <td>0.034914</td>\n",
       "      <td>0.568343</td>\n",
       "      <td>0.198937</td>\n",
       "      <td>6.916667</td>\n",
       "      <td>...</td>\n",
       "      <td>2.666667</td>\n",
       "      <td>24</td>\n",
       "      <td>4</td>\n",
       "      <td>7</td>\n",
       "      <td>0</td>\n",
       "      <td>0.300725</td>\n",
       "      <td>5</td>\n",
       "      <td>15</td>\n",
       "      <td>3</td>\n",
       "      <td>1</td>\n",
       "    </tr>\n",
       "    <tr>\n",
       "      <th>3</th>\n",
       "      <td>4</td>\n",
       "      <td>0</td>\n",
       "      <td>0</td>\n",
       "      <td>0</td>\n",
       "      <td>1</td>\n",
       "      <td>1</td>\n",
       "      <td>0.007891</td>\n",
       "      <td>0.561783</td>\n",
       "      <td>0.097868</td>\n",
       "      <td>22.376238</td>\n",
       "      <td>...</td>\n",
       "      <td>2.356436</td>\n",
       "      <td>101</td>\n",
       "      <td>1</td>\n",
       "      <td>4</td>\n",
       "      <td>0</td>\n",
       "      <td>0.223762</td>\n",
       "      <td>4</td>\n",
       "      <td>1</td>\n",
       "      <td>0</td>\n",
       "      <td>0</td>\n",
       "    </tr>\n",
       "    <tr>\n",
       "      <th>4</th>\n",
       "      <td>4</td>\n",
       "      <td>0</td>\n",
       "      <td>1</td>\n",
       "      <td>1</td>\n",
       "      <td>1</td>\n",
       "      <td>5</td>\n",
       "      <td>0.004791</td>\n",
       "      <td>0.659691</td>\n",
       "      <td>0.094859</td>\n",
       "      <td>52.600000</td>\n",
       "      <td>...</td>\n",
       "      <td>2.000000</td>\n",
       "      <td>110</td>\n",
       "      <td>1</td>\n",
       "      <td>0</td>\n",
       "      <td>0</td>\n",
       "      <td>0.482569</td>\n",
       "      <td>3</td>\n",
       "      <td>0</td>\n",
       "      <td>0</td>\n",
       "      <td>4</td>\n",
       "    </tr>\n",
       "  </tbody>\n",
       "</table>\n",
       "<p>5 rows × 30 columns</p>\n",
       "</div>"
      ],
      "text/plain": [
       "   graph_type  is_directed_int  has_spatial_attributes  \\\n",
       "0           4                1                       0   \n",
       "1           4                0                       0   \n",
       "2           4                1                       0   \n",
       "3           4                0                       0   \n",
       "4           4                0                       1   \n",
       "\n",
       "   has_temporal_attributes  is_bipartite  n_components  \\\n",
       "0                        1             0             2   \n",
       "1                        0             0             7   \n",
       "2                        1             0             9   \n",
       "3                        0             1             1   \n",
       "4                        1             1             5   \n",
       "\n",
       "   avg_betweenness_centrality  avg_closeness_centrality  \\\n",
       "0                    0.006843                  0.504436   \n",
       "1                    0.011514                  0.554609   \n",
       "2                    0.034914                  0.568343   \n",
       "3                    0.007891                  0.561783   \n",
       "4                    0.004791                  0.659691   \n",
       "\n",
       "   avg_eigenvector_centrality  avg_degree  ...  eccentricity_avg  n_nodes  \\\n",
       "0                    0.080592   17.356164  ...          3.000000      146   \n",
       "1                    0.114805   15.666667  ...          2.736111       72   \n",
       "2                    0.198937    6.916667  ...          2.666667       24   \n",
       "3                    0.097868   22.376238  ...          2.356436      101   \n",
       "4                    0.094859   52.600000  ...          2.000000      110   \n",
       "\n",
       "   node_types  node_attributes  number_of_isolates   density  edge_types  \\\n",
       "0           3                6                   0  0.119698           5   \n",
       "1           1                2                   0  0.220657           4   \n",
       "2           4                7                   0  0.300725           5   \n",
       "3           1                4                   0  0.223762           4   \n",
       "4           1                0                   0  0.482569           3   \n",
       "\n",
       "   edge_attributes  n_parallel_edges  n_self_loops  \n",
       "0                2                 2             5  \n",
       "1               12                 0             4  \n",
       "2               15                 3             1  \n",
       "3                1                 0             0  \n",
       "4                0                 0             4  \n",
       "\n",
       "[5 rows x 30 columns]"
      ]
     },
     "execution_count": 3,
     "metadata": {},
     "output_type": "execute_result"
    }
   ],
   "source": [
    "graphs.head()"
   ]
  },
  {
   "cell_type": "markdown",
   "metadata": {},
   "source": [
    "## Sample designers\n",
    "\n",
    "We evaluate the ability of VIGOR to recover the rules that were used to represent simulated users. We design 3 versions of this simulated user: bob_informed, who follows the rules 100\\% of the time; bob_semi_informed, who follows the rules 75\\% of the time and chooses other visualizations randomly the other 25\\% of the time; and bob_uninformed who follows the rules 50\\% of the time and chooses other visualizations randomly the other 50\\% of the time."
   ]
  },
  {
   "cell_type": "code",
   "execution_count": 4,
   "metadata": {},
   "outputs": [],
   "source": [
    "informed = label_graphs(graphs, predicates, conformance=1)\n",
    "semi_informed = label_graphs(graphs, predicates, conformance=0.75)\n",
    "uninformed = label_graphs(graphs, predicates, conformance=0.5)"
   ]
  },
  {
   "cell_type": "code",
   "execution_count": 5,
   "metadata": {},
   "outputs": [
    {
     "data": {
      "text/plain": [
       "0    NODETRIX\n",
       "1      MATRIX\n",
       "2     PAOHVIS\n",
       "dtype: object"
      ]
     },
     "execution_count": 5,
     "metadata": {},
     "output_type": "execute_result"
    }
   ],
   "source": [
    "informed"
   ]
  },
  {
   "cell_type": "markdown",
   "metadata": {},
   "source": [
    "## Learning predicates from labeled data"
   ]
  },
  {
   "cell_type": "code",
   "execution_count": 6,
   "metadata": {},
   "outputs": [
    {
     "name": "stdout",
     "output_type": "stream",
     "text": [
      "Learning predicates for NODETRIX\n",
      "get_predicates [[9.99999851e-01 0.00000000e+00 9.99999956e-01 0.00000000e+00\n",
      "  0.00000000e+00 0.00000000e+00 0.00000000e+00 9.99999953e-01\n",
      "  9.99999974e-01 9.99999990e-01 0.00000000e+00 0.00000000e+00\n",
      "  9.99999967e-01 0.00000000e+00 0.00000000e+00]\n",
      " [0.00000000e+00 9.99999951e-01 1.37112361e-01 8.19862128e-01\n",
      "  3.79497414e-01 9.99999968e-01 9.99999971e-01 0.00000000e+00\n",
      "  0.00000000e+00 0.00000000e+00 9.99999912e-01 9.45454545e-01\n",
      "  0.00000000e+00 4.96350365e-01 9.99999971e-01]\n",
      " [1.51612230e-02 1.38378997e-01 0.00000000e+00 1.00000000e+00\n",
      "  9.99999998e-01 3.32499795e-02 1.30800071e-01 9.48352955e-04\n",
      "  7.85660391e-01 0.00000000e+00 9.01631057e-01 1.00000000e+00\n",
      "  0.00000000e+00 1.00000000e+00 1.11824292e-01]] [[ True False False]] Index(['avg_betweenness_centrality', 'avg_closeness_centrality',\n",
      "       'avg_eigenvector_centrality', 'avg_degree', 'std_degree',\n",
      "       'clustering_coefficient', 'transitivity', 'modularity',\n",
      "       'avg_shortest_path_length', 'diameter', 'assortativity',\n",
      "       'vertex_connectivity', 'eccentricity_avg', 'n_nodes', 'density'],\n",
      "      dtype='object')\n"
     ]
    },
    {
     "name": "stderr",
     "output_type": "stream",
     "text": [
      "/Users/sjoerdvink/Developer/visualization-recommendation/vigor/vigor.py:29: UserWarning: std(): degrees of freedom is <= 0. Correction should be strictly less than the reduction factor (input numel divided by output numel). (Triggered internally at /Users/runner/work/pytorch/pytorch/pytorch/aten/src/ATen/native/ReduceOps.cpp:1823.)\n",
      "  selection_std = torch.stack([x[sel_t].std(0) for sel_t in selected], 0)\n"
     ]
    },
    {
     "ename": "RuntimeError",
     "evalue": "all elements of input should be between 0 and 1",
     "output_type": "error",
     "traceback": [
      "\u001b[0;31m---------------------------------------------------------------------------\u001b[0m",
      "\u001b[0;31mRuntimeError\u001b[0m                              Traceback (most recent call last)",
      "Cell \u001b[0;32mIn[6], line 1\u001b[0m\n\u001b[0;32m----> 1\u001b[0m learned_predicates_informed \u001b[38;5;241m=\u001b[39m \u001b[43mlearn_predicates\u001b[49m\u001b[43m(\u001b[49m\u001b[43mgraphs\u001b[49m\u001b[43m,\u001b[49m\u001b[43m \u001b[49m\u001b[43minformed\u001b[49m\u001b[43m,\u001b[49m\u001b[43m \u001b[49m\u001b[38;5;241;43m1000\u001b[39;49m\u001b[43m)\u001b[49m\n\u001b[1;32m      2\u001b[0m learned_predicates_semi_informed \u001b[38;5;241m=\u001b[39m learn_predicates(graphs, semi_informed, \u001b[38;5;241m1000\u001b[39m)\n\u001b[1;32m      3\u001b[0m learned_predicates_uninformed \u001b[38;5;241m=\u001b[39m learn_predicates(graphs, uninformed, \u001b[38;5;241m1000\u001b[39m)\n",
      "File \u001b[0;32m~/Developer/visualization-recommendation/vigor/evaluation.py:86\u001b[0m, in \u001b[0;36mlearn_predicates\u001b[0;34m(df, labels, n_iter)\u001b[0m\n\u001b[1;32m     84\u001b[0m yneg \u001b[38;5;241m=\u001b[39m \u001b[38;5;241m~\u001b[39mypos\n\u001b[1;32m     85\u001b[0m \u001b[38;5;28mprint\u001b[39m(\u001b[38;5;124mf\u001b[39m\u001b[38;5;124m\"\u001b[39m\u001b[38;5;124mLearning predicates for \u001b[39m\u001b[38;5;132;01m{\u001b[39;00mvisualization\u001b[38;5;132;01m}\u001b[39;00m\u001b[38;5;124m\"\u001b[39m)\n\u001b[0;32m---> 86\u001b[0m pred_pos \u001b[38;5;241m=\u001b[39m \u001b[43mget_predicates\u001b[49m\u001b[43m(\u001b[49m\u001b[43mvigor\u001b[49m\u001b[43m,\u001b[49m\u001b[43m \u001b[49m\u001b[43mgraphs_normalized\u001b[49m\u001b[43m,\u001b[49m\u001b[43m \u001b[49m\u001b[43mypos\u001b[49m\u001b[43m,\u001b[49m\u001b[43m \u001b[49m\u001b[43mn_iter\u001b[49m\u001b[38;5;241;43m=\u001b[39;49m\u001b[43mn_iter\u001b[49m\u001b[43m)\u001b[49m\n\u001b[1;32m     87\u001b[0m pred_neg \u001b[38;5;241m=\u001b[39m get_predicates(vigor, graphs_normalized, yneg, n_iter\u001b[38;5;241m=\u001b[39mn_iter)\n\u001b[1;32m     89\u001b[0m pred_list[visualization] \u001b[38;5;241m=\u001b[39m pred_pos, pred_neg\n",
      "File \u001b[0;32m~/Developer/visualization-recommendation/vigor/evaluation.py:60\u001b[0m, in \u001b[0;36mget_predicates\u001b[0;34m(vigor, X, y, n_iter)\u001b[0m\n\u001b[1;32m     58\u001b[0m \u001b[38;5;28;01mdef\u001b[39;00m \u001b[38;5;21mget_predicates\u001b[39m(vigor, X, y, n_iter\u001b[38;5;241m=\u001b[39m\u001b[38;5;241m1000\u001b[39m):\n\u001b[1;32m     59\u001b[0m     \u001b[38;5;28mprint\u001b[39m(\u001b[38;5;124m\"\u001b[39m\u001b[38;5;124mget_predicates\u001b[39m\u001b[38;5;124m\"\u001b[39m, X\u001b[38;5;241m.\u001b[39mvalues, y[\u001b[38;5;28;01mNone\u001b[39;00m], X\u001b[38;5;241m.\u001b[39mcolumns)\n\u001b[0;32m---> 60\u001b[0m     predicates \u001b[38;5;241m=\u001b[39m \u001b[43mvigor\u001b[49m\u001b[38;5;241;43m.\u001b[39;49m\u001b[43mcompute_predicate_sequence\u001b[49m\u001b[43m(\u001b[49m\n\u001b[1;32m     61\u001b[0m \u001b[43m        \u001b[49m\u001b[43mX\u001b[49m\u001b[38;5;241;43m.\u001b[39;49m\u001b[43mvalues\u001b[49m\u001b[43m,\u001b[49m\n\u001b[1;32m     62\u001b[0m \u001b[43m        \u001b[49m\u001b[43my\u001b[49m\u001b[43m[\u001b[49m\u001b[38;5;28;43;01mNone\u001b[39;49;00m\u001b[43m]\u001b[49m\u001b[43m,\u001b[49m\n\u001b[1;32m     63\u001b[0m \u001b[43m        \u001b[49m\u001b[43mattribute_names\u001b[49m\u001b[38;5;241;43m=\u001b[39;49m\u001b[43mX\u001b[49m\u001b[38;5;241;43m.\u001b[39;49m\u001b[43mcolumns\u001b[49m\u001b[43m,\u001b[49m\n\u001b[1;32m     64\u001b[0m \u001b[43m        \u001b[49m\u001b[43mn_iter\u001b[49m\u001b[38;5;241;43m=\u001b[39;49m\u001b[43mn_iter\u001b[49m\u001b[43m,\u001b[49m\n\u001b[1;32m     65\u001b[0m \u001b[43m    \u001b[49m\u001b[43m)\u001b[49m\n\u001b[1;32m     67\u001b[0m     p \u001b[38;5;241m=\u001b[39m Predicate(predicates[\u001b[38;5;241m0\u001b[39m])\n\u001b[1;32m     68\u001b[0m     p\u001b[38;5;241m.\u001b[39mfit(X)\n",
      "File \u001b[0;32m~/Developer/visualization-recommendation/vigor/vigor.py:62\u001b[0m, in \u001b[0;36mVIGOR.compute_predicate_sequence\u001b[0;34m(self, x0, selected, attribute_names, n_iter)\u001b[0m\n\u001b[1;32m     60\u001b[0m \u001b[38;5;28;01mfor\u001b[39;00m t, st \u001b[38;5;129;01min\u001b[39;00m \u001b[38;5;28menumerate\u001b[39m(selected):\n\u001b[1;32m     61\u001b[0m     pred \u001b[38;5;241m=\u001b[39m \u001b[38;5;28mself\u001b[39m\u001b[38;5;241m.\u001b[39mpredict(x, a[t], mu[t])\n\u001b[0;32m---> 62\u001b[0m     loss \u001b[38;5;241m=\u001b[39m \u001b[43mbce_per_brush\u001b[49m\u001b[43m[\u001b[49m\u001b[43mt\u001b[49m\u001b[43m]\u001b[49m\u001b[43m(\u001b[49m\u001b[43mpred\u001b[49m\u001b[43m,\u001b[49m\u001b[43m \u001b[49m\u001b[43mlabel\u001b[49m\u001b[43m[\u001b[49m\u001b[43mt\u001b[49m\u001b[43m]\u001b[49m\u001b[43m)\u001b[49m\n\u001b[1;32m     63\u001b[0m     loss_per_brush\u001b[38;5;241m.\u001b[39mappend(loss)\n\u001b[1;32m     65\u001b[0m     smoothness_loss \u001b[38;5;241m=\u001b[39m \u001b[38;5;241m0\u001b[39m\n",
      "File \u001b[0;32m~/Developer/visualization-recommendation/.venv/lib/python3.11/site-packages/torch/nn/modules/module.py:1736\u001b[0m, in \u001b[0;36mModule._wrapped_call_impl\u001b[0;34m(self, *args, **kwargs)\u001b[0m\n\u001b[1;32m   1734\u001b[0m     \u001b[38;5;28;01mreturn\u001b[39;00m \u001b[38;5;28mself\u001b[39m\u001b[38;5;241m.\u001b[39m_compiled_call_impl(\u001b[38;5;241m*\u001b[39margs, \u001b[38;5;241m*\u001b[39m\u001b[38;5;241m*\u001b[39mkwargs)  \u001b[38;5;66;03m# type: ignore[misc]\u001b[39;00m\n\u001b[1;32m   1735\u001b[0m \u001b[38;5;28;01melse\u001b[39;00m:\n\u001b[0;32m-> 1736\u001b[0m     \u001b[38;5;28;01mreturn\u001b[39;00m \u001b[38;5;28;43mself\u001b[39;49m\u001b[38;5;241;43m.\u001b[39;49m\u001b[43m_call_impl\u001b[49m\u001b[43m(\u001b[49m\u001b[38;5;241;43m*\u001b[39;49m\u001b[43margs\u001b[49m\u001b[43m,\u001b[49m\u001b[43m \u001b[49m\u001b[38;5;241;43m*\u001b[39;49m\u001b[38;5;241;43m*\u001b[39;49m\u001b[43mkwargs\u001b[49m\u001b[43m)\u001b[49m\n",
      "File \u001b[0;32m~/Developer/visualization-recommendation/.venv/lib/python3.11/site-packages/torch/nn/modules/module.py:1747\u001b[0m, in \u001b[0;36mModule._call_impl\u001b[0;34m(self, *args, **kwargs)\u001b[0m\n\u001b[1;32m   1742\u001b[0m \u001b[38;5;66;03m# If we don't have any hooks, we want to skip the rest of the logic in\u001b[39;00m\n\u001b[1;32m   1743\u001b[0m \u001b[38;5;66;03m# this function, and just call forward.\u001b[39;00m\n\u001b[1;32m   1744\u001b[0m \u001b[38;5;28;01mif\u001b[39;00m \u001b[38;5;129;01mnot\u001b[39;00m (\u001b[38;5;28mself\u001b[39m\u001b[38;5;241m.\u001b[39m_backward_hooks \u001b[38;5;129;01mor\u001b[39;00m \u001b[38;5;28mself\u001b[39m\u001b[38;5;241m.\u001b[39m_backward_pre_hooks \u001b[38;5;129;01mor\u001b[39;00m \u001b[38;5;28mself\u001b[39m\u001b[38;5;241m.\u001b[39m_forward_hooks \u001b[38;5;129;01mor\u001b[39;00m \u001b[38;5;28mself\u001b[39m\u001b[38;5;241m.\u001b[39m_forward_pre_hooks\n\u001b[1;32m   1745\u001b[0m         \u001b[38;5;129;01mor\u001b[39;00m _global_backward_pre_hooks \u001b[38;5;129;01mor\u001b[39;00m _global_backward_hooks\n\u001b[1;32m   1746\u001b[0m         \u001b[38;5;129;01mor\u001b[39;00m _global_forward_hooks \u001b[38;5;129;01mor\u001b[39;00m _global_forward_pre_hooks):\n\u001b[0;32m-> 1747\u001b[0m     \u001b[38;5;28;01mreturn\u001b[39;00m \u001b[43mforward_call\u001b[49m\u001b[43m(\u001b[49m\u001b[38;5;241;43m*\u001b[39;49m\u001b[43margs\u001b[49m\u001b[43m,\u001b[49m\u001b[43m \u001b[49m\u001b[38;5;241;43m*\u001b[39;49m\u001b[38;5;241;43m*\u001b[39;49m\u001b[43mkwargs\u001b[49m\u001b[43m)\u001b[49m\n\u001b[1;32m   1749\u001b[0m result \u001b[38;5;241m=\u001b[39m \u001b[38;5;28;01mNone\u001b[39;00m\n\u001b[1;32m   1750\u001b[0m called_always_called_hooks \u001b[38;5;241m=\u001b[39m \u001b[38;5;28mset\u001b[39m()\n",
      "File \u001b[0;32m~/Developer/visualization-recommendation/.venv/lib/python3.11/site-packages/torch/nn/modules/loss.py:697\u001b[0m, in \u001b[0;36mBCELoss.forward\u001b[0;34m(self, input, target)\u001b[0m\n\u001b[1;32m    696\u001b[0m \u001b[38;5;28;01mdef\u001b[39;00m \u001b[38;5;21mforward\u001b[39m(\u001b[38;5;28mself\u001b[39m, \u001b[38;5;28minput\u001b[39m: Tensor, target: Tensor) \u001b[38;5;241m-\u001b[39m\u001b[38;5;241m>\u001b[39m Tensor:\n\u001b[0;32m--> 697\u001b[0m     \u001b[38;5;28;01mreturn\u001b[39;00m \u001b[43mF\u001b[49m\u001b[38;5;241;43m.\u001b[39;49m\u001b[43mbinary_cross_entropy\u001b[49m\u001b[43m(\u001b[49m\n\u001b[1;32m    698\u001b[0m \u001b[43m        \u001b[49m\u001b[38;5;28;43minput\u001b[39;49m\u001b[43m,\u001b[49m\u001b[43m \u001b[49m\u001b[43mtarget\u001b[49m\u001b[43m,\u001b[49m\u001b[43m \u001b[49m\u001b[43mweight\u001b[49m\u001b[38;5;241;43m=\u001b[39;49m\u001b[38;5;28;43mself\u001b[39;49m\u001b[38;5;241;43m.\u001b[39;49m\u001b[43mweight\u001b[49m\u001b[43m,\u001b[49m\u001b[43m \u001b[49m\u001b[43mreduction\u001b[49m\u001b[38;5;241;43m=\u001b[39;49m\u001b[38;5;28;43mself\u001b[39;49m\u001b[38;5;241;43m.\u001b[39;49m\u001b[43mreduction\u001b[49m\n\u001b[1;32m    699\u001b[0m \u001b[43m    \u001b[49m\u001b[43m)\u001b[49m\n",
      "File \u001b[0;32m~/Developer/visualization-recommendation/.venv/lib/python3.11/site-packages/torch/nn/functional.py:3554\u001b[0m, in \u001b[0;36mbinary_cross_entropy\u001b[0;34m(input, target, weight, size_average, reduce, reduction)\u001b[0m\n\u001b[1;32m   3551\u001b[0m     new_size \u001b[38;5;241m=\u001b[39m _infer_size(target\u001b[38;5;241m.\u001b[39msize(), weight\u001b[38;5;241m.\u001b[39msize())\n\u001b[1;32m   3552\u001b[0m     weight \u001b[38;5;241m=\u001b[39m weight\u001b[38;5;241m.\u001b[39mexpand(new_size)\n\u001b[0;32m-> 3554\u001b[0m \u001b[38;5;28;01mreturn\u001b[39;00m \u001b[43mtorch\u001b[49m\u001b[38;5;241;43m.\u001b[39;49m\u001b[43m_C\u001b[49m\u001b[38;5;241;43m.\u001b[39;49m\u001b[43m_nn\u001b[49m\u001b[38;5;241;43m.\u001b[39;49m\u001b[43mbinary_cross_entropy\u001b[49m\u001b[43m(\u001b[49m\u001b[38;5;28;43minput\u001b[39;49m\u001b[43m,\u001b[49m\u001b[43m \u001b[49m\u001b[43mtarget\u001b[49m\u001b[43m,\u001b[49m\u001b[43m \u001b[49m\u001b[43mweight\u001b[49m\u001b[43m,\u001b[49m\u001b[43m \u001b[49m\u001b[43mreduction_enum\u001b[49m\u001b[43m)\u001b[49m\n",
      "\u001b[0;31mRuntimeError\u001b[0m: all elements of input should be between 0 and 1"
     ]
    }
   ],
   "source": [
    "learned_predicates_informed = learn_predicates(graphs, informed, 1000)\n",
    "learned_predicates_semi_informed = learn_predicates(graphs, semi_informed, 1000)\n",
    "learned_predicates_uninformed = learn_predicates(graphs, uninformed, 1000)"
   ]
  },
  {
   "cell_type": "markdown",
   "metadata": {},
   "source": [
    "## Comparing learned predicates to initial predicates"
   ]
  },
  {
   "cell_type": "markdown",
   "metadata": {},
   "source": [
    "### Informed User"
   ]
  },
  {
   "cell_type": "code",
   "execution_count": null,
   "metadata": {},
   "outputs": [],
   "source": [
    "metrics, mean_iou, mean_deviation, inclusion_ratio = compute_metrics(predicates, learned_predicates_informed)\n",
    "\n",
    "print(f\"Mean IoU: {mean_iou:.2f}\")\n",
    "print(f\"Mean Deviation: {mean_deviation:.2f}\")\n",
    "print(f\"Inclusion Ratio: {inclusion_ratio:.2f}\")"
   ]
  },
  {
   "cell_type": "markdown",
   "metadata": {},
   "source": [
    "### Semi-Informed User"
   ]
  },
  {
   "cell_type": "code",
   "execution_count": null,
   "metadata": {},
   "outputs": [],
   "source": [
    "metrics, mean_iou, mean_deviation, inclusion_ratio = compute_metrics(predicates, learned_predicates_semi_informed)\n",
    "\n",
    "print(f\"Mean IoU: {mean_iou:.2f}\")\n",
    "print(f\"Mean Deviation: {mean_deviation:.2f}\")\n",
    "print(f\"Inclusion Ratio: {inclusion_ratio:.2f}\")"
   ]
  },
  {
   "cell_type": "markdown",
   "metadata": {},
   "source": [
    "### Unformed User"
   ]
  },
  {
   "cell_type": "code",
   "execution_count": null,
   "metadata": {},
   "outputs": [],
   "source": [
    "metrics, mean_iou, mean_deviation, inclusion_ratio = compute_metrics(predicates, learned_predicates_uninformed)\n",
    "\n",
    "print(f\"Mean IoU: {mean_iou:.2f}\")\n",
    "print(f\"Mean Deviation: {mean_deviation:.2f}\")\n",
    "print(f\"Inclusion Ratio: {inclusion_ratio:.2f}\")"
   ]
  }
 ],
 "metadata": {
  "kernelspec": {
   "display_name": ".venv",
   "language": "python",
   "name": "python3"
  },
  "language_info": {
   "codemirror_mode": {
    "name": "ipython",
    "version": 3
   },
   "file_extension": ".py",
   "mimetype": "text/x-python",
   "name": "python",
   "nbconvert_exporter": "python",
   "pygments_lexer": "ipython3",
   "version": "3.11.6"
  }
 },
 "nbformat": 4,
 "nbformat_minor": 2
}
