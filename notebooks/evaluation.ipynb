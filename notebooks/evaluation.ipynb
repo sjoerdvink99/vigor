{
 "cells": [
  {
   "cell_type": "markdown",
   "metadata": {},
   "source": [
    "# Simulation of User Preferences"
   ]
  },
  {
   "cell_type": "code",
   "execution_count": 1,
   "metadata": {},
   "outputs": [],
   "source": [
    "import os\n",
    "import pandas as pd\n",
    "from vigor import generate_graphs, label_graphs, predicates, learn_predicates, compute_metrics"
   ]
  },
  {
   "cell_type": "markdown",
   "metadata": {},
   "source": [
    "## Generate graphs\n",
    "\n",
    "1. Generate graphs using the fast_gnp_random_graph function from networkx\n",
    "2. Calculate statistics for each graph"
   ]
  },
  {
   "cell_type": "code",
   "execution_count": null,
   "metadata": {},
   "outputs": [
    {
     "name": "stdout",
     "output_type": "stream",
     "text": [
      "Loading graph data\n"
     ]
    }
   ],
   "source": [
    "file_path = '../data/generated_graphs_example'\n",
    "\n",
    "if not os.path.exists(f'{file_path}.csv'):\n",
    "    print('Generating graph data')\n",
    "    graphs = generate_graphs(5, 2, 200)\n",
    "    graphs.to_csv(f'{file_path}.csv', index=False)\n",
    "else:\n",
    "    print('Loading graph data')\n",
    "    graphs = pd.read_csv(f'{file_path}.csv')"
   ]
  },
  {
   "cell_type": "code",
   "execution_count": 3,
   "metadata": {},
   "outputs": [
    {
     "data": {
      "text/html": [
       "<div>\n",
       "<style scoped>\n",
       "    .dataframe tbody tr th:only-of-type {\n",
       "        vertical-align: middle;\n",
       "    }\n",
       "\n",
       "    .dataframe tbody tr th {\n",
       "        vertical-align: top;\n",
       "    }\n",
       "\n",
       "    .dataframe thead th {\n",
       "        text-align: right;\n",
       "    }\n",
       "</style>\n",
       "<table border=\"1\" class=\"dataframe\">\n",
       "  <thead>\n",
       "    <tr style=\"text-align: right;\">\n",
       "      <th></th>\n",
       "      <th>graph_type</th>\n",
       "      <th>is_directed_int</th>\n",
       "      <th>has_spatial_attributes</th>\n",
       "      <th>has_temporal_attributes</th>\n",
       "      <th>is_bipartite</th>\n",
       "      <th>n_components</th>\n",
       "      <th>avg_betweenness_centrality</th>\n",
       "      <th>avg_closeness_centrality</th>\n",
       "      <th>avg_eigenvector_centrality</th>\n",
       "      <th>avg_degree</th>\n",
       "      <th>...</th>\n",
       "      <th>eccentricity_avg</th>\n",
       "      <th>n_nodes</th>\n",
       "      <th>node_types</th>\n",
       "      <th>node_attributes</th>\n",
       "      <th>number_of_isolates</th>\n",
       "      <th>density</th>\n",
       "      <th>edge_types</th>\n",
       "      <th>edge_attributes</th>\n",
       "      <th>n_parallel_edges</th>\n",
       "      <th>n_self_loops</th>\n",
       "    </tr>\n",
       "  </thead>\n",
       "  <tbody>\n",
       "    <tr>\n",
       "      <th>0</th>\n",
       "      <td>4</td>\n",
       "      <td>0</td>\n",
       "      <td>0</td>\n",
       "      <td>0</td>\n",
       "      <td>0</td>\n",
       "      <td>1</td>\n",
       "      <td>0.069444</td>\n",
       "      <td>0.651169</td>\n",
       "      <td>0.307393</td>\n",
       "      <td>4.400000</td>\n",
       "      <td>...</td>\n",
       "      <td>2.3</td>\n",
       "      <td>10</td>\n",
       "      <td>0</td>\n",
       "      <td>0.0</td>\n",
       "      <td>0</td>\n",
       "      <td>0.488889</td>\n",
       "      <td>0</td>\n",
       "      <td>0.0</td>\n",
       "      <td>0</td>\n",
       "      <td>0</td>\n",
       "    </tr>\n",
       "    <tr>\n",
       "      <th>1</th>\n",
       "      <td>4</td>\n",
       "      <td>0</td>\n",
       "      <td>0</td>\n",
       "      <td>0</td>\n",
       "      <td>0</td>\n",
       "      <td>1</td>\n",
       "      <td>0.002243</td>\n",
       "      <td>0.855288</td>\n",
       "      <td>0.113103</td>\n",
       "      <td>63.871795</td>\n",
       "      <td>...</td>\n",
       "      <td>2.0</td>\n",
       "      <td>78</td>\n",
       "      <td>0</td>\n",
       "      <td>0.0</td>\n",
       "      <td>0</td>\n",
       "      <td>0.829504</td>\n",
       "      <td>0</td>\n",
       "      <td>0.0</td>\n",
       "      <td>0</td>\n",
       "      <td>0</td>\n",
       "    </tr>\n",
       "    <tr>\n",
       "      <th>2</th>\n",
       "      <td>4</td>\n",
       "      <td>0</td>\n",
       "      <td>0</td>\n",
       "      <td>0</td>\n",
       "      <td>0</td>\n",
       "      <td>1</td>\n",
       "      <td>0.003262</td>\n",
       "      <td>0.679415</td>\n",
       "      <td>0.082231</td>\n",
       "      <td>76.938776</td>\n",
       "      <td>...</td>\n",
       "      <td>2.0</td>\n",
       "      <td>147</td>\n",
       "      <td>0</td>\n",
       "      <td>0.0</td>\n",
       "      <td>0</td>\n",
       "      <td>0.526978</td>\n",
       "      <td>0</td>\n",
       "      <td>0.0</td>\n",
       "      <td>0</td>\n",
       "      <td>0</td>\n",
       "    </tr>\n",
       "  </tbody>\n",
       "</table>\n",
       "<p>3 rows × 30 columns</p>\n",
       "</div>"
      ],
      "text/plain": [
       "   graph_type  is_directed_int  has_spatial_attributes  \\\n",
       "0           4                0                       0   \n",
       "1           4                0                       0   \n",
       "2           4                0                       0   \n",
       "\n",
       "   has_temporal_attributes  is_bipartite  n_components  \\\n",
       "0                        0             0             1   \n",
       "1                        0             0             1   \n",
       "2                        0             0             1   \n",
       "\n",
       "   avg_betweenness_centrality  avg_closeness_centrality  \\\n",
       "0                    0.069444                  0.651169   \n",
       "1                    0.002243                  0.855288   \n",
       "2                    0.003262                  0.679415   \n",
       "\n",
       "   avg_eigenvector_centrality  avg_degree  ...  eccentricity_avg  n_nodes  \\\n",
       "0                    0.307393    4.400000  ...               2.3       10   \n",
       "1                    0.113103   63.871795  ...               2.0       78   \n",
       "2                    0.082231   76.938776  ...               2.0      147   \n",
       "\n",
       "   node_types  node_attributes  number_of_isolates   density  edge_types  \\\n",
       "0           0              0.0                   0  0.488889           0   \n",
       "1           0              0.0                   0  0.829504           0   \n",
       "2           0              0.0                   0  0.526978           0   \n",
       "\n",
       "   edge_attributes  n_parallel_edges  n_self_loops  \n",
       "0              0.0                 0             0  \n",
       "1              0.0                 0             0  \n",
       "2              0.0                 0             0  \n",
       "\n",
       "[3 rows x 30 columns]"
      ]
     },
     "execution_count": 3,
     "metadata": {},
     "output_type": "execute_result"
    }
   ],
   "source": [
    "graphs.head()"
   ]
  },
  {
   "cell_type": "markdown",
   "metadata": {},
   "source": [
    "## Sample designers\n",
    "\n",
    "We evaluate the ability of VIGOR to recover the rules that were used to represent simulated users. We design 3 versions of this simulated user: bob_informed, who follows the rules 100\\% of the time; bob_semi_informed, who follows the rules 75\\% of the time and chooses other visualizations randomly the other 25\\% of the time; and bob_uninformed who follows the rules 50\\% of the time and chooses other visualizations randomly the other 50\\% of the time."
   ]
  },
  {
   "cell_type": "code",
   "execution_count": 4,
   "metadata": {},
   "outputs": [],
   "source": [
    "informed = label_graphs(graphs, predicates, conformance=1)\n",
    "semi_informed = label_graphs(graphs, predicates, conformance=0.75)\n",
    "uninformed = label_graphs(graphs, predicates, conformance=0.5)"
   ]
  },
  {
   "cell_type": "code",
   "execution_count": 5,
   "metadata": {},
   "outputs": [
    {
     "data": {
      "text/plain": [
       "0    NODETRIX\n",
       "1      MATRIX\n",
       "2     PAOHVIS\n",
       "dtype: object"
      ]
     },
     "execution_count": 5,
     "metadata": {},
     "output_type": "execute_result"
    }
   ],
   "source": [
    "informed"
   ]
  },
  {
   "cell_type": "markdown",
   "metadata": {},
   "source": [
    "## Learning predicates from labeled data"
   ]
  },
  {
   "cell_type": "code",
   "execution_count": 6,
   "metadata": {},
   "outputs": [
    {
     "name": "stdout",
     "output_type": "stream",
     "text": [
      "Learning predicates for NODETRIX\n",
      "get_predicates [[9.99999851e-01 0.00000000e+00 9.99999956e-01 0.00000000e+00\n",
      "  0.00000000e+00 0.00000000e+00 0.00000000e+00 9.99999953e-01\n",
      "  9.99999974e-01 9.99999990e-01 0.00000000e+00 0.00000000e+00\n",
      "  9.99999967e-01 0.00000000e+00 0.00000000e+00]\n",
      " [0.00000000e+00 9.99999951e-01 1.37112361e-01 8.19862128e-01\n",
      "  3.79497414e-01 9.99999968e-01 9.99999971e-01 0.00000000e+00\n",
      "  0.00000000e+00 0.00000000e+00 9.99999912e-01 9.45454545e-01\n",
      "  0.00000000e+00 4.96350365e-01 9.99999971e-01]\n",
      " [1.51612230e-02 1.38378997e-01 0.00000000e+00 1.00000000e+00\n",
      "  9.99999998e-01 3.32499795e-02 1.30800071e-01 9.48352955e-04\n",
      "  7.85660391e-01 0.00000000e+00 9.01631057e-01 1.00000000e+00\n",
      "  0.00000000e+00 1.00000000e+00 1.11824292e-01]] [[ True False False]] Index(['avg_betweenness_centrality', 'avg_closeness_centrality',\n",
      "       'avg_eigenvector_centrality', 'avg_degree', 'std_degree',\n",
      "       'clustering_coefficient', 'transitivity', 'modularity',\n",
      "       'avg_shortest_path_length', 'diameter', 'assortativity',\n",
      "       'vertex_connectivity', 'eccentricity_avg', 'n_nodes', 'density'],\n",
      "      dtype='object')\n"
     ]
    },
    {
     "name": "stderr",
     "output_type": "stream",
     "text": [
      "/Users/sjoerdvink/Developer/visualization-recommendation/vigor/vigor.py:65: UserWarning: std(): degrees of freedom is <= 0. Correction should be strictly less than the reduction factor (input numel divided by output numel). (Triggered internally at /Users/runner/work/pytorch/pytorch/pytorch/aten/src/ATen/native/ReduceOps.cpp:1823.)\n",
      "  selection_std = torch.stack([x[sel_t].std(0) for sel_t in selected], 0)\n"
     ]
    },
    {
     "ename": "RuntimeError",
     "evalue": "all elements of input should be between 0 and 1",
     "output_type": "error",
     "traceback": [
      "\u001b[0;31m---------------------------------------------------------------------------\u001b[0m",
      "\u001b[0;31mRuntimeError\u001b[0m                              Traceback (most recent call last)",
      "Cell \u001b[0;32mIn[6], line 1\u001b[0m\n\u001b[0;32m----> 1\u001b[0m learned_predicates_informed \u001b[38;5;241m=\u001b[39m \u001b[43mlearn_predicates\u001b[49m\u001b[43m(\u001b[49m\u001b[43mgraphs\u001b[49m\u001b[43m,\u001b[49m\u001b[43m \u001b[49m\u001b[43minformed\u001b[49m\u001b[43m,\u001b[49m\u001b[43m \u001b[49m\u001b[38;5;241;43m1000\u001b[39;49m\u001b[43m)\u001b[49m\n\u001b[1;32m      2\u001b[0m learned_predicates_semi_informed \u001b[38;5;241m=\u001b[39m learn_predicates(graphs, semi_informed, \u001b[38;5;241m1000\u001b[39m)\n\u001b[1;32m      3\u001b[0m learned_predicates_uninformed \u001b[38;5;241m=\u001b[39m learn_predicates(graphs, uninformed, \u001b[38;5;241m1000\u001b[39m)\n",
      "File \u001b[0;32m~/Developer/visualization-recommendation/vigor/evaluation.py:86\u001b[0m, in \u001b[0;36mlearn_predicates\u001b[0;34m(df, labels, n_iter)\u001b[0m\n\u001b[1;32m     84\u001b[0m yneg \u001b[38;5;241m=\u001b[39m \u001b[38;5;241m~\u001b[39mypos\n\u001b[1;32m     85\u001b[0m \u001b[38;5;28mprint\u001b[39m(\u001b[38;5;124mf\u001b[39m\u001b[38;5;124m\"\u001b[39m\u001b[38;5;124mLearning predicates for \u001b[39m\u001b[38;5;132;01m{\u001b[39;00mvisualization\u001b[38;5;132;01m}\u001b[39;00m\u001b[38;5;124m\"\u001b[39m)\n\u001b[0;32m---> 86\u001b[0m pred_pos \u001b[38;5;241m=\u001b[39m \u001b[43mget_predicates\u001b[49m\u001b[43m(\u001b[49m\u001b[43mvigor\u001b[49m\u001b[43m,\u001b[49m\u001b[43m \u001b[49m\u001b[43mgraphs_normalized\u001b[49m\u001b[43m,\u001b[49m\u001b[43m \u001b[49m\u001b[43mypos\u001b[49m\u001b[43m,\u001b[49m\u001b[43m \u001b[49m\u001b[43mn_iter\u001b[49m\u001b[38;5;241;43m=\u001b[39;49m\u001b[43mn_iter\u001b[49m\u001b[43m)\u001b[49m\n\u001b[1;32m     87\u001b[0m pred_neg \u001b[38;5;241m=\u001b[39m get_predicates(vigor, graphs_normalized, yneg, n_iter\u001b[38;5;241m=\u001b[39mn_iter)\n\u001b[1;32m     89\u001b[0m pred_list[visualization] \u001b[38;5;241m=\u001b[39m pred_pos, pred_neg\n",
      "File \u001b[0;32m~/Developer/visualization-recommendation/vigor/evaluation.py:60\u001b[0m, in \u001b[0;36mget_predicates\u001b[0;34m(vigor, X, y, n_iter)\u001b[0m\n\u001b[1;32m     58\u001b[0m \u001b[38;5;28;01mdef\u001b[39;00m \u001b[38;5;21mget_predicates\u001b[39m(vigor, X, y, n_iter\u001b[38;5;241m=\u001b[39m\u001b[38;5;241m1000\u001b[39m):\n\u001b[1;32m     59\u001b[0m     \u001b[38;5;28mprint\u001b[39m(\u001b[38;5;124m\"\u001b[39m\u001b[38;5;124mget_predicates\u001b[39m\u001b[38;5;124m\"\u001b[39m, X\u001b[38;5;241m.\u001b[39mvalues, y[\u001b[38;5;28;01mNone\u001b[39;00m], X\u001b[38;5;241m.\u001b[39mcolumns)\n\u001b[0;32m---> 60\u001b[0m     predicates \u001b[38;5;241m=\u001b[39m \u001b[43mvigor\u001b[49m\u001b[38;5;241;43m.\u001b[39;49m\u001b[43mcompute_predicate_sequence\u001b[49m\u001b[43m(\u001b[49m\n\u001b[1;32m     61\u001b[0m \u001b[43m        \u001b[49m\u001b[43mX\u001b[49m\u001b[38;5;241;43m.\u001b[39;49m\u001b[43mvalues\u001b[49m\u001b[43m,\u001b[49m\n\u001b[1;32m     62\u001b[0m \u001b[43m        \u001b[49m\u001b[43my\u001b[49m\u001b[43m[\u001b[49m\u001b[38;5;28;43;01mNone\u001b[39;49;00m\u001b[43m]\u001b[49m\u001b[43m,\u001b[49m\n\u001b[1;32m     63\u001b[0m \u001b[43m        \u001b[49m\u001b[43mattribute_names\u001b[49m\u001b[38;5;241;43m=\u001b[39;49m\u001b[43mX\u001b[49m\u001b[38;5;241;43m.\u001b[39;49m\u001b[43mcolumns\u001b[49m\u001b[43m,\u001b[49m\n\u001b[1;32m     64\u001b[0m \u001b[43m        \u001b[49m\u001b[43mn_iter\u001b[49m\u001b[38;5;241;43m=\u001b[39;49m\u001b[43mn_iter\u001b[49m\u001b[43m,\u001b[49m\n\u001b[1;32m     65\u001b[0m \u001b[43m    \u001b[49m\u001b[43m)\u001b[49m\n\u001b[1;32m     67\u001b[0m     p \u001b[38;5;241m=\u001b[39m Predicate(predicates[\u001b[38;5;241m0\u001b[39m])\n\u001b[1;32m     68\u001b[0m     p\u001b[38;5;241m.\u001b[39mfit(X)\n",
      "File \u001b[0;32m~/Developer/visualization-recommendation/vigor/vigor.py:110\u001b[0m, in \u001b[0;36mVIGOR.compute_predicate_sequence\u001b[0;34m(self, x0, selected, attribute_names, n_iter)\u001b[0m\n\u001b[1;32m    108\u001b[0m             pred \u001b[38;5;241m=\u001b[39m \u001b[38;5;28mself\u001b[39m\u001b[38;5;241m.\u001b[39mpredict(x, a[t], mu[t])\n\u001b[1;32m    109\u001b[0m \u001b[38;5;66;03m#             print(pred)\u001b[39;00m\n\u001b[0;32m--> 110\u001b[0m             loss \u001b[38;5;241m=\u001b[39m \u001b[43mbce\u001b[49m\u001b[43m(\u001b[49m\u001b[43mpred\u001b[49m\u001b[43m,\u001b[49m\u001b[43m \u001b[49m\u001b[43mlabel\u001b[49m\u001b[43m[\u001b[49m\u001b[43mt\u001b[49m\u001b[43m]\u001b[49m\u001b[43m)\u001b[49m\n\u001b[1;32m    111\u001b[0m             \u001b[38;5;66;03m# loss += (mu[t] - selection_centroids[t]).pow(2).mean() * 20\u001b[39;00m\n\u001b[1;32m    112\u001b[0m             loss_per_brush\u001b[38;5;241m.\u001b[39mappend(loss)\n",
      "File \u001b[0;32m~/Developer/visualization-recommendation/.venv/lib/python3.11/site-packages/torch/nn/modules/module.py:1736\u001b[0m, in \u001b[0;36mModule._wrapped_call_impl\u001b[0;34m(self, *args, **kwargs)\u001b[0m\n\u001b[1;32m   1734\u001b[0m     \u001b[38;5;28;01mreturn\u001b[39;00m \u001b[38;5;28mself\u001b[39m\u001b[38;5;241m.\u001b[39m_compiled_call_impl(\u001b[38;5;241m*\u001b[39margs, \u001b[38;5;241m*\u001b[39m\u001b[38;5;241m*\u001b[39mkwargs)  \u001b[38;5;66;03m# type: ignore[misc]\u001b[39;00m\n\u001b[1;32m   1735\u001b[0m \u001b[38;5;28;01melse\u001b[39;00m:\n\u001b[0;32m-> 1736\u001b[0m     \u001b[38;5;28;01mreturn\u001b[39;00m \u001b[38;5;28;43mself\u001b[39;49m\u001b[38;5;241;43m.\u001b[39;49m\u001b[43m_call_impl\u001b[49m\u001b[43m(\u001b[49m\u001b[38;5;241;43m*\u001b[39;49m\u001b[43margs\u001b[49m\u001b[43m,\u001b[49m\u001b[43m \u001b[49m\u001b[38;5;241;43m*\u001b[39;49m\u001b[38;5;241;43m*\u001b[39;49m\u001b[43mkwargs\u001b[49m\u001b[43m)\u001b[49m\n",
      "File \u001b[0;32m~/Developer/visualization-recommendation/.venv/lib/python3.11/site-packages/torch/nn/modules/module.py:1747\u001b[0m, in \u001b[0;36mModule._call_impl\u001b[0;34m(self, *args, **kwargs)\u001b[0m\n\u001b[1;32m   1742\u001b[0m \u001b[38;5;66;03m# If we don't have any hooks, we want to skip the rest of the logic in\u001b[39;00m\n\u001b[1;32m   1743\u001b[0m \u001b[38;5;66;03m# this function, and just call forward.\u001b[39;00m\n\u001b[1;32m   1744\u001b[0m \u001b[38;5;28;01mif\u001b[39;00m \u001b[38;5;129;01mnot\u001b[39;00m (\u001b[38;5;28mself\u001b[39m\u001b[38;5;241m.\u001b[39m_backward_hooks \u001b[38;5;129;01mor\u001b[39;00m \u001b[38;5;28mself\u001b[39m\u001b[38;5;241m.\u001b[39m_backward_pre_hooks \u001b[38;5;129;01mor\u001b[39;00m \u001b[38;5;28mself\u001b[39m\u001b[38;5;241m.\u001b[39m_forward_hooks \u001b[38;5;129;01mor\u001b[39;00m \u001b[38;5;28mself\u001b[39m\u001b[38;5;241m.\u001b[39m_forward_pre_hooks\n\u001b[1;32m   1745\u001b[0m         \u001b[38;5;129;01mor\u001b[39;00m _global_backward_pre_hooks \u001b[38;5;129;01mor\u001b[39;00m _global_backward_hooks\n\u001b[1;32m   1746\u001b[0m         \u001b[38;5;129;01mor\u001b[39;00m _global_forward_hooks \u001b[38;5;129;01mor\u001b[39;00m _global_forward_pre_hooks):\n\u001b[0;32m-> 1747\u001b[0m     \u001b[38;5;28;01mreturn\u001b[39;00m \u001b[43mforward_call\u001b[49m\u001b[43m(\u001b[49m\u001b[38;5;241;43m*\u001b[39;49m\u001b[43margs\u001b[49m\u001b[43m,\u001b[49m\u001b[43m \u001b[49m\u001b[38;5;241;43m*\u001b[39;49m\u001b[38;5;241;43m*\u001b[39;49m\u001b[43mkwargs\u001b[49m\u001b[43m)\u001b[49m\n\u001b[1;32m   1749\u001b[0m result \u001b[38;5;241m=\u001b[39m \u001b[38;5;28;01mNone\u001b[39;00m\n\u001b[1;32m   1750\u001b[0m called_always_called_hooks \u001b[38;5;241m=\u001b[39m \u001b[38;5;28mset\u001b[39m()\n",
      "File \u001b[0;32m~/Developer/visualization-recommendation/.venv/lib/python3.11/site-packages/torch/nn/modules/loss.py:697\u001b[0m, in \u001b[0;36mBCELoss.forward\u001b[0;34m(self, input, target)\u001b[0m\n\u001b[1;32m    696\u001b[0m \u001b[38;5;28;01mdef\u001b[39;00m \u001b[38;5;21mforward\u001b[39m(\u001b[38;5;28mself\u001b[39m, \u001b[38;5;28minput\u001b[39m: Tensor, target: Tensor) \u001b[38;5;241m-\u001b[39m\u001b[38;5;241m>\u001b[39m Tensor:\n\u001b[0;32m--> 697\u001b[0m     \u001b[38;5;28;01mreturn\u001b[39;00m \u001b[43mF\u001b[49m\u001b[38;5;241;43m.\u001b[39;49m\u001b[43mbinary_cross_entropy\u001b[49m\u001b[43m(\u001b[49m\n\u001b[1;32m    698\u001b[0m \u001b[43m        \u001b[49m\u001b[38;5;28;43minput\u001b[39;49m\u001b[43m,\u001b[49m\u001b[43m \u001b[49m\u001b[43mtarget\u001b[49m\u001b[43m,\u001b[49m\u001b[43m \u001b[49m\u001b[43mweight\u001b[49m\u001b[38;5;241;43m=\u001b[39;49m\u001b[38;5;28;43mself\u001b[39;49m\u001b[38;5;241;43m.\u001b[39;49m\u001b[43mweight\u001b[49m\u001b[43m,\u001b[49m\u001b[43m \u001b[49m\u001b[43mreduction\u001b[49m\u001b[38;5;241;43m=\u001b[39;49m\u001b[38;5;28;43mself\u001b[39;49m\u001b[38;5;241;43m.\u001b[39;49m\u001b[43mreduction\u001b[49m\n\u001b[1;32m    699\u001b[0m \u001b[43m    \u001b[49m\u001b[43m)\u001b[49m\n",
      "File \u001b[0;32m~/Developer/visualization-recommendation/.venv/lib/python3.11/site-packages/torch/nn/functional.py:3554\u001b[0m, in \u001b[0;36mbinary_cross_entropy\u001b[0;34m(input, target, weight, size_average, reduce, reduction)\u001b[0m\n\u001b[1;32m   3551\u001b[0m     new_size \u001b[38;5;241m=\u001b[39m _infer_size(target\u001b[38;5;241m.\u001b[39msize(), weight\u001b[38;5;241m.\u001b[39msize())\n\u001b[1;32m   3552\u001b[0m     weight \u001b[38;5;241m=\u001b[39m weight\u001b[38;5;241m.\u001b[39mexpand(new_size)\n\u001b[0;32m-> 3554\u001b[0m \u001b[38;5;28;01mreturn\u001b[39;00m \u001b[43mtorch\u001b[49m\u001b[38;5;241;43m.\u001b[39;49m\u001b[43m_C\u001b[49m\u001b[38;5;241;43m.\u001b[39;49m\u001b[43m_nn\u001b[49m\u001b[38;5;241;43m.\u001b[39;49m\u001b[43mbinary_cross_entropy\u001b[49m\u001b[43m(\u001b[49m\u001b[38;5;28;43minput\u001b[39;49m\u001b[43m,\u001b[49m\u001b[43m \u001b[49m\u001b[43mtarget\u001b[49m\u001b[43m,\u001b[49m\u001b[43m \u001b[49m\u001b[43mweight\u001b[49m\u001b[43m,\u001b[49m\u001b[43m \u001b[49m\u001b[43mreduction_enum\u001b[49m\u001b[43m)\u001b[49m\n",
      "\u001b[0;31mRuntimeError\u001b[0m: all elements of input should be between 0 and 1"
     ]
    }
   ],
   "source": [
    "learned_predicates_informed = learn_predicates(graphs, informed, 1000)\n",
    "learned_predicates_semi_informed = learn_predicates(graphs, semi_informed, 1000)\n",
    "learned_predicates_uninformed = learn_predicates(graphs, uninformed, 1000)"
   ]
  },
  {
   "cell_type": "markdown",
   "metadata": {},
   "source": [
    "## Comparing learned predicates to initial predicates"
   ]
  },
  {
   "cell_type": "code",
   "execution_count": null,
   "metadata": {},
   "outputs": [],
   "source": [
    "metrics, mean_iou, mean_deviation, inclusion_ratio = compute_metrics(predicates, learned_predicates_informed)\n",
    "\n",
    "print(f\"Mean IoU: {mean_iou:.2f}\")\n",
    "print(f\"Mean Deviation: {mean_deviation:.2f}\")\n",
    "print(f\"Inclusion Ratio: {inclusion_ratio:.2f}\")"
   ]
  },
  {
   "cell_type": "code",
   "execution_count": null,
   "metadata": {},
   "outputs": [],
   "source": [
    "metrics, mean_iou, mean_deviation, inclusion_ratio = compute_metrics(predicates, learned_predicates_semi_informed)\n",
    "\n",
    "print(f\"Mean IoU: {mean_iou:.2f}\")\n",
    "print(f\"Mean Deviation: {mean_deviation:.2f}\")\n",
    "print(f\"Inclusion Ratio: {inclusion_ratio:.2f}\")"
   ]
  },
  {
   "cell_type": "code",
   "execution_count": null,
   "metadata": {},
   "outputs": [],
   "source": [
    "metrics, mean_iou, mean_deviation, inclusion_ratio = compute_metrics(predicates, learned_predicates_uninformed)\n",
    "\n",
    "print(f\"Mean IoU: {mean_iou:.2f}\")\n",
    "print(f\"Mean Deviation: {mean_deviation:.2f}\")\n",
    "print(f\"Inclusion Ratio: {inclusion_ratio:.2f}\")"
   ]
  }
 ],
 "metadata": {
  "kernelspec": {
   "display_name": ".venv",
   "language": "python",
   "name": "python3"
  },
  "language_info": {
   "codemirror_mode": {
    "name": "ipython",
    "version": 3
   },
   "file_extension": ".py",
   "mimetype": "text/x-python",
   "name": "python",
   "nbconvert_exporter": "python",
   "pygments_lexer": "ipython3",
   "version": "3.11.6"
  }
 },
 "nbformat": 4,
 "nbformat_minor": 2
}
