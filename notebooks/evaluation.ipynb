{
 "cells": [
  {
   "cell_type": "markdown",
   "metadata": {},
   "source": [
    "# Simulation of User Preferences"
   ]
  },
  {
   "cell_type": "code",
   "execution_count": 1,
   "metadata": {},
   "outputs": [],
   "source": [
    "import os\n",
    "import pandas as pd\n",
    "from vigor import generate_graphs, label_graphs, predicates, learn_predicates, compute_metrics"
   ]
  },
  {
   "cell_type": "markdown",
   "metadata": {},
   "source": [
    "## Generate graphs\n",
    "\n",
    "1. Generate graphs using the fast_gnp_random_graph function from networkx\n",
    "2. Calculate statistics for each graph"
   ]
  },
  {
   "cell_type": "code",
   "execution_count": 2,
   "metadata": {},
   "outputs": [
    {
     "name": "stdout",
     "output_type": "stream",
     "text": [
      "Loading graph data\n"
     ]
    }
   ],
   "source": [
    "file_path = '../data/generated_graphs_example'\n",
    "\n",
    "if not os.path.exists(f'{file_path}.csv'):\n",
    "    print('Generating graph data')\n",
    "    graphs = generate_graphs(100, 2, 200)\n",
    "    graphs.to_csv(f'{file_path}.csv', index=False)\n",
    "else:\n",
    "    print('Loading graph data')\n",
    "    graphs = pd.read_csv(f'{file_path}.csv')"
   ]
  },
  {
   "cell_type": "code",
   "execution_count": 3,
   "metadata": {},
   "outputs": [
    {
     "data": {
      "text/html": [
       "<div>\n",
       "<style scoped>\n",
       "    .dataframe tbody tr th:only-of-type {\n",
       "        vertical-align: middle;\n",
       "    }\n",
       "\n",
       "    .dataframe tbody tr th {\n",
       "        vertical-align: top;\n",
       "    }\n",
       "\n",
       "    .dataframe thead th {\n",
       "        text-align: right;\n",
       "    }\n",
       "</style>\n",
       "<table border=\"1\" class=\"dataframe\">\n",
       "  <thead>\n",
       "    <tr style=\"text-align: right;\">\n",
       "      <th></th>\n",
       "      <th>graph_type</th>\n",
       "      <th>is_directed_int</th>\n",
       "      <th>has_spatial_attributes</th>\n",
       "      <th>has_temporal_attributes</th>\n",
       "      <th>is_bipartite</th>\n",
       "      <th>n_components</th>\n",
       "      <th>avg_betweenness_centrality</th>\n",
       "      <th>avg_closeness_centrality</th>\n",
       "      <th>avg_eigenvector_centrality</th>\n",
       "      <th>avg_degree</th>\n",
       "      <th>...</th>\n",
       "      <th>eccentricity_avg</th>\n",
       "      <th>n_nodes</th>\n",
       "      <th>node_types</th>\n",
       "      <th>node_attributes</th>\n",
       "      <th>number_of_isolates</th>\n",
       "      <th>density</th>\n",
       "      <th>edge_types</th>\n",
       "      <th>edge_attributes</th>\n",
       "      <th>n_parallel_edges</th>\n",
       "      <th>n_self_loops</th>\n",
       "    </tr>\n",
       "  </thead>\n",
       "  <tbody>\n",
       "    <tr>\n",
       "      <th>0</th>\n",
       "      <td>4</td>\n",
       "      <td>1</td>\n",
       "      <td>0</td>\n",
       "      <td>1</td>\n",
       "      <td>0</td>\n",
       "      <td>2</td>\n",
       "      <td>0.006843</td>\n",
       "      <td>0.504436</td>\n",
       "      <td>0.080592</td>\n",
       "      <td>17.356164</td>\n",
       "      <td>...</td>\n",
       "      <td>3.000000</td>\n",
       "      <td>146</td>\n",
       "      <td>3</td>\n",
       "      <td>6</td>\n",
       "      <td>0</td>\n",
       "      <td>0.119698</td>\n",
       "      <td>5</td>\n",
       "      <td>2</td>\n",
       "      <td>2</td>\n",
       "      <td>5</td>\n",
       "    </tr>\n",
       "    <tr>\n",
       "      <th>1</th>\n",
       "      <td>4</td>\n",
       "      <td>0</td>\n",
       "      <td>0</td>\n",
       "      <td>0</td>\n",
       "      <td>0</td>\n",
       "      <td>7</td>\n",
       "      <td>0.011514</td>\n",
       "      <td>0.554609</td>\n",
       "      <td>0.114805</td>\n",
       "      <td>15.666667</td>\n",
       "      <td>...</td>\n",
       "      <td>2.736111</td>\n",
       "      <td>72</td>\n",
       "      <td>1</td>\n",
       "      <td>2</td>\n",
       "      <td>0</td>\n",
       "      <td>0.220657</td>\n",
       "      <td>4</td>\n",
       "      <td>12</td>\n",
       "      <td>0</td>\n",
       "      <td>4</td>\n",
       "    </tr>\n",
       "    <tr>\n",
       "      <th>2</th>\n",
       "      <td>4</td>\n",
       "      <td>1</td>\n",
       "      <td>0</td>\n",
       "      <td>1</td>\n",
       "      <td>0</td>\n",
       "      <td>9</td>\n",
       "      <td>0.034914</td>\n",
       "      <td>0.568343</td>\n",
       "      <td>0.198937</td>\n",
       "      <td>6.916667</td>\n",
       "      <td>...</td>\n",
       "      <td>2.666667</td>\n",
       "      <td>24</td>\n",
       "      <td>4</td>\n",
       "      <td>7</td>\n",
       "      <td>0</td>\n",
       "      <td>0.300725</td>\n",
       "      <td>5</td>\n",
       "      <td>15</td>\n",
       "      <td>3</td>\n",
       "      <td>1</td>\n",
       "    </tr>\n",
       "    <tr>\n",
       "      <th>3</th>\n",
       "      <td>4</td>\n",
       "      <td>0</td>\n",
       "      <td>0</td>\n",
       "      <td>0</td>\n",
       "      <td>1</td>\n",
       "      <td>1</td>\n",
       "      <td>0.007891</td>\n",
       "      <td>0.561783</td>\n",
       "      <td>0.097868</td>\n",
       "      <td>22.376238</td>\n",
       "      <td>...</td>\n",
       "      <td>2.356436</td>\n",
       "      <td>101</td>\n",
       "      <td>1</td>\n",
       "      <td>4</td>\n",
       "      <td>0</td>\n",
       "      <td>0.223762</td>\n",
       "      <td>4</td>\n",
       "      <td>1</td>\n",
       "      <td>0</td>\n",
       "      <td>0</td>\n",
       "    </tr>\n",
       "    <tr>\n",
       "      <th>4</th>\n",
       "      <td>4</td>\n",
       "      <td>0</td>\n",
       "      <td>1</td>\n",
       "      <td>1</td>\n",
       "      <td>1</td>\n",
       "      <td>5</td>\n",
       "      <td>0.004791</td>\n",
       "      <td>0.659691</td>\n",
       "      <td>0.094859</td>\n",
       "      <td>52.600000</td>\n",
       "      <td>...</td>\n",
       "      <td>2.000000</td>\n",
       "      <td>110</td>\n",
       "      <td>1</td>\n",
       "      <td>0</td>\n",
       "      <td>0</td>\n",
       "      <td>0.482569</td>\n",
       "      <td>3</td>\n",
       "      <td>0</td>\n",
       "      <td>0</td>\n",
       "      <td>4</td>\n",
       "    </tr>\n",
       "  </tbody>\n",
       "</table>\n",
       "<p>5 rows × 30 columns</p>\n",
       "</div>"
      ],
      "text/plain": [
       "   graph_type  is_directed_int  has_spatial_attributes  \\\n",
       "0           4                1                       0   \n",
       "1           4                0                       0   \n",
       "2           4                1                       0   \n",
       "3           4                0                       0   \n",
       "4           4                0                       1   \n",
       "\n",
       "   has_temporal_attributes  is_bipartite  n_components  \\\n",
       "0                        1             0             2   \n",
       "1                        0             0             7   \n",
       "2                        1             0             9   \n",
       "3                        0             1             1   \n",
       "4                        1             1             5   \n",
       "\n",
       "   avg_betweenness_centrality  avg_closeness_centrality  \\\n",
       "0                    0.006843                  0.504436   \n",
       "1                    0.011514                  0.554609   \n",
       "2                    0.034914                  0.568343   \n",
       "3                    0.007891                  0.561783   \n",
       "4                    0.004791                  0.659691   \n",
       "\n",
       "   avg_eigenvector_centrality  avg_degree  ...  eccentricity_avg  n_nodes  \\\n",
       "0                    0.080592   17.356164  ...          3.000000      146   \n",
       "1                    0.114805   15.666667  ...          2.736111       72   \n",
       "2                    0.198937    6.916667  ...          2.666667       24   \n",
       "3                    0.097868   22.376238  ...          2.356436      101   \n",
       "4                    0.094859   52.600000  ...          2.000000      110   \n",
       "\n",
       "   node_types  node_attributes  number_of_isolates   density  edge_types  \\\n",
       "0           3                6                   0  0.119698           5   \n",
       "1           1                2                   0  0.220657           4   \n",
       "2           4                7                   0  0.300725           5   \n",
       "3           1                4                   0  0.223762           4   \n",
       "4           1                0                   0  0.482569           3   \n",
       "\n",
       "   edge_attributes  n_parallel_edges  n_self_loops  \n",
       "0                2                 2             5  \n",
       "1               12                 0             4  \n",
       "2               15                 3             1  \n",
       "3                1                 0             0  \n",
       "4                0                 0             4  \n",
       "\n",
       "[5 rows x 30 columns]"
      ]
     },
     "execution_count": 3,
     "metadata": {},
     "output_type": "execute_result"
    }
   ],
   "source": [
    "graphs.head()"
   ]
  },
  {
   "cell_type": "markdown",
   "metadata": {},
   "source": [
    "## Sample designers\n",
    "\n",
    "We evaluate the ability of VIGOR to recover the rules that were used to represent simulated users. We design 3 versions of this simulated user: bob_informed, who follows the rules 100\\% of the time; bob_semi_informed, who follows the rules 75\\% of the time and chooses other visualizations randomly the other 25\\% of the time; and bob_uninformed who follows the rules 50\\% of the time and chooses other visualizations randomly the other 50\\% of the time."
   ]
  },
  {
   "cell_type": "code",
   "execution_count": 4,
   "metadata": {},
   "outputs": [],
   "source": [
    "informed = label_graphs(graphs, predicates, conformance=1)\n",
    "semi_informed = label_graphs(graphs, predicates, conformance=0.75)\n",
    "uninformed = label_graphs(graphs, predicates, conformance=0.5)"
   ]
  },
  {
   "cell_type": "code",
   "execution_count": 5,
   "metadata": {},
   "outputs": [
    {
     "data": {
      "text/plain": [
       "0       MATRIX\n",
       "1      PAOHVIS\n",
       "2     NODETRIX\n",
       "3       MATRIX\n",
       "4      PAOHVIS\n",
       "        ...   \n",
       "94      MATRIX\n",
       "95      MATRIX\n",
       "96      MATRIX\n",
       "97     PAOHVIS\n",
       "98      MATRIX\n",
       "Length: 99, dtype: object"
      ]
     },
     "execution_count": 5,
     "metadata": {},
     "output_type": "execute_result"
    }
   ],
   "source": [
    "informed"
   ]
  },
  {
   "cell_type": "markdown",
   "metadata": {},
   "source": [
    "## Learning predicates from labeled data"
   ]
  },
  {
   "cell_type": "code",
   "execution_count": 6,
   "metadata": {},
   "outputs": [
    {
     "name": "stdout",
     "output_type": "stream",
     "text": [
      "Learning predicates for MATRIX\n",
      "OPTIMIZING [[1 0 0 1 0 0 0 1 0 1 1 0 0 0 0 0 0 1 1 1 0 0 0 0 1 0 0 1 0 0 0 1 0 1 0 0\n",
      "  0 1 1 1 1 0 0 1 0 0 0 0 0 1 0 1 0 1 0 1 0 0 0 0 1 0 0 0 1 0 0 0 0 0 1 1\n",
      "  0 1 0 0 1 1 1 0 0 0 1 0 0 0 0 0 0 0 1 0 0 1 1 1 1 0 1]] tensor([[ 0.4091,  0.9854, -1.1843,  ..., -0.2397,  1.4005, -0.0255],\n",
      "        [ 0.4091, -0.9657, -1.1843,  ..., -1.3433,  0.8105,  0.7791],\n",
      "        [ 0.4091,  0.9854, -1.1843,  ...,  0.3121, -0.9595, -1.6355],\n",
      "        ...,\n",
      "        [ 0.4091, -0.9657,  0.8029,  ...,  0.3121, -0.3695,  0.3360],\n",
      "        [ 0.4091, -0.9657,  0.8029,  ...,  0.3121, -1.5495,  1.3198],\n",
      "        [ 0.4091,  0.9854, -1.1843,  ...,  1.4158,  0.2205,  0.4699]]) tensor([[       inf, 1.0600e+00,        inf, 1.0596e+00,        inf, 1.3689e+00,\n",
      "         1.2881e+01, 5.4176e+00, 3.2139e+00, 2.5505e+01, 1.1044e+01, 2.8744e+00,\n",
      "         2.8950e+00, 1.5461e+03,        inf, 1.1609e+01, 2.4514e+00,        inf,\n",
      "         3.8501e+01,        inf, 1.0911e+01, 1.4907e+00, 1.5310e+00, 2.2921e+00,\n",
      "                inf, 2.9311e+00, 2.9900e+00, 1.0090e+00, 1.8741e+00, 3.5056e+00,\n",
      "         2.5707e+00]], requires_grad=True) tensor([[ 0.4091,  0.2759, -1.1843,  0.2366, -1.0471, -0.4518, -0.2875, -0.0991,\n",
      "         -0.3371, -0.4505, -0.1398, -0.7601, -0.7466, -0.2648, -0.1567,  0.4195,\n",
      "          0.6818,  0.3836,  0.5167, -0.5409,  0.5864,  0.3233, -0.4367, -0.7064,\n",
      "         -0.1715, -0.7577,  1.1738, -0.2857, -0.6410,  1.1859,  0.2671]],\n",
      "       requires_grad=True) tensor([[1., 0., 0., 1., 0., 0., 0., 1., 0., 1., 1., 0., 0., 0., 0., 0., 0., 1.,\n",
      "         1., 1., 0., 0., 0., 0., 1., 0., 0., 1., 0., 0., 0., 1., 0., 1., 0., 0.,\n",
      "         0., 1., 1., 1., 1., 0., 0., 1., 0., 0., 0., 0., 0., 1., 0., 1., 0., 1.,\n",
      "         0., 1., 0., 0., 0., 0., 1., 0., 0., 0., 1., 0., 0., 0., 0., 0., 1., 1.,\n",
      "         0., 1., 0., 0., 1., 1., 1., 0., 0., 0., 1., 0., 0., 0., 0., 0., 0., 0.,\n",
      "         1., 0., 0., 1., 1., 1., 1., 0., 1.]])\n",
      "for loop 0 [1 0 0 1 0 0 0 1 0 1 1 0 0 0 0 0 0 1 1 1 0 0 0 0 1 0 0 1 0 0 0 1 0 1 0 0 0\n",
      " 1 1 1 1 0 0 1 0 0 0 0 0 1 0 1 0 1 0 1 0 0 0 0 1 0 0 0 1 0 0 0 0 0 1 1 0 1\n",
      " 0 0 1 1 1 0 0 0 1 0 0 0 0 0 0 0 1 0 0 1 1 1 1 0 1]\n",
      "predict tensor([       inf, 1.0600e+00,        inf, 1.0596e+00,        inf, 1.3689e+00,\n",
      "        1.2881e+01, 5.4176e+00, 3.2139e+00, 2.5505e+01, 1.1044e+01, 2.8744e+00,\n",
      "        2.8950e+00, 1.5461e+03,        inf, 1.1609e+01, 2.4514e+00,        inf,\n",
      "        3.8501e+01,        inf, 1.0911e+01, 1.4907e+00, 1.5310e+00, 2.2921e+00,\n",
      "               inf, 2.9311e+00, 2.9900e+00, 1.0090e+00, 1.8741e+00, 3.5056e+00,\n",
      "        2.5707e+00], grad_fn=<SelectBackward0>) tensor([ 0.4091,  0.2759, -1.1843,  0.2366, -1.0471, -0.4518, -0.2875, -0.0991,\n",
      "        -0.3371, -0.4505, -0.1398, -0.7601, -0.7466, -0.2648, -0.1567,  0.4195,\n",
      "         0.6818,  0.3836,  0.5167, -0.5409,  0.5864,  0.3233, -0.4367, -0.7064,\n",
      "        -0.1715, -0.7577,  1.1738, -0.2857, -0.6410,  1.1859,  0.2671],\n",
      "       grad_fn=<SelectBackward0>)\n",
      "pred tensor([nan, nan, nan, nan, nan, nan, nan, nan, nan, nan, nan, 0., nan, nan, nan, nan, nan, nan, nan, nan, nan, nan, nan, nan,\n",
      "        nan, nan, nan, nan, nan, nan, nan, nan, nan, nan, nan, nan, nan, nan, nan, nan, nan, nan, nan, nan, nan, nan, nan, nan,\n",
      "        nan, nan, nan, nan, nan, nan, nan, nan, nan, nan, nan, nan, nan, nan, nan, nan, nan, nan, nan, nan, 0., nan, nan, nan,\n",
      "        nan, nan, nan, nan, nan, nan, nan, nan, nan, nan, nan, nan, nan, 0., nan, nan, nan, nan, nan, nan, nan, nan, nan, nan,\n",
      "        nan, nan, nan], grad_fn=<MulBackward0>)\n"
     ]
    },
    {
     "ename": "RuntimeError",
     "evalue": "all elements of input should be between 0 and 1",
     "output_type": "error",
     "traceback": [
      "\u001b[0;31m---------------------------------------------------------------------------\u001b[0m",
      "\u001b[0;31mRuntimeError\u001b[0m                              Traceback (most recent call last)",
      "Cell \u001b[0;32mIn[6], line 1\u001b[0m\n\u001b[0;32m----> 1\u001b[0m learned_predicates_informed \u001b[38;5;241m=\u001b[39m \u001b[43mlearn_predicates\u001b[49m\u001b[43m(\u001b[49m\u001b[43mgraphs\u001b[49m\u001b[43m,\u001b[49m\u001b[43m \u001b[49m\u001b[43minformed\u001b[49m\u001b[43m,\u001b[49m\u001b[43m \u001b[49m\u001b[38;5;241;43m1000\u001b[39;49m\u001b[43m)\u001b[49m\n\u001b[1;32m      2\u001b[0m learned_predicates_semi_informed \u001b[38;5;241m=\u001b[39m learn_predicates(graphs, semi_informed, \u001b[38;5;241m1000\u001b[39m)\n\u001b[1;32m      3\u001b[0m learned_predicates_uninformed \u001b[38;5;241m=\u001b[39m learn_predicates(graphs, uninformed, \u001b[38;5;241m1000\u001b[39m)\n",
      "File \u001b[0;32m~/Developer/visualization-recommendation/vigor/evaluation.py:84\u001b[0m, in \u001b[0;36mlearn_predicates\u001b[0;34m(df, labels, n_iter)\u001b[0m\n\u001b[1;32m     82\u001b[0m yneg \u001b[38;5;241m=\u001b[39m (labels \u001b[38;5;241m!=\u001b[39m visualization)\u001b[38;5;241m.\u001b[39mastype(\u001b[38;5;28mint\u001b[39m)\u001b[38;5;241m.\u001b[39mvalues\n\u001b[1;32m     83\u001b[0m \u001b[38;5;28mprint\u001b[39m(\u001b[38;5;124mf\u001b[39m\u001b[38;5;124m\"\u001b[39m\u001b[38;5;124mLearning predicates for \u001b[39m\u001b[38;5;132;01m{\u001b[39;00mvisualization\u001b[38;5;132;01m}\u001b[39;00m\u001b[38;5;124m\"\u001b[39m)\n\u001b[0;32m---> 84\u001b[0m pred_pos \u001b[38;5;241m=\u001b[39m \u001b[43mget_predicates\u001b[49m\u001b[43m(\u001b[49m\u001b[43mvigor\u001b[49m\u001b[43m,\u001b[49m\u001b[43m \u001b[49m\u001b[43mgraphs_normalized\u001b[49m\u001b[43m,\u001b[49m\u001b[43m \u001b[49m\u001b[43mypos\u001b[49m\u001b[43m,\u001b[49m\u001b[43m \u001b[49m\u001b[43mn_iter\u001b[49m\u001b[38;5;241;43m=\u001b[39;49m\u001b[43mn_iter\u001b[49m\u001b[43m)\u001b[49m\n\u001b[1;32m     85\u001b[0m pred_neg \u001b[38;5;241m=\u001b[39m get_predicates(vigor, graphs_normalized, yneg, n_iter\u001b[38;5;241m=\u001b[39mn_iter)\n\u001b[1;32m     87\u001b[0m pred_list[visualization] \u001b[38;5;241m=\u001b[39m pred_pos, pred_neg\n",
      "File \u001b[0;32m~/Developer/visualization-recommendation/vigor/evaluation.py:58\u001b[0m, in \u001b[0;36mget_predicates\u001b[0;34m(vigor, X, y, n_iter)\u001b[0m\n\u001b[1;32m     57\u001b[0m \u001b[38;5;28;01mdef\u001b[39;00m \u001b[38;5;21mget_predicates\u001b[39m(vigor, X, y, n_iter\u001b[38;5;241m=\u001b[39m\u001b[38;5;241m1000\u001b[39m):\n\u001b[0;32m---> 58\u001b[0m     predicates \u001b[38;5;241m=\u001b[39m \u001b[43mvigor\u001b[49m\u001b[38;5;241;43m.\u001b[39;49m\u001b[43mcompute_predicate_sequence\u001b[49m\u001b[43m(\u001b[49m\n\u001b[1;32m     59\u001b[0m \u001b[43m        \u001b[49m\u001b[43mX\u001b[49m\u001b[38;5;241;43m.\u001b[39;49m\u001b[43mvalues\u001b[49m\u001b[43m,\u001b[49m\n\u001b[1;32m     60\u001b[0m \u001b[43m        \u001b[49m\u001b[43my\u001b[49m\u001b[43m[\u001b[49m\u001b[38;5;28;43;01mNone\u001b[39;49;00m\u001b[43m]\u001b[49m\u001b[43m,\u001b[49m\n\u001b[1;32m     61\u001b[0m \u001b[43m        \u001b[49m\u001b[43mattribute_names\u001b[49m\u001b[38;5;241;43m=\u001b[39;49m\u001b[43mX\u001b[49m\u001b[38;5;241;43m.\u001b[39;49m\u001b[43mcolumns\u001b[49m\u001b[43m,\u001b[49m\n\u001b[1;32m     62\u001b[0m \u001b[43m        \u001b[49m\u001b[43mn_iter\u001b[49m\u001b[38;5;241;43m=\u001b[39;49m\u001b[43mn_iter\u001b[49m\u001b[43m,\u001b[49m\n\u001b[1;32m     63\u001b[0m \u001b[43m    \u001b[49m\u001b[43m)\u001b[49m\n\u001b[1;32m     65\u001b[0m     p \u001b[38;5;241m=\u001b[39m Predicate(predicates[\u001b[38;5;241m0\u001b[39m])\n\u001b[1;32m     66\u001b[0m     p\u001b[38;5;241m.\u001b[39mfit(X)\n",
      "File \u001b[0;32m~/Developer/visualization-recommendation/vigor/vigor.py:44\u001b[0m, in \u001b[0;36mVIGOR.compute_predicate_sequence\u001b[0;34m(self, x0, selected, attribute_names, n_iter)\u001b[0m\n\u001b[1;32m     35\u001b[0m bce_per_brush \u001b[38;5;241m=\u001b[39m \u001b[38;5;28mself\u001b[39m\u001b[38;5;241m.\u001b[39m_create_bce_per_brush(selected, n_points, x)\n\u001b[1;32m     37\u001b[0m optimizer \u001b[38;5;241m=\u001b[39m optim\u001b[38;5;241m.\u001b[39mSGD(\n\u001b[1;32m     38\u001b[0m     [{\u001b[38;5;124m\"\u001b[39m\u001b[38;5;124mparams\u001b[39m\u001b[38;5;124m\"\u001b[39m: mu, \u001b[38;5;124m\"\u001b[39m\u001b[38;5;124mweight_decay\u001b[39m\u001b[38;5;124m\"\u001b[39m: \u001b[38;5;241m0\u001b[39m}, {\u001b[38;5;124m\"\u001b[39m\u001b[38;5;124mparams\u001b[39m\u001b[38;5;124m\"\u001b[39m: a, \u001b[38;5;124m\"\u001b[39m\u001b[38;5;124mweight_decay\u001b[39m\u001b[38;5;124m\"\u001b[39m: \u001b[38;5;241m0.25\u001b[39m}],\n\u001b[1;32m     39\u001b[0m     lr\u001b[38;5;241m=\u001b[39m\u001b[38;5;241m1e-2\u001b[39m,\n\u001b[1;32m     40\u001b[0m     momentum\u001b[38;5;241m=\u001b[39m\u001b[38;5;241m0.4\u001b[39m,\n\u001b[1;32m     41\u001b[0m     nesterov\u001b[38;5;241m=\u001b[39m\u001b[38;5;28;01mTrue\u001b[39;00m,\n\u001b[1;32m     42\u001b[0m )\n\u001b[0;32m---> 44\u001b[0m \u001b[38;5;28;43mself\u001b[39;49m\u001b[38;5;241;43m.\u001b[39;49m\u001b[43m_optimize\u001b[49m\u001b[43m(\u001b[49m\u001b[43mselected\u001b[49m\u001b[43m,\u001b[49m\u001b[43m \u001b[49m\u001b[43mx\u001b[49m\u001b[43m,\u001b[49m\u001b[43m \u001b[49m\u001b[43ma\u001b[49m\u001b[43m,\u001b[49m\u001b[43m \u001b[49m\u001b[43mmu\u001b[49m\u001b[43m,\u001b[49m\u001b[43m \u001b[49m\u001b[43mlabel\u001b[49m\u001b[43m,\u001b[49m\u001b[43m \u001b[49m\u001b[43mbce_per_brush\u001b[49m\u001b[43m,\u001b[49m\u001b[43m \u001b[49m\u001b[43moptimizer\u001b[49m\u001b[43m,\u001b[49m\u001b[43m \u001b[49m\u001b[43mn_iter\u001b[49m\u001b[43m)\u001b[49m\n\u001b[1;32m     46\u001b[0m a\u001b[38;5;241m.\u001b[39mdetach_()\n\u001b[1;32m     47\u001b[0m mu\u001b[38;5;241m.\u001b[39mdetach_()\n",
      "File \u001b[0;32m~/Developer/visualization-recommendation/vigor/vigor.py:70\u001b[0m, in \u001b[0;36mVIGOR._optimize\u001b[0;34m(self, selected, x, a, mu, label, bce_per_brush, optimizer, n_iter)\u001b[0m\n\u001b[1;32m     68\u001b[0m pred \u001b[38;5;241m=\u001b[39m \u001b[38;5;28mself\u001b[39m\u001b[38;5;241m.\u001b[39mpredict(x, a[t], mu[t])\n\u001b[1;32m     69\u001b[0m \u001b[38;5;28mprint\u001b[39m(\u001b[38;5;124m\"\u001b[39m\u001b[38;5;124mpred\u001b[39m\u001b[38;5;124m\"\u001b[39m, pred)\n\u001b[0;32m---> 70\u001b[0m loss \u001b[38;5;241m=\u001b[39m \u001b[43mbce_per_brush\u001b[49m\u001b[43m[\u001b[49m\u001b[43mt\u001b[49m\u001b[43m]\u001b[49m\u001b[43m(\u001b[49m\u001b[43mpred\u001b[49m\u001b[43m,\u001b[49m\u001b[43m \u001b[49m\u001b[43mlabel\u001b[49m\u001b[43m[\u001b[49m\u001b[43mt\u001b[49m\u001b[43m]\u001b[49m\u001b[43m)\u001b[49m\n\u001b[1;32m     71\u001b[0m \u001b[38;5;28mprint\u001b[39m(\u001b[38;5;124m\"\u001b[39m\u001b[38;5;124mloss\u001b[39m\u001b[38;5;124m\"\u001b[39m, loss)\n\u001b[1;32m     72\u001b[0m loss_per_brush\u001b[38;5;241m.\u001b[39mappend(loss)\n",
      "File \u001b[0;32m~/Developer/visualization-recommendation/.venv/lib/python3.11/site-packages/torch/nn/modules/module.py:1736\u001b[0m, in \u001b[0;36mModule._wrapped_call_impl\u001b[0;34m(self, *args, **kwargs)\u001b[0m\n\u001b[1;32m   1734\u001b[0m     \u001b[38;5;28;01mreturn\u001b[39;00m \u001b[38;5;28mself\u001b[39m\u001b[38;5;241m.\u001b[39m_compiled_call_impl(\u001b[38;5;241m*\u001b[39margs, \u001b[38;5;241m*\u001b[39m\u001b[38;5;241m*\u001b[39mkwargs)  \u001b[38;5;66;03m# type: ignore[misc]\u001b[39;00m\n\u001b[1;32m   1735\u001b[0m \u001b[38;5;28;01melse\u001b[39;00m:\n\u001b[0;32m-> 1736\u001b[0m     \u001b[38;5;28;01mreturn\u001b[39;00m \u001b[38;5;28;43mself\u001b[39;49m\u001b[38;5;241;43m.\u001b[39;49m\u001b[43m_call_impl\u001b[49m\u001b[43m(\u001b[49m\u001b[38;5;241;43m*\u001b[39;49m\u001b[43margs\u001b[49m\u001b[43m,\u001b[49m\u001b[43m \u001b[49m\u001b[38;5;241;43m*\u001b[39;49m\u001b[38;5;241;43m*\u001b[39;49m\u001b[43mkwargs\u001b[49m\u001b[43m)\u001b[49m\n",
      "File \u001b[0;32m~/Developer/visualization-recommendation/.venv/lib/python3.11/site-packages/torch/nn/modules/module.py:1747\u001b[0m, in \u001b[0;36mModule._call_impl\u001b[0;34m(self, *args, **kwargs)\u001b[0m\n\u001b[1;32m   1742\u001b[0m \u001b[38;5;66;03m# If we don't have any hooks, we want to skip the rest of the logic in\u001b[39;00m\n\u001b[1;32m   1743\u001b[0m \u001b[38;5;66;03m# this function, and just call forward.\u001b[39;00m\n\u001b[1;32m   1744\u001b[0m \u001b[38;5;28;01mif\u001b[39;00m \u001b[38;5;129;01mnot\u001b[39;00m (\u001b[38;5;28mself\u001b[39m\u001b[38;5;241m.\u001b[39m_backward_hooks \u001b[38;5;129;01mor\u001b[39;00m \u001b[38;5;28mself\u001b[39m\u001b[38;5;241m.\u001b[39m_backward_pre_hooks \u001b[38;5;129;01mor\u001b[39;00m \u001b[38;5;28mself\u001b[39m\u001b[38;5;241m.\u001b[39m_forward_hooks \u001b[38;5;129;01mor\u001b[39;00m \u001b[38;5;28mself\u001b[39m\u001b[38;5;241m.\u001b[39m_forward_pre_hooks\n\u001b[1;32m   1745\u001b[0m         \u001b[38;5;129;01mor\u001b[39;00m _global_backward_pre_hooks \u001b[38;5;129;01mor\u001b[39;00m _global_backward_hooks\n\u001b[1;32m   1746\u001b[0m         \u001b[38;5;129;01mor\u001b[39;00m _global_forward_hooks \u001b[38;5;129;01mor\u001b[39;00m _global_forward_pre_hooks):\n\u001b[0;32m-> 1747\u001b[0m     \u001b[38;5;28;01mreturn\u001b[39;00m \u001b[43mforward_call\u001b[49m\u001b[43m(\u001b[49m\u001b[38;5;241;43m*\u001b[39;49m\u001b[43margs\u001b[49m\u001b[43m,\u001b[49m\u001b[43m \u001b[49m\u001b[38;5;241;43m*\u001b[39;49m\u001b[38;5;241;43m*\u001b[39;49m\u001b[43mkwargs\u001b[49m\u001b[43m)\u001b[49m\n\u001b[1;32m   1749\u001b[0m result \u001b[38;5;241m=\u001b[39m \u001b[38;5;28;01mNone\u001b[39;00m\n\u001b[1;32m   1750\u001b[0m called_always_called_hooks \u001b[38;5;241m=\u001b[39m \u001b[38;5;28mset\u001b[39m()\n",
      "File \u001b[0;32m~/Developer/visualization-recommendation/.venv/lib/python3.11/site-packages/torch/nn/modules/loss.py:697\u001b[0m, in \u001b[0;36mBCELoss.forward\u001b[0;34m(self, input, target)\u001b[0m\n\u001b[1;32m    696\u001b[0m \u001b[38;5;28;01mdef\u001b[39;00m \u001b[38;5;21mforward\u001b[39m(\u001b[38;5;28mself\u001b[39m, \u001b[38;5;28minput\u001b[39m: Tensor, target: Tensor) \u001b[38;5;241m-\u001b[39m\u001b[38;5;241m>\u001b[39m Tensor:\n\u001b[0;32m--> 697\u001b[0m     \u001b[38;5;28;01mreturn\u001b[39;00m \u001b[43mF\u001b[49m\u001b[38;5;241;43m.\u001b[39;49m\u001b[43mbinary_cross_entropy\u001b[49m\u001b[43m(\u001b[49m\n\u001b[1;32m    698\u001b[0m \u001b[43m        \u001b[49m\u001b[38;5;28;43minput\u001b[39;49m\u001b[43m,\u001b[49m\u001b[43m \u001b[49m\u001b[43mtarget\u001b[49m\u001b[43m,\u001b[49m\u001b[43m \u001b[49m\u001b[43mweight\u001b[49m\u001b[38;5;241;43m=\u001b[39;49m\u001b[38;5;28;43mself\u001b[39;49m\u001b[38;5;241;43m.\u001b[39;49m\u001b[43mweight\u001b[49m\u001b[43m,\u001b[49m\u001b[43m \u001b[49m\u001b[43mreduction\u001b[49m\u001b[38;5;241;43m=\u001b[39;49m\u001b[38;5;28;43mself\u001b[39;49m\u001b[38;5;241;43m.\u001b[39;49m\u001b[43mreduction\u001b[49m\n\u001b[1;32m    699\u001b[0m \u001b[43m    \u001b[49m\u001b[43m)\u001b[49m\n",
      "File \u001b[0;32m~/Developer/visualization-recommendation/.venv/lib/python3.11/site-packages/torch/nn/functional.py:3554\u001b[0m, in \u001b[0;36mbinary_cross_entropy\u001b[0;34m(input, target, weight, size_average, reduce, reduction)\u001b[0m\n\u001b[1;32m   3551\u001b[0m     new_size \u001b[38;5;241m=\u001b[39m _infer_size(target\u001b[38;5;241m.\u001b[39msize(), weight\u001b[38;5;241m.\u001b[39msize())\n\u001b[1;32m   3552\u001b[0m     weight \u001b[38;5;241m=\u001b[39m weight\u001b[38;5;241m.\u001b[39mexpand(new_size)\n\u001b[0;32m-> 3554\u001b[0m \u001b[38;5;28;01mreturn\u001b[39;00m \u001b[43mtorch\u001b[49m\u001b[38;5;241;43m.\u001b[39;49m\u001b[43m_C\u001b[49m\u001b[38;5;241;43m.\u001b[39;49m\u001b[43m_nn\u001b[49m\u001b[38;5;241;43m.\u001b[39;49m\u001b[43mbinary_cross_entropy\u001b[49m\u001b[43m(\u001b[49m\u001b[38;5;28;43minput\u001b[39;49m\u001b[43m,\u001b[49m\u001b[43m \u001b[49m\u001b[43mtarget\u001b[49m\u001b[43m,\u001b[49m\u001b[43m \u001b[49m\u001b[43mweight\u001b[49m\u001b[43m,\u001b[49m\u001b[43m \u001b[49m\u001b[43mreduction_enum\u001b[49m\u001b[43m)\u001b[49m\n",
      "\u001b[0;31mRuntimeError\u001b[0m: all elements of input should be between 0 and 1"
     ]
    }
   ],
   "source": [
    "learned_predicates_informed = learn_predicates(graphs, informed, 1000)\n",
    "learned_predicates_semi_informed = learn_predicates(graphs, semi_informed, 1000)\n",
    "learned_predicates_uninformed = learn_predicates(graphs, uninformed, 1000)"
   ]
  },
  {
   "cell_type": "markdown",
   "metadata": {},
   "source": [
    "## Comparing learned predicates to initial predicates"
   ]
  },
  {
   "cell_type": "markdown",
   "metadata": {},
   "source": [
    "### Informed User"
   ]
  },
  {
   "cell_type": "code",
   "execution_count": null,
   "metadata": {},
   "outputs": [],
   "source": [
    "metrics, mean_iou, mean_deviation, inclusion_ratio = compute_metrics(predicates, learned_predicates_informed)\n",
    "\n",
    "print(f\"Mean IoU: {mean_iou:.2f}\")\n",
    "print(f\"Mean Deviation: {mean_deviation:.2f}\")\n",
    "print(f\"Inclusion Ratio: {inclusion_ratio:.2f}\")"
   ]
  },
  {
   "cell_type": "markdown",
   "metadata": {},
   "source": [
    "### Semi-Informed User"
   ]
  },
  {
   "cell_type": "code",
   "execution_count": null,
   "metadata": {},
   "outputs": [],
   "source": [
    "metrics, mean_iou, mean_deviation, inclusion_ratio = compute_metrics(predicates, learned_predicates_semi_informed)\n",
    "\n",
    "print(f\"Mean IoU: {mean_iou:.2f}\")\n",
    "print(f\"Mean Deviation: {mean_deviation:.2f}\")\n",
    "print(f\"Inclusion Ratio: {inclusion_ratio:.2f}\")"
   ]
  },
  {
   "cell_type": "markdown",
   "metadata": {},
   "source": [
    "### Unformed User"
   ]
  },
  {
   "cell_type": "code",
   "execution_count": null,
   "metadata": {},
   "outputs": [],
   "source": [
    "metrics, mean_iou, mean_deviation, inclusion_ratio = compute_metrics(predicates, learned_predicates_uninformed)\n",
    "\n",
    "print(f\"Mean IoU: {mean_iou:.2f}\")\n",
    "print(f\"Mean Deviation: {mean_deviation:.2f}\")\n",
    "print(f\"Inclusion Ratio: {inclusion_ratio:.2f}\")"
   ]
  }
 ],
 "metadata": {
  "kernelspec": {
   "display_name": ".venv",
   "language": "python",
   "name": "python3"
  },
  "language_info": {
   "codemirror_mode": {
    "name": "ipython",
    "version": 3
   },
   "file_extension": ".py",
   "mimetype": "text/x-python",
   "name": "python",
   "nbconvert_exporter": "python",
   "pygments_lexer": "ipython3",
   "version": "3.11.6"
  }
 },
 "nbformat": 4,
 "nbformat_minor": 2
}
