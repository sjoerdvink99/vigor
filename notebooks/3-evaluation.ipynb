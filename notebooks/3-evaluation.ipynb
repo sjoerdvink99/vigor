{
 "cells": [
  {
   "cell_type": "markdown",
   "metadata": {},
   "source": [
    "# Evaluation with sample users"
   ]
  },
  {
   "cell_type": "code",
   "execution_count": 1,
   "metadata": {},
   "outputs": [],
   "source": [
    "import json\n",
    "from scipy.stats import spearmanr, kendalltau\n",
    "import altair as alt\n",
    "import pandas as pd\n",
    "from vigor import VIGOR, Visualization, predicates, Predicate\n",
    "from vigor.visualization_types import VisualizationType"
   ]
  },
  {
   "cell_type": "code",
   "execution_count": 13,
   "metadata": {},
   "outputs": [],
   "source": [
    "def calculate_correlations(file_path, label):\n",
    "    vigor = VIGOR()\n",
    "\n",
    "    visualization_preds = {}\n",
    "    for vis, score, stat, min_val, max_val in predicates:\n",
    "        if vis not in visualization_preds:\n",
    "            visualization_preds[vis] = Visualization(vis)\n",
    "        visualization_preds[vis].add_predicate(Predicate(stat, min_val, max_val, score))\n",
    "\n",
    "    for vis in visualization_preds.values():\n",
    "        vigor.add_visualization(vis)\n",
    "\n",
    "    with open(file_path, 'r') as file:\n",
    "        data = json.load(file)\n",
    "\n",
    "    correlation_data = []\n",
    "\n",
    "    for interaction_index, interaction in enumerate(data[:5]):\n",
    "        statistics = interaction['statistics']\n",
    "        sorted_visualizations = interaction['sorted_visualizations']\n",
    "        recommendations_with_scores = vigor.recommend_n(statistics, 8)  # Get recommendations with scores\n",
    "\n",
    "        print(\"recommendations_with_scores\", recommendations_with_scores)\n",
    "        for i, (recommendation, score) in enumerate(recommendations_with_scores):\n",
    "            recommendation_str = recommendation.name.upper()  # Convert to match the format in sorted_visualizations\n",
    "\n",
    "            if recommendation_str in sorted_visualizations:\n",
    "                position = sorted_visualizations.index(recommendation_str)\n",
    "                feedback = 1 / (position + 1)  # Higher feedback for better positions\n",
    "            else:\n",
    "                feedback = 0  # If not found in sorted_visualizations\n",
    "\n",
    "            print(\"feedback\", feedback)\n",
    "            # Update visualization with feedback based on the recommendation\n",
    "            for vis in vigor.visualizations:\n",
    "                if vis.visualization_type == recommendation:\n",
    "                    print(vis, statistics)\n",
    "                    print(vis.predicates)\n",
    "                    vis.update(feedback, statistics)  # Update the visualization with feedback\n",
    "                    break\n",
    "\n",
    "        # Calculate Spearman's rank correlation\n",
    "        min_len = min(len(recommendations_with_scores), len(sorted_visualizations))\n",
    "        \n",
    "        # Truncate recommendations and scores\n",
    "        recommendations_truncated = recommendations_with_scores[:min_len]\n",
    "        sorted_visualizations_truncated = sorted_visualizations[:min_len]\n",
    "\n",
    "        recommendations_indices = [list(VisualizationType).index(rec[0]) for rec in recommendations_truncated]  # Get indices of recommended visualizations\n",
    "        sorted_visualizations_names = [vis.name.upper() for vis in VisualizationType]\n",
    "        sorted_visualizations_indices = [sorted_visualizations_names.index(visualization) for visualization in sorted_visualizations_truncated]\n",
    "\n",
    "        # Calculate metrics\n",
    "        spearman_corr = spearmanr(recommendations_indices, sorted_visualizations_indices).statistic\n",
    "        kendall_corr = kendalltau(recommendations_indices, sorted_visualizations_indices).statistic\n",
    "\n",
    "        # Store the results\n",
    "        correlation_data.append({\n",
    "            'interaction_index': interaction_index,\n",
    "            'correlation': spearman_corr,\n",
    "            'kendall': kendall_corr,\n",
    "            'label': label\n",
    "        })\n",
    "\n",
    "    return correlation_data"
   ]
  },
  {
   "cell_type": "code",
   "execution_count": null,
   "metadata": {},
   "outputs": [],
   "source": [
    "# Calculate correlations for three different JSON files\n",
    "correlation_data_1 = calculate_correlations('../data/evaluation/uninformed_user.json', 'Uninformed User')\n",
    "correlation_data_2 = calculate_correlations('../data/evaluation/informed_user.json', 'Informed User')\n",
    "correlation_data_3 = calculate_correlations('../data/evaluation/fifty_fifty_user.json', 'Balanced User')"
   ]
  },
  {
   "cell_type": "code",
   "execution_count": null,
   "metadata": {},
   "outputs": [],
   "source": [
    "all_correlation_data = correlation_data_1 + correlation_data_2 + correlation_data_3\n",
    "correlation_df = pd.DataFrame(all_correlation_data)\n",
    "\n",
    "chart = alt.Chart(correlation_df).mark_line(point=True).encode(\n",
    "    x='interaction_index:Q',\n",
    "    y='correlation:Q',\n",
    "    color=alt.Color('label:N', legend=alt.Legend(title=\"Dataset\", orient='top-left')),  # Legend inside the graph\n",
    "    tooltip=['interaction_index:Q', 'correlation:Q', 'label:N']\n",
    ").properties(\n",
    "    title='Spearman Rank Correlation Over Time',\n",
    "    width=600,\n",
    "    height=400\n",
    ").configure_view(\n",
    "    strokeOpacity=0\n",
    ").configure_background(\n",
    "    color='transparent'\n",
    ")\n",
    "\n",
    "chart.display()"
   ]
  },
  {
   "cell_type": "code",
   "execution_count": null,
   "metadata": {},
   "outputs": [],
   "source": []
  }
 ],
 "metadata": {
  "kernelspec": {
   "display_name": ".venv",
   "language": "python",
   "name": "python3"
  },
  "language_info": {
   "codemirror_mode": {
    "name": "ipython",
    "version": 3
   },
   "file_extension": ".py",
   "mimetype": "text/x-python",
   "name": "python",
   "nbconvert_exporter": "python",
   "pygments_lexer": "ipython3",
   "version": "3.9.6"
  }
 },
 "nbformat": 4,
 "nbformat_minor": 2
}
