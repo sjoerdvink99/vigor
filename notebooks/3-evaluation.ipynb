{
 "cells": [
  {
   "cell_type": "markdown",
   "metadata": {},
   "source": [
    "# Evaluation with sample users"
   ]
  },
  {
   "cell_type": "markdown",
   "metadata": {},
   "source": [
    "In the evaluation, we model three types of users:\n",
    "- Uninformed user (the opposite of nobre)\n",
    "- 50-50 user (50% of the time aligned with nobre)\n",
    "- Informed user (fully aligned with nobre scores)\n",
    "\n",
    "Given the set of system predicates to start off with, we'll see how the system responds to the user feedback. This notebook performs the evaluation"
   ]
  },
  {
   "cell_type": "code",
   "execution_count": 1,
   "metadata": {},
   "outputs": [],
   "source": [
    "import json\n",
    "from scipy.stats import spearmanr, kendalltau\n",
    "import altair as alt\n",
    "import pandas as pd\n",
    "from vigor import VIGOR, Visualization, predicates, Predicate\n",
    "from vigor.visualization_types import VisualizationType"
   ]
  },
  {
   "cell_type": "code",
   "execution_count": 2,
   "metadata": {},
   "outputs": [],
   "source": [
    "def calculate_correlations(file_path, label):\n",
    "    vigor = VIGOR()\n",
    "\n",
    "    visualization_preds = {}\n",
    "    for vis, score, stat, min_val, max_val in predicates:\n",
    "        if vis not in visualization_preds:\n",
    "            visualization_preds[vis] = Visualization(vis)\n",
    "        visualization_preds[vis].add_predicate(Predicate(stat, min_val, max_val, score))\n",
    "\n",
    "    for vis in visualization_preds.values():\n",
    "        vigor.add_visualization(vis)\n",
    "\n",
    "    with open(file_path, 'r') as file:\n",
    "        data = json.load(file)\n",
    "\n",
    "    correlation_data = []\n",
    "\n",
    "    for interaction_index, interaction in enumerate(data[:5]):\n",
    "        statistics = interaction['statistics']\n",
    "        sorted_visualizations = interaction['sorted_visualizations']\n",
    "        recommendations_with_scores = vigor.recommend(statistics, 8)  # Get recommendations with scores\n",
    "\n",
    "        print(\"recommendations_with_scores\", recommendations_with_scores)\n",
    "        for i, (recommendation, score) in enumerate(recommendations_with_scores):\n",
    "            recommendation_str = recommendation.name.upper()  # Convert to match the format in sorted_visualizations\n",
    "\n",
    "            if recommendation_str in sorted_visualizations:\n",
    "                position = sorted_visualizations.index(recommendation_str)\n",
    "                feedback = 1 / (position + 1)  # Higher feedback for better positions\n",
    "            else:\n",
    "                feedback = 0  # If not found in sorted_visualizations\n",
    "\n",
    "            print(\"feedback\", feedback)\n",
    "            # Update visualization with feedback based on the recommendation\n",
    "            for vis in vigor.visualizations:\n",
    "                if vis.visualization_type == recommendation:\n",
    "                    print(vis, statistics)\n",
    "                    print(vis.predicates)\n",
    "                    vis.update(feedback, statistics)  # Update the visualization with feedback\n",
    "                    break\n",
    "\n",
    "        # Calculate Spearman's rank correlation\n",
    "        min_len = min(len(recommendations_with_scores), len(sorted_visualizations))\n",
    "        \n",
    "        # Truncate recommendations and scores\n",
    "        recommendations_truncated = recommendations_with_scores[:min_len]\n",
    "        sorted_visualizations_truncated = sorted_visualizations[:min_len]\n",
    "\n",
    "        recommendations_indices = [list(VisualizationType).index(rec[0]) for rec in recommendations_truncated]  # Get indices of recommended visualizations\n",
    "        sorted_visualizations_names = [vis.name.upper() for vis in VisualizationType]\n",
    "        sorted_visualizations_indices = [sorted_visualizations_names.index(visualization) for visualization in sorted_visualizations_truncated]\n",
    "\n",
    "        # Calculate metrics\n",
    "        spearman_corr = spearmanr(recommendations_indices, sorted_visualizations_indices).statistic\n",
    "        kendall_corr = kendalltau(recommendations_indices, sorted_visualizations_indices).statistic\n",
    "\n",
    "        # Store the results\n",
    "        correlation_data.append({\n",
    "            'interaction_index': interaction_index,\n",
    "            'correlation': spearman_corr,\n",
    "            'kendall': kendall_corr,\n",
    "            'label': label\n",
    "        })\n",
    "\n",
    "    return correlation_data"
   ]
  },
  {
   "cell_type": "code",
   "execution_count": 3,
   "metadata": {},
   "outputs": [
    {
     "name": "stdout",
     "output_type": "stream",
     "text": [
      "recommendations_with_scores [(<VisualizationType.BIOFABRIC: 'BioFabric'>, np.float64(0.8341052631578947)), (<VisualizationType.QUILTS: 'Quilts'>, np.float64(0.767438596491228)), (<VisualizationType.ADJACENCY_MATRIX: 'Adjacency Matrix'>, np.float64(0.7507719298245613)), (<VisualizationType.NODE_LINK: 'Node-Link'>, np.float64(0.6660350877192982)), (<VisualizationType.ATTRIBUTE_DRIVEN_NODELINK: 'Attribute Driven Positioning'>, np.float64(0.5993684210526316)), (<VisualizationType.SEMANTIC_SUBSTRATES: 'Semantic Substrates'>, np.float64(0.5993684210526316)), (<VisualizationType.TREEMAP: 'Treemap'>, np.float64(0.2827017543859649)), (<VisualizationType.SUNBURST: 'Sunburst'>, np.float64(0.2827017543859649))]\n",
      "feedback 0.16666666666666666\n",
      "<vigor.visualization.Visualization object at 0x3165dcca0> {'size': 41, 'density': 0.05, 'volume': 40, 'node_types': 1, 'node_attributes': 6, 'edge_types': 1, 'edge_attributes': 1}\n",
      "[<vigor.predicate.Predicate object at 0x3165dcc70>, <vigor.predicate.Predicate object at 0x3165dcb80>, <vigor.predicate.Predicate object at 0x3165dcbb0>, <vigor.predicate.Predicate object at 0x3165dcbe0>, <vigor.predicate.Predicate object at 0x3165dcc10>, <vigor.predicate.Predicate object at 0x3165dcb20>, <vigor.predicate.Predicate object at 0x3165dcd00>, <vigor.predicate.Predicate object at 0x3165dcd60>, <vigor.predicate.Predicate object at 0x3165dcf70>, <vigor.predicate.Predicate object at 0x3165dcee0>, <vigor.predicate.Predicate object at 0x3165dce80>, <vigor.predicate.Predicate object at 0x3165dcf10>, <vigor.predicate.Predicate object at 0x3165dcf40>, <vigor.predicate.Predicate object at 0x3165dcfa0>, <vigor.predicate.Predicate object at 0x3165dc1f0>]\n"
     ]
    },
    {
     "ename": "KeyError",
     "evalue": "'is_bipartite'",
     "output_type": "error",
     "traceback": [
      "\u001b[0;31m---------------------------------------------------------------------------\u001b[0m",
      "\u001b[0;31mKeyError\u001b[0m                                  Traceback (most recent call last)",
      "Cell \u001b[0;32mIn[3], line 2\u001b[0m\n\u001b[1;32m      1\u001b[0m \u001b[38;5;66;03m# Calculate correlations for three different JSON files\u001b[39;00m\n\u001b[0;32m----> 2\u001b[0m correlation_data_1 \u001b[38;5;241m=\u001b[39m \u001b[43mcalculate_correlations\u001b[49m\u001b[43m(\u001b[49m\u001b[38;5;124;43m'\u001b[39;49m\u001b[38;5;124;43m../data/evaluation/uninformed_user.json\u001b[39;49m\u001b[38;5;124;43m'\u001b[39;49m\u001b[43m,\u001b[49m\u001b[43m \u001b[49m\u001b[38;5;124;43m'\u001b[39;49m\u001b[38;5;124;43mUninformed User\u001b[39;49m\u001b[38;5;124;43m'\u001b[39;49m\u001b[43m)\u001b[49m\n\u001b[1;32m      3\u001b[0m correlation_data_2 \u001b[38;5;241m=\u001b[39m calculate_correlations(\u001b[38;5;124m'\u001b[39m\u001b[38;5;124m../data/evaluation/informed_user.json\u001b[39m\u001b[38;5;124m'\u001b[39m, \u001b[38;5;124m'\u001b[39m\u001b[38;5;124mInformed User\u001b[39m\u001b[38;5;124m'\u001b[39m)\n\u001b[1;32m      4\u001b[0m correlation_data_3 \u001b[38;5;241m=\u001b[39m calculate_correlations(\u001b[38;5;124m'\u001b[39m\u001b[38;5;124m../data/evaluation/fifty_fifty_user.json\u001b[39m\u001b[38;5;124m'\u001b[39m, \u001b[38;5;124m'\u001b[39m\u001b[38;5;124mBalanced User\u001b[39m\u001b[38;5;124m'\u001b[39m)\n",
      "Cell \u001b[0;32mIn[2], line 39\u001b[0m, in \u001b[0;36mcalculate_correlations\u001b[0;34m(file_path, label)\u001b[0m\n\u001b[1;32m     37\u001b[0m             \u001b[38;5;28mprint\u001b[39m(vis, statistics)\n\u001b[1;32m     38\u001b[0m             \u001b[38;5;28mprint\u001b[39m(vis\u001b[38;5;241m.\u001b[39mpredicates)\n\u001b[0;32m---> 39\u001b[0m             \u001b[43mvis\u001b[49m\u001b[38;5;241;43m.\u001b[39;49m\u001b[43mupdate\u001b[49m\u001b[43m(\u001b[49m\u001b[43mfeedback\u001b[49m\u001b[43m,\u001b[49m\u001b[43m \u001b[49m\u001b[43mstatistics\u001b[49m\u001b[43m)\u001b[49m  \u001b[38;5;66;03m# Update the visualization with feedback\u001b[39;00m\n\u001b[1;32m     40\u001b[0m             \u001b[38;5;28;01mbreak\u001b[39;00m\n\u001b[1;32m     42\u001b[0m \u001b[38;5;66;03m# Calculate Spearman's rank correlation\u001b[39;00m\n",
      "File \u001b[0;32m~/Developer/Experiments/vigor-visualization-recommendation-for-graphs/vigor/visualization.py:26\u001b[0m, in \u001b[0;36mVisualization.update\u001b[0;34m(self, feedback, stats, n_iter)\u001b[0m\n\u001b[1;32m     24\u001b[0m \u001b[38;5;28;01mdef\u001b[39;00m \u001b[38;5;21mupdate\u001b[39m(\u001b[38;5;28mself\u001b[39m, feedback: \u001b[38;5;28mint\u001b[39m, stats: Dict[\u001b[38;5;28mstr\u001b[39m, \u001b[38;5;28mfloat\u001b[39m], n_iter: \u001b[38;5;28mint\u001b[39m \u001b[38;5;241m=\u001b[39m \u001b[38;5;241m1000\u001b[39m):\n\u001b[1;32m     25\u001b[0m \u001b[38;5;250m    \u001b[39m\u001b[38;5;124;03m\"\"\"Update predicate scores using feedback as reward\"\"\"\u001b[39;00m\n\u001b[0;32m---> 26\u001b[0m     x \u001b[38;5;241m=\u001b[39m torch\u001b[38;5;241m.\u001b[39mfrom_numpy(np\u001b[38;5;241m.\u001b[39marray([[stats[p\u001b[38;5;241m.\u001b[39mstatistic] \u001b[38;5;28;01mfor\u001b[39;00m p \u001b[38;5;129;01min\u001b[39;00m \u001b[38;5;28mself\u001b[39m\u001b[38;5;241m.\u001b[39mpredicates]]))\u001b[38;5;241m.\u001b[39mfloat()\u001b[38;5;241m.\u001b[39mto(device)\n\u001b[1;32m     27\u001b[0m     x \u001b[38;5;241m=\u001b[39m torch\u001b[38;5;241m.\u001b[39mcat([x, torch\u001b[38;5;241m.\u001b[39mrand(x\u001b[38;5;241m.\u001b[39mshape[\u001b[38;5;241m0\u001b[39m], \u001b[38;5;241m1\u001b[39m)], dim\u001b[38;5;241m=\u001b[39m\u001b[38;5;241m1\u001b[39m)\n\u001b[1;32m     28\u001b[0m     feedback_tensor \u001b[38;5;241m=\u001b[39m torch\u001b[38;5;241m.\u001b[39mtensor([feedback], dtype\u001b[38;5;241m=\u001b[39mtorch\u001b[38;5;241m.\u001b[39mfloat32, device\u001b[38;5;241m=\u001b[39mdevice)\u001b[38;5;241m.\u001b[39mview(\u001b[38;5;241m1\u001b[39m, \u001b[38;5;241m1\u001b[39m)\n",
      "File \u001b[0;32m~/Developer/Experiments/vigor-visualization-recommendation-for-graphs/vigor/visualization.py:26\u001b[0m, in \u001b[0;36m<listcomp>\u001b[0;34m(.0)\u001b[0m\n\u001b[1;32m     24\u001b[0m \u001b[38;5;28;01mdef\u001b[39;00m \u001b[38;5;21mupdate\u001b[39m(\u001b[38;5;28mself\u001b[39m, feedback: \u001b[38;5;28mint\u001b[39m, stats: Dict[\u001b[38;5;28mstr\u001b[39m, \u001b[38;5;28mfloat\u001b[39m], n_iter: \u001b[38;5;28mint\u001b[39m \u001b[38;5;241m=\u001b[39m \u001b[38;5;241m1000\u001b[39m):\n\u001b[1;32m     25\u001b[0m \u001b[38;5;250m    \u001b[39m\u001b[38;5;124;03m\"\"\"Update predicate scores using feedback as reward\"\"\"\u001b[39;00m\n\u001b[0;32m---> 26\u001b[0m     x \u001b[38;5;241m=\u001b[39m torch\u001b[38;5;241m.\u001b[39mfrom_numpy(np\u001b[38;5;241m.\u001b[39marray([[\u001b[43mstats\u001b[49m\u001b[43m[\u001b[49m\u001b[43mp\u001b[49m\u001b[38;5;241;43m.\u001b[39;49m\u001b[43mstatistic\u001b[49m\u001b[43m]\u001b[49m \u001b[38;5;28;01mfor\u001b[39;00m p \u001b[38;5;129;01min\u001b[39;00m \u001b[38;5;28mself\u001b[39m\u001b[38;5;241m.\u001b[39mpredicates]]))\u001b[38;5;241m.\u001b[39mfloat()\u001b[38;5;241m.\u001b[39mto(device)\n\u001b[1;32m     27\u001b[0m     x \u001b[38;5;241m=\u001b[39m torch\u001b[38;5;241m.\u001b[39mcat([x, torch\u001b[38;5;241m.\u001b[39mrand(x\u001b[38;5;241m.\u001b[39mshape[\u001b[38;5;241m0\u001b[39m], \u001b[38;5;241m1\u001b[39m)], dim\u001b[38;5;241m=\u001b[39m\u001b[38;5;241m1\u001b[39m)\n\u001b[1;32m     28\u001b[0m     feedback_tensor \u001b[38;5;241m=\u001b[39m torch\u001b[38;5;241m.\u001b[39mtensor([feedback], dtype\u001b[38;5;241m=\u001b[39mtorch\u001b[38;5;241m.\u001b[39mfloat32, device\u001b[38;5;241m=\u001b[39mdevice)\u001b[38;5;241m.\u001b[39mview(\u001b[38;5;241m1\u001b[39m, \u001b[38;5;241m1\u001b[39m)\n",
      "\u001b[0;31mKeyError\u001b[0m: 'is_bipartite'"
     ]
    }
   ],
   "source": [
    "# Calculate correlations for three different JSON files\n",
    "correlation_data_1 = calculate_correlations('../data/evaluation/uninformed_user.json', 'Uninformed User')\n",
    "correlation_data_2 = calculate_correlations('../data/evaluation/informed_user.json', 'Informed User')\n",
    "correlation_data_3 = calculate_correlations('../data/evaluation/fifty_fifty_user.json', 'Balanced User')"
   ]
  },
  {
   "cell_type": "code",
   "execution_count": null,
   "metadata": {},
   "outputs": [],
   "source": [
    "all_correlation_data = correlation_data_1 + correlation_data_2 + correlation_data_3\n",
    "correlation_df = pd.DataFrame(all_correlation_data)\n",
    "\n",
    "chart = alt.Chart(correlation_df).mark_line(point=True).encode(\n",
    "    x='interaction_index:Q',\n",
    "    y='correlation:Q',\n",
    "    color=alt.Color('label:N', legend=alt.Legend(title=\"Dataset\", orient='top-left')),  # Legend inside the graph\n",
    "    tooltip=['interaction_index:Q', 'correlation:Q', 'label:N']\n",
    ").properties(\n",
    "    title='Spearman Rank Correlation Over Time',\n",
    "    width=600,\n",
    "    height=400\n",
    ").configure_view(\n",
    "    strokeOpacity=0\n",
    ").configure_background(\n",
    "    color='transparent'\n",
    ")\n",
    "\n",
    "chart.display()"
   ]
  },
  {
   "cell_type": "code",
   "execution_count": null,
   "metadata": {},
   "outputs": [],
   "source": []
  }
 ],
 "metadata": {
  "kernelspec": {
   "display_name": ".venv",
   "language": "python",
   "name": "python3"
  },
  "language_info": {
   "codemirror_mode": {
    "name": "ipython",
    "version": 3
   },
   "file_extension": ".py",
   "mimetype": "text/x-python",
   "name": "python",
   "nbconvert_exporter": "python",
   "pygments_lexer": "ipython3",
   "version": "3.9.6"
  }
 },
 "nbformat": 4,
 "nbformat_minor": 2
}
