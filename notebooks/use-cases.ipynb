{
 "cells": [
  {
   "cell_type": "code",
   "execution_count": 3,
   "metadata": {},
   "outputs": [
    {
     "ename": "ImportError",
     "evalue": "cannot import name 'Graph' from partially initialized module 'vigor.graph' (most likely due to a circular import) (/Users/sjoerdvink/Developer/Experiments/vigor-visualization-recommendation-for-graphs/vigor/graph.py)",
     "output_type": "error",
     "traceback": [
      "\u001b[0;31m---------------------------------------------------------------------------\u001b[0m",
      "\u001b[0;31mImportError\u001b[0m                               Traceback (most recent call last)",
      "Cell \u001b[0;32mIn[3], line 7\u001b[0m\n\u001b[1;32m      4\u001b[0m \u001b[38;5;28;01mfrom\u001b[39;00m \u001b[38;5;21;01mneo4j\u001b[39;00m \u001b[38;5;28;01mimport\u001b[39;00m GraphDatabase\n\u001b[1;32m      5\u001b[0m \u001b[38;5;28;01mfrom\u001b[39;00m \u001b[38;5;21;01mneo4j\u001b[39;00m\u001b[38;5;21;01m.\u001b[39;00m\u001b[38;5;21;01mgraph\u001b[39;00m \u001b[38;5;28;01mimport\u001b[39;00m Node, Relationship\n\u001b[0;32m----> 7\u001b[0m \u001b[38;5;28;01mfrom\u001b[39;00m \u001b[38;5;21;01mvigor\u001b[39;00m \u001b[38;5;28;01mimport\u001b[39;00m Graph\n",
      "File \u001b[0;32m~/Developer/Experiments/vigor-visualization-recommendation-for-graphs/vigor/__init__.py:1\u001b[0m\n\u001b[0;32m----> 1\u001b[0m \u001b[38;5;28;01mfrom\u001b[39;00m \u001b[38;5;21;01mvigor\u001b[39;00m\u001b[38;5;21;01m.\u001b[39;00m\u001b[38;5;21;01mgraph\u001b[39;00m \u001b[38;5;28;01mimport\u001b[39;00m Graph\n\u001b[1;32m      2\u001b[0m \u001b[38;5;28;01mfrom\u001b[39;00m \u001b[38;5;21;01mvigor\u001b[39;00m\u001b[38;5;21;01m.\u001b[39;00m\u001b[38;5;21;01mmodel\u001b[39;00m\u001b[38;5;21;01m.\u001b[39;00m\u001b[38;5;21;01mvigor\u001b[39;00m \u001b[38;5;28;01mimport\u001b[39;00m VIGOR\n",
      "File \u001b[0;32m~/Developer/Experiments/vigor-visualization-recommendation-for-graphs/vigor/graph.py:5\u001b[0m\n\u001b[1;32m      3\u001b[0m \u001b[38;5;28;01mfrom\u001b[39;00m \u001b[38;5;21;01mdataclasses\u001b[39;00m \u001b[38;5;28;01mimport\u001b[39;00m dataclass, field\n\u001b[1;32m      4\u001b[0m \u001b[38;5;28;01mfrom\u001b[39;00m \u001b[38;5;21;01mnetworkx\u001b[39;00m\u001b[38;5;21;01m.\u001b[39;00m\u001b[38;5;21;01malgorithms\u001b[39;00m\u001b[38;5;21;01m.\u001b[39;00m\u001b[38;5;21;01mcommunity\u001b[39;00m \u001b[38;5;28;01mimport\u001b[39;00m girvan_newman, modularity\n\u001b[0;32m----> 5\u001b[0m \u001b[38;5;28;01mfrom\u001b[39;00m \u001b[38;5;21;01mvigor\u001b[39;00m\u001b[38;5;21;01m.\u001b[39;00m\u001b[38;5;21;01mutils\u001b[39;00m \u001b[38;5;28;01mimport\u001b[39;00m is_spatial, is_temporal\n\u001b[1;32m      7\u001b[0m \u001b[38;5;129m@dataclass\u001b[39m\n\u001b[1;32m      8\u001b[0m \u001b[38;5;28;01mclass\u001b[39;00m \u001b[38;5;21;01mGraph\u001b[39;00m(nx\u001b[38;5;241m.\u001b[39mGraph):\n\u001b[1;32m      9\u001b[0m     \u001b[38;5;66;03m# Topological Measures\u001b[39;00m\n\u001b[1;32m     10\u001b[0m     n_nodes: \u001b[38;5;28mint\u001b[39m \u001b[38;5;241m=\u001b[39m field(init\u001b[38;5;241m=\u001b[39m\u001b[38;5;28;01mFalse\u001b[39;00m)\n",
      "File \u001b[0;32m~/Developer/Experiments/vigor-visualization-recommendation-for-graphs/vigor/utils.py:3\u001b[0m\n\u001b[1;32m      1\u001b[0m \u001b[38;5;28;01mimport\u001b[39;00m \u001b[38;5;21;01mrandom\u001b[39;00m\n\u001b[1;32m      2\u001b[0m \u001b[38;5;28;01mimport\u001b[39;00m \u001b[38;5;21;01mnetworkx\u001b[39;00m \u001b[38;5;28;01mas\u001b[39;00m \u001b[38;5;21;01mnx\u001b[39;00m\n\u001b[0;32m----> 3\u001b[0m \u001b[38;5;28;01mfrom\u001b[39;00m \u001b[38;5;21;01mvigor\u001b[39;00m\u001b[38;5;21;01m.\u001b[39;00m\u001b[38;5;21;01mgraph\u001b[39;00m \u001b[38;5;28;01mimport\u001b[39;00m Graph\n\u001b[1;32m      5\u001b[0m \u001b[38;5;28;01mdef\u001b[39;00m \u001b[38;5;21mis_spatial\u001b[39m(key):\n\u001b[1;32m      6\u001b[0m     spatial_keywords \u001b[38;5;241m=\u001b[39m {\n\u001b[1;32m      7\u001b[0m         \u001b[38;5;124m'\u001b[39m\u001b[38;5;124mlat\u001b[39m\u001b[38;5;124m'\u001b[39m, \u001b[38;5;124m'\u001b[39m\u001b[38;5;124mlon\u001b[39m\u001b[38;5;124m'\u001b[39m, \u001b[38;5;124m'\u001b[39m\u001b[38;5;124mlatitude\u001b[39m\u001b[38;5;124m'\u001b[39m, \u001b[38;5;124m'\u001b[39m\u001b[38;5;124mlongitude\u001b[39m\u001b[38;5;124m'\u001b[39m, \u001b[38;5;124m'\u001b[39m\u001b[38;5;124mlocation\u001b[39m\u001b[38;5;124m'\u001b[39m, \u001b[38;5;124m'\u001b[39m\u001b[38;5;124maddress\u001b[39m\u001b[38;5;124m'\u001b[39m, \n\u001b[1;32m      8\u001b[0m         \u001b[38;5;124m'\u001b[39m\u001b[38;5;124mgeolocation\u001b[39m\u001b[38;5;124m'\u001b[39m, \u001b[38;5;124m'\u001b[39m\u001b[38;5;124mcoord\u001b[39m\u001b[38;5;124m'\u001b[39m, \u001b[38;5;124m'\u001b[39m\u001b[38;5;124mcoordinates\u001b[39m\u001b[38;5;124m'\u001b[39m\n\u001b[1;32m      9\u001b[0m     }\n",
      "\u001b[0;31mImportError\u001b[0m: cannot import name 'Graph' from partially initialized module 'vigor.graph' (most likely due to a circular import) (/Users/sjoerdvink/Developer/Experiments/vigor-visualization-recommendation-for-graphs/vigor/graph.py)"
     ]
    }
   ],
   "source": [
    "import pandas as pd\n",
    "import csv\n",
    "import networkx as nx\n",
    "from neo4j import GraphDatabase\n",
    "from neo4j.graph import Node, Relationship\n",
    "\n",
    "from vigor import Graph"
   ]
  },
  {
   "cell_type": "code",
   "execution_count": null,
   "metadata": {},
   "outputs": [],
   "source": [
    "NEO4J_CONNECTION_URI=\"neo4j+s://demo.neo4jlabs.com:7687\"\n",
    "\n",
    "csv_filename = \"../data/use-cases.csv\""
   ]
  },
  {
   "cell_type": "code",
   "execution_count": null,
   "metadata": {},
   "outputs": [],
   "source": [
    "df = pd.read_csv(\"/content/text2cypher_claudeopus.csv\")\n",
    "df = df[df['syntax_error'] == False]\n",
    "df = df[df['returns_results'] == True]\n",
    "df.drop(columns=['timeout', 'syntax_error', 'returns_results', 'false_schema'], inplace=True)"
   ]
  },
  {
   "cell_type": "code",
   "execution_count": null,
   "metadata": {},
   "outputs": [],
   "source": [
    "recommendations = df[df['database'] == \"recommendations\"]\n",
    "twitter = df[df['database'] == \"twitter\"]"
   ]
  },
  {
   "cell_type": "code",
   "execution_count": null,
   "metadata": {},
   "outputs": [],
   "source": [
    "queries = {\n",
    "    \"recommendations\": [\n",
    "      {\n",
    "        \"q_type\": \"Retrieval\",\n",
    "        \"question\": \"What are the names of the top 5 movies with a budget over 100 million dollars?\",\n",
    "        \"query\": \"MATCH (m:Movie) WHERE m.budget > 100000000 RETURN m\"\n",
    "      },\n",
    "      {\n",
    "        \"q_type\": \"Aggregation\",\n",
    "        \"question\": \"What are the top 5 movies by revenue released in 1995?\",\n",
    "        \"query\": \"MATCH (m:Movie) WHERE m.year = 1995 AND m.revenue IS NOT NULL RETURN m\"\n",
    "      },\n",
    "      {\n",
    "        \"q_type\": \"Pathfinding\",\n",
    "        \"question\": \"What are the names of actors who have acted in more than five movies?\",\n",
    "        \"query\": \"MATCH (a:Actor)-[:ACTED_IN]->(m:Movie) WITH a, count(m) AS numMovies WHERE numMovies > 5 RETURN a\"\n",
    "      },\n",
    "       {\n",
    "        \"q_type\": \"Verbose\",\n",
    "        \"question\": \"Find the names of the top 5 movies with the lowest imdbRating.\",\n",
    "        \"query\": \"MATCH (m:Movie) WHERE m.imdbRating IS NOT NULL RETURN m\"\n",
    "      }\n",
    "    ],\n",
    "    \"twitter\": [\n",
    "      {\n",
    "        \"q_type\": \"Retrieval\",\n",
    "        \"question\": \"List the top 3 hashtags used in tweets posted by users from 'Graphs Are Everywhere.\",\n",
    "        \"query\": \"MATCH (u:User {location: 'Graphs Are Everywhere'})-[:POSTS]->(t:Tweet)-[:TAGS]->(h:Hashtag) RETURN h\"\n",
    "      },\n",
    "      {\n",
    "        \"q_type\": \"Aggregation\",\n",
    "        \"question\": \"Which three users have tweeted the most as of the latest date in the dataset?\",\n",
    "        \"query\": \"MATCH (u:User)-[:POSTS]->(t:Tweet) WHERE t.created_at IS NOT NULL WITH u, count(t) AS num_tweets, max(t.created_at) AS latest_tweet RETURN u\"\n",
    "      },\n",
    "      {\n",
    "        \"q_type\": \"Pathfinding\",\n",
    "        \"question\": \"Which tweets mention the user with the screen name 'neo4j'?\",\n",
    "        \"query\": \"MATCH (t:Tweet)-[:MENTIONS]->(u:User {screen_name: 'neo4j'}) RETURN t\"\n",
    "      },\n",
    "       {\n",
    "        \"q_type\": \"Verbose\",\n",
    "        \"question\": \"Find the first 3 tweets that have been retweeted more than 100 times.\",\n",
    "        \"query\": \"MATCH (t:Tweet) WHERE t.favorites > 100 RETURN t\"\n",
    "      }\n",
    "    ],\n",
    "}"
   ]
  },
  {
   "cell_type": "code",
   "execution_count": null,
   "metadata": {},
   "outputs": [],
   "source": [
    "header_written = False\n",
    "\n",
    "for database in queries:\n",
    "  driver = GraphDatabase.driver(NEO4J_CONNECTION_URI, auth=(database, database))\n",
    "  for query in queries[database]:\n",
    "    G = Graph()  # Assuming you are using NetworkX here\n",
    "\n",
    "    # Execute the query\n",
    "    records, summary, keys = driver.execute_query(query['query'], database_=database)\n",
    "\n",
    "    # Process the records and build the graph\n",
    "    for record in records:\n",
    "      for element in record:\n",
    "          if isinstance(element, Node):\n",
    "              print(f\"Node: {element.labels}, Properties: {element.items()}\")\n",
    "              G.add_node(record[0], label=element.labels, **dict(element.items()))  # Convert dict_items to dict\n",
    "          elif isinstance(element, Relationship):\n",
    "              print(f\"Relationship: {element.type}, Properties: {element.items()}\")\n",
    "              G.add_edge(record[0], record[2], type=element.type, **dict(element.items()))\n",
    "\n",
    "    # Get graph statistics (ensure G.get_statistics() is implemented)\n",
    "    graph_stats = G.get_statistics()  # Replace this with however you get statistics from G\n",
    "    graph_stats['database_name'] = database\n",
    "    graph_stats['question'] = query['question']\n",
    "    graph_stats['query'] = query['query']\n",
    "    graph_stats['q_type'] = query['q_type']\n",
    "\n",
    "    # Open the CSV file in append mode\n",
    "    with open(csv_filename, mode='a', newline='') as file:  # Append mode 'a'\n",
    "        writer = csv.writer(file)\n",
    "\n",
    "        # Write header only the first time\n",
    "        if not header_written:\n",
    "            writer.writerow(graph_stats.keys())\n",
    "            header_written = True\n",
    "\n",
    "        # Write the graph statistics for the current query\n",
    "        writer.writerow(graph_stats.values())\n",
    "        print('wrote to csv', database)"
   ]
  }
 ],
 "metadata": {
  "kernelspec": {
   "display_name": ".venv",
   "language": "python",
   "name": "python3"
  },
  "language_info": {
   "codemirror_mode": {
    "name": "ipython",
    "version": 3
   },
   "file_extension": ".py",
   "mimetype": "text/x-python",
   "name": "python",
   "nbconvert_exporter": "python",
   "pygments_lexer": "ipython3",
   "version": "3.9.6"
  }
 },
 "nbformat": 4,
 "nbformat_minor": 2
}
