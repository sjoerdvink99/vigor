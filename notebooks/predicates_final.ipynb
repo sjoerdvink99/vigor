{
 "cells": [
  {
   "cell_type": "code",
   "execution_count": 1,
   "id": "a53c74b5",
   "metadata": {},
   "outputs": [
    {
     "name": "stderr",
     "output_type": "stream",
     "text": [
      "C:\\Users\\brian\\anaconda3\\envs\\vigor\\Lib\\site-packages\\pandas\\core\\arrays\\masked.py:60: UserWarning: Pandas requires version '1.3.6' or newer of 'bottleneck' (version '1.3.5' currently installed).\n",
      "  from pandas.core import (\n"
     ]
    }
   ],
   "source": [
    "import numpy as np\n",
    "import pandas as pd\n",
    "import time\n",
    "import pickle as pkl\n",
    "\n",
    "from vigor import graph_data, Predicate, generate_predicate, test_predicate_proportions"
   ]
  },
  {
   "cell_type": "code",
   "execution_count": 2,
   "id": "32121e83",
   "metadata": {
    "code_folding": [
     0
    ]
   },
   "outputs": [],
   "source": [
    "predicates = {\n",
    "    'NODELINK': Predicate(clauses={\n",
    "        'density': [0, .1],\n",
    "        'is_directed_int': [0.5, 1],\n",
    "        'n_self_loops': [0, 50],\n",
    "        'n_components': [1, 5],\n",
    "        'avg_degree': [1, 3],\n",
    "        'clustering_coefficient': [0.1, 0.4],\n",
    "        'node_types': [1, 3],\n",
    "        'edge_types': [1, 2],\n",
    "        'eccentricity_avg': [0, 5]\n",
    "    }),\n",
    "    'MATRIX': Predicate(clauses={\n",
    "        'density': [0.1, 1],\n",
    "        'avg_degree': [10, 50],\n",
    "        'modularity': [0.3, 0.7],\n",
    "        'avg_betweenness_centrality': [0.2, 0.5],\n",
    "        'avg_eigenvector_centrality': [0.2, 0.8],\n",
    "        'node_attributes': [2, 10],\n",
    "        'edge_attributes': [1, 5]\n",
    "    }),\n",
    "    'NODETRIX': Predicate(clauses={\n",
    "        'communities': [4, 10],\n",
    "        'clustering_coefficient': [0.5, 1],\n",
    "        'density': [0.1, 0.5],\n",
    "        'node_types': [2, 5],\n",
    "        'modularity': [0.3, 0.8],\n",
    "        'avg_degree': [5, 15],\n",
    "        'node_attributes': [3, 10],\n",
    "        'edge_types': [1, 3]\n",
    "    }),\n",
    "    'NODELINK_MAP': Predicate(clauses={\n",
    "        'has_spatial_attributes': [0.5, 1],\n",
    "        'is_directed_int': [0, 1],\n",
    "        'avg_degree': [1, 5],\n",
    "        'n_components': [1, 5],\n",
    "        'assortativity': [-0.5, 0.5]\n",
    "    }),\n",
    "    'PAOHVIS': Predicate(clauses={\n",
    "        'n_nodes': [50, 500],\n",
    "        'node_types': [3, 6],\n",
    "        'edge_types': [2, 5],\n",
    "        'density': [0.05, 0.2],\n",
    "        'avg_degree': [5, 10],\n",
    "        'transitivity': [0.2, 0.6]\n",
    "    }),\n",
    "    'CHORD_DIAGRAM': Predicate(clauses={\n",
    "        'n_nodes': [0, 6],\n",
    "        'edge_types': [1, 3],\n",
    "        'clustering_coefficient': [0.3, 0.7],\n",
    "        'n_components': [1, 2],\n",
    "        'avg_degree': [2, 4],\n",
    "        'n_parallel_edges': [0, 5]\n",
    "    }),\n",
    "    'TREEMAP': Predicate(clauses={\n",
    "        'graph_type_1': [0.5, 1],\n",
    "        'modularity': [0.5, 1],\n",
    "        'n_nodes': [50, 200],\n",
    "        'node_attributes': [5, 20],\n",
    "        'edge_attributes': [0, 2],\n",
    "        'n_components': [1, 1],\n",
    "        'has_spatial_attributes': [0, 1]\n",
    "    })\n",
    "}"
   ]
  },
  {
   "cell_type": "code",
   "execution_count": 3,
   "id": "b6a112da",
   "metadata": {
    "code_folding": [
     0
    ]
   },
   "outputs": [],
   "source": [
    "predicates_nobre = {\n",
    "    'NODELINK': Predicate(clauses={\n",
    "        'n_nodes': [0, 100],\n",
    "        'graph_type_1': [0.5, 1],\n",
    "        'graph_type_3': [0.5, 1],\n",
    "        'graph_type_4': [0.5, 1],\n",
    "        'node_types': [1, 1],\n",
    "        'edge_types': [1, 1]\n",
    "    }),\n",
    "    'NODELINK_POSITIONING': Predicate(clauses={\n",
    "        'n_nodes': [0, 100],\n",
    "        'graph_type_1': [0.5, 1],\n",
    "        'graph_type_3': [0.5, 1],\n",
    "        'node_attributes': [0, 5],\n",
    "        'node_types': [1, 5]\n",
    "    }),\n",
    "    'NODELINK_FACETING': Predicate(clauses={\n",
    "        'n_nodes': [0, 100],\n",
    "        'graph_type_1': [0.5, 1],\n",
    "        'node_attributes': [0, 5],\n",
    "        'node_types': [1, 1]\n",
    "    }),\n",
    "    'MATRIX': Predicate(clauses={\n",
    "        'n_nodes': [0, 100],\n",
    "        'graph_type_2': [0.5, 1],\n",
    "        'node_attributes': [5, 10],\n",
    "        'node_types': [1, 1],\n",
    "        'edge_attributes': [0, 3],\n",
    "        'edge_types': [1, 1]\n",
    "    }),\n",
    "    'QUILTS': Predicate(clauses={\n",
    "        'n_nodes': [0, 100],\n",
    "        'graph_type_1': [0.5, 1],\n",
    "        'graph_type_3': [0.5, 1],\n",
    "        'graph_type_4': [0.5, 1],\n",
    "        'node_attributes': [0, 10],\n",
    "        'node_types': [1, 5],\n",
    "        'edge_attributes': [0, 10],\n",
    "        'edge_types': [1, 1]\n",
    "    }),\n",
    "    'BIOFABRIC': Predicate(clauses={\n",
    "        'n_nodes': [0, 100],\n",
    "        'graph_type_1': [0.5, 1],\n",
    "        'graph_type_2': [0.5, 1],\n",
    "        'node_attributes': [0, 10],\n",
    "        'node_types': [1, 5],\n",
    "        'edge_attributes': [0, 10],\n",
    "        'edge_types': [1, 5]\n",
    "    }),\n",
    "    'TREEMAP': Predicate(clauses={\n",
    "        'graph_type_1': [0.5, 1],\n",
    "        'graph_type_4': [0.5, 1],\n",
    "        'node_attributes': [0, 5],\n",
    "        'node_types': [1, 1]\n",
    "    }),\n",
    "    'SUNBURST': Predicate(clauses={\n",
    "        'graph_type_1': [0.5, 1],\n",
    "        'graph_type_4': [0.5, 1],\n",
    "        'node_attributes': [0, 5],\n",
    "        'node_types': [1, 1]\n",
    "    }),\n",
    "}"
   ]
  },
  {
   "cell_type": "code",
   "execution_count": 4,
   "id": "184ee1d6",
   "metadata": {
    "code_folding": [
     2
    ]
   },
   "outputs": [],
   "source": [
    "np.random.seed(10)\n",
    "vistypes = [\"NODELINK\", \"MATRIX\", \"NODETRIX\", \"NODELINK_MAP\", \"PAOHVIS\", \"CHORD_DIAGRAM\", \"TREEMAP\"]\n",
    "predicates_rand = {\n",
    "    vistype: generate_predicate(\n",
    "        graph_data, .5, np.random.choice(graph_data.numeric, size=np.random.poisson()+1)\n",
    "    ) for vistype in vistypes\n",
    "}"
   ]
  },
  {
   "cell_type": "code",
   "execution_count": 5,
   "id": "ef005501",
   "metadata": {},
   "outputs": [],
   "source": [
    "all_predicates = {'predicates': predicates, 'nobre': predicates_nobre, 'rand': predicates_rand}"
   ]
  },
  {
   "cell_type": "code",
   "execution_count": 6,
   "id": "a7dec689",
   "metadata": {},
   "outputs": [],
   "source": [
    "all_data_paths = {'data': '../data/data_1733093714.csv', 'rand': '../data/rand_1733093714.csv'}\n",
    "all_data = {k:pd.read_csv(v) for k,v in all_data_paths.items()}"
   ]
  },
  {
   "cell_type": "code",
   "execution_count": 7,
   "id": "c6302db8",
   "metadata": {},
   "outputs": [],
   "source": [
    "proportions = test_predicate_proportions(all_predicates, all_data)"
   ]
  },
  {
   "cell_type": "code",
   "execution_count": 8,
   "id": "0c00f5f8",
   "metadata": {},
   "outputs": [
    {
     "name": "stdout",
     "output_type": "stream",
     "text": [
      "nobre\n",
      "                 vistype predicates      data  rand\n",
      "7               NODELINK      nobre  0.000000   0.0\n",
      "8   NODELINK_POSITIONING      nobre  0.000000   0.0\n",
      "9      NODELINK_FACETING      nobre  0.003284   0.0\n",
      "10                MATRIX      nobre  0.000000   0.0\n",
      "11                QUILTS      nobre  0.000000   0.0\n",
      "12             BIOFABRIC      nobre  0.000000   0.0\n",
      "13               TREEMAP      nobre  0.000000   0.0\n",
      "14              SUNBURST      nobre  0.000000   0.0\n",
      "\n",
      "predicates\n",
      "         vistype  predicates      data   rand\n",
      "0       NODELINK  predicates  0.000000  0.000\n",
      "1         MATRIX  predicates  0.000000  0.001\n",
      "2       NODETRIX  predicates  0.000000  0.000\n",
      "3   NODELINK_MAP  predicates  0.022989  0.004\n",
      "4        PAOHVIS  predicates  0.000000  0.000\n",
      "5  CHORD_DIAGRAM  predicates  0.000000  0.000\n",
      "6        TREEMAP  predicates  0.000000  0.000\n",
      "\n",
      "rand\n",
      "          vistype predicates      data   rand\n",
      "15       NODELINK       rand  0.385057  0.479\n",
      "16         MATRIX       rand  0.390805  0.466\n",
      "17       NODETRIX       rand  0.743842  0.512\n",
      "18   NODELINK_MAP       rand  0.055008  0.489\n",
      "19        PAOHVIS       rand  0.027094  0.506\n",
      "20  CHORD_DIAGRAM       rand  0.409688  0.473\n",
      "21        TREEMAP       rand  0.272578  0.483\n",
      "\n"
     ]
    }
   ],
   "source": [
    "for name, p in proportions.groupby('predicates'):\n",
    "    print(name)\n",
    "    print(p)\n",
    "    print()"
   ]
  },
  {
   "cell_type": "code",
   "execution_count": 9,
   "id": "f81a861f",
   "metadata": {},
   "outputs": [],
   "source": [
    "save_predicates = False\n",
    "if save_predicates:\n",
    "    t = int(time.time())\n",
    "    with open(f'predicates_{t}.pkl', 'wb') as f:\n",
    "        pkl.dump(all_predicates, f)"
   ]
  }
 ],
 "metadata": {
  "kernelspec": {
   "display_name": "Python 3 (ipykernel)",
   "language": "python",
   "name": "python3"
  },
  "language_info": {
   "codemirror_mode": {
    "name": "ipython",
    "version": 3
   },
   "file_extension": ".py",
   "mimetype": "text/x-python",
   "name": "python",
   "nbconvert_exporter": "python",
   "pygments_lexer": "ipython3",
   "version": "3.11.5"
  },
  "toc": {
   "base_numbering": 1,
   "nav_menu": {},
   "number_sections": true,
   "sideBar": true,
   "skip_h1_title": false,
   "title_cell": "Table of Contents",
   "title_sidebar": "Contents",
   "toc_cell": false,
   "toc_position": {},
   "toc_section_display": true,
   "toc_window_display": false
  }
 },
 "nbformat": 4,
 "nbformat_minor": 5
}
